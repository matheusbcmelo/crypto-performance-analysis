{
 "cells": [
  {
   "cell_type": "code",
   "execution_count": 3,
   "id": "972fd8db",
   "metadata": {},
   "outputs": [],
   "source": [
    "# import pandas\n",
    "import pandas as pd\n",
    "\n",
    "# import plotly\n",
    "import plotly.express as px\n",
    "from plotly.subplots import make_subplots"
   ]
  },
  {
   "cell_type": "code",
   "execution_count": 12,
   "id": "4cd11562",
   "metadata": {},
   "outputs": [],
   "source": [
    "#%%  Reading PKL file into a DataFrame\n",
    "\n",
    "# Reading the pickle files into DataFrames\n",
    "ethereum_tx = pd.read_pickle('files\\\\ethereum_tx.pkl')\n",
    "bitcoin_tx = pd.read_pickle('files\\\\bitcoin_tx.pkl')\n",
    "ripple_tx = pd.read_pickle('files\\\\ripple_tx.pkl')\n",
    "bnb_smart_tx = pd.read_pickle('files\\\\bnb_smart_tx.pkl')\n",
    "avalanche_tx = pd.read_pickle('files\\\\avalanche_tx.pkl')\n",
    "\n",
    "# Read the Binance transaction data and assign it to bnb_beacon_tx\n",
    "binance_tx = pd.read_pickle('files\\\\binance_tx.pkl')\n",
    "bnb_beacon_tx = binance_tx\n",
    "bnb_beacon_tx['chain'] = 'bnb_beacon'"
   ]
  },
  {
   "cell_type": "code",
   "execution_count": 28,
   "id": "9188d671",
   "metadata": {},
   "outputs": [
    {
     "name": "stdout",
     "output_type": "stream",
     "text": [
      "<class 'pandas.core.frame.DataFrame'>\n",
      "Index: 439 entries, 32 to 527\n",
      "Data columns (total 4 columns):\n",
      " #   Column    Non-Null Count  Dtype         \n",
      "---  ------    --------------  -----         \n",
      " 0   chain     439 non-null    category      \n",
      " 1   date      439 non-null    datetime64[ns]\n",
      " 2   tx_count  439 non-null    int64         \n",
      " 3   total_tx  439 non-null    int64         \n",
      "dtypes: category(1), datetime64[ns](1), int64(2)\n",
      "memory usage: 14.2 KB\n",
      "None\n"
     ]
    },
    {
     "name": "stderr",
     "output_type": "stream",
     "text": [
      "C:\\Users\\Matheus\\AppData\\Local\\Temp\\ipykernel_32296\\1359907894.py:12: FutureWarning:\n",
      "\n",
      "The default of observed=False is deprecated and will be changed to True in a future version of pandas. Pass observed=False to retain current behavior or observed=True to adopt the future default and silence this warning.\n",
      "\n"
     ]
    }
   ],
   "source": [
    "# assume both have the same columns: ['chain','date','tx_count']\n",
    "web3_tx = pd.concat(\n",
    "    [ethereum_tx, bitcoin_tx, ripple_tx, bnb_smart_tx, bnb_beacon_tx, avalanche_tx],\n",
    "    ignore_index=True\n",
    ")\n",
    "\n",
    "# Convert date to datetime and chain to categorical\n",
    "web3_tx['chain'] = pd.Categorical(web3_tx['chain'])\n",
    "web3_tx = web3_tx.sort_values(['chain','date']).reset_index(drop=True)\n",
    "\n",
    "# group by chain + week, summing tx_count\n",
    "web3_tx = (web3_tx.groupby(['chain',pd.Grouper(key='date', freq='ME')])['tx_count'].sum().reset_index(name='tx_count'))\n",
    "latest_month = web3_tx['date'].max()\n",
    "\n",
    "# filter out rows belonging to the last week\n",
    "web3_tx = web3_tx[web3_tx['date'] < latest_month].reset_index(drop=True)\n",
    "\n",
    "# Exclude rows with a tx_count of 0\n",
    "web3_tx = web3_tx[web3_tx['tx_count'] != 0]\n",
    "\n",
    "# Calculate the total transactions per date and add it as a new column\n",
    "web3_tx['total_tx'] = web3_tx.groupby('date')['tx_count'].transform('sum')\n",
    "\n",
    "# Save and load the DataFrame\n",
    "web3_tx = pd.DataFrame.to_pickle(web3_tx, 'files\\\\binance_tx.pkl')\n",
    "web3_tx = pd.read_pickle('files\\\\web3_tx.pkl')\n",
    "print(web3_tx.info())"
   ]
  },
  {
   "cell_type": "code",
   "execution_count": null,
   "id": "18d9b958",
   "metadata": {},
   "outputs": [
    {
     "data": {
      "application/vnd.plotly.v1+json": {
       "config": {
        "displayModeBar": true,
        "displaylogo": false,
        "modeBarButtonsToAdd": [
         "fullscreen"
        ],
        "plotlyServerURL": "https://plot.ly"
       },
       "data": [
        {
         "customdata": [
          [
           "avalanche",
           57,
           88689135
          ],
          [
           "avalanche",
           336,
           86174438
          ],
          [
           "avalanche",
           238,
           92085513
          ],
          [
           "avalanche",
           18341,
           119895538
          ],
          [
           "avalanche",
           12784,
           131945361
          ],
          [
           "avalanche",
           356349,
           161406575
          ],
          [
           "avalanche",
           579628,
           191347466
          ],
          [
           "avalanche",
           570389,
           295561847
          ],
          [
           "avalanche",
           1139168,
           384409268
          ],
          [
           "avalanche",
           488193,
           229829306
          ],
          [
           "avalanche",
           397391,
           277399459
          ],
          [
           "avalanche",
           2327229,
           345930592
          ],
          [
           "avalanche",
           4780007,
           293726227
          ],
          [
           "avalanche",
           7828645,
           374745094
          ],
          [
           "avalanche",
           14467246,
           548234924
          ],
          [
           "avalanche",
           20927323,
           415235515
          ],
          [
           "avalanche",
           23844106,
           346747885
          ],
          [
           "avalanche",
           27323141,
           302297327
          ],
          [
           "avalanche",
           26632860,
           297417154
          ],
          [
           "avalanche",
           25165460,
           283706999
          ],
          [
           "avalanche",
           16404550,
           285243113
          ],
          [
           "avalanche",
           7419931,
           233270594
          ],
          [
           "avalanche",
           6499968,
           221204798
          ],
          [
           "avalanche",
           5817474,
           194431697
          ],
          [
           "avalanche",
           4786959,
           180200229
          ],
          [
           "avalanche",
           5081849,
           191951925
          ],
          [
           "avalanche",
           5084681,
           192325040
          ],
          [
           "avalanche",
           4077038,
           175897150
          ],
          [
           "avalanche",
           4530528,
           169248936
          ],
          [
           "avalanche",
           4163529,
           173434875
          ],
          [
           "avalanche",
           4774819,
           207551312
          ],
          [
           "avalanche",
           9751258,
           195587366
          ],
          [
           "avalanche",
           12734337,
           235524815
          ],
          [
           "avalanche",
           13255933,
           213018723
          ],
          [
           "avalanche",
           12482870,
           212783589
          ],
          [
           "avalanche",
           8024237,
           197211401
          ],
          [
           "avalanche",
           5338108,
           173970735
          ],
          [
           "avalanche",
           6830162,
           171310657
          ],
          [
           "avalanche",
           29253116,
           224103999
          ],
          [
           "avalanche",
           106127758,
           433142761
          ],
          [
           "avalanche",
           14391932,
           335210947
          ],
          [
           "avalanche",
           15939676,
           243240927
          ],
          [
           "avalanche",
           12437771,
           250335865
          ],
          [
           "avalanche",
           8058763,
           216327203
          ],
          [
           "avalanche",
           5389695,
           191462882
          ],
          [
           "avalanche",
           4887460,
           196005543
          ],
          [
           "avalanche",
           5107018,
           238239229
          ],
          [
           "avalanche",
           5087377,
           209888818
          ],
          [
           "avalanche",
           4539411,
           216441133
          ],
          [
           "avalanche",
           5479585,
           218705242
          ],
          [
           "avalanche",
           7540524,
           243707269
          ],
          [
           "avalanche",
           8879144,
           268268330
          ],
          [
           "avalanche",
           11877025,
           273742392
          ],
          [
           "avalanche",
           10132750,
           248517659
          ],
          [
           "avalanche",
           10217946,
           287240926
          ],
          [
           "avalanche",
           8478381,
           251914573
          ]
         ],
         "hovertemplate": "<b>%{customdata[0]}</b><br>Transactions: %{customdata[1]:,.0f}<br>Total (TX): %{customdata[2]:,.0f}<br><extra></extra>",
         "legendgroup": "avalanche",
         "marker": {
          "color": "#ff1d00",
          "pattern": {
           "shape": ""
          }
         },
         "name": "avalanche",
         "orientation": "v",
         "showlegend": true,
         "textposition": "auto",
         "type": "bar",
         "x": [
          "2020-09-30T00:00:00.000000000",
          "2020-10-31T00:00:00.000000000",
          "2020-11-30T00:00:00.000000000",
          "2020-12-31T00:00:00.000000000",
          "2021-01-31T00:00:00.000000000",
          "2021-02-28T00:00:00.000000000",
          "2021-03-31T00:00:00.000000000",
          "2021-04-30T00:00:00.000000000",
          "2021-05-31T00:00:00.000000000",
          "2021-06-30T00:00:00.000000000",
          "2021-07-31T00:00:00.000000000",
          "2021-08-31T00:00:00.000000000",
          "2021-09-30T00:00:00.000000000",
          "2021-10-31T00:00:00.000000000",
          "2021-11-30T00:00:00.000000000",
          "2021-12-31T00:00:00.000000000",
          "2022-01-31T00:00:00.000000000",
          "2022-02-28T00:00:00.000000000",
          "2022-03-31T00:00:00.000000000",
          "2022-04-30T00:00:00.000000000",
          "2022-05-31T00:00:00.000000000",
          "2022-06-30T00:00:00.000000000",
          "2022-07-31T00:00:00.000000000",
          "2022-08-31T00:00:00.000000000",
          "2022-09-30T00:00:00.000000000",
          "2022-10-31T00:00:00.000000000",
          "2022-11-30T00:00:00.000000000",
          "2022-12-31T00:00:00.000000000",
          "2023-01-31T00:00:00.000000000",
          "2023-02-28T00:00:00.000000000",
          "2023-03-31T00:00:00.000000000",
          "2023-04-30T00:00:00.000000000",
          "2023-05-31T00:00:00.000000000",
          "2023-06-30T00:00:00.000000000",
          "2023-07-31T00:00:00.000000000",
          "2023-08-31T00:00:00.000000000",
          "2023-09-30T00:00:00.000000000",
          "2023-10-31T00:00:00.000000000",
          "2023-11-30T00:00:00.000000000",
          "2023-12-31T00:00:00.000000000",
          "2024-01-31T00:00:00.000000000",
          "2024-02-29T00:00:00.000000000",
          "2024-03-31T00:00:00.000000000",
          "2024-04-30T00:00:00.000000000",
          "2024-05-31T00:00:00.000000000",
          "2024-06-30T00:00:00.000000000",
          "2024-07-31T00:00:00.000000000",
          "2024-08-31T00:00:00.000000000",
          "2024-09-30T00:00:00.000000000",
          "2024-10-31T00:00:00.000000000",
          "2024-11-30T00:00:00.000000000",
          "2024-12-31T00:00:00.000000000",
          "2025-01-31T00:00:00.000000000",
          "2025-02-28T00:00:00.000000000",
          "2025-03-31T00:00:00.000000000",
          "2025-04-30T00:00:00.000000000"
         ],
         "xaxis": "x",
         "y": {
          "bdata": "OQAAAFABAADuAAAApUcAAPAxAAD9bwUALNgIABW0CADgYREAAXMHAE8QBgC9giMA5+9IAKV0dwCuwNwAW1M/AQrVawEF66ABnGKWAZT+fwFGUPoAGzhxAIAuYwCCxFgADwtJAPmKTQAJlk0A7jU+AGAhRQDJhz8Ao9tIANrKlACBT8IA/UTKADZ5vgCtcHoA/HNRAFI4aAD8Xb4BjmFTBnya2wBcOPMAC8m9AIv3egB/PVIApJNKAErtTQCRoE0AE0RFAKGcUwAsD3MAKHyHAKE6tQAOnZoA2umbAK1egQA=",
          "dtype": "i4"
         },
         "yaxis": "y"
        },
        {
         "customdata": [
          [
           "bitcoin",
           8873120,
           76748745
          ],
          [
           "bitcoin",
           5356201,
           55107024
          ],
          [
           "bitcoin",
           5695168,
           49867107
          ],
          [
           "bitcoin",
           5753341,
           49876938
          ],
          [
           "bitcoin",
           6138957,
           56540805
          ],
          [
           "bitcoin",
           5752514,
           48007948
          ],
          [
           "bitcoin",
           6393536,
           42856850
          ],
          [
           "bitcoin",
           6730044,
           43461466
          ],
          [
           "bitcoin",
           6871444,
           39113903
          ],
          [
           "bitcoin",
           7580518,
           38286979
          ],
          [
           "bitcoin",
           8054376,
           37254837
          ],
          [
           "bitcoin",
           8196417,
           42514981
          ],
          [
           "bitcoin",
           9222178,
           45387092
          ],
          [
           "bitcoin",
           9269096,
           37239178
          ],
          [
           "bitcoin",
           9457625,
           42456027
          ],
          [
           "bitcoin",
           11003022,
           47144432
          ],
          [
           "bitcoin",
           11505497,
           56125072
          ],
          [
           "bitcoin",
           10486006,
           64520110
          ],
          [
           "bitcoin",
           10305251,
           72971606
          ],
          [
           "bitcoin",
           10169294,
           67866695
          ],
          [
           "bitcoin",
           9798992,
           65475427
          ],
          [
           "bitcoin",
           9892853,
           71540390
          ],
          [
           "bitcoin",
           9243776,
           100961465
          ],
          [
           "bitcoin",
           9430057,
           90539333
          ],
          [
           "bitcoin",
           9612337,
           69133591
          ],
          [
           "bitcoin",
           9439548,
           62926459
          ],
          [
           "bitcoin",
           8904203,
           73441610
          ],
          [
           "bitcoin",
           8702021,
           69522596
          ],
          [
           "bitcoin",
           9092682,
           73954881
          ],
          [
           "bitcoin",
           9192440,
           73011053
          ],
          [
           "bitcoin",
           10158131,
           81905689
          ],
          [
           "bitcoin",
           9793583,
           96967605
          ],
          [
           "bitcoin",
           9495331,
           88689135
          ],
          [
           "bitcoin",
           9284673,
           86174438
          ],
          [
           "bitcoin",
           9145550,
           92085513
          ],
          [
           "bitcoin",
           9732999,
           119895538
          ],
          [
           "bitcoin",
           10075353,
           131945361
          ],
          [
           "bitcoin",
           8969658,
           161406575
          ],
          [
           "bitcoin",
           9342128,
           191347466
          ],
          [
           "bitcoin",
           8349964,
           295561847
          ],
          [
           "bitcoin",
           7791611,
           384409268
          ],
          [
           "bitcoin",
           6513015,
           229829306
          ],
          [
           "bitcoin",
           6816539,
           277399459
          ],
          [
           "bitcoin",
           7453146,
           345930592
          ],
          [
           "bitcoin",
           7611578,
           293726227
          ],
          [
           "bitcoin",
           8451537,
           374745094
          ],
          [
           "bitcoin",
           8299915,
           548234924
          ],
          [
           "bitcoin",
           8122009,
           415235515
          ],
          [
           "bitcoin",
           7742319,
           346747885
          ],
          [
           "bitcoin",
           6996128,
           302297327
          ],
          [
           "bitcoin",
           7979435,
           297417154
          ],
          [
           "bitcoin",
           7824701,
           283706999
          ],
          [
           "bitcoin",
           8057924,
           285243113
          ],
          [
           "bitcoin",
           7514822,
           233270594
          ],
          [
           "bitcoin",
           7682716,
           221204798
          ],
          [
           "bitcoin",
           7819508,
           194431697
          ],
          [
           "bitcoin",
           7683590,
           180200229
          ],
          [
           "bitcoin",
           7973133,
           191951925
          ],
          [
           "bitcoin",
           7873937,
           192325040
          ],
          [
           "bitcoin",
           7958165,
           175897150
          ],
          [
           "bitcoin",
           8758196,
           169248936
          ],
          [
           "bitcoin",
           8388596,
           173434875
          ],
          [
           "bitcoin",
           9775965,
           207551312
          ],
          [
           "bitcoin",
           10727603,
           195587366
          ],
          [
           "bitcoin",
           16300103,
           235524815
          ],
          [
           "bitcoin",
           12147181,
           213018723
          ],
          [
           "bitcoin",
           14132707,
           212783589
          ],
          [
           "bitcoin",
           14414040,
           197211401
          ],
          [
           "bitcoin",
           14674972,
           173970735
          ],
          [
           "bitcoin",
           10139137,
           171310657
          ],
          [
           "bitcoin",
           16417694,
           224103999
          ],
          [
           "bitcoin",
           17539799,
           433142761
          ],
          [
           "bitcoin",
           14743013,
           335210947
          ],
          [
           "bitcoin",
           10568605,
           243240927
          ],
          [
           "bitcoin",
           11633235,
           250335865
          ],
          [
           "bitcoin",
           14475082,
           216327203
          ],
          [
           "bitcoin",
           18193788,
           191462882
          ],
          [
           "bitcoin",
           17420232,
           196005543
          ],
          [
           "bitcoin",
           19512260,
           238239229
          ],
          [
           "bitcoin",
           18548109,
           209888818
          ],
          [
           "bitcoin",
           17763279,
           216441133
          ],
          [
           "bitcoin",
           20481153,
           218705242
          ],
          [
           "bitcoin",
           16106214,
           243707269
          ],
          [
           "bitcoin",
           12803638,
           268268330
          ],
          [
           "bitcoin",
           11546494,
           273742392
          ],
          [
           "bitcoin",
           11384557,
           248517659
          ],
          [
           "bitcoin",
           12040483,
           287240926
          ],
          [
           "bitcoin",
           12434538,
           251914573
          ]
         ],
         "hovertemplate": "<b>%{customdata[0]}</b><br>Transactions: %{customdata[1]:,.0f}<br>Total (TX): %{customdata[2]:,.0f}<br><extra></extra>",
         "legendgroup": "bitcoin",
         "marker": {
          "color": "#ff9b00",
          "pattern": {
           "shape": ""
          }
         },
         "name": "bitcoin",
         "orientation": "v",
         "showlegend": true,
         "textposition": "auto",
         "type": "bar",
         "x": [
          "2018-01-31T00:00:00.000000000",
          "2018-02-28T00:00:00.000000000",
          "2018-03-31T00:00:00.000000000",
          "2018-04-30T00:00:00.000000000",
          "2018-05-31T00:00:00.000000000",
          "2018-06-30T00:00:00.000000000",
          "2018-07-31T00:00:00.000000000",
          "2018-08-31T00:00:00.000000000",
          "2018-09-30T00:00:00.000000000",
          "2018-10-31T00:00:00.000000000",
          "2018-11-30T00:00:00.000000000",
          "2018-12-31T00:00:00.000000000",
          "2019-01-31T00:00:00.000000000",
          "2019-02-28T00:00:00.000000000",
          "2019-03-31T00:00:00.000000000",
          "2019-04-30T00:00:00.000000000",
          "2019-05-31T00:00:00.000000000",
          "2019-06-30T00:00:00.000000000",
          "2019-07-31T00:00:00.000000000",
          "2019-08-31T00:00:00.000000000",
          "2019-09-30T00:00:00.000000000",
          "2019-10-31T00:00:00.000000000",
          "2019-11-30T00:00:00.000000000",
          "2019-12-31T00:00:00.000000000",
          "2020-01-31T00:00:00.000000000",
          "2020-02-29T00:00:00.000000000",
          "2020-03-31T00:00:00.000000000",
          "2020-04-30T00:00:00.000000000",
          "2020-05-31T00:00:00.000000000",
          "2020-06-30T00:00:00.000000000",
          "2020-07-31T00:00:00.000000000",
          "2020-08-31T00:00:00.000000000",
          "2020-09-30T00:00:00.000000000",
          "2020-10-31T00:00:00.000000000",
          "2020-11-30T00:00:00.000000000",
          "2020-12-31T00:00:00.000000000",
          "2021-01-31T00:00:00.000000000",
          "2021-02-28T00:00:00.000000000",
          "2021-03-31T00:00:00.000000000",
          "2021-04-30T00:00:00.000000000",
          "2021-05-31T00:00:00.000000000",
          "2021-06-30T00:00:00.000000000",
          "2021-07-31T00:00:00.000000000",
          "2021-08-31T00:00:00.000000000",
          "2021-09-30T00:00:00.000000000",
          "2021-10-31T00:00:00.000000000",
          "2021-11-30T00:00:00.000000000",
          "2021-12-31T00:00:00.000000000",
          "2022-01-31T00:00:00.000000000",
          "2022-02-28T00:00:00.000000000",
          "2022-03-31T00:00:00.000000000",
          "2022-04-30T00:00:00.000000000",
          "2022-05-31T00:00:00.000000000",
          "2022-06-30T00:00:00.000000000",
          "2022-07-31T00:00:00.000000000",
          "2022-08-31T00:00:00.000000000",
          "2022-09-30T00:00:00.000000000",
          "2022-10-31T00:00:00.000000000",
          "2022-11-30T00:00:00.000000000",
          "2022-12-31T00:00:00.000000000",
          "2023-01-31T00:00:00.000000000",
          "2023-02-28T00:00:00.000000000",
          "2023-03-31T00:00:00.000000000",
          "2023-04-30T00:00:00.000000000",
          "2023-05-31T00:00:00.000000000",
          "2023-06-30T00:00:00.000000000",
          "2023-07-31T00:00:00.000000000",
          "2023-08-31T00:00:00.000000000",
          "2023-09-30T00:00:00.000000000",
          "2023-10-31T00:00:00.000000000",
          "2023-11-30T00:00:00.000000000",
          "2023-12-31T00:00:00.000000000",
          "2024-01-31T00:00:00.000000000",
          "2024-02-29T00:00:00.000000000",
          "2024-03-31T00:00:00.000000000",
          "2024-04-30T00:00:00.000000000",
          "2024-05-31T00:00:00.000000000",
          "2024-06-30T00:00:00.000000000",
          "2024-07-31T00:00:00.000000000",
          "2024-08-31T00:00:00.000000000",
          "2024-09-30T00:00:00.000000000",
          "2024-10-31T00:00:00.000000000",
          "2024-11-30T00:00:00.000000000",
          "2024-12-31T00:00:00.000000000",
          "2025-01-31T00:00:00.000000000",
          "2025-02-28T00:00:00.000000000",
          "2025-03-31T00:00:00.000000000",
          "2025-04-30T00:00:00.000000000"
         ],
         "xaxis": "x",
         "y": {
          "bdata": "oGSHAKm6UQDA5lYA/clXAE2sXQDCxlcAwI5hADyxZgCU2WgAZqtzAGjmegBBEX0AIriMAGhvjQDZT5AAjuSnAFmPrwD2AKAA4z6dAM4rmwBQhZUA9fOWAIAMjQAp5I8AMaySADwJkAAL3ocARciEAEq+igD4Q4wAMwCbAC9wlQAj45AAQayNAM6MiwCHg5QA2byZALrdiACwjI4ADGl/APvjdgB3YWMAGwNoANq5cQC6JHQA0fWAAIulfgCZ7nsAbyN2AKDAagCrwXkAPWV3AET0egDGqnIAnDp1APRQdwAGPnUADal5AJEleACVbnkAtKOFAPT/fwBdK5UAs7CjAEe4+ADtWbkA46XXANjw2wAc7N8AAbaaAJ6D+gDXogsB5fXgAJ1DoQBTgrEASt/cAHydFQHIzwkBxLspAY0FGwHPCw8BgYQ4AebC9QA2XsMAfi+wAO22rQAjubcAary9AA==",
          "dtype": "i4"
         },
         "yaxis": "y"
        },
        {
         "customdata": [
          [
           "bnb_beacon",
           49610,
           47144432
          ],
          [
           "bnb_beacon",
           461559,
           56125072
          ],
          [
           "bnb_beacon",
           2673271,
           64520110
          ],
          [
           "bnb_beacon",
           5195604,
           72971606
          ],
          [
           "bnb_beacon",
           7422639,
           67866695
          ],
          [
           "bnb_beacon",
           8058438,
           65475427
          ],
          [
           "bnb_beacon",
           8433646,
           71540390
          ],
          [
           "bnb_beacon",
           8052588,
           100961465
          ],
          [
           "bnb_beacon",
           7175042,
           90539333
          ],
          [
           "bnb_beacon",
           7581024,
           69133591
          ],
          [
           "bnb_beacon",
           7875457,
           62926459
          ],
          [
           "bnb_beacon",
           11474139,
           73441610
          ],
          [
           "bnb_beacon",
           8336974,
           69522596
          ],
          [
           "bnb_beacon",
           9193359,
           73954881
          ],
          [
           "bnb_beacon",
           8637823,
           73011053
          ],
          [
           "bnb_beacon",
           10516130,
           81905689
          ],
          [
           "bnb_beacon",
           11551047,
           96967605
          ],
          [
           "bnb_beacon",
           11994623,
           88689135
          ],
          [
           "bnb_beacon",
           10655714,
           86174438
          ],
          [
           "bnb_beacon",
           14056842,
           92085513
          ],
          [
           "bnb_beacon",
           23733225,
           119895538
          ],
          [
           "bnb_beacon",
           24630582,
           131945361
          ],
          [
           "bnb_beacon",
           25797762,
           161406575
          ],
          [
           "bnb_beacon",
           23454532,
           191347466
          ],
          [
           "bnb_beacon",
           37477852,
           295561847
          ],
          [
           "bnb_beacon",
           49538424,
           384409268
          ],
          [
           "bnb_beacon",
           31787468,
           229829306
          ],
          [
           "bnb_beacon",
           25348646,
           277399459
          ],
          [
           "bnb_beacon",
           28962292,
           345930592
          ],
          [
           "bnb_beacon",
           31344777,
           293726227
          ],
          [
           "bnb_beacon",
           35655448,
           374745094
          ],
          [
           "bnb_beacon",
           41480752,
           548234924
          ],
          [
           "bnb_beacon",
           38400134,
           415235515
          ],
          [
           "bnb_beacon",
           34605494,
           346747885
          ],
          [
           "bnb_beacon",
           27817717,
           302297327
          ],
          [
           "bnb_beacon",
           26586823,
           297417154
          ],
          [
           "bnb_beacon",
           28208259,
           283706999
          ],
          [
           "bnb_beacon",
           33049968,
           285243113
          ],
          [
           "bnb_beacon",
           27654509,
           233270594
          ],
          [
           "bnb_beacon",
           16072551,
           221204798
          ],
          [
           "bnb_beacon",
           13020481,
           194431697
          ],
          [
           "bnb_beacon",
           1255880,
           180200229
          ],
          [
           "bnb_beacon",
           659571,
           191951925
          ],
          [
           "bnb_beacon",
           782285,
           192325040
          ],
          [
           "bnb_beacon",
           289880,
           175897150
          ],
          [
           "bnb_beacon",
           12,
           169248936
          ],
          [
           "bnb_beacon",
           10,
           173434875
          ],
          [
           "bnb_beacon",
           13,
           207551312
          ],
          [
           "bnb_beacon",
           4,
           195587366
          ],
          [
           "bnb_beacon",
           295978,
           235524815
          ],
          [
           "bnb_beacon",
           528201,
           213018723
          ],
          [
           "bnb_beacon",
           444734,
           212783589
          ],
          [
           "bnb_beacon",
           404216,
           197211401
          ],
          [
           "bnb_beacon",
           314122,
           173970735
          ],
          [
           "bnb_beacon",
           359740,
           171310657
          ],
          [
           "bnb_beacon",
           429441,
           224103999
          ],
          [
           "bnb_beacon",
           454104,
           433142761
          ],
          [
           "bnb_beacon",
           448110,
           335210947
          ],
          [
           "bnb_beacon",
           380901,
           243240927
          ],
          [
           "bnb_beacon",
           536999,
           250335865
          ],
          [
           "bnb_beacon",
           203348,
           216327203
          ],
          [
           "bnb_beacon",
           161029,
           191462882
          ]
         ],
         "hovertemplate": "<b>%{customdata[0]}</b><br>Transactions: %{customdata[1]:,.0f}<br>Total (TX): %{customdata[2]:,.0f}<br><extra></extra>",
         "legendgroup": "bnb_beacon",
         "marker": {
          "color": "#786834",
          "pattern": {
           "shape": ""
          }
         },
         "name": "bnb_beacon",
         "orientation": "v",
         "showlegend": true,
         "textposition": "auto",
         "type": "bar",
         "x": [
          "2019-04-30T00:00:00.000000000",
          "2019-05-31T00:00:00.000000000",
          "2019-06-30T00:00:00.000000000",
          "2019-07-31T00:00:00.000000000",
          "2019-08-31T00:00:00.000000000",
          "2019-09-30T00:00:00.000000000",
          "2019-10-31T00:00:00.000000000",
          "2019-11-30T00:00:00.000000000",
          "2019-12-31T00:00:00.000000000",
          "2020-01-31T00:00:00.000000000",
          "2020-02-29T00:00:00.000000000",
          "2020-03-31T00:00:00.000000000",
          "2020-04-30T00:00:00.000000000",
          "2020-05-31T00:00:00.000000000",
          "2020-06-30T00:00:00.000000000",
          "2020-07-31T00:00:00.000000000",
          "2020-08-31T00:00:00.000000000",
          "2020-09-30T00:00:00.000000000",
          "2020-10-31T00:00:00.000000000",
          "2020-11-30T00:00:00.000000000",
          "2020-12-31T00:00:00.000000000",
          "2021-01-31T00:00:00.000000000",
          "2021-02-28T00:00:00.000000000",
          "2021-03-31T00:00:00.000000000",
          "2021-04-30T00:00:00.000000000",
          "2021-05-31T00:00:00.000000000",
          "2021-06-30T00:00:00.000000000",
          "2021-07-31T00:00:00.000000000",
          "2021-08-31T00:00:00.000000000",
          "2021-09-30T00:00:00.000000000",
          "2021-10-31T00:00:00.000000000",
          "2021-11-30T00:00:00.000000000",
          "2021-12-31T00:00:00.000000000",
          "2022-01-31T00:00:00.000000000",
          "2022-02-28T00:00:00.000000000",
          "2022-03-31T00:00:00.000000000",
          "2022-04-30T00:00:00.000000000",
          "2022-05-31T00:00:00.000000000",
          "2022-06-30T00:00:00.000000000",
          "2022-07-31T00:00:00.000000000",
          "2022-08-31T00:00:00.000000000",
          "2022-09-30T00:00:00.000000000",
          "2022-10-31T00:00:00.000000000",
          "2022-11-30T00:00:00.000000000",
          "2022-12-31T00:00:00.000000000",
          "2023-01-31T00:00:00.000000000",
          "2023-02-28T00:00:00.000000000",
          "2023-03-31T00:00:00.000000000",
          "2023-04-30T00:00:00.000000000",
          "2023-05-31T00:00:00.000000000",
          "2023-06-30T00:00:00.000000000",
          "2023-07-31T00:00:00.000000000",
          "2023-08-31T00:00:00.000000000",
          "2023-09-30T00:00:00.000000000",
          "2023-10-31T00:00:00.000000000",
          "2023-11-30T00:00:00.000000000",
          "2023-12-31T00:00:00.000000000",
          "2024-01-31T00:00:00.000000000",
          "2024-02-29T00:00:00.000000000",
          "2024-03-31T00:00:00.000000000",
          "2024-04-30T00:00:00.000000000",
          "2024-05-31T00:00:00.000000000"
         ],
         "xaxis": "x",
         "y": {
          "bdata": "ysEAAPcKBwB3yigAVEdPAK9CcQBG9noA7q+AAGzfegCCe20AYK1zAIEreADbFK8ATjZ/AI9HjAB/zYMAonagAEdBsAD/BbcA4peiAIp91gDpI2oBNtV3AYKkiQFE42UB3N07Anjl8wLMCeUBJsqCAfTtuQGJSN4BGA8gAjDyeAKG8EkCtgkQAvV2qAHHrpUBg2yuAXBN+AFt+aUBZz/1AEGtxgDIKRMAcxAKAM3vCwBYbAQADAAAAAoAAAANAAAABAAAACqEBABJDwgAPskGAPgqBgAKywQAPH0FAIGNBgDY7QYAbtYGAOXPBQCnMQgAVBoDAAV1AgA=",
          "dtype": "i4"
         },
         "yaxis": "y"
        },
        {
         "customdata": [
          [
           "bnb_smart",
           623,
           96967605
          ],
          [
           "bnb_smart",
           2617182,
           88689135
          ],
          [
           "bnb_smart",
           5841349,
           86174438
          ],
          [
           "bnb_smart",
           4168186,
           92085513
          ],
          [
           "bnb_smart",
           7572518,
           119895538
          ],
          [
           "bnb_smart",
           12831866,
           131945361
          ],
          [
           "bnb_smart",
           51893356,
           161406575
          ],
          [
           "bnb_smart",
           84408440,
           191347466
          ],
          [
           "bnb_smart",
           169143756,
           295561847
          ],
          [
           "bnb_smart",
           247449396,
           384409268
          ],
          [
           "bnb_smart",
           130585831,
           229829306
          ],
          [
           "bnb_smart",
           182026759,
           277399459
          ],
          [
           "bnb_smart",
           239612660,
           345930592
          ],
          [
           "bnb_smart",
           178655016,
           293726227
          ],
          [
           "bnb_smart",
           240585552,
           374745094
          ],
          [
           "bnb_smart",
           391862726,
           548234924
          ],
          [
           "bnb_smart",
           271569239,
           415235515
          ],
          [
           "bnb_smart",
           192096842,
           346747885
          ],
          [
           "bnb_smart",
           156512579,
           302297327
          ],
          [
           "bnb_smart",
           157884031,
           297417154
          ],
          [
           "bnb_smart",
           150630846,
           283706999
          ],
          [
           "bnb_smart",
           153351033,
           285243113
          ],
          [
           "bnb_smart",
           119451531,
           233270594
          ],
          [
           "bnb_smart",
           114773769,
           221204798
          ],
          [
           "bnb_smart",
           100090734,
           194431697
          ],
          [
           "bnb_smart",
           97568307,
           180200229
          ],
          [
           "bnb_smart",
           105990919,
           191951925
          ],
          [
           "bnb_smart",
           111833411,
           192325040
          ],
          [
           "bnb_smart",
           95197018,
           175897150
          ],
          [
           "bnb_smart",
           85424681,
           169248936
          ],
          [
           "bnb_smart",
           93053002,
           173434875
          ],
          [
           "bnb_smart",
           115944870,
           207551312
          ],
          [
           "bnb_smart",
           111238076,
           195587366
          ],
          [
           "bnb_smart",
           137246076,
           235524815
          ],
          [
           "bnb_smart",
           121980453,
           213018723
          ],
          [
           "bnb_smart",
           123331346,
           212783589
          ],
          [
           "bnb_smart",
           108379632,
           197211401
          ],
          [
           "bnb_smart",
           90944497,
           173970735
          ],
          [
           "bnb_smart",
           92485340,
           171310657
          ],
          [
           "bnb_smart",
           115070989,
           224103999
          ],
          [
           "bnb_smart",
           213305890,
           433142761
          ],
          [
           "bnb_smart",
           125102572,
           335210947
          ],
          [
           "bnb_smart",
           110660685,
           243240927
          ],
          [
           "bnb_smart",
           142172787,
           250335865
          ],
          [
           "bnb_smart",
           121855610,
           216327203
          ],
          [
           "bnb_smart",
           107277845,
           191462882
          ],
          [
           "bnb_smart",
           110219364,
           196005543
          ],
          [
           "bnb_smart",
           101081765,
           238239229
          ],
          [
           "bnb_smart",
           104565449,
           209888818
          ],
          [
           "bnb_smart",
           109653069,
           216441133
          ],
          [
           "bnb_smart",
           112083400,
           218705242
          ],
          [
           "bnb_smart",
           124779411,
           243707269
          ],
          [
           "bnb_smart",
           134525284,
           268268330
          ],
          [
           "bnb_smart",
           135776118,
           273742392
          ],
          [
           "bnb_smart",
           141162543,
           248517659
          ],
          [
           "bnb_smart",
           162261030,
           287240926
          ],
          [
           "bnb_smart",
           136821231,
           251914573
          ]
         ],
         "hovertemplate": "<b>%{customdata[0]}</b><br>Transactions: %{customdata[1]:,.0f}<br>Total (TX): %{customdata[2]:,.0f}<br><extra></extra>",
         "legendgroup": "bnb_smart",
         "marker": {
          "color": "#ffe322",
          "pattern": {
           "shape": ""
          }
         },
         "name": "bnb_smart",
         "orientation": "v",
         "showlegend": true,
         "textposition": "auto",
         "type": "bar",
         "x": [
          "2020-08-31T00:00:00.000000000",
          "2020-09-30T00:00:00.000000000",
          "2020-10-31T00:00:00.000000000",
          "2020-11-30T00:00:00.000000000",
          "2020-12-31T00:00:00.000000000",
          "2021-01-31T00:00:00.000000000",
          "2021-02-28T00:00:00.000000000",
          "2021-03-31T00:00:00.000000000",
          "2021-04-30T00:00:00.000000000",
          "2021-05-31T00:00:00.000000000",
          "2021-06-30T00:00:00.000000000",
          "2021-07-31T00:00:00.000000000",
          "2021-08-31T00:00:00.000000000",
          "2021-09-30T00:00:00.000000000",
          "2021-10-31T00:00:00.000000000",
          "2021-11-30T00:00:00.000000000",
          "2021-12-31T00:00:00.000000000",
          "2022-01-31T00:00:00.000000000",
          "2022-02-28T00:00:00.000000000",
          "2022-03-31T00:00:00.000000000",
          "2022-04-30T00:00:00.000000000",
          "2022-05-31T00:00:00.000000000",
          "2022-06-30T00:00:00.000000000",
          "2022-07-31T00:00:00.000000000",
          "2022-08-31T00:00:00.000000000",
          "2022-09-30T00:00:00.000000000",
          "2022-10-31T00:00:00.000000000",
          "2022-11-30T00:00:00.000000000",
          "2022-12-31T00:00:00.000000000",
          "2023-01-31T00:00:00.000000000",
          "2023-02-28T00:00:00.000000000",
          "2023-03-31T00:00:00.000000000",
          "2023-04-30T00:00:00.000000000",
          "2023-05-31T00:00:00.000000000",
          "2023-06-30T00:00:00.000000000",
          "2023-07-31T00:00:00.000000000",
          "2023-08-31T00:00:00.000000000",
          "2023-09-30T00:00:00.000000000",
          "2023-10-31T00:00:00.000000000",
          "2023-11-30T00:00:00.000000000",
          "2023-12-31T00:00:00.000000000",
          "2024-01-31T00:00:00.000000000",
          "2024-02-29T00:00:00.000000000",
          "2024-03-31T00:00:00.000000000",
          "2024-04-30T00:00:00.000000000",
          "2024-05-31T00:00:00.000000000",
          "2024-06-30T00:00:00.000000000",
          "2024-07-31T00:00:00.000000000",
          "2024-08-31T00:00:00.000000000",
          "2024-09-30T00:00:00.000000000",
          "2024-10-31T00:00:00.000000000",
          "2024-11-30T00:00:00.000000000",
          "2024-12-31T00:00:00.000000000",
          "2025-01-31T00:00:00.000000000",
          "2025-02-28T00:00:00.000000000",
          "2025-03-31T00:00:00.000000000",
          "2025-04-30T00:00:00.000000000"
         ],
         "xaxis": "x",
         "y": {
          "bdata": "bwIAAF7vJwDFIVkA+pk/ACaMcwB6zMMAbNQXA3j4BwXM7RQKNMe/DueUyAcHgtkK9DJIDigPpgpQC1cOxllbF1fRLxBKKnMLQzFUCX8eaQm+cfoIefMjCYuvHgcJT9cGbkP3BTPG0AUHS1EGQ3GqBlqXrAUpehcFSuCLBaYt6Qa8W6EGfDUuCCVGRQcS41kH8L11BvGzawXcNoMFDdjbBiLKtgzs6XQHTYyYBnNieQh6XkMHFe5kBmTQkQalYgYGyYo7Bk0siQbIQa4Gk/tvB2SxBAh2xxcIL/hpCCboqwnvuScI",
          "dtype": "i4"
         },
         "yaxis": "y"
        },
        {
         "customdata": [
          [
           "ethereum",
           33504270,
           76748745
          ],
          [
           "ethereum",
           22231978,
           55107024
          ],
          [
           "ethereum",
           20261862,
           49867107
          ],
          [
           "ethereum",
           20876642,
           49876938
          ],
          [
           "ethereum",
           25105717,
           56540805
          ],
          [
           "ethereum",
           22471788,
           48007948
          ],
          [
           "ethereum",
           19937033,
           42856850
          ],
          [
           "ethereum",
           19842059,
           43461466
          ],
          [
           "ethereum",
           16056742,
           39113903
          ],
          [
           "ethereum",
           17056926,
           38286979
          ],
          [
           "ethereum",
           16713911,
           37254837
          ],
          [
           "ethereum",
           17107601,
           42514981
          ],
          [
           "ethereum",
           16569597,
           45387092
          ],
          [
           "ethereum",
           13413899,
           37239178
          ],
          [
           "ethereum",
           18029582,
           42456027
          ],
          [
           "ethereum",
           19830158,
           47144432
          ],
          [
           "ethereum",
           24332475,
           56125072
          ],
          [
           "ethereum",
           25679653,
           64520110
          ],
          [
           "ethereum",
           22892039,
           72971606
          ],
          [
           "ethereum",
           22003889,
           67866695
          ],
          [
           "ethereum",
           20465806,
           65475427
          ],
          [
           "ethereum",
           20954629,
           71540390
          ],
          [
           "ethereum",
           20388573,
           100961465
          ],
          [
           "ethereum",
           18271815,
           90539333
          ],
          [
           "ethereum",
           17703536,
           69133591
          ],
          [
           "ethereum",
           19212778,
           62926459
          ],
          [
           "ethereum",
           22748700,
           73441610
          ],
          [
           "ethereum",
           23211389,
           69522596
          ],
          [
           "ethereum",
           26648587,
           73954881
          ],
          [
           "ethereum",
           28802843,
           73011053
          ],
          [
           "ethereum",
           33896953,
           81905689
          ],
          [
           "ethereum",
           36679836,
           96967605
          ],
          [
           "ethereum",
           32848877,
           88689135
          ],
          [
           "ethereum",
           33297049,
           86174438
          ],
          [
           "ethereum",
           33785905,
           92085513
          ],
          [
           "ethereum",
           35930517,
           119895538
          ],
          [
           "ethereum",
           37490761,
           131945361
          ],
          [
           "ethereum",
           35566757,
           161406575
          ],
          [
           "ethereum",
           39236425,
           191347466
          ],
          [
           "ethereum",
           41756227,
           295561847
          ],
          [
           "ethereum",
           45055042,
           384409268
          ],
          [
           "ethereum",
           36198196,
           229829306
          ],
          [
           "ethereum",
           37469828,
           277399459
          ],
          [
           "ethereum",
           37250450,
           345930592
          ],
          [
           "ethereum",
           35609993,
           293726227
          ],
          [
           "ethereum",
           38939449,
           374745094
          ],
          [
           "ethereum",
           38922026,
           548234924
          ],
          [
           "ethereum",
           38300450,
           415235515
          ],
          [
           "ethereum",
           36851128,
           346747885
          ],
          [
           "ethereum",
           32739456,
           302297327
          ],
          [
           "ethereum",
           35990387,
           297417154
          ],
          [
           "ethereum",
           33599569,
           283706999
          ],
          [
           "ethereum",
           34955914,
           285243113
          ],
          [
           "ethereum",
           31083501,
           233270594
          ],
          [
           "ethereum",
           37174242,
           221204798
          ],
          [
           "ethereum",
           34901614,
           194431697
          ],
          [
           "ethereum",
           33739408,
           180200229
          ],
          [
           "ethereum",
           34122529,
           191951925
          ],
          [
           "ethereum",
           31271090,
           192325040
          ],
          [
           "ethereum",
           32114430,
           175897150
          ],
          [
           "ethereum",
           31861364,
           169248936
          ],
          [
           "ethereum",
           29793399,
           173434875
          ],
          [
           "ethereum",
           33108538,
           207551312
          ],
          [
           "ethereum",
           30166979,
           195587366
          ],
          [
           "ethereum",
           33518547,
           235524815
          ],
          [
           "ethereum",
           31628242,
           213018723
          ],
          [
           "ethereum",
           31474016,
           212783589
          ],
          [
           "ethereum",
           31954474,
           197211401
          ],
          [
           "ethereum",
           30490755,
           173970735
          ],
          [
           "ethereum",
           31344189,
           171310657
          ],
          [
           "ethereum",
           32567910,
           224103999
          ],
          [
           "ethereum",
           35192238,
           433142761
          ],
          [
           "ethereum",
           36015517,
           335210947
          ],
          [
           "ethereum",
           32284937,
           243240927
          ],
          [
           "ethereum",
           39151780,
           250335865
          ],
          [
           "ethereum",
           36001242,
           216327203
          ],
          [
           "ethereum",
           35834969,
           191462882
          ],
          [
           "ethereum",
           35046833,
           196005543
          ],
          [
           "ethereum",
           35491830,
           238239229
          ],
          [
           "ethereum",
           33964686,
           209888818
          ],
          [
           "ethereum",
           33858493,
           216441133
          ],
          [
           "ethereum",
           35799578,
           218705242
          ],
          [
           "ethereum",
           36691046,
           243707269
          ],
          [
           "ethereum",
           39605073,
           268268330
          ],
          [
           "ethereum",
           37865791,
           273742392
          ],
          [
           "ethereum",
           35574446,
           248517659
          ],
          [
           "ethereum",
           36924045,
           287240926
          ],
          [
           "ethereum",
           37148623,
           251914573
          ]
         ],
         "hovertemplate": "<b>%{customdata[0]}</b><br>Transactions: %{customdata[1]:,.0f}<br>Total (TX): %{customdata[2]:,.0f}<br><extra></extra>",
         "legendgroup": "ethereum",
         "marker": {
          "color": "#4750ff",
          "pattern": {
           "shape": ""
          }
         },
         "name": "ethereum",
         "orientation": "v",
         "showlegend": true,
         "textposition": "auto",
         "type": "bar",
         "x": [
          "2018-01-31T00:00:00.000000000",
          "2018-02-28T00:00:00.000000000",
          "2018-03-31T00:00:00.000000000",
          "2018-04-30T00:00:00.000000000",
          "2018-05-31T00:00:00.000000000",
          "2018-06-30T00:00:00.000000000",
          "2018-07-31T00:00:00.000000000",
          "2018-08-31T00:00:00.000000000",
          "2018-09-30T00:00:00.000000000",
          "2018-10-31T00:00:00.000000000",
          "2018-11-30T00:00:00.000000000",
          "2018-12-31T00:00:00.000000000",
          "2019-01-31T00:00:00.000000000",
          "2019-02-28T00:00:00.000000000",
          "2019-03-31T00:00:00.000000000",
          "2019-04-30T00:00:00.000000000",
          "2019-05-31T00:00:00.000000000",
          "2019-06-30T00:00:00.000000000",
          "2019-07-31T00:00:00.000000000",
          "2019-08-31T00:00:00.000000000",
          "2019-09-30T00:00:00.000000000",
          "2019-10-31T00:00:00.000000000",
          "2019-11-30T00:00:00.000000000",
          "2019-12-31T00:00:00.000000000",
          "2020-01-31T00:00:00.000000000",
          "2020-02-29T00:00:00.000000000",
          "2020-03-31T00:00:00.000000000",
          "2020-04-30T00:00:00.000000000",
          "2020-05-31T00:00:00.000000000",
          "2020-06-30T00:00:00.000000000",
          "2020-07-31T00:00:00.000000000",
          "2020-08-31T00:00:00.000000000",
          "2020-09-30T00:00:00.000000000",
          "2020-10-31T00:00:00.000000000",
          "2020-11-30T00:00:00.000000000",
          "2020-12-31T00:00:00.000000000",
          "2021-01-31T00:00:00.000000000",
          "2021-02-28T00:00:00.000000000",
          "2021-03-31T00:00:00.000000000",
          "2021-04-30T00:00:00.000000000",
          "2021-05-31T00:00:00.000000000",
          "2021-06-30T00:00:00.000000000",
          "2021-07-31T00:00:00.000000000",
          "2021-08-31T00:00:00.000000000",
          "2021-09-30T00:00:00.000000000",
          "2021-10-31T00:00:00.000000000",
          "2021-11-30T00:00:00.000000000",
          "2021-12-31T00:00:00.000000000",
          "2022-01-31T00:00:00.000000000",
          "2022-02-28T00:00:00.000000000",
          "2022-03-31T00:00:00.000000000",
          "2022-04-30T00:00:00.000000000",
          "2022-05-31T00:00:00.000000000",
          "2022-06-30T00:00:00.000000000",
          "2022-07-31T00:00:00.000000000",
          "2022-08-31T00:00:00.000000000",
          "2022-09-30T00:00:00.000000000",
          "2022-10-31T00:00:00.000000000",
          "2022-11-30T00:00:00.000000000",
          "2022-12-31T00:00:00.000000000",
          "2023-01-31T00:00:00.000000000",
          "2023-02-28T00:00:00.000000000",
          "2023-03-31T00:00:00.000000000",
          "2023-04-30T00:00:00.000000000",
          "2023-05-31T00:00:00.000000000",
          "2023-06-30T00:00:00.000000000",
          "2023-07-31T00:00:00.000000000",
          "2023-08-31T00:00:00.000000000",
          "2023-09-30T00:00:00.000000000",
          "2023-10-31T00:00:00.000000000",
          "2023-11-30T00:00:00.000000000",
          "2023-12-31T00:00:00.000000000",
          "2024-01-31T00:00:00.000000000",
          "2024-02-29T00:00:00.000000000",
          "2024-03-31T00:00:00.000000000",
          "2024-04-30T00:00:00.000000000",
          "2024-05-31T00:00:00.000000000",
          "2024-06-30T00:00:00.000000000",
          "2024-07-31T00:00:00.000000000",
          "2024-08-31T00:00:00.000000000",
          "2024-09-30T00:00:00.000000000",
          "2024-10-31T00:00:00.000000000",
          "2024-11-30T00:00:00.000000000",
          "2024-12-31T00:00:00.000000000",
          "2025-01-31T00:00:00.000000000",
          "2025-02-28T00:00:00.000000000",
          "2025-03-31T00:00:00.000000000",
          "2025-04-30T00:00:00.000000000"
         ],
         "xaxis": "x",
         "y": {
          "bdata": "Djz/Aao7UwHmKzUBYo0+ATUVfwFs5FYBCTcwAQvELgGmAfUAnkQEAbcI/wCRCgUB/dT8AAuuzAAOHBMBjpUuAbtIcwEl14cBB05dAbHATwGOSDgBBb4/Ad0aNwFHzhYBcCIOAeopJQEcHlsBfS1iAQuglgEbf7cB+TkFApywLwLtO/UBmRL8ATGIAwKVQSQCSRA8AqW0HgJJs1YCQyZ9AkJ8rwI0VygChL47ApJlOAKJXR8COStSAirnUQIia0gCuE0yAoCQ8wFzKyUCUbAAAopiFQLtS9oB4js3Am6OFAKQ0gICIasIArIo3QH+BuoBdCrmAXecxgE6MvkBw0/MAdNz/wHSm+IBYEHgASqW5wGDQNEBPUbeAWby8AGu/RgCnY0lAgmh7AGkaFUC2lUlAlnMIgKxxRYC9o8dAo5CBgK9owQCGkIiAmbcLwJRU1wCP8lBAq7SHgKNajMCz9c2Ag==",
          "dtype": "i4"
         },
         "yaxis": "y"
        },
        {
         "customdata": [
          [
           "ripple",
           34371355,
           76748745
          ],
          [
           "ripple",
           27518845,
           55107024
          ],
          [
           "ripple",
           23910077,
           49867107
          ],
          [
           "ripple",
           23246955,
           49876938
          ],
          [
           "ripple",
           25296131,
           56540805
          ],
          [
           "ripple",
           19783646,
           48007948
          ],
          [
           "ripple",
           16526281,
           42856850
          ],
          [
           "ripple",
           16889363,
           43461466
          ],
          [
           "ripple",
           16185717,
           39113903
          ],
          [
           "ripple",
           13649535,
           38286979
          ],
          [
           "ripple",
           12486550,
           37254837
          ],
          [
           "ripple",
           17210963,
           42514981
          ],
          [
           "ripple",
           19595317,
           45387092
          ],
          [
           "ripple",
           14556183,
           37239178
          ],
          [
           "ripple",
           14968820,
           42456027
          ],
          [
           "ripple",
           16261642,
           47144432
          ],
          [
           "ripple",
           19825541,
           56125072
          ],
          [
           "ripple",
           25681180,
           64520110
          ],
          [
           "ripple",
           34578712,
           72971606
          ],
          [
           "ripple",
           28270873,
           67866695
          ],
          [
           "ripple",
           27152191,
           65475427
          ],
          [
           "ripple",
           32259262,
           71540390
          ],
          [
           "ripple",
           63276528,
           100961465
          ],
          [
           "ripple",
           55662419,
           90539333
          ],
          [
           "ripple",
           34236694,
           69133591
          ],
          [
           "ripple",
           26398676,
           62926459
          ],
          [
           "ripple",
           30314568,
           73441610
          ],
          [
           "ripple",
           29272212,
           69522596
          ],
          [
           "ripple",
           29020253,
           73954881
          ],
          [
           "ripple",
           26377947,
           73011053
          ],
          [
           "ripple",
           27334475,
           81905689
          ],
          [
           "ripple",
           38942516,
           96967605
          ],
          [
           "ripple",
           31733065,
           88689135
          ],
          [
           "ripple",
           27095317,
           86174438
          ],
          [
           "ripple",
           30928792,
           92085513
          ],
          [
           "ripple",
           42907938,
           119895538
          ],
          [
           "ripple",
           46904015,
           131945361
          ],
          [
           "ripple",
           38822693,
           161406575
          ],
          [
           "ripple",
           34326313,
           191347466
          ],
          [
           "ripple",
           38263659,
           295561847
          ],
          [
           "ripple",
           33435627,
           384409268
          ],
          [
           "ripple",
           24256603,
           229829306
          ],
          [
           "ripple",
           25340296,
           277399459
          ],
          [
           "ripple",
           30324815,
           345930592
          ],
          [
           "ripple",
           35724856,
           293726227
          ],
          [
           "ripple",
           43284463,
           374745094
          ],
          [
           "ripple",
           53202259,
           548234924
          ],
          [
           "ripple",
           37916360,
           415235515
          ],
          [
           "ripple",
           51607996,
           346747885
          ],
          [
           "ripple",
           50908306,
           302297327
          ],
          [
           "ripple",
           42343618,
           297417154
          ],
          [
           "ripple",
           38278164,
           283706999
          ],
          [
           "ripple",
           39423724,
           285243113
          ],
          [
           "ripple",
           40146300,
           233270594
          ],
          [
           "ripple",
           39001552,
           221204798
          ],
          [
           "ripple",
           32781886,
           194431697
          ],
          [
           "ripple",
           35166085,
           180200229
          ],
          [
           "ripple",
           38123924,
           191951925
          ],
          [
           "ripple",
           35479636,
           192325040
          ],
          [
           "ripple",
           36260619,
           175897150
          ],
          [
           "ripple",
           38674155,
           169248936
          ],
          [
           "ripple",
           38036339,
           173434875
          ],
          [
           "ripple",
           43947107,
           207551312
          ],
          [
           "ripple",
           33703446,
           195587366
          ],
          [
           "ripple",
           35429774,
           235524815
          ],
          [
           "ripple",
           33478713,
           213018723
          ],
          [
           "ripple",
           30917916,
           212783589
          ],
          [
           "ripple",
           34034802,
           197211401
          ],
          [
           "ripple",
           32208281,
           173970735
          ],
          [
           "ripple",
           30152089,
           171310657
          ],
          [
           "ripple",
           30364849,
           224103999
          ],
          [
           "ripple",
           60522972,
           433142761
          ],
          [
           "ripple",
           144509803,
           335210947
          ],
          [
           "ripple",
           73406123,
           243240927
          ],
          [
           "ripple",
           44403293,
           250335865
          ],
          [
           "ripple",
           35733158,
           216327203
          ],
          [
           "ripple",
           24605556,
           191462882
          ],
          [
           "ripple",
           28431654,
           196005543
          ],
          [
           "ripple",
           77046356,
           238239229
          ],
          [
           "ripple",
           47723197,
           209888818
          ],
          [
           "ripple",
           50626881,
           216441133
          ],
          [
           "ripple",
           44861526,
           218705242
          ],
          [
           "ripple",
           58590074,
           243707269
          ],
          [
           "ripple",
           72455191,
           268268330
          ],
          [
           "ripple",
           76676964,
           273742392
          ],
          [
           "ripple",
           50263363,
           248517659
          ],
          [
           "ripple",
           65797422,
           287240926
          ],
          [
           "ripple",
           57031800,
           251914573
          ]
         ],
         "hovertemplate": "<b>%{customdata[0]}</b><br>Transactions: %{customdata[1]:,.0f}<br>Total (TX): %{customdata[2]:,.0f}<br><extra></extra>",
         "legendgroup": "ripple",
         "marker": {
          "color": "#DCDCDC",
          "pattern": {
           "shape": ""
          }
         },
         "name": "ripple",
         "orientation": "v",
         "showlegend": true,
         "textposition": "auto",
         "type": "bar",
         "x": [
          "2018-01-31T00:00:00.000000000",
          "2018-02-28T00:00:00.000000000",
          "2018-03-31T00:00:00.000000000",
          "2018-04-30T00:00:00.000000000",
          "2018-05-31T00:00:00.000000000",
          "2018-06-30T00:00:00.000000000",
          "2018-07-31T00:00:00.000000000",
          "2018-08-31T00:00:00.000000000",
          "2018-09-30T00:00:00.000000000",
          "2018-10-31T00:00:00.000000000",
          "2018-11-30T00:00:00.000000000",
          "2018-12-31T00:00:00.000000000",
          "2019-01-31T00:00:00.000000000",
          "2019-02-28T00:00:00.000000000",
          "2019-03-31T00:00:00.000000000",
          "2019-04-30T00:00:00.000000000",
          "2019-05-31T00:00:00.000000000",
          "2019-06-30T00:00:00.000000000",
          "2019-07-31T00:00:00.000000000",
          "2019-08-31T00:00:00.000000000",
          "2019-09-30T00:00:00.000000000",
          "2019-10-31T00:00:00.000000000",
          "2019-11-30T00:00:00.000000000",
          "2019-12-31T00:00:00.000000000",
          "2020-01-31T00:00:00.000000000",
          "2020-02-29T00:00:00.000000000",
          "2020-03-31T00:00:00.000000000",
          "2020-04-30T00:00:00.000000000",
          "2020-05-31T00:00:00.000000000",
          "2020-06-30T00:00:00.000000000",
          "2020-07-31T00:00:00.000000000",
          "2020-08-31T00:00:00.000000000",
          "2020-09-30T00:00:00.000000000",
          "2020-10-31T00:00:00.000000000",
          "2020-11-30T00:00:00.000000000",
          "2020-12-31T00:00:00.000000000",
          "2021-01-31T00:00:00.000000000",
          "2021-02-28T00:00:00.000000000",
          "2021-03-31T00:00:00.000000000",
          "2021-04-30T00:00:00.000000000",
          "2021-05-31T00:00:00.000000000",
          "2021-06-30T00:00:00.000000000",
          "2021-07-31T00:00:00.000000000",
          "2021-08-31T00:00:00.000000000",
          "2021-09-30T00:00:00.000000000",
          "2021-10-31T00:00:00.000000000",
          "2021-11-30T00:00:00.000000000",
          "2021-12-31T00:00:00.000000000",
          "2022-01-31T00:00:00.000000000",
          "2022-02-28T00:00:00.000000000",
          "2022-03-31T00:00:00.000000000",
          "2022-04-30T00:00:00.000000000",
          "2022-05-31T00:00:00.000000000",
          "2022-06-30T00:00:00.000000000",
          "2022-07-31T00:00:00.000000000",
          "2022-08-31T00:00:00.000000000",
          "2022-09-30T00:00:00.000000000",
          "2022-10-31T00:00:00.000000000",
          "2022-11-30T00:00:00.000000000",
          "2022-12-31T00:00:00.000000000",
          "2023-01-31T00:00:00.000000000",
          "2023-02-28T00:00:00.000000000",
          "2023-03-31T00:00:00.000000000",
          "2023-04-30T00:00:00.000000000",
          "2023-05-31T00:00:00.000000000",
          "2023-06-30T00:00:00.000000000",
          "2023-07-31T00:00:00.000000000",
          "2023-08-31T00:00:00.000000000",
          "2023-09-30T00:00:00.000000000",
          "2023-10-31T00:00:00.000000000",
          "2023-11-30T00:00:00.000000000",
          "2023-12-31T00:00:00.000000000",
          "2024-01-31T00:00:00.000000000",
          "2024-02-29T00:00:00.000000000",
          "2024-03-31T00:00:00.000000000",
          "2024-04-30T00:00:00.000000000",
          "2024-05-31T00:00:00.000000000",
          "2024-06-30T00:00:00.000000000",
          "2024-07-31T00:00:00.000000000",
          "2024-08-31T00:00:00.000000000",
          "2024-09-30T00:00:00.000000000",
          "2024-10-31T00:00:00.000000000",
          "2024-11-30T00:00:00.000000000",
          "2024-12-31T00:00:00.000000000",
          "2025-01-31T00:00:00.000000000",
          "2025-02-28T00:00:00.000000000",
          "2025-03-31T00:00:00.000000000",
          "2025-04-30T00:00:00.000000000"
         ],
         "xaxis": "x",
         "y": {
          "bdata": "G3cMAn3nowG91mwBa7hiAQP9gQHe3y0BySv8ABO2AQF1+fYAf0bQAJaHvgBTngYBNQArARcc3gD0Z+QACiL4AIWDLgEc3YcBGKEPAhlhrwE/T54BvjzsAfCFxQNTV1EDFmkKAtTPkgFIkM4BlKi+AV3QugHbfpIBSxehATQ3UgJJNeQBFXGdAZjv1wEiuY4Cz7LLAiVjUAIpxwsCa9tHAusv/gFbIHIBiKmCAU+4zgE4HiEC73eUAlPNKwPIjkICvHkTA5LMCAPCHIYCFBRIAuyOWQJ8lWQC0B1TAj429AGFlxgClLlFAlRgHQILSykC6x5OAnNjRAJjlJ4CFkYCAo6dHAI52P4BHMXXAXJUBwKZdesBmRXMAbFUzwHcgZsDawudCKsWYARdiqUCpj4hAnRzdwEm1bEBVKKXBL0y2AJBgQQDVoisAnoDfgMXlFEEZP+RBEP1/gIu/esDeDxmAw==",
          "dtype": "i4"
         },
         "yaxis": "y"
        }
       ],
       "layout": {
        "bargap": 0.1,
        "barmode": "stack",
        "dragmode": "pan",
        "font": {
         "color": "white",
         "family": "IBM Plex Sans"
        },
        "height": 500,
        "hovermode": "x unified",
        "legend": {
         "title": {
          "text": "Blockchain"
         },
         "tracegroupgap": 0,
         "x": 1.05,
         "xanchor": "left",
         "y": 0.99,
         "yanchor": "top"
        },
        "margin": {
         "b": 10,
         "l": 10,
         "r": 10,
         "t": 40
        },
        "template": {
         "data": {
          "bar": [
           {
            "error_x": {
             "color": "#f2f5fa"
            },
            "error_y": {
             "color": "#f2f5fa"
            },
            "marker": {
             "line": {
              "color": "rgb(17,17,17)",
              "width": 0.5
             },
             "pattern": {
              "fillmode": "overlay",
              "size": 10,
              "solidity": 0.2
             }
            },
            "type": "bar"
           }
          ],
          "barpolar": [
           {
            "marker": {
             "line": {
              "color": "rgb(17,17,17)",
              "width": 0.5
             },
             "pattern": {
              "fillmode": "overlay",
              "size": 10,
              "solidity": 0.2
             }
            },
            "type": "barpolar"
           }
          ],
          "carpet": [
           {
            "aaxis": {
             "endlinecolor": "#A2B1C6",
             "gridcolor": "#506784",
             "linecolor": "#506784",
             "minorgridcolor": "#506784",
             "startlinecolor": "#A2B1C6"
            },
            "baxis": {
             "endlinecolor": "#A2B1C6",
             "gridcolor": "#506784",
             "linecolor": "#506784",
             "minorgridcolor": "#506784",
             "startlinecolor": "#A2B1C6"
            },
            "type": "carpet"
           }
          ],
          "choropleth": [
           {
            "colorbar": {
             "outlinewidth": 0,
             "ticks": ""
            },
            "type": "choropleth"
           }
          ],
          "contour": [
           {
            "colorbar": {
             "outlinewidth": 0,
             "ticks": ""
            },
            "colorscale": [
             [
              0,
              "#0d0887"
             ],
             [
              0.1111111111111111,
              "#46039f"
             ],
             [
              0.2222222222222222,
              "#7201a8"
             ],
             [
              0.3333333333333333,
              "#9c179e"
             ],
             [
              0.4444444444444444,
              "#bd3786"
             ],
             [
              0.5555555555555556,
              "#d8576b"
             ],
             [
              0.6666666666666666,
              "#ed7953"
             ],
             [
              0.7777777777777778,
              "#fb9f3a"
             ],
             [
              0.8888888888888888,
              "#fdca26"
             ],
             [
              1,
              "#f0f921"
             ]
            ],
            "type": "contour"
           }
          ],
          "contourcarpet": [
           {
            "colorbar": {
             "outlinewidth": 0,
             "ticks": ""
            },
            "type": "contourcarpet"
           }
          ],
          "heatmap": [
           {
            "colorbar": {
             "outlinewidth": 0,
             "ticks": ""
            },
            "colorscale": [
             [
              0,
              "#0d0887"
             ],
             [
              0.1111111111111111,
              "#46039f"
             ],
             [
              0.2222222222222222,
              "#7201a8"
             ],
             [
              0.3333333333333333,
              "#9c179e"
             ],
             [
              0.4444444444444444,
              "#bd3786"
             ],
             [
              0.5555555555555556,
              "#d8576b"
             ],
             [
              0.6666666666666666,
              "#ed7953"
             ],
             [
              0.7777777777777778,
              "#fb9f3a"
             ],
             [
              0.8888888888888888,
              "#fdca26"
             ],
             [
              1,
              "#f0f921"
             ]
            ],
            "type": "heatmap"
           }
          ],
          "histogram": [
           {
            "marker": {
             "pattern": {
              "fillmode": "overlay",
              "size": 10,
              "solidity": 0.2
             }
            },
            "type": "histogram"
           }
          ],
          "histogram2d": [
           {
            "colorbar": {
             "outlinewidth": 0,
             "ticks": ""
            },
            "colorscale": [
             [
              0,
              "#0d0887"
             ],
             [
              0.1111111111111111,
              "#46039f"
             ],
             [
              0.2222222222222222,
              "#7201a8"
             ],
             [
              0.3333333333333333,
              "#9c179e"
             ],
             [
              0.4444444444444444,
              "#bd3786"
             ],
             [
              0.5555555555555556,
              "#d8576b"
             ],
             [
              0.6666666666666666,
              "#ed7953"
             ],
             [
              0.7777777777777778,
              "#fb9f3a"
             ],
             [
              0.8888888888888888,
              "#fdca26"
             ],
             [
              1,
              "#f0f921"
             ]
            ],
            "type": "histogram2d"
           }
          ],
          "histogram2dcontour": [
           {
            "colorbar": {
             "outlinewidth": 0,
             "ticks": ""
            },
            "colorscale": [
             [
              0,
              "#0d0887"
             ],
             [
              0.1111111111111111,
              "#46039f"
             ],
             [
              0.2222222222222222,
              "#7201a8"
             ],
             [
              0.3333333333333333,
              "#9c179e"
             ],
             [
              0.4444444444444444,
              "#bd3786"
             ],
             [
              0.5555555555555556,
              "#d8576b"
             ],
             [
              0.6666666666666666,
              "#ed7953"
             ],
             [
              0.7777777777777778,
              "#fb9f3a"
             ],
             [
              0.8888888888888888,
              "#fdca26"
             ],
             [
              1,
              "#f0f921"
             ]
            ],
            "type": "histogram2dcontour"
           }
          ],
          "mesh3d": [
           {
            "colorbar": {
             "outlinewidth": 0,
             "ticks": ""
            },
            "type": "mesh3d"
           }
          ],
          "parcoords": [
           {
            "line": {
             "colorbar": {
              "outlinewidth": 0,
              "ticks": ""
             }
            },
            "type": "parcoords"
           }
          ],
          "pie": [
           {
            "automargin": true,
            "type": "pie"
           }
          ],
          "scatter": [
           {
            "marker": {
             "line": {
              "color": "#283442"
             }
            },
            "type": "scatter"
           }
          ],
          "scatter3d": [
           {
            "line": {
             "colorbar": {
              "outlinewidth": 0,
              "ticks": ""
             }
            },
            "marker": {
             "colorbar": {
              "outlinewidth": 0,
              "ticks": ""
             }
            },
            "type": "scatter3d"
           }
          ],
          "scattercarpet": [
           {
            "marker": {
             "colorbar": {
              "outlinewidth": 0,
              "ticks": ""
             }
            },
            "type": "scattercarpet"
           }
          ],
          "scattergeo": [
           {
            "marker": {
             "colorbar": {
              "outlinewidth": 0,
              "ticks": ""
             }
            },
            "type": "scattergeo"
           }
          ],
          "scattergl": [
           {
            "marker": {
             "line": {
              "color": "#283442"
             }
            },
            "type": "scattergl"
           }
          ],
          "scattermap": [
           {
            "marker": {
             "colorbar": {
              "outlinewidth": 0,
              "ticks": ""
             }
            },
            "type": "scattermap"
           }
          ],
          "scattermapbox": [
           {
            "marker": {
             "colorbar": {
              "outlinewidth": 0,
              "ticks": ""
             }
            },
            "type": "scattermapbox"
           }
          ],
          "scatterpolar": [
           {
            "marker": {
             "colorbar": {
              "outlinewidth": 0,
              "ticks": ""
             }
            },
            "type": "scatterpolar"
           }
          ],
          "scatterpolargl": [
           {
            "marker": {
             "colorbar": {
              "outlinewidth": 0,
              "ticks": ""
             }
            },
            "type": "scatterpolargl"
           }
          ],
          "scatterternary": [
           {
            "marker": {
             "colorbar": {
              "outlinewidth": 0,
              "ticks": ""
             }
            },
            "type": "scatterternary"
           }
          ],
          "surface": [
           {
            "colorbar": {
             "outlinewidth": 0,
             "ticks": ""
            },
            "colorscale": [
             [
              0,
              "#0d0887"
             ],
             [
              0.1111111111111111,
              "#46039f"
             ],
             [
              0.2222222222222222,
              "#7201a8"
             ],
             [
              0.3333333333333333,
              "#9c179e"
             ],
             [
              0.4444444444444444,
              "#bd3786"
             ],
             [
              0.5555555555555556,
              "#d8576b"
             ],
             [
              0.6666666666666666,
              "#ed7953"
             ],
             [
              0.7777777777777778,
              "#fb9f3a"
             ],
             [
              0.8888888888888888,
              "#fdca26"
             ],
             [
              1,
              "#f0f921"
             ]
            ],
            "type": "surface"
           }
          ],
          "table": [
           {
            "cells": {
             "fill": {
              "color": "#506784"
             },
             "line": {
              "color": "rgb(17,17,17)"
             }
            },
            "header": {
             "fill": {
              "color": "#2a3f5f"
             },
             "line": {
              "color": "rgb(17,17,17)"
             }
            },
            "type": "table"
           }
          ]
         },
         "layout": {
          "annotationdefaults": {
           "arrowcolor": "#f2f5fa",
           "arrowhead": 0,
           "arrowwidth": 1
          },
          "autotypenumbers": "strict",
          "coloraxis": {
           "colorbar": {
            "outlinewidth": 0,
            "ticks": ""
           }
          },
          "colorscale": {
           "diverging": [
            [
             0,
             "#8e0152"
            ],
            [
             0.1,
             "#c51b7d"
            ],
            [
             0.2,
             "#de77ae"
            ],
            [
             0.3,
             "#f1b6da"
            ],
            [
             0.4,
             "#fde0ef"
            ],
            [
             0.5,
             "#f7f7f7"
            ],
            [
             0.6,
             "#e6f5d0"
            ],
            [
             0.7,
             "#b8e186"
            ],
            [
             0.8,
             "#7fbc41"
            ],
            [
             0.9,
             "#4d9221"
            ],
            [
             1,
             "#276419"
            ]
           ],
           "sequential": [
            [
             0,
             "#0d0887"
            ],
            [
             0.1111111111111111,
             "#46039f"
            ],
            [
             0.2222222222222222,
             "#7201a8"
            ],
            [
             0.3333333333333333,
             "#9c179e"
            ],
            [
             0.4444444444444444,
             "#bd3786"
            ],
            [
             0.5555555555555556,
             "#d8576b"
            ],
            [
             0.6666666666666666,
             "#ed7953"
            ],
            [
             0.7777777777777778,
             "#fb9f3a"
            ],
            [
             0.8888888888888888,
             "#fdca26"
            ],
            [
             1,
             "#f0f921"
            ]
           ],
           "sequentialminus": [
            [
             0,
             "#0d0887"
            ],
            [
             0.1111111111111111,
             "#46039f"
            ],
            [
             0.2222222222222222,
             "#7201a8"
            ],
            [
             0.3333333333333333,
             "#9c179e"
            ],
            [
             0.4444444444444444,
             "#bd3786"
            ],
            [
             0.5555555555555556,
             "#d8576b"
            ],
            [
             0.6666666666666666,
             "#ed7953"
            ],
            [
             0.7777777777777778,
             "#fb9f3a"
            ],
            [
             0.8888888888888888,
             "#fdca26"
            ],
            [
             1,
             "#f0f921"
            ]
           ]
          },
          "colorway": [
           "#636efa",
           "#EF553B",
           "#00cc96",
           "#ab63fa",
           "#FFA15A",
           "#19d3f3",
           "#FF6692",
           "#B6E880",
           "#FF97FF",
           "#FECB52"
          ],
          "font": {
           "color": "#f2f5fa"
          },
          "geo": {
           "bgcolor": "rgb(17,17,17)",
           "lakecolor": "rgb(17,17,17)",
           "landcolor": "rgb(17,17,17)",
           "showlakes": true,
           "showland": true,
           "subunitcolor": "#506784"
          },
          "hoverlabel": {
           "align": "left"
          },
          "hovermode": "closest",
          "mapbox": {
           "style": "dark"
          },
          "paper_bgcolor": "rgb(17,17,17)",
          "plot_bgcolor": "rgb(17,17,17)",
          "polar": {
           "angularaxis": {
            "gridcolor": "#506784",
            "linecolor": "#506784",
            "ticks": ""
           },
           "bgcolor": "rgb(17,17,17)",
           "radialaxis": {
            "gridcolor": "#506784",
            "linecolor": "#506784",
            "ticks": ""
           }
          },
          "scene": {
           "xaxis": {
            "backgroundcolor": "rgb(17,17,17)",
            "gridcolor": "#506784",
            "gridwidth": 2,
            "linecolor": "#506784",
            "showbackground": true,
            "ticks": "",
            "zerolinecolor": "#C8D4E3"
           },
           "yaxis": {
            "backgroundcolor": "rgb(17,17,17)",
            "gridcolor": "#506784",
            "gridwidth": 2,
            "linecolor": "#506784",
            "showbackground": true,
            "ticks": "",
            "zerolinecolor": "#C8D4E3"
           },
           "zaxis": {
            "backgroundcolor": "rgb(17,17,17)",
            "gridcolor": "#506784",
            "gridwidth": 2,
            "linecolor": "#506784",
            "showbackground": true,
            "ticks": "",
            "zerolinecolor": "#C8D4E3"
           }
          },
          "shapedefaults": {
           "line": {
            "color": "#f2f5fa"
           }
          },
          "sliderdefaults": {
           "bgcolor": "#C8D4E3",
           "bordercolor": "rgb(17,17,17)",
           "borderwidth": 1,
           "tickwidth": 0
          },
          "ternary": {
           "aaxis": {
            "gridcolor": "#506784",
            "linecolor": "#506784",
            "ticks": ""
           },
           "baxis": {
            "gridcolor": "#506784",
            "linecolor": "#506784",
            "ticks": ""
           },
           "bgcolor": "rgb(17,17,17)",
           "caxis": {
            "gridcolor": "#506784",
            "linecolor": "#506784",
            "ticks": ""
           }
          },
          "title": {
           "x": 0.05
          },
          "updatemenudefaults": {
           "bgcolor": "#506784",
           "borderwidth": 0
          },
          "xaxis": {
           "automargin": true,
           "gridcolor": "#283442",
           "linecolor": "#506784",
           "ticks": "",
           "title": {
            "standoff": 15
           },
           "zerolinecolor": "#283442",
           "zerolinewidth": 2
          },
          "yaxis": {
           "automargin": true,
           "gridcolor": "#283442",
           "linecolor": "#506784",
           "ticks": "",
           "title": {
            "standoff": 15
           },
           "zerolinecolor": "#283442",
           "zerolinewidth": 2
          }
         }
        },
        "title": {
         "font": {
          "color": "white",
          "size": 14
         },
         "text": "Blockchain Monthly Activity",
         "xanchor": "left"
        },
        "width": 705,
        "xaxis": {
         "anchor": "y",
         "domain": [
          0,
          1
         ],
         "rangeslider": {
          "thickness": 0.1,
          "visible": true
         },
         "title": {
          "text": "Date"
         },
         "type": "date"
        },
        "yaxis": {
         "anchor": "x",
         "domain": [
          0,
          1
         ],
         "title": {
          "text": "Transactions"
         }
        }
       }
      }
     },
     "metadata": {},
     "output_type": "display_data"
    }
   ],
   "source": [
    "# Create the figure\n",
    "fig1 = px.bar(\n",
    "    web3_tx,\n",
    "    x='date',\n",
    "    y='tx_count',\n",
    "    color='chain',\n",
    "    custom_data=['chain', 'tx_count', 'total_tx'],\n",
    "    title='Blockchain Monthly Activity',\n",
    "    labels={\n",
    "        'date': 'Date',\n",
    "        'tx_count': 'Transactions',\n",
    "        'chain': 'Blockchain',\n",
    "    },\n",
    "    color_discrete_map={\n",
    "        'bitcoin': '#ff9b00',  # Bitcoin Orange\n",
    "        'ethereum': '#4750ff',  # Ethereum Blue\n",
    "        'bnb_smart': '#ffe322',  # Binance Yellow\n",
    "        'bnb_beacon': '#786834',  # Binance Yellow\n",
    "        'ripple': '#DCDCDC',  # Ripple Grey\n",
    "        'avalanche': '#ff1d00',  # Avalanche Red\n",
    "    },\n",
    "   \n",
    ")\n",
    "\n",
    "# Update traces showing chain, individual transactions, and total transactions\n",
    "fig1.update_traces(\n",
    "    hovertemplate=\"<b>%{customdata[0]}</b><br>\" +\n",
    "                  \"Transactions: %{customdata[1]:,.0f}<br>\" +\n",
    "                  \"Total (TX): %{customdata[2]:,.0f}<br>\" +\n",
    "                  \"<extra></extra>\"\n",
    ")\n",
    "\n",
    "fig1.update_layout(\n",
    "    template=\"plotly_dark\",              # inherit base dark theme \n",
    "    hovermode=\"x unified\",\n",
    "    dragmode=\"pan\",\n",
    "    title=dict(font=dict(size=14, color='white'), xanchor=\"left\"),\n",
    "    font=dict(family=\"IBM Plex Sans\", color=\"white\"),\n",
    "    legend=dict(yanchor=\"top\", y=0.99, xanchor=\"left\", x=1.05),\n",
    "    xaxis=dict(rangeslider=dict(visible=True, thickness=0.1), type=\"date\"),\n",
    "    margin=dict(l=10, r=10, t=40, b=10),\n",
    "    yaxis=dict(title=\"Transactions\"),\n",
    "    height=500, width=705,\n",
    "    barmode='stack',\n",
    "    bargap=0.1,\n",
    ")\n",
    "\n",
    "# Show the plot\n",
    "fig1.show(config={\n",
    "    'displayModeBar': True,\n",
    "    'displaylogo': False,\n",
    "    'modeBarButtonsToAdd': ['fullscreen']\n",
    "})\n",
    "\n",
    "# get the full HTML as a string, with Plotly.js from CDN\n",
    "fig1html = fig1.to_html(include_plotlyjs=\"cdn\", full_html=True)\n",
    "\n",
    "# inject the Google Fonts link right after <head>\n",
    "font_link = '<link href=\"https://fonts.googleapis.com/css2?family=IBM+Plex+Sans&display=swap\" rel=\"stylesheet\">'\n",
    "fig1html = fig1html.replace(\"<head>\", f\"<head>\\n    {font_link}\")\n",
    "\n",
    "# save the HTML to a file\n",
    "with open(\"plots/html/blockchain_activity.html\", \"w\") as f:\n",
    "    f.write(fig1html)"
   ]
  },
  {
   "cell_type": "code",
   "execution_count": 8,
   "id": "7ee67a09",
   "metadata": {},
   "outputs": [
    {
     "name": "stderr",
     "output_type": "stream",
     "text": [
      "<>:2: SyntaxWarning:\n",
      "\n",
      "invalid escape sequence '\\w'\n",
      "\n",
      "<>:2: SyntaxWarning:\n",
      "\n",
      "invalid escape sequence '\\w'\n",
      "\n",
      "C:\\Users\\Matheus\\AppData\\Local\\Temp\\ipykernel_32296\\2049700646.py:2: SyntaxWarning:\n",
      "\n",
      "invalid escape sequence '\\w'\n",
      "\n"
     ]
    }
   ],
   "source": []
  }
 ],
 "metadata": {
  "kernelspec": {
   "display_name": ".venv",
   "language": "python",
   "name": "python3"
  },
  "language_info": {
   "codemirror_mode": {
    "name": "ipython",
    "version": 3
   },
   "file_extension": ".py",
   "mimetype": "text/x-python",
   "name": "python",
   "nbconvert_exporter": "python",
   "pygments_lexer": "ipython3",
   "version": "3.13.3"
  }
 },
 "nbformat": 4,
 "nbformat_minor": 5
}
