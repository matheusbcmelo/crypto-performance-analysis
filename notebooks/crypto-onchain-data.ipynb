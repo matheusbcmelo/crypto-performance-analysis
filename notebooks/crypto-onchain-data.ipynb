{
 "cells": [
  {
   "cell_type": "markdown",
   "id": "1c1211e7",
   "metadata": {},
   "source": [
    "# **Crypto On-chain Data Analysis**\n",
    "This notebook analyzes historical tokenomics for major cryptocurrencies (BTC, ETH, BNB, SOL) using data from CoinGecko API."
   ]
  },
  {
   "cell_type": "code",
   "execution_count": null,
   "id": "3c2e898a",
   "metadata": {},
   "outputs": [],
   "source": [
    "#%% Fetching CoinGecko Data\n",
    "\n",
    "#%% Fetching Tokenomics Data\n",
    "tokenomics_data = []\n",
    "\n",
    "for _, row in crypto.iterrows():\n",
    "    try:\n",
    "        # Fetch detailed coin data from CoinGecko\n",
    "        coin_data = cg.get_coin_by_id(row['coingecko_id'])\n",
    "        \n",
    "        data = {\n",
    "            'symbol': row['symbol'],\n",
    "            'current_price': coin_data['market_data']['current_price']['usd'],\n",
    "            'market_cap': coin_data['market_data']['market_cap']['usd'],\n",
    "            'total_volume': coin_data['market_data']['total_volume']['usd'],\n",
    "            'circulating_supply': coin_data['market_data']['circulating_supply'],\n",
    "            'total_supply': coin_data['market_data']['total_supply'],\n",
    "            'max_supply': coin_data['market_data']['max_supply'],\n",
    "            'fdv': coin_data['market_data'].get('fully_diluted_valuation', {}).get('usd'),\n",
    "        }\n",
    "        tokenomics_data.append(data)\n",
    "        \n",
    "    except Exception as e:\n",
    "        print(f\"Error fetching data for {row['symbol']}: {e}\")\n",
    "\n",
    "# Convert to DataFrame\n",
    "tokenomics_df = pd.DataFrame(tokenomics_data)\n",
    "\n",
    "# Format numbers to be more readable\n",
    "for col in ['market_cap', 'fdv', 'total_volume']:\n",
    "    tokenomics_df[col] = tokenomics_df[col].apply(lambda x: f\"${x:,.2f}\" if x else \"N/A\")\n",
    "tokenomics_df['current_price'] = tokenomics_df['current_price'].apply(lambda x: f\"${x:,.2f}\")\n",
    "\n",
    "print(\"\\nTokenomics Data:\")\n",
    "print(tokenomics_df)\n"
   ]
  }
 ],
 "metadata": {
  "language_info": {
   "name": "python"
  }
 },
 "nbformat": 4,
 "nbformat_minor": 5
}
