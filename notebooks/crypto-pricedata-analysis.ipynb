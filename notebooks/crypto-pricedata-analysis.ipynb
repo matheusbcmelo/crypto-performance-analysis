{
 "cells": [
  {
   "cell_type": "markdown",
   "id": "6dbd3ff7",
   "metadata": {},
   "source": [
    "# **Cryptocurrency Market Analysis**\n",
    "This notebook analyzes historical price data for major cryptocurrencies (BTC, ETH, BNB, SOL) using data from Binance exchange."
   ]
  },
  {
   "cell_type": "code",
   "execution_count": 1,
   "id": "6d3493bd",
   "metadata": {},
   "outputs": [],
   "source": [
    "#%% Import Libraries\n",
    "\n",
    "import pandas as pd\n",
    "import numpy as np\n",
    "\n",
    "import plotly.express as px\n",
    "import plotly.graph_objects as go\n",
    "from plotly.subplots import make_subplots\n",
    "\n",
    "# The \"ccxt\" library facilitates connection to various exchanges, including Binance\n",
    "import ccxt"
   ]
  },
  {
   "cell_type": "code",
   "execution_count": 2,
   "id": "9d119dbc",
   "metadata": {},
   "outputs": [],
   "source": [
    "#%% Creating DataFrame\n",
    "\n",
    "crypto = pd.DataFrame({\n",
    "    'symbols': [\"BTC/USDT\", \"ETH/USDT\", \"BNB/USDT\", \"SOL/USDT\"]\n",
    "})"
   ]
  },
  {
   "cell_type": "code",
   "execution_count": 3,
   "id": "c961d4f7",
   "metadata": {},
   "outputs": [
    {
     "name": "stdout",
     "output_type": "stream",
     "text": [
      "\n",
      "Symbol: BTC/USDT\n",
      "Number of candles retrieved: 93\n",
      "Date range: 2017-08-01 00:00:00 to 2025-04-01 00:00:00\n",
      "\n",
      "Symbol: ETH/USDT\n",
      "Number of candles retrieved: 93\n",
      "Date range: 2017-08-01 00:00:00 to 2025-04-01 00:00:00\n",
      "\n",
      "Symbol: BNB/USDT\n",
      "Number of candles retrieved: 90\n",
      "Date range: 2017-11-01 00:00:00 to 2025-04-01 00:00:00\n",
      "\n",
      "Symbol: SOL/USDT\n",
      "Number of candles retrieved: 57\n",
      "Date range: 2020-08-01 00:00:00 to 2025-04-01 00:00:00\n",
      "<class 'pandas.core.frame.DataFrame'>\n",
      "RangeIndex: 333 entries, 0 to 332\n",
      "Data columns (total 8 columns):\n",
      " #   Column         Non-Null Count  Dtype    \n",
      "---  ------         --------------  -----    \n",
      " 0   symbols        333 non-null    object   \n",
      " 1   timestamp      333 non-null    period[M]\n",
      " 2   open           333 non-null    float64  \n",
      " 3   high           333 non-null    float64  \n",
      " 4   low            333 non-null    float64  \n",
      " 5   close          333 non-null    float64  \n",
      " 6   volume         333 non-null    float64  \n",
      " 7   average_price  333 non-null    float64  \n",
      "dtypes: float64(6), object(1), period[M](1)\n",
      "memory usage: 20.9+ KB\n",
      "None\n"
     ]
    }
   ],
   "source": [
    "#%% Extracting Data from Binance\n",
    "\n",
    "# Binance API configuration\n",
    "binance = ccxt.binance()\n",
    "\n",
    "# List of crypto to fetch data for\n",
    "symbols = crypto['symbols'].tolist()  # Add other pairs as necessary\n",
    "timeframe = '1M'  # Timeframe (1 month)\n",
    "\n",
    "'''\n",
    "Available timeframes:\n",
    "'1m' - 1 minute\n",
    "'1h' - 1 hour\n",
    "'1d' - 1 day\n",
    "'1w' - 1 week\n",
    "'1M' - 1 month\n",
    "'''\n",
    "\n",
    "limit = 120  # Number of candles\n",
    "\n",
    "# Create a list to store the data\n",
    "all_data = []\n",
    "\n",
    "# Loop to fetch data for each asset\n",
    "for symbol in symbols:\n",
    "    try:\n",
    "        # Fetch OHLCV data from Binance\n",
    "        OHLCV = binance.fetch_ohlcv(symbol, timeframe, limit=limit)\n",
    "        \n",
    "        print(f\"\\nSymbol: {symbol}\")\n",
    "        print(f\"Number of candles retrieved: {len(OHLCV)}\")\n",
    "        print(f\"Date range: {pd.to_datetime(OHLCV[0][0], unit='ms')} to {pd.to_datetime(OHLCV[-1][0], unit='ms')}\")\n",
    "        \n",
    "        # Process all candles\n",
    "        for candle in OHLCV:\n",
    "            data = {\n",
    "                'symbols': symbol,\n",
    "                'timestamp': pd.to_datetime(candle[0], unit='ms'),\n",
    "                'open': candle[1],\n",
    "                'high': candle[2],\n",
    "                'low': candle[3],\n",
    "                'close': candle[4],\n",
    "                'volume': candle[5]\n",
    "            }\n",
    "            all_data.append(data)\n",
    "    except Exception as e:\n",
    "        print(f\"Error fetching data for {symbol}: {e}\")\n",
    "\n",
    "# Convert to a DataFrame\n",
    "crypto_monthly_price = pd.DataFrame(all_data)\n",
    "\n",
    "# Calculating Average Price\n",
    "crypto_monthly_price['average_price'] = round((crypto_monthly_price['high'] + crypto_monthly_price['low']) / 2, 2)\n",
    "\n",
    "# Group by month and calculate the average price\n",
    "crypto_monthly_price['timestamp'] = pd.to_datetime(crypto_monthly_price['timestamp']).dt.to_period('M')\n",
    "\n",
    "print(crypto_monthly_price.info())"
   ]
  },
  {
   "cell_type": "code",
   "execution_count": 4,
   "id": "61524ff5",
   "metadata": {},
   "outputs": [
    {
     "name": "stdout",
     "output_type": "stream",
     "text": [
      "<class 'pandas.core.frame.DataFrame'>\n",
      "RangeIndex: 333 entries, 0 to 332\n",
      "Data columns (total 3 columns):\n",
      " #   Column         Non-Null Count  Dtype    \n",
      "---  ------         --------------  -----    \n",
      " 0   symbols        333 non-null    category \n",
      " 1   timestamp      333 non-null    period[M]\n",
      " 2   average_price  333 non-null    float64  \n",
      "dtypes: category(1), float64(1), period[M](1)\n",
      "memory usage: 5.9 KB\n",
      "None\n"
     ]
    },
    {
     "name": "stderr",
     "output_type": "stream",
     "text": [
      "C:\\Users\\Matheus\\AppData\\Local\\Temp\\ipykernel_19036\\490511893.py:7: SettingWithCopyWarning: \n",
      "A value is trying to be set on a copy of a slice from a DataFrame.\n",
      "Try using .loc[row_indexer,col_indexer] = value instead\n",
      "\n",
      "See the caveats in the documentation: https://pandas.pydata.org/pandas-docs/stable/user_guide/indexing.html#returning-a-view-versus-a-copy\n",
      "  crypto_monthly_avg['symbols'] = pd.Categorical(\n"
     ]
    }
   ],
   "source": [
    "#%% Grouping and Sorting Data\n",
    "\n",
    "# Group by 'symbols' and 'timestamp' to get the average price for each month\n",
    "crypto_monthly_avg = crypto_monthly_price[['symbols', 'timestamp', 'average_price']]\n",
    "\n",
    "# Convert symbols to Categorical with specific order from the original crypto DataFrame\n",
    "crypto_monthly_avg['symbols'] = pd.Categorical(\n",
    "    crypto_monthly_avg['symbols'],\n",
    "    categories=symbols,\n",
    "    ordered=True\n",
    ")\n",
    "\n",
    "# Sort first by symbols (to group all records for each symbol together)\n",
    "# Then by timestamp (descending) within each symbol group\n",
    "crypto_monthly_avg = crypto_monthly_avg.sort_values(\n",
    "    ['symbols', 'timestamp'], \n",
    "    ascending=[True, False]\n",
    ").reset_index(drop=True)\n",
    "\n",
    "print(crypto_monthly_avg.info())"
   ]
  },
  {
   "cell_type": "code",
   "execution_count": null,
   "id": "d727f0ad",
   "metadata": {},
   "outputs": [
    {
     "data": {
      "application/vnd.plotly.v1+json": {
       "config": {
        "plotlyServerURL": "https://plot.ly"
       },
       "data": [
        {
         "hovertemplate": "Cryptocurrency=BTC/USDT<br>Date=%{x}<br>Price (USD)=%{y}<extra></extra>",
         "legendgroup": "BTC/USDT",
         "line": {
          "color": "#636efa",
          "dash": "solid"
         },
         "marker": {
          "symbol": "circle"
         },
         "mode": "lines",
         "name": "BTC/USDT",
         "orientation": "v",
         "showlegend": true,
         "type": "scatter",
         "x": [
          "2025-04-01T00:00:00.000000000",
          "2025-03-01T00:00:00.000000000",
          "2025-02-01T00:00:00.000000000",
          "2025-01-01T00:00:00.000000000",
          "2024-12-01T00:00:00.000000000",
          "2024-11-01T00:00:00.000000000",
          "2024-10-01T00:00:00.000000000",
          "2024-09-01T00:00:00.000000000",
          "2024-08-01T00:00:00.000000000",
          "2024-07-01T00:00:00.000000000",
          "2024-06-01T00:00:00.000000000",
          "2024-05-01T00:00:00.000000000",
          "2024-04-01T00:00:00.000000000",
          "2024-03-01T00:00:00.000000000",
          "2024-02-01T00:00:00.000000000",
          "2024-01-01T00:00:00.000000000",
          "2023-12-01T00:00:00.000000000",
          "2023-11-01T00:00:00.000000000",
          "2023-10-01T00:00:00.000000000",
          "2023-09-01T00:00:00.000000000",
          "2023-08-01T00:00:00.000000000",
          "2023-07-01T00:00:00.000000000",
          "2023-06-01T00:00:00.000000000",
          "2023-05-01T00:00:00.000000000",
          "2023-04-01T00:00:00.000000000",
          "2023-03-01T00:00:00.000000000",
          "2023-02-01T00:00:00.000000000",
          "2023-01-01T00:00:00.000000000",
          "2022-12-01T00:00:00.000000000",
          "2022-11-01T00:00:00.000000000",
          "2022-10-01T00:00:00.000000000",
          "2022-09-01T00:00:00.000000000",
          "2022-08-01T00:00:00.000000000",
          "2022-07-01T00:00:00.000000000",
          "2022-06-01T00:00:00.000000000",
          "2022-05-01T00:00:00.000000000",
          "2022-04-01T00:00:00.000000000",
          "2022-03-01T00:00:00.000000000",
          "2022-02-01T00:00:00.000000000",
          "2022-01-01T00:00:00.000000000",
          "2021-12-01T00:00:00.000000000",
          "2021-11-01T00:00:00.000000000",
          "2021-10-01T00:00:00.000000000",
          "2021-09-01T00:00:00.000000000",
          "2021-08-01T00:00:00.000000000",
          "2021-07-01T00:00:00.000000000",
          "2021-06-01T00:00:00.000000000",
          "2021-05-01T00:00:00.000000000",
          "2021-04-01T00:00:00.000000000",
          "2021-03-01T00:00:00.000000000",
          "2021-02-01T00:00:00.000000000",
          "2021-01-01T00:00:00.000000000",
          "2020-12-01T00:00:00.000000000",
          "2020-11-01T00:00:00.000000000",
          "2020-10-01T00:00:00.000000000",
          "2020-09-01T00:00:00.000000000",
          "2020-08-01T00:00:00.000000000",
          "2020-07-01T00:00:00.000000000",
          "2020-06-01T00:00:00.000000000",
          "2020-05-01T00:00:00.000000000",
          "2020-04-01T00:00:00.000000000",
          "2020-03-01T00:00:00.000000000",
          "2020-02-01T00:00:00.000000000",
          "2020-01-01T00:00:00.000000000",
          "2019-12-01T00:00:00.000000000",
          "2019-11-01T00:00:00.000000000",
          "2019-10-01T00:00:00.000000000",
          "2019-09-01T00:00:00.000000000",
          "2019-08-01T00:00:00.000000000",
          "2019-07-01T00:00:00.000000000",
          "2019-06-01T00:00:00.000000000",
          "2019-05-01T00:00:00.000000000",
          "2019-04-01T00:00:00.000000000",
          "2019-03-01T00:00:00.000000000",
          "2019-02-01T00:00:00.000000000",
          "2019-01-01T00:00:00.000000000",
          "2018-12-01T00:00:00.000000000",
          "2018-11-01T00:00:00.000000000",
          "2018-10-01T00:00:00.000000000",
          "2018-09-01T00:00:00.000000000",
          "2018-08-01T00:00:00.000000000",
          "2018-07-01T00:00:00.000000000",
          "2018-06-01T00:00:00.000000000",
          "2018-05-01T00:00:00.000000000",
          "2018-04-01T00:00:00.000000000",
          "2018-03-01T00:00:00.000000000",
          "2018-02-01T00:00:00.000000000",
          "2018-01-01T00:00:00.000000000",
          "2017-12-01T00:00:00.000000000",
          "2017-11-01T00:00:00.000000000",
          "2017-10-01T00:00:00.000000000",
          "2017-09-01T00:00:00.000000000",
          "2017-08-01T00:00:00.000000000"
         ],
         "xaxis": "x",
         "y": {
          "bdata": "H4XrUdDI9EAAAAAAsPL0QLgeheuRGfZACtejcOVF+EAAAAAAKEb4QAAAAAC4UPRAXI/C9bAu8EAAAAAAgBDtQK5H4Xo8/utAhetRuN4q7kAfhetR8NXvQOxRuB49Ye9AzczMzKwc8EAAAAAAcDXwQK5H4XrE2elA4XoUrkde5UApXI/CvRjkQGZmZmY2tuFA7FG4HlUv3kC4HoXrEZTZQAAAAABADttAMzMzM0Of3UBI4XoU/nTbQIXrUbjuKdtA16NwPdpK3EAfhetRuMvXQPYoXI8iwdZAuB6F63HB00DhehSuh+rQQK5H4XqUC9JAAAAAAGAt00DD9Shcn/vTQNejcD1q19VAAAAAACA31UCF61G4njjYQI/C9Sg8SuBA7FG4HuXB5EAK16NwDdbkQK5H4Xr0kONA9ihcj7LA40AK16Nw3avoQNejcD0K2e1APQrXo7Ds6kAAAAAAgJbmQDMzMzOLceVAAAAAAOCC4UAAAAAAcB/hQAAAAADA2eVAAAAAAIBK60AfhetRqBLqQMP1KFyPIeZAAAAAAAAc4UDXo3A9CuPWQGZmZmZGJNBAAAAAAIDmx0ApXI/C9VzFQAAAAACgcsZA9ihcj0Lcw0AAAAAAQMPCQAAAAAAAwsFAw/UoXA99vkDD9ShcD1W5QAAAAABAgMJA9ihcj0IQwEAAAAAAgLS7QKRwPQpXTr9AAAAAAIBBwUAfhetR+C3CQM3MzMysJMVA7FG4HsWvxUDsUbgepenEQBSuR+E6G7xAAAAAAIDhskBI4XoUroKuQJqZmZkZk61AH4XrUbj7rEAK16NwPS2tQGZmZmbmDbRAAAAAAIAeu0AAAAAAgGi6QAAAAAAAn7pAexSuR+FwvECkcD0KV3C6QArXo3A9p8BAXI/C9eiev0BmZmZmhuHBQHsUrkeBXsFAw/UoXM+YyUBSuB6Fq37MQPYoXI9CPMBAAAAAAAC4tEAzMzMzM0yuQFK4HoVr0a9A",
          "dtype": "f8"
         },
         "yaxis": "y"
        },
        {
         "hovertemplate": "Cryptocurrency=ETH/USDT<br>Date=%{x}<br>Price (USD)=%{y}<extra></extra>",
         "legendgroup": "ETH/USDT",
         "line": {
          "color": "#EF553B",
          "dash": "solid"
         },
         "marker": {
          "symbol": "circle"
         },
         "mode": "lines",
         "name": "ETH/USDT",
         "orientation": "v",
         "showlegend": true,
         "type": "scatter",
         "x": [
          "2025-04-01T00:00:00.000000000",
          "2025-03-01T00:00:00.000000000",
          "2025-02-01T00:00:00.000000000",
          "2025-01-01T00:00:00.000000000",
          "2024-12-01T00:00:00.000000000",
          "2024-11-01T00:00:00.000000000",
          "2024-10-01T00:00:00.000000000",
          "2024-09-01T00:00:00.000000000",
          "2024-08-01T00:00:00.000000000",
          "2024-07-01T00:00:00.000000000",
          "2024-06-01T00:00:00.000000000",
          "2024-05-01T00:00:00.000000000",
          "2024-04-01T00:00:00.000000000",
          "2024-03-01T00:00:00.000000000",
          "2024-02-01T00:00:00.000000000",
          "2024-01-01T00:00:00.000000000",
          "2023-12-01T00:00:00.000000000",
          "2023-11-01T00:00:00.000000000",
          "2023-10-01T00:00:00.000000000",
          "2023-09-01T00:00:00.000000000",
          "2023-08-01T00:00:00.000000000",
          "2023-07-01T00:00:00.000000000",
          "2023-06-01T00:00:00.000000000",
          "2023-05-01T00:00:00.000000000",
          "2023-04-01T00:00:00.000000000",
          "2023-03-01T00:00:00.000000000",
          "2023-02-01T00:00:00.000000000",
          "2023-01-01T00:00:00.000000000",
          "2022-12-01T00:00:00.000000000",
          "2022-11-01T00:00:00.000000000",
          "2022-10-01T00:00:00.000000000",
          "2022-09-01T00:00:00.000000000",
          "2022-08-01T00:00:00.000000000",
          "2022-07-01T00:00:00.000000000",
          "2022-06-01T00:00:00.000000000",
          "2022-05-01T00:00:00.000000000",
          "2022-04-01T00:00:00.000000000",
          "2022-03-01T00:00:00.000000000",
          "2022-02-01T00:00:00.000000000",
          "2022-01-01T00:00:00.000000000",
          "2021-12-01T00:00:00.000000000",
          "2021-11-01T00:00:00.000000000",
          "2021-10-01T00:00:00.000000000",
          "2021-09-01T00:00:00.000000000",
          "2021-08-01T00:00:00.000000000",
          "2021-07-01T00:00:00.000000000",
          "2021-06-01T00:00:00.000000000",
          "2021-05-01T00:00:00.000000000",
          "2021-04-01T00:00:00.000000000",
          "2021-03-01T00:00:00.000000000",
          "2021-02-01T00:00:00.000000000",
          "2021-01-01T00:00:00.000000000",
          "2020-12-01T00:00:00.000000000",
          "2020-11-01T00:00:00.000000000",
          "2020-10-01T00:00:00.000000000",
          "2020-09-01T00:00:00.000000000",
          "2020-08-01T00:00:00.000000000",
          "2020-07-01T00:00:00.000000000",
          "2020-06-01T00:00:00.000000000",
          "2020-05-01T00:00:00.000000000",
          "2020-04-01T00:00:00.000000000",
          "2020-03-01T00:00:00.000000000",
          "2020-02-01T00:00:00.000000000",
          "2020-01-01T00:00:00.000000000",
          "2019-12-01T00:00:00.000000000",
          "2019-11-01T00:00:00.000000000",
          "2019-10-01T00:00:00.000000000",
          "2019-09-01T00:00:00.000000000",
          "2019-08-01T00:00:00.000000000",
          "2019-07-01T00:00:00.000000000",
          "2019-06-01T00:00:00.000000000",
          "2019-05-01T00:00:00.000000000",
          "2019-04-01T00:00:00.000000000",
          "2019-03-01T00:00:00.000000000",
          "2019-02-01T00:00:00.000000000",
          "2019-01-01T00:00:00.000000000",
          "2018-12-01T00:00:00.000000000",
          "2018-11-01T00:00:00.000000000",
          "2018-10-01T00:00:00.000000000",
          "2018-09-01T00:00:00.000000000",
          "2018-08-01T00:00:00.000000000",
          "2018-07-01T00:00:00.000000000",
          "2018-06-01T00:00:00.000000000",
          "2018-05-01T00:00:00.000000000",
          "2018-04-01T00:00:00.000000000",
          "2018-03-01T00:00:00.000000000",
          "2018-02-01T00:00:00.000000000",
          "2018-01-01T00:00:00.000000000",
          "2017-12-01T00:00:00.000000000",
          "2017-11-01T00:00:00.000000000",
          "2017-10-01T00:00:00.000000000",
          "2017-09-01T00:00:00.000000000",
          "2017-08-01T00:00:00.000000000"
         ],
         "xaxis": "x",
         "y": {
          "bdata": "rkfhehQcmkCPwvUo3NCgQArXo3A9IKVApHA9CtcIqkAzMzMzsymsQMP1KFyP0KdAFK5H4XrXo0BxPQrXIw+jQMP1KFyP6aRAuB6F69HkqEApXI/CdderQAAAAAAAiqpAH4XrUbi2qUAUrkfheu6rQM3MzMzMgqZAuB6F61HRokCkcD0K14qhQDMzMzMzlJ5ArkfhehR1mkBxPQrXozKZQBSuR+F6y5pAMzMzMzMenkAzMzMzM+2bQAAAAAAAXp1AcT0K16OAnkCF61G4HjOZQM3MzMzMCZlASOF6FK5rlkAUrkfheo6TQNejcD0Kg5VAhetRuB5KlkAAAAAAAIKXQFyPwvUo+JpACtejcD3OlUDhehSuR0yWQI/C9SjcPKJAmpmZmZmRqEB7FK5H4SanQFyPwvWoz6VAH4XrUbirp0AfhetROC2wQAAAAACAJrFA16NwPYoFrUB7FK5H4ReqQLgehetRHqdAj8L1KNyjoEA9CtejcPChQClcj8J11adAuB6F61FLokBmZmZmZjqaQHE9Ctej4JlAw/UoXI8akUBxPQrXoySEQFK4HoXrCX9Aj8L1KFyHd0CuR+F6FOp4QAAAAAAAGHhAw/UoXI/icUDNzMzMzFxtQAAAAAAAcGpAH4XrUbg+ZkAfhetRuB5lQLgehetROG1ArkfhehSOY0Bcj8L1KMxgQHE9CtejaGRAMzMzMzPzZUCPwvUoXF9nQFyPwvUoLGlAcT0K16Pgb0B7FK5H4YpyQMP1KFyP4mtA16NwPQpXZEBI4XoUrsdgQDMzMzMzs2BAw/UoXI9CYEAfhetRuO5dQMP1KFyPcmRAAAAAAADAakCF61G4HlVtQAAAAAAAaHVAj8L1KFwjfUCF61G4HiWAQGZmZmZmCIVA7FG4HoW3gECkcD0K13eDQLgehetRHItAmpmZmZnZkECamZmZmV+DQPYoXI/CrXhAmpmZmZmRc0AzMzMzM1NyQI/C9Shcz3BA",
          "dtype": "f8"
         },
         "yaxis": "y"
        },
        {
         "hovertemplate": "Cryptocurrency=BNB/USDT<br>Date=%{x}<br>Price (USD)=%{y}<extra></extra>",
         "legendgroup": "BNB/USDT",
         "line": {
          "color": "#00cc96",
          "dash": "solid"
         },
         "marker": {
          "symbol": "circle"
         },
         "mode": "lines",
         "name": "BNB/USDT",
         "orientation": "v",
         "showlegend": true,
         "type": "scatter",
         "x": [
          "2025-04-01T00:00:00.000000000",
          "2025-03-01T00:00:00.000000000",
          "2025-02-01T00:00:00.000000000",
          "2025-01-01T00:00:00.000000000",
          "2024-12-01T00:00:00.000000000",
          "2024-11-01T00:00:00.000000000",
          "2024-10-01T00:00:00.000000000",
          "2024-09-01T00:00:00.000000000",
          "2024-08-01T00:00:00.000000000",
          "2024-07-01T00:00:00.000000000",
          "2024-06-01T00:00:00.000000000",
          "2024-05-01T00:00:00.000000000",
          "2024-04-01T00:00:00.000000000",
          "2024-03-01T00:00:00.000000000",
          "2024-02-01T00:00:00.000000000",
          "2024-01-01T00:00:00.000000000",
          "2023-12-01T00:00:00.000000000",
          "2023-11-01T00:00:00.000000000",
          "2023-10-01T00:00:00.000000000",
          "2023-09-01T00:00:00.000000000",
          "2023-08-01T00:00:00.000000000",
          "2023-07-01T00:00:00.000000000",
          "2023-06-01T00:00:00.000000000",
          "2023-05-01T00:00:00.000000000",
          "2023-04-01T00:00:00.000000000",
          "2023-03-01T00:00:00.000000000",
          "2023-02-01T00:00:00.000000000",
          "2023-01-01T00:00:00.000000000",
          "2022-12-01T00:00:00.000000000",
          "2022-11-01T00:00:00.000000000",
          "2022-10-01T00:00:00.000000000",
          "2022-09-01T00:00:00.000000000",
          "2022-08-01T00:00:00.000000000",
          "2022-07-01T00:00:00.000000000",
          "2022-06-01T00:00:00.000000000",
          "2022-05-01T00:00:00.000000000",
          "2022-04-01T00:00:00.000000000",
          "2022-03-01T00:00:00.000000000",
          "2022-02-01T00:00:00.000000000",
          "2022-01-01T00:00:00.000000000",
          "2021-12-01T00:00:00.000000000",
          "2021-11-01T00:00:00.000000000",
          "2021-10-01T00:00:00.000000000",
          "2021-09-01T00:00:00.000000000",
          "2021-08-01T00:00:00.000000000",
          "2021-07-01T00:00:00.000000000",
          "2021-06-01T00:00:00.000000000",
          "2021-05-01T00:00:00.000000000",
          "2021-04-01T00:00:00.000000000",
          "2021-03-01T00:00:00.000000000",
          "2021-02-01T00:00:00.000000000",
          "2021-01-01T00:00:00.000000000",
          "2020-12-01T00:00:00.000000000",
          "2020-11-01T00:00:00.000000000",
          "2020-10-01T00:00:00.000000000",
          "2020-09-01T00:00:00.000000000",
          "2020-08-01T00:00:00.000000000",
          "2020-07-01T00:00:00.000000000",
          "2020-06-01T00:00:00.000000000",
          "2020-05-01T00:00:00.000000000",
          "2020-04-01T00:00:00.000000000",
          "2020-03-01T00:00:00.000000000",
          "2020-02-01T00:00:00.000000000",
          "2020-01-01T00:00:00.000000000",
          "2019-12-01T00:00:00.000000000",
          "2019-11-01T00:00:00.000000000",
          "2019-10-01T00:00:00.000000000",
          "2019-09-01T00:00:00.000000000",
          "2019-08-01T00:00:00.000000000",
          "2019-07-01T00:00:00.000000000",
          "2019-06-01T00:00:00.000000000",
          "2019-05-01T00:00:00.000000000",
          "2019-04-01T00:00:00.000000000",
          "2019-03-01T00:00:00.000000000",
          "2019-02-01T00:00:00.000000000",
          "2019-01-01T00:00:00.000000000",
          "2018-12-01T00:00:00.000000000",
          "2018-11-01T00:00:00.000000000",
          "2018-10-01T00:00:00.000000000",
          "2018-09-01T00:00:00.000000000",
          "2018-08-01T00:00:00.000000000",
          "2018-07-01T00:00:00.000000000",
          "2018-06-01T00:00:00.000000000",
          "2018-05-01T00:00:00.000000000",
          "2018-04-01T00:00:00.000000000",
          "2018-03-01T00:00:00.000000000",
          "2018-02-01T00:00:00.000000000",
          "2018-01-01T00:00:00.000000000",
          "2017-12-01T00:00:00.000000000",
          "2017-11-01T00:00:00.000000000"
         ],
         "xaxis": "x",
         "y": {
          "bdata": "AAAAAADQgUDsUbgehf+BQAAAAAAAQINAuB6F61GchUAK16NwPRKGQI/C9ShcPYNAAAAAAADqgUCamZmZmQeBQM3MzMzMRH9AmpmZmZmRgEAAAAAAAOSDQGZmZmZmQIJAAAAAAADagUBmZmZmZkp/QJqZmZmZnXZAZmZmZmZuc0DNzMzMzJhxQDMzMzMz425AmpmZmZmBa0AzMzMzM5NqQDMzMzMzQ2xAzczMzMzMbkBmZmZmZoZwQGZmZmZmBnRAAAAAAABMdEBmZmZmZhpzQM3MzMzMZHNAmpmZmZmhcUAAAAAAAFBwQGZmZmZmQnRAmpmZmZmVckCamZmZmWVxQM3MzMzMCHNAAAAAAAAccEBmZmZmZr5vQDMzMzMzw3NAZmZmZmYiekBmZmZmZl55QDMzMzMzB3hAMzMzMzMve0AAAAAAAMyBQDMzMzMzbYJAAAAAAADQfEAzMzMzM+95QEjhehSuH3pAXI/C9SiUckCPwvUoXJN0QKRwPQrXO3xArkfhehRafUDD9Shcj25wQArXo3A9gmhAcT0K16OQRECuR+F6FK5AQNejcD0Klz5AhetRuB4FPUAzMzMzM7M5QMP1KFyPgjVA9ihcj8L1MUAAAAAAAIAwQM3MzMzMDDBAmpmZmZkZLkCkcD0K1yMsQDMzMzMzczZAXI/C9SjcL0AAAAAAAAAsQNejcD0K1zFAzczMzMwMMkCkcD0K1+MyQOF6FK5HYTpASOF6FK5HPUAUrkfhehRBQKRwPQrX4zpAH4XrUbjeNEBxPQrXo/ArQOxRuB6FayFAKVyPwvUoGUB7FK5H4XoVQAAAAAAAAB1AuB6F61E4JECamZmZmZkkQAAAAAAAACdAhetRuB6FKkBSuB6F69EuQOF6FK5H4StAMzMzMzMzKkAAAAAAAAAmQFyPwvUoXCFAPQrXo3B9MEBcj8L1KFwaQJqZmZmZmfU/",
          "dtype": "f8"
         },
         "yaxis": "y"
        },
        {
         "hovertemplate": "Cryptocurrency=SOL/USDT<br>Date=%{x}<br>Price (USD)=%{y}<extra></extra>",
         "legendgroup": "SOL/USDT",
         "line": {
          "color": "#ab63fa",
          "dash": "solid"
         },
         "marker": {
          "symbol": "circle"
         },
         "mode": "lines",
         "name": "SOL/USDT",
         "orientation": "v",
         "showlegend": true,
         "type": "scatter",
         "x": [
          "2025-04-01T00:00:00.000000000",
          "2025-03-01T00:00:00.000000000",
          "2025-02-01T00:00:00.000000000",
          "2025-01-01T00:00:00.000000000",
          "2024-12-01T00:00:00.000000000",
          "2024-11-01T00:00:00.000000000",
          "2024-10-01T00:00:00.000000000",
          "2024-09-01T00:00:00.000000000",
          "2024-08-01T00:00:00.000000000",
          "2024-07-01T00:00:00.000000000",
          "2024-06-01T00:00:00.000000000",
          "2024-05-01T00:00:00.000000000",
          "2024-04-01T00:00:00.000000000",
          "2024-03-01T00:00:00.000000000",
          "2024-02-01T00:00:00.000000000",
          "2024-01-01T00:00:00.000000000",
          "2023-12-01T00:00:00.000000000",
          "2023-11-01T00:00:00.000000000",
          "2023-10-01T00:00:00.000000000",
          "2023-09-01T00:00:00.000000000",
          "2023-08-01T00:00:00.000000000",
          "2023-07-01T00:00:00.000000000",
          "2023-06-01T00:00:00.000000000",
          "2023-05-01T00:00:00.000000000",
          "2023-04-01T00:00:00.000000000",
          "2023-03-01T00:00:00.000000000",
          "2023-02-01T00:00:00.000000000",
          "2023-01-01T00:00:00.000000000",
          "2022-12-01T00:00:00.000000000",
          "2022-11-01T00:00:00.000000000",
          "2022-10-01T00:00:00.000000000",
          "2022-09-01T00:00:00.000000000",
          "2022-08-01T00:00:00.000000000",
          "2022-07-01T00:00:00.000000000",
          "2022-06-01T00:00:00.000000000",
          "2022-05-01T00:00:00.000000000",
          "2022-04-01T00:00:00.000000000",
          "2022-03-01T00:00:00.000000000",
          "2022-02-01T00:00:00.000000000",
          "2022-01-01T00:00:00.000000000",
          "2021-12-01T00:00:00.000000000",
          "2021-11-01T00:00:00.000000000",
          "2021-10-01T00:00:00.000000000",
          "2021-09-01T00:00:00.000000000",
          "2021-08-01T00:00:00.000000000",
          "2021-07-01T00:00:00.000000000",
          "2021-06-01T00:00:00.000000000",
          "2021-05-01T00:00:00.000000000",
          "2021-04-01T00:00:00.000000000",
          "2021-03-01T00:00:00.000000000",
          "2021-02-01T00:00:00.000000000",
          "2021-01-01T00:00:00.000000000",
          "2020-12-01T00:00:00.000000000",
          "2020-11-01T00:00:00.000000000",
          "2020-10-01T00:00:00.000000000",
          "2020-09-01T00:00:00.000000000",
          "2020-08-01T00:00:00.000000000"
         ],
         "xaxis": "x",
         "y": {
          "bdata": "uB6F61GIX0D2KFyPwj1iQAAAAAAAoGZA7FG4HoULbUBcj8L1KGRqQAAAAAAAOGpASOF6FK7HY0AUrkfhepxhQGZmZmZmrmFASOF6FK6vY0CamZmZmZliQPYoXI/CNWNAj8L1KFwHZEB7FK5H4bJjQHE9CtejcFxAH4XrUbh+WEAfhetRuB5XQAAAAAAAgEpASOF6FK7HPUBSuB6F65EzQOF6FK5HYTZAhetRuB4FOUDNzMzMzIwxQHE9Ctej8DRA7FG4HoXrNkAzMzMzM/MzQGZmZmZmZjdAPQrXo3A9MkD2KFyPwvUmQFyPwvUo3DhA7FG4HoWrPkDhehSuR0FBQLgehetRmENA7FG4HoXLQ0AfhetRuP5BQKRwPQrXk1BAPQrXo3AtXECF61G4HuVZQClcj8L1qFhA9ihcj8JFYEDD9Shcj3JoQD0K16NwjWtAcT0K16NIZkCuR+F6FB5kQK5H4XoUTlRAmpmZmZkZPkC4HoXrURhAQAAAAAAAYENAH4XrUbi+QECkcD0K12MwQFK4HoXrUSZAMzMzMzMzCUAUrkfhehT6Pz0K16NwPf4/MzMzMzMzAUApXI/C9SgMQHsUrkfheg5A",
          "dtype": "f8"
         },
         "yaxis": "y"
        }
       ],
       "layout": {
        "font": {
         "family": "IBM Plex Sans"
        },
        "hovermode": "x unified",
        "legend": {
         "title": {
          "text": "Cryptocurrency"
         },
         "tracegroupgap": 0,
         "x": 0.01,
         "xanchor": "left",
         "y": 0.99,
         "yanchor": "top"
        },
        "template": {
         "data": {
          "bar": [
           {
            "error_x": {
             "color": "#f2f5fa"
            },
            "error_y": {
             "color": "#f2f5fa"
            },
            "marker": {
             "line": {
              "color": "rgb(17,17,17)",
              "width": 0.5
             },
             "pattern": {
              "fillmode": "overlay",
              "size": 10,
              "solidity": 0.2
             }
            },
            "type": "bar"
           }
          ],
          "barpolar": [
           {
            "marker": {
             "line": {
              "color": "rgb(17,17,17)",
              "width": 0.5
             },
             "pattern": {
              "fillmode": "overlay",
              "size": 10,
              "solidity": 0.2
             }
            },
            "type": "barpolar"
           }
          ],
          "carpet": [
           {
            "aaxis": {
             "endlinecolor": "#A2B1C6",
             "gridcolor": "#506784",
             "linecolor": "#506784",
             "minorgridcolor": "#506784",
             "startlinecolor": "#A2B1C6"
            },
            "baxis": {
             "endlinecolor": "#A2B1C6",
             "gridcolor": "#506784",
             "linecolor": "#506784",
             "minorgridcolor": "#506784",
             "startlinecolor": "#A2B1C6"
            },
            "type": "carpet"
           }
          ],
          "choropleth": [
           {
            "colorbar": {
             "outlinewidth": 0,
             "ticks": ""
            },
            "type": "choropleth"
           }
          ],
          "contour": [
           {
            "colorbar": {
             "outlinewidth": 0,
             "ticks": ""
            },
            "colorscale": [
             [
              0,
              "#0d0887"
             ],
             [
              0.1111111111111111,
              "#46039f"
             ],
             [
              0.2222222222222222,
              "#7201a8"
             ],
             [
              0.3333333333333333,
              "#9c179e"
             ],
             [
              0.4444444444444444,
              "#bd3786"
             ],
             [
              0.5555555555555556,
              "#d8576b"
             ],
             [
              0.6666666666666666,
              "#ed7953"
             ],
             [
              0.7777777777777778,
              "#fb9f3a"
             ],
             [
              0.8888888888888888,
              "#fdca26"
             ],
             [
              1,
              "#f0f921"
             ]
            ],
            "type": "contour"
           }
          ],
          "contourcarpet": [
           {
            "colorbar": {
             "outlinewidth": 0,
             "ticks": ""
            },
            "type": "contourcarpet"
           }
          ],
          "heatmap": [
           {
            "colorbar": {
             "outlinewidth": 0,
             "ticks": ""
            },
            "colorscale": [
             [
              0,
              "#0d0887"
             ],
             [
              0.1111111111111111,
              "#46039f"
             ],
             [
              0.2222222222222222,
              "#7201a8"
             ],
             [
              0.3333333333333333,
              "#9c179e"
             ],
             [
              0.4444444444444444,
              "#bd3786"
             ],
             [
              0.5555555555555556,
              "#d8576b"
             ],
             [
              0.6666666666666666,
              "#ed7953"
             ],
             [
              0.7777777777777778,
              "#fb9f3a"
             ],
             [
              0.8888888888888888,
              "#fdca26"
             ],
             [
              1,
              "#f0f921"
             ]
            ],
            "type": "heatmap"
           }
          ],
          "histogram": [
           {
            "marker": {
             "pattern": {
              "fillmode": "overlay",
              "size": 10,
              "solidity": 0.2
             }
            },
            "type": "histogram"
           }
          ],
          "histogram2d": [
           {
            "colorbar": {
             "outlinewidth": 0,
             "ticks": ""
            },
            "colorscale": [
             [
              0,
              "#0d0887"
             ],
             [
              0.1111111111111111,
              "#46039f"
             ],
             [
              0.2222222222222222,
              "#7201a8"
             ],
             [
              0.3333333333333333,
              "#9c179e"
             ],
             [
              0.4444444444444444,
              "#bd3786"
             ],
             [
              0.5555555555555556,
              "#d8576b"
             ],
             [
              0.6666666666666666,
              "#ed7953"
             ],
             [
              0.7777777777777778,
              "#fb9f3a"
             ],
             [
              0.8888888888888888,
              "#fdca26"
             ],
             [
              1,
              "#f0f921"
             ]
            ],
            "type": "histogram2d"
           }
          ],
          "histogram2dcontour": [
           {
            "colorbar": {
             "outlinewidth": 0,
             "ticks": ""
            },
            "colorscale": [
             [
              0,
              "#0d0887"
             ],
             [
              0.1111111111111111,
              "#46039f"
             ],
             [
              0.2222222222222222,
              "#7201a8"
             ],
             [
              0.3333333333333333,
              "#9c179e"
             ],
             [
              0.4444444444444444,
              "#bd3786"
             ],
             [
              0.5555555555555556,
              "#d8576b"
             ],
             [
              0.6666666666666666,
              "#ed7953"
             ],
             [
              0.7777777777777778,
              "#fb9f3a"
             ],
             [
              0.8888888888888888,
              "#fdca26"
             ],
             [
              1,
              "#f0f921"
             ]
            ],
            "type": "histogram2dcontour"
           }
          ],
          "mesh3d": [
           {
            "colorbar": {
             "outlinewidth": 0,
             "ticks": ""
            },
            "type": "mesh3d"
           }
          ],
          "parcoords": [
           {
            "line": {
             "colorbar": {
              "outlinewidth": 0,
              "ticks": ""
             }
            },
            "type": "parcoords"
           }
          ],
          "pie": [
           {
            "automargin": true,
            "type": "pie"
           }
          ],
          "scatter": [
           {
            "marker": {
             "line": {
              "color": "#283442"
             }
            },
            "type": "scatter"
           }
          ],
          "scatter3d": [
           {
            "line": {
             "colorbar": {
              "outlinewidth": 0,
              "ticks": ""
             }
            },
            "marker": {
             "colorbar": {
              "outlinewidth": 0,
              "ticks": ""
             }
            },
            "type": "scatter3d"
           }
          ],
          "scattercarpet": [
           {
            "marker": {
             "colorbar": {
              "outlinewidth": 0,
              "ticks": ""
             }
            },
            "type": "scattercarpet"
           }
          ],
          "scattergeo": [
           {
            "marker": {
             "colorbar": {
              "outlinewidth": 0,
              "ticks": ""
             }
            },
            "type": "scattergeo"
           }
          ],
          "scattergl": [
           {
            "marker": {
             "line": {
              "color": "#283442"
             }
            },
            "type": "scattergl"
           }
          ],
          "scattermap": [
           {
            "marker": {
             "colorbar": {
              "outlinewidth": 0,
              "ticks": ""
             }
            },
            "type": "scattermap"
           }
          ],
          "scattermapbox": [
           {
            "marker": {
             "colorbar": {
              "outlinewidth": 0,
              "ticks": ""
             }
            },
            "type": "scattermapbox"
           }
          ],
          "scatterpolar": [
           {
            "marker": {
             "colorbar": {
              "outlinewidth": 0,
              "ticks": ""
             }
            },
            "type": "scatterpolar"
           }
          ],
          "scatterpolargl": [
           {
            "marker": {
             "colorbar": {
              "outlinewidth": 0,
              "ticks": ""
             }
            },
            "type": "scatterpolargl"
           }
          ],
          "scatterternary": [
           {
            "marker": {
             "colorbar": {
              "outlinewidth": 0,
              "ticks": ""
             }
            },
            "type": "scatterternary"
           }
          ],
          "surface": [
           {
            "colorbar": {
             "outlinewidth": 0,
             "ticks": ""
            },
            "colorscale": [
             [
              0,
              "#0d0887"
             ],
             [
              0.1111111111111111,
              "#46039f"
             ],
             [
              0.2222222222222222,
              "#7201a8"
             ],
             [
              0.3333333333333333,
              "#9c179e"
             ],
             [
              0.4444444444444444,
              "#bd3786"
             ],
             [
              0.5555555555555556,
              "#d8576b"
             ],
             [
              0.6666666666666666,
              "#ed7953"
             ],
             [
              0.7777777777777778,
              "#fb9f3a"
             ],
             [
              0.8888888888888888,
              "#fdca26"
             ],
             [
              1,
              "#f0f921"
             ]
            ],
            "type": "surface"
           }
          ],
          "table": [
           {
            "cells": {
             "fill": {
              "color": "#506784"
             },
             "line": {
              "color": "rgb(17,17,17)"
             }
            },
            "header": {
             "fill": {
              "color": "#2a3f5f"
             },
             "line": {
              "color": "rgb(17,17,17)"
             }
            },
            "type": "table"
           }
          ]
         },
         "layout": {
          "annotationdefaults": {
           "arrowcolor": "#f2f5fa",
           "arrowhead": 0,
           "arrowwidth": 1
          },
          "autotypenumbers": "strict",
          "coloraxis": {
           "colorbar": {
            "outlinewidth": 0,
            "ticks": ""
           }
          },
          "colorscale": {
           "diverging": [
            [
             0,
             "#8e0152"
            ],
            [
             0.1,
             "#c51b7d"
            ],
            [
             0.2,
             "#de77ae"
            ],
            [
             0.3,
             "#f1b6da"
            ],
            [
             0.4,
             "#fde0ef"
            ],
            [
             0.5,
             "#f7f7f7"
            ],
            [
             0.6,
             "#e6f5d0"
            ],
            [
             0.7,
             "#b8e186"
            ],
            [
             0.8,
             "#7fbc41"
            ],
            [
             0.9,
             "#4d9221"
            ],
            [
             1,
             "#276419"
            ]
           ],
           "sequential": [
            [
             0,
             "#0d0887"
            ],
            [
             0.1111111111111111,
             "#46039f"
            ],
            [
             0.2222222222222222,
             "#7201a8"
            ],
            [
             0.3333333333333333,
             "#9c179e"
            ],
            [
             0.4444444444444444,
             "#bd3786"
            ],
            [
             0.5555555555555556,
             "#d8576b"
            ],
            [
             0.6666666666666666,
             "#ed7953"
            ],
            [
             0.7777777777777778,
             "#fb9f3a"
            ],
            [
             0.8888888888888888,
             "#fdca26"
            ],
            [
             1,
             "#f0f921"
            ]
           ],
           "sequentialminus": [
            [
             0,
             "#0d0887"
            ],
            [
             0.1111111111111111,
             "#46039f"
            ],
            [
             0.2222222222222222,
             "#7201a8"
            ],
            [
             0.3333333333333333,
             "#9c179e"
            ],
            [
             0.4444444444444444,
             "#bd3786"
            ],
            [
             0.5555555555555556,
             "#d8576b"
            ],
            [
             0.6666666666666666,
             "#ed7953"
            ],
            [
             0.7777777777777778,
             "#fb9f3a"
            ],
            [
             0.8888888888888888,
             "#fdca26"
            ],
            [
             1,
             "#f0f921"
            ]
           ]
          },
          "colorway": [
           "#636efa",
           "#EF553B",
           "#00cc96",
           "#ab63fa",
           "#FFA15A",
           "#19d3f3",
           "#FF6692",
           "#B6E880",
           "#FF97FF",
           "#FECB52"
          ],
          "font": {
           "color": "#f2f5fa"
          },
          "geo": {
           "bgcolor": "rgb(17,17,17)",
           "lakecolor": "rgb(17,17,17)",
           "landcolor": "rgb(17,17,17)",
           "showlakes": true,
           "showland": true,
           "subunitcolor": "#506784"
          },
          "hoverlabel": {
           "align": "left"
          },
          "hovermode": "closest",
          "mapbox": {
           "style": "dark"
          },
          "paper_bgcolor": "rgb(17,17,17)",
          "plot_bgcolor": "rgb(17,17,17)",
          "polar": {
           "angularaxis": {
            "gridcolor": "#506784",
            "linecolor": "#506784",
            "ticks": ""
           },
           "bgcolor": "rgb(17,17,17)",
           "radialaxis": {
            "gridcolor": "#506784",
            "linecolor": "#506784",
            "ticks": ""
           }
          },
          "scene": {
           "xaxis": {
            "backgroundcolor": "rgb(17,17,17)",
            "gridcolor": "#506784",
            "gridwidth": 2,
            "linecolor": "#506784",
            "showbackground": true,
            "ticks": "",
            "zerolinecolor": "#C8D4E3"
           },
           "yaxis": {
            "backgroundcolor": "rgb(17,17,17)",
            "gridcolor": "#506784",
            "gridwidth": 2,
            "linecolor": "#506784",
            "showbackground": true,
            "ticks": "",
            "zerolinecolor": "#C8D4E3"
           },
           "zaxis": {
            "backgroundcolor": "rgb(17,17,17)",
            "gridcolor": "#506784",
            "gridwidth": 2,
            "linecolor": "#506784",
            "showbackground": true,
            "ticks": "",
            "zerolinecolor": "#C8D4E3"
           }
          },
          "shapedefaults": {
           "line": {
            "color": "#f2f5fa"
           }
          },
          "sliderdefaults": {
           "bgcolor": "#C8D4E3",
           "bordercolor": "rgb(17,17,17)",
           "borderwidth": 1,
           "tickwidth": 0
          },
          "ternary": {
           "aaxis": {
            "gridcolor": "#506784",
            "linecolor": "#506784",
            "ticks": ""
           },
           "baxis": {
            "gridcolor": "#506784",
            "linecolor": "#506784",
            "ticks": ""
           },
           "bgcolor": "rgb(17,17,17)",
           "caxis": {
            "gridcolor": "#506784",
            "linecolor": "#506784",
            "ticks": ""
           }
          },
          "title": {
           "x": 0.05
          },
          "updatemenudefaults": {
           "bgcolor": "#506784",
           "borderwidth": 0
          },
          "xaxis": {
           "automargin": true,
           "gridcolor": "#283442",
           "linecolor": "#506784",
           "ticks": "",
           "title": {
            "standoff": 15
           },
           "zerolinecolor": "#283442",
           "zerolinewidth": 2
          },
          "yaxis": {
           "automargin": true,
           "gridcolor": "#283442",
           "linecolor": "#506784",
           "ticks": "",
           "title": {
            "standoff": 15
           },
           "zerolinecolor": "#283442",
           "zerolinewidth": 2
          }
         }
        },
        "title": {
         "text": "Cryptocurrency Price Evolution (Monthly Average)"
        },
        "xaxis": {
         "anchor": "y",
         "domain": [
          0,
          1
         ],
         "rangeslider": {
          "visible": true
         },
         "title": {
          "text": "Date"
         }
        },
        "yaxis": {
         "anchor": "x",
         "domain": [
          0,
          1
         ],
         "title": {
          "text": "Price (USD)"
         }
        }
       }
      }
     },
     "metadata": {},
     "output_type": "display_data"
    }
   ],
   "source": [
    "#%% Creating Interactive Price Growth Graph\n",
    "\n",
    "# Convert Period to datetime for plotting\n",
    "crypto_monthly_avg['timestamp'] = crypto_monthly_avg['timestamp'].astype(str).apply(lambda x: pd.to_datetime(x))\n",
    "\n",
    "# Create the figure\n",
    "fig = px.line(\n",
    "    crypto_monthly_avg,\n",
    "    x='timestamp',\n",
    "    y='average_price',\n",
    "    color='symbols',\n",
    "    title='Cryptocurrency Price Growth (Monthly Average)',\n",
    "    labels={\n",
    "        'timestamp': 'Date',\n",
    "        'average_price': 'Price (USD)',\n",
    "        'symbols': 'Cryptocurrency'\n",
    "    }\n",
    ")\n",
    "\n",
    "# Customize the layout\n",
    "fig.update_layout(\n",
    "    template='plotly_dark',\n",
    "    hovermode='x unified',\n",
    "    font_family=\"IBM Plex Sans\",\n",
    "    legend=dict(\n",
    "        yanchor=\"top\",\n",
    "        y=0.99,\n",
    "        xanchor=\"left\",\n",
    "        x=0.01\n",
    "    ),\n",
    "    xaxis_title=\"Date\",\n",
    "    yaxis_title=\"Price (USD)\",\n",
    ")\n",
    "\n",
    "# Add range slider\n",
    "fig.update_xaxes(rangeslider_visible=True)\n",
    "\n",
    "# Show the plot\n",
    "fig.show()"
   ]
  },
  {
   "cell_type": "markdown",
   "id": "7acf3678",
   "metadata": {},
   "source": [
    "# **Cryptocurrency Relative Price Performance Analysis**\n",
    "Each cryptocurrency price was normalized to 100% from July 2020 to enable direct comparison of growth rates."
   ]
  },
  {
   "cell_type": "code",
   "execution_count": 6,
   "id": "cedd52ac",
   "metadata": {},
   "outputs": [
    {
     "name": "stdout",
     "output_type": "stream",
     "text": [
      "\n",
      "First month values (should be 100%):\n",
      "symbols\n",
      "BTC/USDT    100.0\n",
      "ETH/USDT    100.0\n",
      "BNB/USDT    100.0\n",
      "SOL/USDT    100.0\n",
      "Name: normalized_price, dtype: float64\n"
     ]
    },
    {
     "name": "stderr",
     "output_type": "stream",
     "text": [
      "C:\\Users\\Matheus\\AppData\\Local\\Temp\\ipykernel_19036\\1953776692.py:17: FutureWarning:\n",
      "\n",
      "The default of observed=False is deprecated and will be changed to True in a future version of pandas. Pass observed=False to retain current behavior or observed=True to adopt the future default and silence this warning.\n",
      "\n",
      "C:\\Users\\Matheus\\AppData\\Local\\Temp\\ipykernel_19036\\1953776692.py:27: FutureWarning:\n",
      "\n",
      "The default of observed=False is deprecated and will be changed to True in a future version of pandas. Pass observed=False to retain current behavior or observed=True to adopt the future default and silence this warning.\n",
      "\n"
     ]
    }
   ],
   "source": [
    "#%% Creating Normalized Price Data\n",
    "\n",
    "# Create a copy of the DataFrame to avoid modifying the original\n",
    "normalized_df = crypto_monthly_avg.copy()\n",
    "\n",
    "# Convert timestamp to datetime if not already\n",
    "normalized_df['timestamp'] = pd.to_datetime(normalized_df['timestamp'])\n",
    "\n",
    "# Filter data starting from July 2020\n",
    "start_date = pd.to_datetime('2020-07-01')\n",
    "normalized_df = normalized_df[normalized_df['timestamp'] >= start_date]\n",
    "\n",
    "# Sort by timestamp ascending to get correct base prices\n",
    "normalized_df = normalized_df.sort_values(['symbols', 'timestamp'], ascending=[True, True])\n",
    "\n",
    "# Get the first value for each symbol (July 2020)\n",
    "base_values = normalized_df.groupby('symbols').first()['average_price']\n",
    "\n",
    "# Calculate normalized prices (July 2020 = 100%)\n",
    "normalized_df['normalized_price'] = normalized_df.apply(\n",
    "    lambda x: (x['average_price'] / base_values[x['symbols']]) * 100,\n",
    "    axis=1\n",
    ")\n",
    "\n",
    "# Verify the first month is 100% for each symbol\n",
    "print(\"\\nFirst month values (should be 100%):\")\n",
    "print(normalized_df.groupby('symbols')['normalized_price'].first())"
   ]
  },
  {
   "cell_type": "code",
   "execution_count": 7,
   "id": "8c3b45ba",
   "metadata": {},
   "outputs": [
    {
     "data": {
      "application/vnd.plotly.v1+json": {
       "config": {
        "plotlyServerURL": "https://plot.ly"
       },
       "data": [
        {
         "hovertemplate": "Cryptocurrency=BTC/USDT<br>Date=%{x}<br>Price Change (%)=%{y}<extra></extra>",
         "legendgroup": "BTC/USDT",
         "line": {
          "color": "#636efa",
          "dash": "solid"
         },
         "marker": {
          "symbol": "circle"
         },
         "mode": "lines",
         "name": "BTC/USDT",
         "orientation": "v",
         "showlegend": true,
         "type": "scatter",
         "x": [
          "2020-07-01T00:00:00.000000000",
          "2020-08-01T00:00:00.000000000",
          "2020-09-01T00:00:00.000000000",
          "2020-10-01T00:00:00.000000000",
          "2020-11-01T00:00:00.000000000",
          "2020-12-01T00:00:00.000000000",
          "2021-01-01T00:00:00.000000000",
          "2021-02-01T00:00:00.000000000",
          "2021-03-01T00:00:00.000000000",
          "2021-04-01T00:00:00.000000000",
          "2021-05-01T00:00:00.000000000",
          "2021-06-01T00:00:00.000000000",
          "2021-07-01T00:00:00.000000000",
          "2021-08-01T00:00:00.000000000",
          "2021-09-01T00:00:00.000000000",
          "2021-10-01T00:00:00.000000000",
          "2021-11-01T00:00:00.000000000",
          "2021-12-01T00:00:00.000000000",
          "2022-01-01T00:00:00.000000000",
          "2022-02-01T00:00:00.000000000",
          "2022-03-01T00:00:00.000000000",
          "2022-04-01T00:00:00.000000000",
          "2022-05-01T00:00:00.000000000",
          "2022-06-01T00:00:00.000000000",
          "2022-07-01T00:00:00.000000000",
          "2022-08-01T00:00:00.000000000",
          "2022-09-01T00:00:00.000000000",
          "2022-10-01T00:00:00.000000000",
          "2022-11-01T00:00:00.000000000",
          "2022-12-01T00:00:00.000000000",
          "2023-01-01T00:00:00.000000000",
          "2023-02-01T00:00:00.000000000",
          "2023-03-01T00:00:00.000000000",
          "2023-04-01T00:00:00.000000000",
          "2023-05-01T00:00:00.000000000",
          "2023-06-01T00:00:00.000000000",
          "2023-07-01T00:00:00.000000000",
          "2023-08-01T00:00:00.000000000",
          "2023-09-01T00:00:00.000000000",
          "2023-10-01T00:00:00.000000000",
          "2023-11-01T00:00:00.000000000",
          "2023-12-01T00:00:00.000000000",
          "2024-01-01T00:00:00.000000000",
          "2024-02-01T00:00:00.000000000",
          "2024-03-01T00:00:00.000000000",
          "2024-04-01T00:00:00.000000000",
          "2024-05-01T00:00:00.000000000",
          "2024-06-01T00:00:00.000000000",
          "2024-07-01T00:00:00.000000000",
          "2024-08-01T00:00:00.000000000",
          "2024-09-01T00:00:00.000000000",
          "2024-10-01T00:00:00.000000000",
          "2024-11-01T00:00:00.000000000",
          "2024-12-01T00:00:00.000000000",
          "2025-01-01T00:00:00.000000000",
          "2025-02-01T00:00:00.000000000",
          "2025-03-01T00:00:00.000000000",
          "2025-04-01T00:00:00.000000000"
         ],
         "xaxis": "x",
         "y": {
          "bdata": "AAAAAAAAWUBnRSjCxkFcQEgDQV1B5FpAvHsCRuMVXkDnju9ap1FkQG/FO25Iz2xAJi7MmXyJdUBD80ibu9t7QIj3kVz8aIBACUEl5kEtgUCVRJjfVoF7QGTHUFXQjXVA6RxfA/wKdkBDU2h3Kv56QMRoIHXvbnxAIMzXyTbygEAqPix6OMmCQCuZXwlUDn9AcXTd/03deEDKqUcBNaF4QB1IDX9vOnpAAjDCwA8hekDKzsXxb4F0QHecA2ZCfW5ApEZmDqG0akCPIcNrZn5rQDbuZox6J2lAXl2QZ9sjaEAjreEfEbdmQAxdnes2S2VAPy6F4T7eaEAFohuQmqRsQEqR4m4t9G1Acm0XoJrOcUCxYDB4whhxQDdizn0ASHFAYGPnF9ukckD0sl4iVgdxQFjsPvxPGXBA5pcpVYj/ckCxkZJ+m0t2QCsCuAwiTHlAWvLJu+rlekBEyNb5LUWAQHcMIfZBZ4RAmslmQhZIhEC/yrZkEcCDQJW1IaaECYRA+H1GULn8gkC5J2LaYZ6BQDxGUIYAS4JAuWNv/MNehEACibXEmJKJQBaPmHJMjo5A8CGsqfiNjkA6il3VrNGLQOsV/xt7XopAoAP9UMUpikA=",
          "dtype": "f8"
         },
         "yaxis": "y"
        },
        {
         "hovertemplate": "Cryptocurrency=ETH/USDT<br>Date=%{x}<br>Price Change (%)=%{y}<extra></extra>",
         "legendgroup": "ETH/USDT",
         "line": {
          "color": "#EF553B",
          "dash": "solid"
         },
         "marker": {
          "symbol": "circle"
         },
         "mode": "lines",
         "name": "ETH/USDT",
         "orientation": "v",
         "showlegend": true,
         "type": "scatter",
         "x": [
          "2020-07-01T00:00:00.000000000",
          "2020-08-01T00:00:00.000000000",
          "2020-09-01T00:00:00.000000000",
          "2020-10-01T00:00:00.000000000",
          "2020-11-01T00:00:00.000000000",
          "2020-12-01T00:00:00.000000000",
          "2021-01-01T00:00:00.000000000",
          "2021-02-01T00:00:00.000000000",
          "2021-03-01T00:00:00.000000000",
          "2021-04-01T00:00:00.000000000",
          "2021-05-01T00:00:00.000000000",
          "2021-06-01T00:00:00.000000000",
          "2021-07-01T00:00:00.000000000",
          "2021-08-01T00:00:00.000000000",
          "2021-09-01T00:00:00.000000000",
          "2021-10-01T00:00:00.000000000",
          "2021-11-01T00:00:00.000000000",
          "2021-12-01T00:00:00.000000000",
          "2022-01-01T00:00:00.000000000",
          "2022-02-01T00:00:00.000000000",
          "2022-03-01T00:00:00.000000000",
          "2022-04-01T00:00:00.000000000",
          "2022-05-01T00:00:00.000000000",
          "2022-06-01T00:00:00.000000000",
          "2022-07-01T00:00:00.000000000",
          "2022-08-01T00:00:00.000000000",
          "2022-09-01T00:00:00.000000000",
          "2022-10-01T00:00:00.000000000",
          "2022-11-01T00:00:00.000000000",
          "2022-12-01T00:00:00.000000000",
          "2023-01-01T00:00:00.000000000",
          "2023-02-01T00:00:00.000000000",
          "2023-03-01T00:00:00.000000000",
          "2023-04-01T00:00:00.000000000",
          "2023-05-01T00:00:00.000000000",
          "2023-06-01T00:00:00.000000000",
          "2023-07-01T00:00:00.000000000",
          "2023-08-01T00:00:00.000000000",
          "2023-09-01T00:00:00.000000000",
          "2023-10-01T00:00:00.000000000",
          "2023-11-01T00:00:00.000000000",
          "2023-12-01T00:00:00.000000000",
          "2024-01-01T00:00:00.000000000",
          "2024-02-01T00:00:00.000000000",
          "2024-03-01T00:00:00.000000000",
          "2024-04-01T00:00:00.000000000",
          "2024-05-01T00:00:00.000000000",
          "2024-06-01T00:00:00.000000000",
          "2024-07-01T00:00:00.000000000",
          "2024-08-01T00:00:00.000000000",
          "2024-09-01T00:00:00.000000000",
          "2024-10-01T00:00:00.000000000",
          "2024-11-01T00:00:00.000000000",
          "2024-12-01T00:00:00.000000000",
          "2025-01-01T00:00:00.000000000",
          "2025-02-01T00:00:00.000000000",
          "2025-03-01T00:00:00.000000000",
          "2025-04-01T00:00:00.000000000"
         ],
         "xaxis": "x",
         "y": {
          "bdata": "AAAAAAAAWUC2SUoC4NZgQAlbSLWzaWFAHDly5MhxYEA85qcGe7FlQBLdJysNKGxAPqCJpW/od0AXU+9wBhaCQEyYMGHCVIJAygTlgG+SiUAdXgWdXqiQQEdI/tdmE4lAMD4z1INCh0BzMPMKXyiQQGZd3weiPJJAMkA33JNIlEAt7f5GIPmXQB3xT3utnJZA4AqodDKLkEAy1YXC8nyOQJxdBJtaLpBALKDSydwrkUAjR44cOX6JQOj2NgAlK39AQTrin/Z6fkBxdQ9oYtmCQM7lXeAJboBAAQQIECAof0AcO3bs2BF+QKsyHKYnVntASyp5OwlXf0BQVxwU33+BQCfh5hbAnIFAGDFixIhRhUDmzJkzZ4aEQDe5BC6lhINAwqmcy7sMhUB0oK44KLqCQEaNGjVqnIFAZaYDdcV9gkAgi6h1NF+FQIw+xh5ihYhAEUrdTL5NikDiD7KIWnePQI5D0DKKhZNAZ2DlE7r4kUBqQ2J7ZIySQJK3k3BzdZNAie6TlQZmkUARs4peTzuNQAIFChQopIpAQoYMGTK8i0CGMKrm8aSQQAUwqeTtrpNA4sOHDx8ykkCfrjgovoeNQFWtWrVqgYdAVDubf5E/gkA=",
          "dtype": "f8"
         },
         "yaxis": "y"
        },
        {
         "hovertemplate": "Cryptocurrency=BNB/USDT<br>Date=%{x}<br>Price Change (%)=%{y}<extra></extra>",
         "legendgroup": "BNB/USDT",
         "line": {
          "color": "#00cc96",
          "dash": "solid"
         },
         "marker": {
          "symbol": "circle"
         },
         "mode": "lines",
         "name": "BNB/USDT",
         "orientation": "v",
         "showlegend": true,
         "type": "scatter",
         "x": [
          "2020-07-01T00:00:00.000000000",
          "2020-08-01T00:00:00.000000000",
          "2020-09-01T00:00:00.000000000",
          "2020-10-01T00:00:00.000000000",
          "2020-11-01T00:00:00.000000000",
          "2020-12-01T00:00:00.000000000",
          "2021-01-01T00:00:00.000000000",
          "2021-02-01T00:00:00.000000000",
          "2021-03-01T00:00:00.000000000",
          "2021-04-01T00:00:00.000000000",
          "2021-05-01T00:00:00.000000000",
          "2021-06-01T00:00:00.000000000",
          "2021-07-01T00:00:00.000000000",
          "2021-08-01T00:00:00.000000000",
          "2021-09-01T00:00:00.000000000",
          "2021-10-01T00:00:00.000000000",
          "2021-11-01T00:00:00.000000000",
          "2021-12-01T00:00:00.000000000",
          "2022-01-01T00:00:00.000000000",
          "2022-02-01T00:00:00.000000000",
          "2022-03-01T00:00:00.000000000",
          "2022-04-01T00:00:00.000000000",
          "2022-05-01T00:00:00.000000000",
          "2022-06-01T00:00:00.000000000",
          "2022-07-01T00:00:00.000000000",
          "2022-08-01T00:00:00.000000000",
          "2022-09-01T00:00:00.000000000",
          "2022-10-01T00:00:00.000000000",
          "2022-11-01T00:00:00.000000000",
          "2022-12-01T00:00:00.000000000",
          "2023-01-01T00:00:00.000000000",
          "2023-02-01T00:00:00.000000000",
          "2023-03-01T00:00:00.000000000",
          "2023-04-01T00:00:00.000000000",
          "2023-05-01T00:00:00.000000000",
          "2023-06-01T00:00:00.000000000",
          "2023-07-01T00:00:00.000000000",
          "2023-08-01T00:00:00.000000000",
          "2023-09-01T00:00:00.000000000",
          "2023-10-01T00:00:00.000000000",
          "2023-11-01T00:00:00.000000000",
          "2023-12-01T00:00:00.000000000",
          "2024-01-01T00:00:00.000000000",
          "2024-02-01T00:00:00.000000000",
          "2024-03-01T00:00:00.000000000",
          "2024-04-01T00:00:00.000000000",
          "2024-05-01T00:00:00.000000000",
          "2024-06-01T00:00:00.000000000",
          "2024-07-01T00:00:00.000000000",
          "2024-08-01T00:00:00.000000000",
          "2024-09-01T00:00:00.000000000",
          "2024-10-01T00:00:00.000000000",
          "2024-11-01T00:00:00.000000000",
          "2024-12-01T00:00:00.000000000",
          "2025-01-01T00:00:00.000000000",
          "2025-02-01T00:00:00.000000000",
          "2025-03-01T00:00:00.000000000",
          "2025-04-01T00:00:00.000000000"
         ],
         "xaxis": "x",
         "y": {
          "bdata": "AAAAAAAAWUDTDmaNCPFdQO1g1ogQ42FA1Qot8ZkyZEA9lPyFVUplQJe3PhLgN2dAXlze+kigbEAb0FOt0A6RQO4fyOF035ZAaInPlLttpED4jccig6ajQBeXtz4SpJxAwC4ub33cmUBKP9HRkC6iQP7CKvXSDKJANqCnWqENpEC1g1kjQqapQCY+U+7exahAWSNCjIrrokBztsAuLrmgQG6+MmcLqKFApty9c3UwokB4rk72UIKbQD+Qw+nmF5ZAL+1g1ohslkCnm6/M2X6aQIXXBvRUN5hAMqgZk37emUDzlTlbYDOcQE25e+fqtJZAp5uvzNmKmEDcP5DD6f6aQEm9tINZl5pAkr+wSr1AnEDR0ZCC29+bQNFPdDSkAJdALm99JMBvlUCoGZN+oquTQC3xmXL3fpJApOD2D+Qkk0Bnyt07V3+VQNUKLfGZfphAeWkHs0YMm0B/oqMhBXufQB5K/sIqx6VALbCLy1vZqEDOFtjF5WepQFcneyj5r6tADKvUSzsQp0BRMyb9RMOlQE+1Qkt8tKdANqCnWqHvqEBUbMJrA8iqQNIOZo0Iua5Ao+D2D+QUrkD6ypwtsMuqQMjhdPOVDalAJzoaUnDLqEA=",
          "dtype": "f8"
         },
         "yaxis": "y"
        },
        {
         "hovertemplate": "Cryptocurrency=SOL/USDT<br>Date=%{x}<br>Price Change (%)=%{y}<extra></extra>",
         "legendgroup": "SOL/USDT",
         "line": {
          "color": "#ab63fa",
          "dash": "solid"
         },
         "marker": {
          "symbol": "circle"
         },
         "mode": "lines",
         "name": "SOL/USDT",
         "orientation": "v",
         "showlegend": true,
         "type": "scatter",
         "x": [
          "2020-08-01T00:00:00.000000000",
          "2020-09-01T00:00:00.000000000",
          "2020-10-01T00:00:00.000000000",
          "2020-11-01T00:00:00.000000000",
          "2020-12-01T00:00:00.000000000",
          "2021-01-01T00:00:00.000000000",
          "2021-02-01T00:00:00.000000000",
          "2021-03-01T00:00:00.000000000",
          "2021-04-01T00:00:00.000000000",
          "2021-05-01T00:00:00.000000000",
          "2021-06-01T00:00:00.000000000",
          "2021-07-01T00:00:00.000000000",
          "2021-08-01T00:00:00.000000000",
          "2021-09-01T00:00:00.000000000",
          "2021-10-01T00:00:00.000000000",
          "2021-11-01T00:00:00.000000000",
          "2021-12-01T00:00:00.000000000",
          "2022-01-01T00:00:00.000000000",
          "2022-02-01T00:00:00.000000000",
          "2022-03-01T00:00:00.000000000",
          "2022-04-01T00:00:00.000000000",
          "2022-05-01T00:00:00.000000000",
          "2022-06-01T00:00:00.000000000",
          "2022-07-01T00:00:00.000000000",
          "2022-08-01T00:00:00.000000000",
          "2022-09-01T00:00:00.000000000",
          "2022-10-01T00:00:00.000000000",
          "2022-11-01T00:00:00.000000000",
          "2022-12-01T00:00:00.000000000",
          "2023-01-01T00:00:00.000000000",
          "2023-02-01T00:00:00.000000000",
          "2023-03-01T00:00:00.000000000",
          "2023-04-01T00:00:00.000000000",
          "2023-05-01T00:00:00.000000000",
          "2023-06-01T00:00:00.000000000",
          "2023-07-01T00:00:00.000000000",
          "2023-08-01T00:00:00.000000000",
          "2023-09-01T00:00:00.000000000",
          "2023-10-01T00:00:00.000000000",
          "2023-11-01T00:00:00.000000000",
          "2023-12-01T00:00:00.000000000",
          "2024-01-01T00:00:00.000000000",
          "2024-02-01T00:00:00.000000000",
          "2024-03-01T00:00:00.000000000",
          "2024-04-01T00:00:00.000000000",
          "2024-05-01T00:00:00.000000000",
          "2024-06-01T00:00:00.000000000",
          "2024-07-01T00:00:00.000000000",
          "2024-08-01T00:00:00.000000000",
          "2024-09-01T00:00:00.000000000",
          "2024-10-01T00:00:00.000000000",
          "2024-11-01T00:00:00.000000000",
          "2024-12-01T00:00:00.000000000",
          "2025-01-01T00:00:00.000000000",
          "2025-02-01T00:00:00.000000000",
          "2025-03-01T00:00:00.000000000",
          "2025-04-01T00:00:00.000000000"
         ],
         "xaxis": "x",
         "y": {
          "bdata": "AAAAAAAAWUDGjXFj3BhXQI1xY9wYN0xAs9lsNpvNSEDZQXaQHWRFQGu1Wq1Wq1RA1Ol0Op1OckAIL8KL8OJ6QFaAFWAFeItAuofuoXvIj0DhcDgcDmeKQFwD18A1sIhARngRXoSnoEBagpagJYCwQAuwAqwAR7JA1BQ1RU2ZtkBWVVVVVQ20QIkZYoaYsapAP5/P5/M5pEBT1BQ1RT2lQJFIJBKJHKdA4Rq4Bq4xm0BJT9KT9ISNQOPGuDFuPJBA+Ca+iW8SkEAb48a4MU6MQFN+lB/lJ4lAKT/Kj/JjhED1T/1T/9RyQHq9Xq/X631ALBaLxWIxg0Cfz+fz+VyAQJPJZDKZzIJAm81ms9ksgUBCoVAoFMp8QLFYLBaLhYRAZrPZbDZbgkD70r60Lw2AQEvQErQEbYhA38Q38U28lUB+aV/al/aiQOp0Op1OF6RAdTqdTqdTp0CHw+FwOCiwQDAYDAaDbbBAETPEDDGDr0BhMBgMBoOuQIkZYoaYJbBAJpPJZDIBrUDOvDPvzOOsQH6UH+VHObBA/lP/1D+BtUCEF+FFeKW1QAErwAqw0rdAgOqf+qeOskDiRXgRXuytQPVP/VP/3KlA",
          "dtype": "f8"
         },
         "yaxis": "y"
        }
       ],
       "layout": {
        "font": {
         "family": "IBM Plex Sans"
        },
        "hovermode": "x unified",
        "legend": {
         "title": {
          "text": "Cryptocurrency"
         },
         "tracegroupgap": 0,
         "x": 0.01,
         "xanchor": "left",
         "y": 0.99,
         "yanchor": "top"
        },
        "template": {
         "data": {
          "bar": [
           {
            "error_x": {
             "color": "#f2f5fa"
            },
            "error_y": {
             "color": "#f2f5fa"
            },
            "marker": {
             "line": {
              "color": "rgb(17,17,17)",
              "width": 0.5
             },
             "pattern": {
              "fillmode": "overlay",
              "size": 10,
              "solidity": 0.2
             }
            },
            "type": "bar"
           }
          ],
          "barpolar": [
           {
            "marker": {
             "line": {
              "color": "rgb(17,17,17)",
              "width": 0.5
             },
             "pattern": {
              "fillmode": "overlay",
              "size": 10,
              "solidity": 0.2
             }
            },
            "type": "barpolar"
           }
          ],
          "carpet": [
           {
            "aaxis": {
             "endlinecolor": "#A2B1C6",
             "gridcolor": "#506784",
             "linecolor": "#506784",
             "minorgridcolor": "#506784",
             "startlinecolor": "#A2B1C6"
            },
            "baxis": {
             "endlinecolor": "#A2B1C6",
             "gridcolor": "#506784",
             "linecolor": "#506784",
             "minorgridcolor": "#506784",
             "startlinecolor": "#A2B1C6"
            },
            "type": "carpet"
           }
          ],
          "choropleth": [
           {
            "colorbar": {
             "outlinewidth": 0,
             "ticks": ""
            },
            "type": "choropleth"
           }
          ],
          "contour": [
           {
            "colorbar": {
             "outlinewidth": 0,
             "ticks": ""
            },
            "colorscale": [
             [
              0,
              "#0d0887"
             ],
             [
              0.1111111111111111,
              "#46039f"
             ],
             [
              0.2222222222222222,
              "#7201a8"
             ],
             [
              0.3333333333333333,
              "#9c179e"
             ],
             [
              0.4444444444444444,
              "#bd3786"
             ],
             [
              0.5555555555555556,
              "#d8576b"
             ],
             [
              0.6666666666666666,
              "#ed7953"
             ],
             [
              0.7777777777777778,
              "#fb9f3a"
             ],
             [
              0.8888888888888888,
              "#fdca26"
             ],
             [
              1,
              "#f0f921"
             ]
            ],
            "type": "contour"
           }
          ],
          "contourcarpet": [
           {
            "colorbar": {
             "outlinewidth": 0,
             "ticks": ""
            },
            "type": "contourcarpet"
           }
          ],
          "heatmap": [
           {
            "colorbar": {
             "outlinewidth": 0,
             "ticks": ""
            },
            "colorscale": [
             [
              0,
              "#0d0887"
             ],
             [
              0.1111111111111111,
              "#46039f"
             ],
             [
              0.2222222222222222,
              "#7201a8"
             ],
             [
              0.3333333333333333,
              "#9c179e"
             ],
             [
              0.4444444444444444,
              "#bd3786"
             ],
             [
              0.5555555555555556,
              "#d8576b"
             ],
             [
              0.6666666666666666,
              "#ed7953"
             ],
             [
              0.7777777777777778,
              "#fb9f3a"
             ],
             [
              0.8888888888888888,
              "#fdca26"
             ],
             [
              1,
              "#f0f921"
             ]
            ],
            "type": "heatmap"
           }
          ],
          "histogram": [
           {
            "marker": {
             "pattern": {
              "fillmode": "overlay",
              "size": 10,
              "solidity": 0.2
             }
            },
            "type": "histogram"
           }
          ],
          "histogram2d": [
           {
            "colorbar": {
             "outlinewidth": 0,
             "ticks": ""
            },
            "colorscale": [
             [
              0,
              "#0d0887"
             ],
             [
              0.1111111111111111,
              "#46039f"
             ],
             [
              0.2222222222222222,
              "#7201a8"
             ],
             [
              0.3333333333333333,
              "#9c179e"
             ],
             [
              0.4444444444444444,
              "#bd3786"
             ],
             [
              0.5555555555555556,
              "#d8576b"
             ],
             [
              0.6666666666666666,
              "#ed7953"
             ],
             [
              0.7777777777777778,
              "#fb9f3a"
             ],
             [
              0.8888888888888888,
              "#fdca26"
             ],
             [
              1,
              "#f0f921"
             ]
            ],
            "type": "histogram2d"
           }
          ],
          "histogram2dcontour": [
           {
            "colorbar": {
             "outlinewidth": 0,
             "ticks": ""
            },
            "colorscale": [
             [
              0,
              "#0d0887"
             ],
             [
              0.1111111111111111,
              "#46039f"
             ],
             [
              0.2222222222222222,
              "#7201a8"
             ],
             [
              0.3333333333333333,
              "#9c179e"
             ],
             [
              0.4444444444444444,
              "#bd3786"
             ],
             [
              0.5555555555555556,
              "#d8576b"
             ],
             [
              0.6666666666666666,
              "#ed7953"
             ],
             [
              0.7777777777777778,
              "#fb9f3a"
             ],
             [
              0.8888888888888888,
              "#fdca26"
             ],
             [
              1,
              "#f0f921"
             ]
            ],
            "type": "histogram2dcontour"
           }
          ],
          "mesh3d": [
           {
            "colorbar": {
             "outlinewidth": 0,
             "ticks": ""
            },
            "type": "mesh3d"
           }
          ],
          "parcoords": [
           {
            "line": {
             "colorbar": {
              "outlinewidth": 0,
              "ticks": ""
             }
            },
            "type": "parcoords"
           }
          ],
          "pie": [
           {
            "automargin": true,
            "type": "pie"
           }
          ],
          "scatter": [
           {
            "marker": {
             "line": {
              "color": "#283442"
             }
            },
            "type": "scatter"
           }
          ],
          "scatter3d": [
           {
            "line": {
             "colorbar": {
              "outlinewidth": 0,
              "ticks": ""
             }
            },
            "marker": {
             "colorbar": {
              "outlinewidth": 0,
              "ticks": ""
             }
            },
            "type": "scatter3d"
           }
          ],
          "scattercarpet": [
           {
            "marker": {
             "colorbar": {
              "outlinewidth": 0,
              "ticks": ""
             }
            },
            "type": "scattercarpet"
           }
          ],
          "scattergeo": [
           {
            "marker": {
             "colorbar": {
              "outlinewidth": 0,
              "ticks": ""
             }
            },
            "type": "scattergeo"
           }
          ],
          "scattergl": [
           {
            "marker": {
             "line": {
              "color": "#283442"
             }
            },
            "type": "scattergl"
           }
          ],
          "scattermap": [
           {
            "marker": {
             "colorbar": {
              "outlinewidth": 0,
              "ticks": ""
             }
            },
            "type": "scattermap"
           }
          ],
          "scattermapbox": [
           {
            "marker": {
             "colorbar": {
              "outlinewidth": 0,
              "ticks": ""
             }
            },
            "type": "scattermapbox"
           }
          ],
          "scatterpolar": [
           {
            "marker": {
             "colorbar": {
              "outlinewidth": 0,
              "ticks": ""
             }
            },
            "type": "scatterpolar"
           }
          ],
          "scatterpolargl": [
           {
            "marker": {
             "colorbar": {
              "outlinewidth": 0,
              "ticks": ""
             }
            },
            "type": "scatterpolargl"
           }
          ],
          "scatterternary": [
           {
            "marker": {
             "colorbar": {
              "outlinewidth": 0,
              "ticks": ""
             }
            },
            "type": "scatterternary"
           }
          ],
          "surface": [
           {
            "colorbar": {
             "outlinewidth": 0,
             "ticks": ""
            },
            "colorscale": [
             [
              0,
              "#0d0887"
             ],
             [
              0.1111111111111111,
              "#46039f"
             ],
             [
              0.2222222222222222,
              "#7201a8"
             ],
             [
              0.3333333333333333,
              "#9c179e"
             ],
             [
              0.4444444444444444,
              "#bd3786"
             ],
             [
              0.5555555555555556,
              "#d8576b"
             ],
             [
              0.6666666666666666,
              "#ed7953"
             ],
             [
              0.7777777777777778,
              "#fb9f3a"
             ],
             [
              0.8888888888888888,
              "#fdca26"
             ],
             [
              1,
              "#f0f921"
             ]
            ],
            "type": "surface"
           }
          ],
          "table": [
           {
            "cells": {
             "fill": {
              "color": "#506784"
             },
             "line": {
              "color": "rgb(17,17,17)"
             }
            },
            "header": {
             "fill": {
              "color": "#2a3f5f"
             },
             "line": {
              "color": "rgb(17,17,17)"
             }
            },
            "type": "table"
           }
          ]
         },
         "layout": {
          "annotationdefaults": {
           "arrowcolor": "#f2f5fa",
           "arrowhead": 0,
           "arrowwidth": 1
          },
          "autotypenumbers": "strict",
          "coloraxis": {
           "colorbar": {
            "outlinewidth": 0,
            "ticks": ""
           }
          },
          "colorscale": {
           "diverging": [
            [
             0,
             "#8e0152"
            ],
            [
             0.1,
             "#c51b7d"
            ],
            [
             0.2,
             "#de77ae"
            ],
            [
             0.3,
             "#f1b6da"
            ],
            [
             0.4,
             "#fde0ef"
            ],
            [
             0.5,
             "#f7f7f7"
            ],
            [
             0.6,
             "#e6f5d0"
            ],
            [
             0.7,
             "#b8e186"
            ],
            [
             0.8,
             "#7fbc41"
            ],
            [
             0.9,
             "#4d9221"
            ],
            [
             1,
             "#276419"
            ]
           ],
           "sequential": [
            [
             0,
             "#0d0887"
            ],
            [
             0.1111111111111111,
             "#46039f"
            ],
            [
             0.2222222222222222,
             "#7201a8"
            ],
            [
             0.3333333333333333,
             "#9c179e"
            ],
            [
             0.4444444444444444,
             "#bd3786"
            ],
            [
             0.5555555555555556,
             "#d8576b"
            ],
            [
             0.6666666666666666,
             "#ed7953"
            ],
            [
             0.7777777777777778,
             "#fb9f3a"
            ],
            [
             0.8888888888888888,
             "#fdca26"
            ],
            [
             1,
             "#f0f921"
            ]
           ],
           "sequentialminus": [
            [
             0,
             "#0d0887"
            ],
            [
             0.1111111111111111,
             "#46039f"
            ],
            [
             0.2222222222222222,
             "#7201a8"
            ],
            [
             0.3333333333333333,
             "#9c179e"
            ],
            [
             0.4444444444444444,
             "#bd3786"
            ],
            [
             0.5555555555555556,
             "#d8576b"
            ],
            [
             0.6666666666666666,
             "#ed7953"
            ],
            [
             0.7777777777777778,
             "#fb9f3a"
            ],
            [
             0.8888888888888888,
             "#fdca26"
            ],
            [
             1,
             "#f0f921"
            ]
           ]
          },
          "colorway": [
           "#636efa",
           "#EF553B",
           "#00cc96",
           "#ab63fa",
           "#FFA15A",
           "#19d3f3",
           "#FF6692",
           "#B6E880",
           "#FF97FF",
           "#FECB52"
          ],
          "font": {
           "color": "#f2f5fa"
          },
          "geo": {
           "bgcolor": "rgb(17,17,17)",
           "lakecolor": "rgb(17,17,17)",
           "landcolor": "rgb(17,17,17)",
           "showlakes": true,
           "showland": true,
           "subunitcolor": "#506784"
          },
          "hoverlabel": {
           "align": "left"
          },
          "hovermode": "closest",
          "mapbox": {
           "style": "dark"
          },
          "paper_bgcolor": "rgb(17,17,17)",
          "plot_bgcolor": "rgb(17,17,17)",
          "polar": {
           "angularaxis": {
            "gridcolor": "#506784",
            "linecolor": "#506784",
            "ticks": ""
           },
           "bgcolor": "rgb(17,17,17)",
           "radialaxis": {
            "gridcolor": "#506784",
            "linecolor": "#506784",
            "ticks": ""
           }
          },
          "scene": {
           "xaxis": {
            "backgroundcolor": "rgb(17,17,17)",
            "gridcolor": "#506784",
            "gridwidth": 2,
            "linecolor": "#506784",
            "showbackground": true,
            "ticks": "",
            "zerolinecolor": "#C8D4E3"
           },
           "yaxis": {
            "backgroundcolor": "rgb(17,17,17)",
            "gridcolor": "#506784",
            "gridwidth": 2,
            "linecolor": "#506784",
            "showbackground": true,
            "ticks": "",
            "zerolinecolor": "#C8D4E3"
           },
           "zaxis": {
            "backgroundcolor": "rgb(17,17,17)",
            "gridcolor": "#506784",
            "gridwidth": 2,
            "linecolor": "#506784",
            "showbackground": true,
            "ticks": "",
            "zerolinecolor": "#C8D4E3"
           }
          },
          "shapedefaults": {
           "line": {
            "color": "#f2f5fa"
           }
          },
          "sliderdefaults": {
           "bgcolor": "#C8D4E3",
           "bordercolor": "rgb(17,17,17)",
           "borderwidth": 1,
           "tickwidth": 0
          },
          "ternary": {
           "aaxis": {
            "gridcolor": "#506784",
            "linecolor": "#506784",
            "ticks": ""
           },
           "baxis": {
            "gridcolor": "#506784",
            "linecolor": "#506784",
            "ticks": ""
           },
           "bgcolor": "rgb(17,17,17)",
           "caxis": {
            "gridcolor": "#506784",
            "linecolor": "#506784",
            "ticks": ""
           }
          },
          "title": {
           "x": 0.05
          },
          "updatemenudefaults": {
           "bgcolor": "#506784",
           "borderwidth": 0
          },
          "xaxis": {
           "automargin": true,
           "gridcolor": "#283442",
           "linecolor": "#506784",
           "ticks": "",
           "title": {
            "standoff": 15
           },
           "zerolinecolor": "#283442",
           "zerolinewidth": 2
          },
          "yaxis": {
           "automargin": true,
           "gridcolor": "#283442",
           "linecolor": "#506784",
           "ticks": "",
           "title": {
            "standoff": 15
           },
           "zerolinecolor": "#283442",
           "zerolinewidth": 2
          }
         }
        },
        "title": {
         "text": "Cryptocurrency Relative Price Performance (Normalized to July 2020)"
        },
        "xaxis": {
         "anchor": "y",
         "domain": [
          0,
          1
         ],
         "rangeslider": {
          "visible": true
         },
         "title": {
          "text": "Date"
         }
        },
        "yaxis": {
         "anchor": "x",
         "domain": [
          0,
          1
         ],
         "tickformat": ",d",
         "ticksuffix": "%",
         "title": {
          "text": "Price Change (%)"
         }
        }
       }
      }
     },
     "metadata": {},
     "output_type": "display_data"
    }
   ],
   "source": [
    "#%% Create the normalized price evolution graph\n",
    "\n",
    "# Create the figure\n",
    "fig = px.line(\n",
    "    normalized_df,\n",
    "    x='timestamp',\n",
    "    y='normalized_price',\n",
    "    color='symbols',\n",
    "    title='Cryptocurrency Relative Price Performance (Normalized to July 2020)',\n",
    "    labels={\n",
    "        'timestamp': 'Date',\n",
    "        'normalized_price': 'Price Change (%)',\n",
    "        'symbols': 'Cryptocurrency'\n",
    "    }\n",
    ")\n",
    "\n",
    "# Customize the layout\n",
    "fig.update_layout(\n",
    "    template='plotly_dark',\n",
    "    hovermode='x unified',\n",
    "    font_family=\"IBM Plex Sans\",\n",
    "    legend=dict(\n",
    "        yanchor=\"top\",\n",
    "        y=0.99,\n",
    "        xanchor=\"left\",\n",
    "        x=0.01\n",
    "    ),\n",
    "    xaxis_title=\"Date\",\n",
    "    yaxis_title=\"Price Change (%)\",\n",
    "    yaxis=dict(tickformat=',d', ticksuffix='%')  # Format y-axis as percentage\n",
    ")\n",
    "\n",
    "# Add range slider\n",
    "fig.update_xaxes(rangeslider_visible=True)\n",
    "\n",
    "# Show the plot\n",
    "fig.show()"
   ]
  },
  {
   "cell_type": "code",
   "execution_count": 8,
   "id": "b04763fe",
   "metadata": {},
   "outputs": [
    {
     "data": {
      "text/plain": [
       "\"\\nbtc_data = crypto_monthly_avg[crypto_monthly_price['symbols'] == 'BTC/USDT'].reset_index(drop=True)\\nbtc_data = btc_data.sort_values('timestamp', ascending=False).reset_index(drop=True)\\n\\neth_data = crypto_monthly_avg[crypto_monthly_price['symbols'] == 'ETH/USDT'].reset_index(drop=True)\\neth_data = eth_data.sort_values('timestamp', ascending=False).reset_index(drop=True)\\n\\nbnb_data = crypto_monthly_avg[crypto_monthly_price['symbols'] == 'BNB/USDT'].reset_index(drop=True)\\nbnb_data = bnb_data.sort_values('timestamp', ascending=False).reset_index(drop=True)\\n\\nsol_data = crypto_monthly_avg[crypto_monthly_price['symbols'] == 'SOL/USDT'].reset_index(drop=True)\\nsol_data = sol_data.sort_values('timestamp', ascending=False).reset_index(drop=True)\\n\\n\""
      ]
     },
     "execution_count": 8,
     "metadata": {},
     "output_type": "execute_result"
    }
   ],
   "source": [
    "#%% Separating Symbols into Individual DataFrames\n",
    "# Create individual DataFrames for each symbol and sort each DataFrame by timestamp in descending order\n",
    "'''\n",
    "btc_data = crypto_monthly_avg[crypto_monthly_price['symbols'] == 'BTC/USDT'].reset_index(drop=True)\n",
    "btc_data = btc_data.sort_values('timestamp', ascending=False).reset_index(drop=True)\n",
    "\n",
    "eth_data = crypto_monthly_avg[crypto_monthly_price['symbols'] == 'ETH/USDT'].reset_index(drop=True)\n",
    "eth_data = eth_data.sort_values('timestamp', ascending=False).reset_index(drop=True)\n",
    "\n",
    "bnb_data = crypto_monthly_avg[crypto_monthly_price['symbols'] == 'BNB/USDT'].reset_index(drop=True)\n",
    "bnb_data = bnb_data.sort_values('timestamp', ascending=False).reset_index(drop=True)\n",
    "\n",
    "sol_data = crypto_monthly_avg[crypto_monthly_price['symbols'] == 'SOL/USDT'].reset_index(drop=True)\n",
    "sol_data = sol_data.sort_values('timestamp', ascending=False).reset_index(drop=True)\n",
    "\n",
    "'''"
   ]
  },
  {
   "cell_type": "code",
   "execution_count": null,
   "id": "c962752e",
   "metadata": {},
   "outputs": [],
   "source": []
  }
 ],
 "metadata": {
  "kernelspec": {
   "display_name": ".venv",
   "language": "python",
   "name": "python3"
  },
  "language_info": {
   "codemirror_mode": {
    "name": "ipython",
    "version": 3
   },
   "file_extension": ".py",
   "mimetype": "text/x-python",
   "name": "python",
   "nbconvert_exporter": "python",
   "pygments_lexer": "ipython3",
   "version": "3.13.3"
  }
 },
 "nbformat": 4,
 "nbformat_minor": 5
}
