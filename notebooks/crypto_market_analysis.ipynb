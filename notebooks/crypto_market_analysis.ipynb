{
 "cells": [
  {
   "cell_type": "markdown",
   "id": "6dbd3ff7",
   "metadata": {},
   "source": [
    "# **Crypto Market Analysis**\n",
    "This notebook analyzes historical price data for major cryptocurrencies (BTC, ETH, BNB, SOL) using data from Binance exchange."
   ]
  },
  {
   "cell_type": "code",
   "execution_count": 14,
   "id": "6d3493bd",
   "metadata": {},
   "outputs": [],
   "source": [
    "#%% Import Libraries\n",
    "import pandas as pd\n",
    "import numpy as np\n",
    "\n",
    "# import plotly\n",
    "import plotly.express as px\n",
    "import plotly.graph_objects as go\n",
    "from plotly.subplots import make_subplots\n",
    "\n",
    "\n",
    "# The \"ccxt\" library facilitates connection to various exchanges, including Binance\n",
    "import ccxt"
   ]
  },
  {
   "cell_type": "code",
   "execution_count": 15,
   "id": "9d119dbc",
   "metadata": {},
   "outputs": [],
   "source": [
    "#%% Creating DataFrame\n",
    "\n",
    "crypto = pd.DataFrame({\n",
    "    'symbols': [\"BTC/USDT\", \"ETH/USDT\", \"BNB/USDT\", \"SOL/USDT\", \"XRP/USDT\", \"AVAX/USDT\"],\n",
    "})"
   ]
  },
  {
   "cell_type": "code",
   "execution_count": 16,
   "id": "c961d4f7",
   "metadata": {},
   "outputs": [
    {
     "name": "stdout",
     "output_type": "stream",
     "text": [
      "\n",
      "Symbol: BTC/USDT\n",
      "Number of candles retrieved: 94\n",
      "Date range: 2017-08-01 00:00:00 to 2025-05-01 00:00:00\n",
      "\n",
      "Symbol: ETH/USDT\n",
      "Number of candles retrieved: 94\n",
      "Date range: 2017-08-01 00:00:00 to 2025-05-01 00:00:00\n",
      "\n",
      "Symbol: BNB/USDT\n",
      "Number of candles retrieved: 91\n",
      "Date range: 2017-11-01 00:00:00 to 2025-05-01 00:00:00\n",
      "\n",
      "Symbol: SOL/USDT\n",
      "Number of candles retrieved: 58\n",
      "Date range: 2020-08-01 00:00:00 to 2025-05-01 00:00:00\n",
      "\n",
      "Symbol: XRP/USDT\n",
      "Number of candles retrieved: 85\n",
      "Date range: 2018-05-01 00:00:00 to 2025-05-01 00:00:00\n",
      "\n",
      "Symbol: AVAX/USDT\n",
      "Number of candles retrieved: 57\n",
      "Date range: 2020-09-01 00:00:00 to 2025-05-01 00:00:00\n",
      "<class 'pandas.core.frame.DataFrame'>\n",
      "RangeIndex: 479 entries, 0 to 478\n",
      "Data columns (total 8 columns):\n",
      " #   Column         Non-Null Count  Dtype    \n",
      "---  ------         --------------  -----    \n",
      " 0   symbols        479 non-null    object   \n",
      " 1   timestamp      479 non-null    period[M]\n",
      " 2   open           479 non-null    float64  \n",
      " 3   high           479 non-null    float64  \n",
      " 4   low            479 non-null    float64  \n",
      " 5   close          479 non-null    float64  \n",
      " 6   volume         479 non-null    float64  \n",
      " 7   average_price  479 non-null    float64  \n",
      "dtypes: float64(6), object(1), period[M](1)\n",
      "memory usage: 30.1+ KB\n",
      "None\n"
     ]
    }
   ],
   "source": [
    "#%% Extracting Data from Binance\n",
    "\n",
    "# Binance API configuration\n",
    "binance = ccxt.binance()\n",
    "\n",
    "# List of crypto to fetch data for\n",
    "symbols = crypto['symbols'].tolist()  # Add other pairs as necessary\n",
    "timeframe = '1M'  # Timeframe (1 month)\n",
    "\n",
    "'''\n",
    "Available timeframes:\n",
    "'1m' - 1 minute\n",
    "'1h' - 1 hour\n",
    "'1d' - 1 day\n",
    "'1w' - 1 week\n",
    "'1M' - 1 month\n",
    "'''\n",
    "\n",
    "limit = 120  # Number of candles\n",
    "\n",
    "# Create a list to store the data\n",
    "all_data = []\n",
    "\n",
    "# Loop to fetch data for each asset\n",
    "for symbol in symbols:\n",
    "    try:\n",
    "        # Fetch OHLCV data from Binance\n",
    "        OHLCV = binance.fetch_ohlcv(symbol, timeframe, limit=limit)\n",
    "        \n",
    "        print(f\"\\nSymbol: {symbol}\")\n",
    "        print(f\"Number of candles retrieved: {len(OHLCV)}\")\n",
    "        print(f\"Date range: {pd.to_datetime(OHLCV[0][0], unit='ms')} to {pd.to_datetime(OHLCV[-1][0], unit='ms')}\")\n",
    "        \n",
    "        # Process all candles\n",
    "        for candle in OHLCV:\n",
    "            data = {\n",
    "                'symbols': symbol,\n",
    "                'timestamp': pd.to_datetime(candle[0], unit='ms'),\n",
    "                'open': candle[1],\n",
    "                'high': candle[2],\n",
    "                'low': candle[3],\n",
    "                'close': candle[4],\n",
    "                'volume': candle[5]\n",
    "            }\n",
    "            all_data.append(data)\n",
    "    except Exception as e:\n",
    "        print(f\"Error fetching data for {symbol}: {e}\")\n",
    "\n",
    "# Convert to a DataFrame\n",
    "crypto_monthly_price = pd.DataFrame(all_data)\n",
    "\n",
    "# Calculating Average Price\n",
    "crypto_monthly_price['average_price'] = round((crypto_monthly_price['high'] + crypto_monthly_price['low']) / 2, 2)\n",
    "\n",
    "# Group by month and calculate the average price\n",
    "crypto_monthly_price['timestamp'] = pd.to_datetime(crypto_monthly_price['timestamp']).dt.to_period('M')\n",
    "\n",
    "print(crypto_monthly_price.info())"
   ]
  },
  {
   "cell_type": "code",
   "execution_count": 17,
   "id": "61524ff5",
   "metadata": {},
   "outputs": [
    {
     "name": "stdout",
     "output_type": "stream",
     "text": [
      "<class 'pandas.core.frame.DataFrame'>\n",
      "RangeIndex: 479 entries, 0 to 478\n",
      "Data columns (total 3 columns):\n",
      " #   Column         Non-Null Count  Dtype    \n",
      "---  ------         --------------  -----    \n",
      " 0   symbols        479 non-null    category \n",
      " 1   timestamp      479 non-null    period[M]\n",
      " 2   average_price  479 non-null    float64  \n",
      "dtypes: category(1), float64(1), period[M](1)\n",
      "memory usage: 8.3 KB\n",
      "None\n"
     ]
    },
    {
     "name": "stderr",
     "output_type": "stream",
     "text": [
      "C:\\Users\\Matheus\\AppData\\Local\\Temp\\ipykernel_1908\\490511893.py:7: SettingWithCopyWarning:\n",
      "\n",
      "\n",
      "A value is trying to be set on a copy of a slice from a DataFrame.\n",
      "Try using .loc[row_indexer,col_indexer] = value instead\n",
      "\n",
      "See the caveats in the documentation: https://pandas.pydata.org/pandas-docs/stable/user_guide/indexing.html#returning-a-view-versus-a-copy\n",
      "\n"
     ]
    }
   ],
   "source": [
    "#%% Grouping and Sorting Data\n",
    "\n",
    "# Group by 'symbols' and 'timestamp' to get the average price for each month\n",
    "crypto_monthly_avg = crypto_monthly_price[['symbols', 'timestamp', 'average_price']]\n",
    "\n",
    "# Convert symbols to Categorical with specific order from the original crypto DataFrame\n",
    "crypto_monthly_avg['symbols'] = pd.Categorical(\n",
    "    crypto_monthly_avg['symbols'],\n",
    "    categories=symbols,\n",
    "    ordered=True\n",
    ")\n",
    "\n",
    "# Sort first by symbols (to group all records for each symbol together)\n",
    "# Then by timestamp (descending) within each symbol group\n",
    "crypto_monthly_avg = crypto_monthly_avg.sort_values(\n",
    "    ['symbols', 'timestamp'], \n",
    "    ascending=[True, False]\n",
    ").reset_index(drop=True)\n",
    "\n",
    "print(crypto_monthly_avg.info())"
   ]
  },
  {
   "cell_type": "code",
   "execution_count": 29,
   "id": "d727f0ad",
   "metadata": {},
   "outputs": [
    {
     "data": {
      "application/vnd.plotly.v1+json": {
       "config": {
        "displayModeBar": true,
        "displaylogo": false,
        "modeBarButtonsToAdd": [
         "fullscreen"
        ],
        "plotlyServerURL": "https://plot.ly"
       },
       "data": [
        {
         "customdata": [
          [
           "BTC/USDT",
           94420.22
          ],
          [
           "BTC/USDT",
           85133.02
          ],
          [
           "BTC/USDT",
           85803
          ],
          [
           "BTC/USDT",
           90521.12
          ],
          [
           "BTC/USDT",
           99422.34
          ],
          [
           "BTC/USDT",
           99426.5
          ],
          [
           "BTC/USDT",
           83211.5
          ],
          [
           "BTC/USDT",
           66283.06
          ],
          [
           "BTC/USDT",
           59524
          ],
          [
           "BTC/USDT",
           57329.89
          ],
          [
           "BTC/USDT",
           61782.96
          ],
          [
           "BTC/USDT",
           65199.51
          ],
          [
           "BTC/USDT",
           64265.91
          ],
          [
           "BTC/USDT",
           65994.8
          ],
          [
           "BTC/USDT",
           66391
          ],
          [
           "BTC/USDT",
           52942.14
          ],
          [
           "BTC/USDT",
           43762.24
          ],
          [
           "BTC/USDT",
           41157.93
          ],
          [
           "BTC/USDT",
           36273.7
          ],
          [
           "BTC/USDT",
           30909.33
          ],
          [
           "BTC/USDT",
           26192.28
          ],
          [
           "BTC/USDT",
           27705
          ],
          [
           "BTC/USDT",
           30333.05
          ],
          [
           "BTC/USDT",
           28115.97
          ],
          [
           "BTC/USDT",
           27815.73
          ],
          [
           "BTC/USDT",
           28971.41
          ],
          [
           "BTC/USDT",
           24366.88
          ],
          [
           "BTC/USDT",
           23300.54
          ],
          [
           "BTC/USDT",
           20229.78
          ],
          [
           "BTC/USDT",
           17322.12
          ],
          [
           "BTC/USDT",
           18478.32
          ],
          [
           "BTC/USDT",
           19637.5
          ],
          [
           "BTC/USDT",
           20462.49
          ],
          [
           "BTC/USDT",
           22365.66
          ],
          [
           "BTC/USDT",
           21724.5
          ],
          [
           "BTC/USDT",
           24802.48
          ],
          [
           "BTC/USDT",
           33361.88
          ],
          [
           "BTC/USDT",
           42511.16
          ],
          [
           "BTC/USDT",
           42672.42
          ],
          [
           "BTC/USDT",
           40071.64
          ],
          [
           "BTC/USDT",
           40453.58
          ],
          [
           "BTC/USDT",
           50526.92
          ],
          [
           "BTC/USDT",
           61128.32
          ],
          [
           "BTC/USDT",
           55141.52
          ],
          [
           "BTC/USDT",
           46260
          ],
          [
           "BTC/USDT",
           43916.35
          ],
          [
           "BTC/USDT",
           35863
          ],
          [
           "BTC/USDT",
           35067.5
          ],
          [
           "BTC/USDT",
           44750
          ],
          [
           "BTC/USDT",
           55892
          ],
          [
           "BTC/USDT",
           53397.26
          ],
          [
           "BTC/USDT",
           45324.48
          ],
          [
           "BTC/USDT",
           35040
          ],
          [
           "BTC/USDT",
           23436.16
          ],
          [
           "BTC/USDT",
           16529.1
          ],
          [
           "BTC/USDT",
           12237
          ],
          [
           "BTC/USDT",
           10937.92
          ],
          [
           "BTC/USDT",
           11493.25
          ],
          [
           "BTC/USDT",
           10168.52
          ],
          [
           "BTC/USDT",
           9606.5
          ],
          [
           "BTC/USDT",
           9092
          ],
          [
           "BTC/USDT",
           7805.06
          ],
          [
           "BTC/USDT",
           6485.06
          ],
          [
           "BTC/USDT",
           9472.5
          ],
          [
           "BTC/USDT",
           8224.52
          ],
          [
           "BTC/USDT",
           7092.5
          ],
          [
           "BTC/USDT",
           8014.34
          ],
          [
           "BTC/USDT",
           8835
          ],
          [
           "BTC/USDT",
           9307.94
          ],
          [
           "BTC/USDT",
           10825.35
          ],
          [
           "BTC/USDT",
           11103.54
          ],
          [
           "BTC/USDT",
           10707.29
          ],
          [
           "BTC/USDT",
           7195.23
          ],
          [
           "BTC/USDT",
           4833.5
          ],
          [
           "BTC/USDT",
           3905.34
          ],
          [
           "BTC/USDT",
           3785.55
          ],
          [
           "BTC/USDT",
           3709.86
          ],
          [
           "BTC/USDT",
           3734.62
          ],
          [
           "BTC/USDT",
           5133.9
          ],
          [
           "BTC/USDT",
           6942.5
          ],
          [
           "BTC/USDT",
           6760.5
          ],
          [
           "BTC/USDT",
           6815
          ],
          [
           "BTC/USDT",
           7280.88
          ],
          [
           "BTC/USDT",
           6768.34
          ],
          [
           "BTC/USDT",
           8526.48
          ],
          [
           "BTC/USDT",
           8094.91
          ],
          [
           "BTC/USDT",
           9155.05
          ],
          [
           "BTC/USDT",
           8893.01
          ],
          [
           "BTC/USDT",
           13105.62
          ],
          [
           "BTC/USDT",
           14589.34
          ],
          [
           "BTC/USDT",
           8312.52
          ],
          [
           "BTC/USDT",
           5304
          ],
          [
           "BTC/USDT",
           3878.1
          ],
          [
           "BTC/USDT",
           4072.71
          ]
         ],
         "hovertemplate": "<b>%{customdata[0]}</b><br>Price: $%{customdata[1]:,.2f}<br><extra></extra>",
         "legendgroup": "BTC/USDT",
         "line": {
          "color": "#F7931A",
          "dash": "solid"
         },
         "marker": {
          "size": 4,
          "symbol": "circle"
         },
         "mode": "lines",
         "name": "BTC/USDT",
         "orientation": "v",
         "showlegend": true,
         "type": "scatter",
         "x": [
          "2025-05-01T00:00:00.000000000",
          "2025-04-01T00:00:00.000000000",
          "2025-03-01T00:00:00.000000000",
          "2025-02-01T00:00:00.000000000",
          "2025-01-01T00:00:00.000000000",
          "2024-12-01T00:00:00.000000000",
          "2024-11-01T00:00:00.000000000",
          "2024-10-01T00:00:00.000000000",
          "2024-09-01T00:00:00.000000000",
          "2024-08-01T00:00:00.000000000",
          "2024-07-01T00:00:00.000000000",
          "2024-06-01T00:00:00.000000000",
          "2024-05-01T00:00:00.000000000",
          "2024-04-01T00:00:00.000000000",
          "2024-03-01T00:00:00.000000000",
          "2024-02-01T00:00:00.000000000",
          "2024-01-01T00:00:00.000000000",
          "2023-12-01T00:00:00.000000000",
          "2023-11-01T00:00:00.000000000",
          "2023-10-01T00:00:00.000000000",
          "2023-09-01T00:00:00.000000000",
          "2023-08-01T00:00:00.000000000",
          "2023-07-01T00:00:00.000000000",
          "2023-06-01T00:00:00.000000000",
          "2023-05-01T00:00:00.000000000",
          "2023-04-01T00:00:00.000000000",
          "2023-03-01T00:00:00.000000000",
          "2023-02-01T00:00:00.000000000",
          "2023-01-01T00:00:00.000000000",
          "2022-12-01T00:00:00.000000000",
          "2022-11-01T00:00:00.000000000",
          "2022-10-01T00:00:00.000000000",
          "2022-09-01T00:00:00.000000000",
          "2022-08-01T00:00:00.000000000",
          "2022-07-01T00:00:00.000000000",
          "2022-06-01T00:00:00.000000000",
          "2022-05-01T00:00:00.000000000",
          "2022-04-01T00:00:00.000000000",
          "2022-03-01T00:00:00.000000000",
          "2022-02-01T00:00:00.000000000",
          "2022-01-01T00:00:00.000000000",
          "2021-12-01T00:00:00.000000000",
          "2021-11-01T00:00:00.000000000",
          "2021-10-01T00:00:00.000000000",
          "2021-09-01T00:00:00.000000000",
          "2021-08-01T00:00:00.000000000",
          "2021-07-01T00:00:00.000000000",
          "2021-06-01T00:00:00.000000000",
          "2021-05-01T00:00:00.000000000",
          "2021-04-01T00:00:00.000000000",
          "2021-03-01T00:00:00.000000000",
          "2021-02-01T00:00:00.000000000",
          "2021-01-01T00:00:00.000000000",
          "2020-12-01T00:00:00.000000000",
          "2020-11-01T00:00:00.000000000",
          "2020-10-01T00:00:00.000000000",
          "2020-09-01T00:00:00.000000000",
          "2020-08-01T00:00:00.000000000",
          "2020-07-01T00:00:00.000000000",
          "2020-06-01T00:00:00.000000000",
          "2020-05-01T00:00:00.000000000",
          "2020-04-01T00:00:00.000000000",
          "2020-03-01T00:00:00.000000000",
          "2020-02-01T00:00:00.000000000",
          "2020-01-01T00:00:00.000000000",
          "2019-12-01T00:00:00.000000000",
          "2019-11-01T00:00:00.000000000",
          "2019-10-01T00:00:00.000000000",
          "2019-09-01T00:00:00.000000000",
          "2019-08-01T00:00:00.000000000",
          "2019-07-01T00:00:00.000000000",
          "2019-06-01T00:00:00.000000000",
          "2019-05-01T00:00:00.000000000",
          "2019-04-01T00:00:00.000000000",
          "2019-03-01T00:00:00.000000000",
          "2019-02-01T00:00:00.000000000",
          "2019-01-01T00:00:00.000000000",
          "2018-12-01T00:00:00.000000000",
          "2018-11-01T00:00:00.000000000",
          "2018-10-01T00:00:00.000000000",
          "2018-09-01T00:00:00.000000000",
          "2018-08-01T00:00:00.000000000",
          "2018-07-01T00:00:00.000000000",
          "2018-06-01T00:00:00.000000000",
          "2018-05-01T00:00:00.000000000",
          "2018-04-01T00:00:00.000000000",
          "2018-03-01T00:00:00.000000000",
          "2018-02-01T00:00:00.000000000",
          "2018-01-01T00:00:00.000000000",
          "2017-12-01T00:00:00.000000000",
          "2017-11-01T00:00:00.000000000",
          "2017-10-01T00:00:00.000000000",
          "2017-09-01T00:00:00.000000000",
          "2017-08-01T00:00:00.000000000"
         ],
         "xaxis": "x",
         "y": {
          "bdata": "UrgehUMN90AfhetR0Mj0QAAAAACw8vRAuB6F65EZ9kAK16Nw5UX4QAAAAAAoRvhAAAAAALhQ9EBcj8L1sC7wQAAAAACAEO1Arkfhejz+60CF61G43iruQB+F61Hw1e9A7FG4Hj1h70DNzMzMrBzwQAAAAABwNfBArkfhesTZ6UDhehSuR17lQClcj8K9GORAZmZmZja24UDsUbgeVS/eQLgehesRlNlAAAAAAEAO20AzMzMzQ5/dQEjhehT+dNtAhetRuO4p20DXo3A92krcQB+F61G4y9dA9ihcjyLB1kC4HoXrccHTQOF6FK6H6tBArkfhepQL0kAAAAAAYC3TQMP1KFyf+9NA16NwPWrX1UAAAAAAIDfVQIXrUbieONhAj8L1KDxK4EDsUbge5cHkQArXo3AN1uRArkfhevSQ40D2KFyPssDjQArXo3Ddq+hA16NwPQrZ7UA9CtejsOzqQAAAAACAluZAMzMzM4tx5UAAAAAA4ILhQAAAAABwH+FAAAAAAMDZ5UAAAAAAgErrQB+F61GoEupAw/UoXI8h5kAAAAAAABzhQNejcD0K49ZAZmZmZkYk0EAAAAAAgObHQClcj8L1XMVAAAAAAKByxkD2KFyPQtzDQAAAAABAw8JAAAAAAADCwUDD9ShcD32+QMP1KFwPVblAAAAAAECAwkD2KFyPQhDAQAAAAACAtLtApHA9CldOv0AAAAAAgEHBQB+F61H4LcJAzczMzKwkxUDsUbgexa/FQOxRuB6l6cRAFK5H4TobvEAAAAAAgOGyQEjhehSugq5AmpmZmRmTrUAfhetRuPusQArXo3A9La1AZmZmZuYNtEAAAAAAgB67QAAAAACAaLpAAAAAAACfukB7FK5H4XC8QKRwPQpXcLpACtejcD2nwEBcj8L16J6/QGZmZmaG4cFAexSuR4FewUDD9Shcz5jJQFK4HoWrfsxA9ihcj0I8wEAAAAAAALi0QDMzMzMzTK5AUrgehWvRr0A=",
          "dtype": "f8"
         },
         "yaxis": "y"
        },
        {
         "customdata": [
          [
           "ETH/USDT",
           1799.62
          ],
          [
           "ETH/USDT",
           1671.02
          ],
          [
           "ETH/USDT",
           2152.43
          ],
          [
           "ETH/USDT",
           2704.12
          ],
          [
           "ETH/USDT",
           3332.42
          ],
          [
           "ETH/USDT",
           3604.85
          ],
          [
           "ETH/USDT",
           3048.28
          ],
          [
           "ETH/USDT",
           2539.74
          ],
          [
           "ETH/USDT",
           2439.57
          ],
          [
           "ETH/USDT",
           2676.78
          ],
          [
           "ETH/USDT",
           3186.41
          ],
          [
           "ETH/USDT",
           3563.73
          ],
          [
           "ETH/USDT",
           3397
          ],
          [
           "ETH/USDT",
           3291.36
          ],
          [
           "ETH/USDT",
           3575.24
          ],
          [
           "ETH/USDT",
           2881.4
          ],
          [
           "ETH/USDT",
           2408.66
          ],
          [
           "ETH/USDT",
           2245.42
          ],
          [
           "ETH/USDT",
           1957.05
          ],
          [
           "ETH/USDT",
           1693.27
          ],
          [
           "ETH/USDT",
           1612.66
          ],
          [
           "ETH/USDT",
           1714.87
          ],
          [
           "ETH/USDT",
           1927.55
          ],
          [
           "ETH/USDT",
           1787.3
          ],
          [
           "ETH/USDT",
           1879.5
          ],
          [
           "ETH/USDT",
           1952.16
          ],
          [
           "ETH/USDT",
           1612.78
          ],
          [
           "ETH/USDT",
           1602.45
          ],
          [
           "ETH/USDT",
           1434.92
          ],
          [
           "ETH/USDT",
           1251.62
          ],
          [
           "ETH/USDT",
           1376.76
          ],
          [
           "ETH/USDT",
           1426.53
          ],
          [
           "ETH/USDT",
           1504.5
          ],
          [
           "ETH/USDT",
           1726.04
          ],
          [
           "ETH/USDT",
           1395.56
          ],
          [
           "ETH/USDT",
           1427.07
          ],
          [
           "ETH/USDT",
           2334.43
          ],
          [
           "ETH/USDT",
           3144.8
          ],
          [
           "ETH/USDT",
           2963.44
          ],
          [
           "ETH/USDT",
           2791.83
          ],
          [
           "ETH/USDT",
           3029.86
          ],
          [
           "ETH/USDT",
           4141.22
          ],
          [
           "ETH/USDT",
           4390.5
          ],
          [
           "ETH/USDT",
           3714.77
          ],
          [
           "ETH/USDT",
           3339.94
          ],
          [
           "ETH/USDT",
           2959.16
          ],
          [
           "ETH/USDT",
           2129.93
          ],
          [
           "ETH/USDT",
           2296.22
          ],
          [
           "ETH/USDT",
           3050.73
          ],
          [
           "ETH/USDT",
           2341.66
          ],
          [
           "ETH/USDT",
           1678.6
          ],
          [
           "ETH/USDT",
           1656.16
          ],
          [
           "ETH/USDT",
           1094.64
          ],
          [
           "ETH/USDT",
           644.58
          ],
          [
           "ETH/USDT",
           496.62
          ],
          [
           "ETH/USDT",
           376.46
          ],
          [
           "ETH/USDT",
           398.63
          ],
          [
           "ETH/USDT",
           385.5
          ],
          [
           "ETH/USDT",
           286.16
          ],
          [
           "ETH/USDT",
           234.9
          ],
          [
           "ETH/USDT",
           211.5
          ],
          [
           "ETH/USDT",
           177.96
          ],
          [
           "ETH/USDT",
           168.96
          ],
          [
           "ETH/USDT",
           233.76
          ],
          [
           "ETH/USDT",
           156.44
          ],
          [
           "ETH/USDT",
           134.38
          ],
          [
           "ETH/USDT",
           163.27
          ],
          [
           "ETH/USDT",
           175.6
          ],
          [
           "ETH/USDT",
           186.98
          ],
          [
           "ETH/USDT",
           201.38
          ],
          [
           "ETH/USDT",
           255.02
          ],
          [
           "ETH/USDT",
           296.68
          ],
          [
           "ETH/USDT",
           223.08
          ],
          [
           "ETH/USDT",
           162.72
          ],
          [
           "ETH/USDT",
           134.24
          ],
          [
           "ETH/USDT",
           133.6
          ],
          [
           "ETH/USDT",
           130.08
          ],
          [
           "ETH/USDT",
           119.73
          ],
          [
           "ETH/USDT",
           163.58
          ],
          [
           "ETH/USDT",
           214
          ],
          [
           "ETH/USDT",
           234.66
          ],
          [
           "ETH/USDT",
           342.5
          ],
          [
           "ETH/USDT",
           466.21
          ],
          [
           "ETH/USDT",
           516.64
          ],
          [
           "ETH/USDT",
           673.05
          ],
          [
           "ETH/USDT",
           534.94
          ],
          [
           "ETH/USDT",
           622.98
          ],
          [
           "ETH/USDT",
           867.54
          ],
          [
           "ETH/USDT",
           1078.4
          ],
          [
           "ETH/USDT",
           619.95
          ],
          [
           "ETH/USDT",
           394.86
          ],
          [
           "ETH/USDT",
           313.1
          ],
          [
           "ETH/USDT",
           293.2
          ],
          [
           "ETH/USDT",
           268.96
          ]
         ],
         "hovertemplate": "<b>%{customdata[0]}</b><br>Price: $%{customdata[1]:,.2f}<br><extra></extra>",
         "legendgroup": "ETH/USDT",
         "line": {
          "color": "#636BFF",
          "dash": "solid"
         },
         "marker": {
          "size": 4,
          "symbol": "circle"
         },
         "mode": "lines",
         "name": "ETH/USDT",
         "orientation": "v",
         "showlegend": true,
         "type": "scatter",
         "x": [
          "2025-05-01T00:00:00.000000000",
          "2025-04-01T00:00:00.000000000",
          "2025-03-01T00:00:00.000000000",
          "2025-02-01T00:00:00.000000000",
          "2025-01-01T00:00:00.000000000",
          "2024-12-01T00:00:00.000000000",
          "2024-11-01T00:00:00.000000000",
          "2024-10-01T00:00:00.000000000",
          "2024-09-01T00:00:00.000000000",
          "2024-08-01T00:00:00.000000000",
          "2024-07-01T00:00:00.000000000",
          "2024-06-01T00:00:00.000000000",
          "2024-05-01T00:00:00.000000000",
          "2024-04-01T00:00:00.000000000",
          "2024-03-01T00:00:00.000000000",
          "2024-02-01T00:00:00.000000000",
          "2024-01-01T00:00:00.000000000",
          "2023-12-01T00:00:00.000000000",
          "2023-11-01T00:00:00.000000000",
          "2023-10-01T00:00:00.000000000",
          "2023-09-01T00:00:00.000000000",
          "2023-08-01T00:00:00.000000000",
          "2023-07-01T00:00:00.000000000",
          "2023-06-01T00:00:00.000000000",
          "2023-05-01T00:00:00.000000000",
          "2023-04-01T00:00:00.000000000",
          "2023-03-01T00:00:00.000000000",
          "2023-02-01T00:00:00.000000000",
          "2023-01-01T00:00:00.000000000",
          "2022-12-01T00:00:00.000000000",
          "2022-11-01T00:00:00.000000000",
          "2022-10-01T00:00:00.000000000",
          "2022-09-01T00:00:00.000000000",
          "2022-08-01T00:00:00.000000000",
          "2022-07-01T00:00:00.000000000",
          "2022-06-01T00:00:00.000000000",
          "2022-05-01T00:00:00.000000000",
          "2022-04-01T00:00:00.000000000",
          "2022-03-01T00:00:00.000000000",
          "2022-02-01T00:00:00.000000000",
          "2022-01-01T00:00:00.000000000",
          "2021-12-01T00:00:00.000000000",
          "2021-11-01T00:00:00.000000000",
          "2021-10-01T00:00:00.000000000",
          "2021-09-01T00:00:00.000000000",
          "2021-08-01T00:00:00.000000000",
          "2021-07-01T00:00:00.000000000",
          "2021-06-01T00:00:00.000000000",
          "2021-05-01T00:00:00.000000000",
          "2021-04-01T00:00:00.000000000",
          "2021-03-01T00:00:00.000000000",
          "2021-02-01T00:00:00.000000000",
          "2021-01-01T00:00:00.000000000",
          "2020-12-01T00:00:00.000000000",
          "2020-11-01T00:00:00.000000000",
          "2020-10-01T00:00:00.000000000",
          "2020-09-01T00:00:00.000000000",
          "2020-08-01T00:00:00.000000000",
          "2020-07-01T00:00:00.000000000",
          "2020-06-01T00:00:00.000000000",
          "2020-05-01T00:00:00.000000000",
          "2020-04-01T00:00:00.000000000",
          "2020-03-01T00:00:00.000000000",
          "2020-02-01T00:00:00.000000000",
          "2020-01-01T00:00:00.000000000",
          "2019-12-01T00:00:00.000000000",
          "2019-11-01T00:00:00.000000000",
          "2019-10-01T00:00:00.000000000",
          "2019-09-01T00:00:00.000000000",
          "2019-08-01T00:00:00.000000000",
          "2019-07-01T00:00:00.000000000",
          "2019-06-01T00:00:00.000000000",
          "2019-05-01T00:00:00.000000000",
          "2019-04-01T00:00:00.000000000",
          "2019-03-01T00:00:00.000000000",
          "2019-02-01T00:00:00.000000000",
          "2019-01-01T00:00:00.000000000",
          "2018-12-01T00:00:00.000000000",
          "2018-11-01T00:00:00.000000000",
          "2018-10-01T00:00:00.000000000",
          "2018-09-01T00:00:00.000000000",
          "2018-08-01T00:00:00.000000000",
          "2018-07-01T00:00:00.000000000",
          "2018-06-01T00:00:00.000000000",
          "2018-05-01T00:00:00.000000000",
          "2018-04-01T00:00:00.000000000",
          "2018-03-01T00:00:00.000000000",
          "2018-02-01T00:00:00.000000000",
          "2018-01-01T00:00:00.000000000",
          "2017-12-01T00:00:00.000000000",
          "2017-11-01T00:00:00.000000000",
          "2017-10-01T00:00:00.000000000",
          "2017-09-01T00:00:00.000000000",
          "2017-08-01T00:00:00.000000000"
         ],
         "xaxis": "x",
         "y": {
          "bdata": "FK5H4XoenECuR+F6FByaQI/C9Sjc0KBACtejcD0gpUCkcD0K1wiqQDMzMzOzKaxAw/UoXI/Qp0AUrkfhetejQHE9CtcjD6NAw/UoXI/ppEC4HoXr0eSoQClcj8J116tAAAAAAACKqkAfhetRuLapQBSuR+F67qtAzczMzMyCpkC4HoXrUdGiQKRwPQrXiqFAMzMzMzOUnkCuR+F6FHWaQHE9CtejMplAFK5H4XrLmkAzMzMzMx6eQDMzMzMz7ZtAAAAAAABenUBxPQrXo4CeQIXrUbgeM5lAzczMzMwJmUBI4XoUrmuWQBSuR+F6jpNA16NwPQqDlUCF61G4HkqWQAAAAAAAgpdAXI/C9Sj4mkAK16NwPc6VQOF6FK5HTJZAj8L1KNw8okCamZmZmZGoQHsUrkfhJqdAXI/C9ajPpUAfhetRuKunQB+F61E4LbBAAAAAAIAmsUDXo3A9igWtQHsUrkfhF6pAuB6F61Eep0CPwvUo3KOgQD0K16Nw8KFAKVyPwnXVp0C4HoXrUUuiQGZmZmZmOppAcT0K16PgmUDD9ShcjxqRQHE9CtejJIRAUrgehesJf0CPwvUoXId3QK5H4XoU6nhAAAAAAAAYeEDD9Shcj+JxQM3MzMzMXG1AAAAAAABwakAfhetRuD5mQB+F61G4HmVAuB6F61E4bUCuR+F6FI5jQFyPwvUozGBAcT0K16NoZEAzMzMzM/NlQI/C9ShcX2dAXI/C9SgsaUBxPQrXo+BvQHsUrkfhinJAw/UoXI/ia0DXo3A9CldkQEjhehSux2BAMzMzMzOzYEDD9Shcj0JgQB+F61G47l1Aw/UoXI9yZEAAAAAAAMBqQIXrUbgeVW1AAAAAAABodUCPwvUoXCN9QIXrUbgeJYBAZmZmZmYIhUDsUbgehbeAQKRwPQrXd4NAuB6F61Eci0CamZmZmdmQQJqZmZmZX4NA9ihcj8KteECamZmZmZFzQDMzMzMzU3JAj8L1KFzPcEA=",
          "dtype": "f8"
         },
         "yaxis": "y"
        },
        {
         "customdata": [
          [
           "BNB/USDT",
           601.03
          ],
          [
           "BNB/USDT",
           570
          ],
          [
           "BNB/USDT",
           575.94
          ],
          [
           "BNB/USDT",
           616
          ],
          [
           "BNB/USDT",
           691.54
          ],
          [
           "BNB/USDT",
           706.28
          ],
          [
           "BNB/USDT",
           615.67
          ],
          [
           "BNB/USDT",
           573.25
          ],
          [
           "BNB/USDT",
           544.95
          ],
          [
           "BNB/USDT",
           500.3
          ],
          [
           "BNB/USDT",
           530.2
          ],
          [
           "BNB/USDT",
           636.5
          ],
          [
           "BNB/USDT",
           584.05
          ],
          [
           "BNB/USDT",
           571.25
          ],
          [
           "BNB/USDT",
           500.65
          ],
          [
           "BNB/USDT",
           361.85
          ],
          [
           "BNB/USDT",
           310.9
          ],
          [
           "BNB/USDT",
           281.55
          ],
          [
           "BNB/USDT",
           247.1
          ],
          [
           "BNB/USDT",
           220.05
          ],
          [
           "BNB/USDT",
           212.6
          ],
          [
           "BNB/USDT",
           226.1
          ],
          [
           "BNB/USDT",
           246.4
          ],
          [
           "BNB/USDT",
           264.4
          ],
          [
           "BNB/USDT",
           320.4
          ],
          [
           "BNB/USDT",
           324.75
          ],
          [
           "BNB/USDT",
           305.65
          ],
          [
           "BNB/USDT",
           310.3
          ],
          [
           "BNB/USDT",
           282.1
          ],
          [
           "BNB/USDT",
           261
          ],
          [
           "BNB/USDT",
           324.15
          ],
          [
           "BNB/USDT",
           297.35
          ],
          [
           "BNB/USDT",
           278.35
          ],
          [
           "BNB/USDT",
           304.55
          ],
          [
           "BNB/USDT",
           257.75
          ],
          [
           "BNB/USDT",
           253.95
          ],
          [
           "BNB/USDT",
           316.2
          ],
          [
           "BNB/USDT",
           418.15
          ],
          [
           "BNB/USDT",
           405.9
          ],
          [
           "BNB/USDT",
           384.45
          ],
          [
           "BNB/USDT",
           434.95
          ],
          [
           "BNB/USDT",
           569.5
          ],
          [
           "BNB/USDT",
           589.65
          ],
          [
           "BNB/USDT",
           461
          ],
          [
           "BNB/USDT",
           414.95
          ],
          [
           "BNB/USDT",
           417.98
          ],
          [
           "BNB/USDT",
           297.26
          ],
          [
           "BNB/USDT",
           329.21
          ],
          [
           "BNB/USDT",
           451.74
          ],
          [
           "BNB/USDT",
           469.63
          ],
          [
           "BNB/USDT",
           262.91
          ],
          [
           "BNB/USDT",
           196.07
          ],
          [
           "BNB/USDT",
           41.13
          ],
          [
           "BNB/USDT",
           33.36
          ],
          [
           "BNB/USDT",
           30.59
          ],
          [
           "BNB/USDT",
           29.02
          ],
          [
           "BNB/USDT",
           25.7
          ],
          [
           "BNB/USDT",
           21.51
          ],
          [
           "BNB/USDT",
           17.96
          ],
          [
           "BNB/USDT",
           16.5
          ],
          [
           "BNB/USDT",
           16.05
          ],
          [
           "BNB/USDT",
           15.05
          ],
          [
           "BNB/USDT",
           14.07
          ],
          [
           "BNB/USDT",
           22.45
          ],
          [
           "BNB/USDT",
           15.93
          ],
          [
           "BNB/USDT",
           14
          ],
          [
           "BNB/USDT",
           17.84
          ],
          [
           "BNB/USDT",
           18.05
          ],
          [
           "BNB/USDT",
           18.89
          ],
          [
           "BNB/USDT",
           26.38
          ],
          [
           "BNB/USDT",
           29.28
          ],
          [
           "BNB/USDT",
           34.16
          ],
          [
           "BNB/USDT",
           26.89
          ],
          [
           "BNB/USDT",
           20.87
          ],
          [
           "BNB/USDT",
           13.97
          ],
          [
           "BNB/USDT",
           8.71
          ],
          [
           "BNB/USDT",
           6.29
          ],
          [
           "BNB/USDT",
           5.37
          ],
          [
           "BNB/USDT",
           7.25
          ],
          [
           "BNB/USDT",
           10.11
          ],
          [
           "BNB/USDT",
           10.3
          ],
          [
           "BNB/USDT",
           11.5
          ],
          [
           "BNB/USDT",
           13.26
          ],
          [
           "BNB/USDT",
           15.41
          ],
          [
           "BNB/USDT",
           13.94
          ],
          [
           "BNB/USDT",
           13.1
          ],
          [
           "BNB/USDT",
           11
          ],
          [
           "BNB/USDT",
           8.68
          ],
          [
           "BNB/USDT",
           16.49
          ],
          [
           "BNB/USDT",
           6.59
          ],
          [
           "BNB/USDT",
           1.35
          ]
         ],
         "hovertemplate": "<b>%{customdata[0]}</b><br>Price: $%{customdata[1]:,.2f}<br><extra></extra>",
         "legendgroup": "BNB/USDT",
         "line": {
          "color": "#F3BA2F",
          "dash": "solid"
         },
         "marker": {
          "size": 4,
          "symbol": "circle"
         },
         "mode": "lines",
         "name": "BNB/USDT",
         "orientation": "v",
         "showlegend": true,
         "type": "scatter",
         "x": [
          "2025-05-01T00:00:00.000000000",
          "2025-04-01T00:00:00.000000000",
          "2025-03-01T00:00:00.000000000",
          "2025-02-01T00:00:00.000000000",
          "2025-01-01T00:00:00.000000000",
          "2024-12-01T00:00:00.000000000",
          "2024-11-01T00:00:00.000000000",
          "2024-10-01T00:00:00.000000000",
          "2024-09-01T00:00:00.000000000",
          "2024-08-01T00:00:00.000000000",
          "2024-07-01T00:00:00.000000000",
          "2024-06-01T00:00:00.000000000",
          "2024-05-01T00:00:00.000000000",
          "2024-04-01T00:00:00.000000000",
          "2024-03-01T00:00:00.000000000",
          "2024-02-01T00:00:00.000000000",
          "2024-01-01T00:00:00.000000000",
          "2023-12-01T00:00:00.000000000",
          "2023-11-01T00:00:00.000000000",
          "2023-10-01T00:00:00.000000000",
          "2023-09-01T00:00:00.000000000",
          "2023-08-01T00:00:00.000000000",
          "2023-07-01T00:00:00.000000000",
          "2023-06-01T00:00:00.000000000",
          "2023-05-01T00:00:00.000000000",
          "2023-04-01T00:00:00.000000000",
          "2023-03-01T00:00:00.000000000",
          "2023-02-01T00:00:00.000000000",
          "2023-01-01T00:00:00.000000000",
          "2022-12-01T00:00:00.000000000",
          "2022-11-01T00:00:00.000000000",
          "2022-10-01T00:00:00.000000000",
          "2022-09-01T00:00:00.000000000",
          "2022-08-01T00:00:00.000000000",
          "2022-07-01T00:00:00.000000000",
          "2022-06-01T00:00:00.000000000",
          "2022-05-01T00:00:00.000000000",
          "2022-04-01T00:00:00.000000000",
          "2022-03-01T00:00:00.000000000",
          "2022-02-01T00:00:00.000000000",
          "2022-01-01T00:00:00.000000000",
          "2021-12-01T00:00:00.000000000",
          "2021-11-01T00:00:00.000000000",
          "2021-10-01T00:00:00.000000000",
          "2021-09-01T00:00:00.000000000",
          "2021-08-01T00:00:00.000000000",
          "2021-07-01T00:00:00.000000000",
          "2021-06-01T00:00:00.000000000",
          "2021-05-01T00:00:00.000000000",
          "2021-04-01T00:00:00.000000000",
          "2021-03-01T00:00:00.000000000",
          "2021-02-01T00:00:00.000000000",
          "2021-01-01T00:00:00.000000000",
          "2020-12-01T00:00:00.000000000",
          "2020-11-01T00:00:00.000000000",
          "2020-10-01T00:00:00.000000000",
          "2020-09-01T00:00:00.000000000",
          "2020-08-01T00:00:00.000000000",
          "2020-07-01T00:00:00.000000000",
          "2020-06-01T00:00:00.000000000",
          "2020-05-01T00:00:00.000000000",
          "2020-04-01T00:00:00.000000000",
          "2020-03-01T00:00:00.000000000",
          "2020-02-01T00:00:00.000000000",
          "2020-01-01T00:00:00.000000000",
          "2019-12-01T00:00:00.000000000",
          "2019-11-01T00:00:00.000000000",
          "2019-10-01T00:00:00.000000000",
          "2019-09-01T00:00:00.000000000",
          "2019-08-01T00:00:00.000000000",
          "2019-07-01T00:00:00.000000000",
          "2019-06-01T00:00:00.000000000",
          "2019-05-01T00:00:00.000000000",
          "2019-04-01T00:00:00.000000000",
          "2019-03-01T00:00:00.000000000",
          "2019-02-01T00:00:00.000000000",
          "2019-01-01T00:00:00.000000000",
          "2018-12-01T00:00:00.000000000",
          "2018-11-01T00:00:00.000000000",
          "2018-10-01T00:00:00.000000000",
          "2018-09-01T00:00:00.000000000",
          "2018-08-01T00:00:00.000000000",
          "2018-07-01T00:00:00.000000000",
          "2018-06-01T00:00:00.000000000",
          "2018-05-01T00:00:00.000000000",
          "2018-04-01T00:00:00.000000000",
          "2018-03-01T00:00:00.000000000",
          "2018-02-01T00:00:00.000000000",
          "2018-01-01T00:00:00.000000000",
          "2017-12-01T00:00:00.000000000",
          "2017-11-01T00:00:00.000000000"
         ],
         "xaxis": "x",
         "y": {
          "bdata": "CtejcD3IgkAAAAAAANCBQOxRuB6F/4FAAAAAAABAg0C4HoXrUZyFQArXo3A9EoZAj8L1KFw9g0AAAAAAAOqBQJqZmZmZB4FAzczMzMxEf0CamZmZmZGAQAAAAAAA5INAZmZmZmZAgkAAAAAAANqBQGZmZmZmSn9AmpmZmZmddkBmZmZmZm5zQM3MzMzMmHFAMzMzMzPjbkCamZmZmYFrQDMzMzMzk2pAMzMzMzNDbEDNzMzMzMxuQGZmZmZmhnBAZmZmZmYGdEAAAAAAAEx0QGZmZmZmGnNAzczMzMxkc0CamZmZmaFxQAAAAAAAUHBAZmZmZmZCdECamZmZmZVyQJqZmZmZZXFAzczMzMwIc0AAAAAAABxwQGZmZmZmvm9AMzMzMzPDc0BmZmZmZiJ6QGZmZmZmXnlAMzMzMzMHeEAzMzMzMy97QAAAAAAAzIFAMzMzMzNtgkAAAAAAANB8QDMzMzMz73lASOF6FK4fekBcj8L1KJRyQI/C9Shck3RApHA9Ctc7fECuR+F6FFp9QMP1KFyPbnBACtejcD2CaEBxPQrXo5BEQK5H4XoUrkBA16NwPQqXPkCF61G4HgU9QDMzMzMzszlAw/UoXI+CNUD2KFyPwvUxQAAAAAAAgDBAzczMzMwMMECamZmZmRkuQKRwPQrXIyxAMzMzMzNzNkBcj8L1KNwvQAAAAAAAACxA16NwPQrXMUDNzMzMzAwyQKRwPQrX4zJA4XoUrkdhOkBI4XoUrkc9QBSuR+F6FEFApHA9CtfjOkAfhetRuN40QHE9Ctej8CtA7FG4HoVrIUApXI/C9SgZQHsUrkfhehVAAAAAAAAAHUC4HoXrUTgkQJqZmZmZmSRAAAAAAAAAJ0CF61G4HoUqQFK4HoXr0S5A4XoUrkfhK0AzMzMzMzMqQAAAAAAAACZAXI/C9ShcIUA9CtejcH0wQFyPwvUoXBpAmpmZmZmZ9T8=",
          "dtype": "f8"
         },
         "yaxis": "y"
        },
        {
         "customdata": [
          [
           "SOL/USDT",
           148.28
          ],
          [
           "SOL/USDT",
           126.13
          ],
          [
           "SOL/USDT",
           145.93
          ],
          [
           "SOL/USDT",
           181
          ],
          [
           "SOL/USDT",
           232.36
          ],
          [
           "SOL/USDT",
           211.13
          ],
          [
           "SOL/USDT",
           209.75
          ],
          [
           "SOL/USDT",
           158.24
          ],
          [
           "SOL/USDT",
           140.89
          ],
          [
           "SOL/USDT",
           141.45
          ],
          [
           "SOL/USDT",
           157.49
          ],
          [
           "SOL/USDT",
           148.8
          ],
          [
           "SOL/USDT",
           153.68
          ],
          [
           "SOL/USDT",
           160.23
          ],
          [
           "SOL/USDT",
           157.59
          ],
          [
           "SOL/USDT",
           113.76
          ],
          [
           "SOL/USDT",
           97.98
          ],
          [
           "SOL/USDT",
           92.48
          ],
          [
           "SOL/USDT",
           53
          ],
          [
           "SOL/USDT",
           29.78
          ],
          [
           "SOL/USDT",
           19.57
          ],
          [
           "SOL/USDT",
           22.38
          ],
          [
           "SOL/USDT",
           25.02
          ],
          [
           "SOL/USDT",
           17.55
          ],
          [
           "SOL/USDT",
           20.94
          ],
          [
           "SOL/USDT",
           22.92
          ],
          [
           "SOL/USDT",
           19.95
          ],
          [
           "SOL/USDT",
           23.4
          ],
          [
           "SOL/USDT",
           18.24
          ],
          [
           "SOL/USDT",
           11.48
          ],
          [
           "SOL/USDT",
           24.86
          ],
          [
           "SOL/USDT",
           30.67
          ],
          [
           "SOL/USDT",
           34.51
          ],
          [
           "SOL/USDT",
           39.19
          ],
          [
           "SOL/USDT",
           39.59
          ],
          [
           "SOL/USDT",
           35.99
          ],
          [
           "SOL/USDT",
           66.31
          ],
          [
           "SOL/USDT",
           112.71
          ],
          [
           "SOL/USDT",
           103.58
          ],
          [
           "SOL/USDT",
           98.64
          ],
          [
           "SOL/USDT",
           130.18
          ],
          [
           "SOL/USDT",
           195.58
          ],
          [
           "SOL/USDT",
           220.42
          ],
          [
           "SOL/USDT",
           178.27
          ],
          [
           "SOL/USDT",
           160.94
          ],
          [
           "SOL/USDT",
           81.22
          ],
          [
           "SOL/USDT",
           30.1
          ],
          [
           "SOL/USDT",
           32.19
          ],
          [
           "SOL/USDT",
           38.75
          ],
          [
           "SOL/USDT",
           33.49
          ],
          [
           "SOL/USDT",
           16.39
          ],
          [
           "SOL/USDT",
           11.16
          ],
          [
           "SOL/USDT",
           3.15
          ],
          [
           "SOL/USDT",
           1.63
          ],
          [
           "SOL/USDT",
           1.89
          ],
          [
           "SOL/USDT",
           2.15
          ],
          [
           "SOL/USDT",
           3.52
          ],
          [
           "SOL/USDT",
           3.81
          ]
         ],
         "hovertemplate": "<b>%{customdata[0]}</b><br>Price: $%{customdata[1]:,.2f}<br><extra></extra>",
         "legendgroup": "SOL/USDT",
         "line": {
          "color": "#CF62E7",
          "dash": "solid"
         },
         "marker": {
          "size": 4,
          "symbol": "circle"
         },
         "mode": "lines",
         "name": "SOL/USDT",
         "orientation": "v",
         "showlegend": true,
         "type": "scatter",
         "x": [
          "2025-05-01T00:00:00.000000000",
          "2025-04-01T00:00:00.000000000",
          "2025-03-01T00:00:00.000000000",
          "2025-02-01T00:00:00.000000000",
          "2025-01-01T00:00:00.000000000",
          "2024-12-01T00:00:00.000000000",
          "2024-11-01T00:00:00.000000000",
          "2024-10-01T00:00:00.000000000",
          "2024-09-01T00:00:00.000000000",
          "2024-08-01T00:00:00.000000000",
          "2024-07-01T00:00:00.000000000",
          "2024-06-01T00:00:00.000000000",
          "2024-05-01T00:00:00.000000000",
          "2024-04-01T00:00:00.000000000",
          "2024-03-01T00:00:00.000000000",
          "2024-02-01T00:00:00.000000000",
          "2024-01-01T00:00:00.000000000",
          "2023-12-01T00:00:00.000000000",
          "2023-11-01T00:00:00.000000000",
          "2023-10-01T00:00:00.000000000",
          "2023-09-01T00:00:00.000000000",
          "2023-08-01T00:00:00.000000000",
          "2023-07-01T00:00:00.000000000",
          "2023-06-01T00:00:00.000000000",
          "2023-05-01T00:00:00.000000000",
          "2023-04-01T00:00:00.000000000",
          "2023-03-01T00:00:00.000000000",
          "2023-02-01T00:00:00.000000000",
          "2023-01-01T00:00:00.000000000",
          "2022-12-01T00:00:00.000000000",
          "2022-11-01T00:00:00.000000000",
          "2022-10-01T00:00:00.000000000",
          "2022-09-01T00:00:00.000000000",
          "2022-08-01T00:00:00.000000000",
          "2022-07-01T00:00:00.000000000",
          "2022-06-01T00:00:00.000000000",
          "2022-05-01T00:00:00.000000000",
          "2022-04-01T00:00:00.000000000",
          "2022-03-01T00:00:00.000000000",
          "2022-02-01T00:00:00.000000000",
          "2022-01-01T00:00:00.000000000",
          "2021-12-01T00:00:00.000000000",
          "2021-11-01T00:00:00.000000000",
          "2021-10-01T00:00:00.000000000",
          "2021-09-01T00:00:00.000000000",
          "2021-08-01T00:00:00.000000000",
          "2021-07-01T00:00:00.000000000",
          "2021-06-01T00:00:00.000000000",
          "2021-05-01T00:00:00.000000000",
          "2021-04-01T00:00:00.000000000",
          "2021-03-01T00:00:00.000000000",
          "2021-02-01T00:00:00.000000000",
          "2021-01-01T00:00:00.000000000",
          "2020-12-01T00:00:00.000000000",
          "2020-11-01T00:00:00.000000000",
          "2020-10-01T00:00:00.000000000",
          "2020-09-01T00:00:00.000000000",
          "2020-08-01T00:00:00.000000000"
         ],
         "xaxis": "x",
         "y": {
          "bdata": "KVyPwvWIYkC4HoXrUYhfQPYoXI/CPWJAAAAAAACgZkDsUbgehQttQFyPwvUoZGpAAAAAAAA4akBI4XoUrsdjQBSuR+F6nGFAZmZmZmauYUBI4XoUrq9jQJqZmZmZmWJA9ihcj8I1Y0CPwvUoXAdkQHsUrkfhsmNAcT0K16NwXEAfhetRuH5YQB+F61G4HldAAAAAAACASkBI4XoUrsc9QFK4HoXrkTNA4XoUrkdhNkCF61G4HgU5QM3MzMzMjDFAcT0K16PwNEDsUbgehes2QDMzMzMz8zNAZmZmZmZmN0A9CtejcD0yQPYoXI/C9SZAXI/C9SjcOEDsUbgehas+QOF6FK5HQUFAuB6F61GYQ0DsUbgehctDQB+F61G4/kFApHA9CteTUEA9CtejcC1cQIXrUbge5VlAKVyPwvWoWED2KFyPwkVgQMP1KFyPcmhAPQrXo3CNa0BxPQrXo0hmQK5H4XoUHmRArkfhehROVECamZmZmRk+QLgehetRGEBAAAAAAABgQ0AfhetRuL5AQKRwPQrXYzBAUrgehetRJkAzMzMzMzMJQBSuR+F6FPo/PQrXo3A9/j8zMzMzMzMBQClcj8L1KAxAexSuR+F6DkA=",
          "dtype": "f8"
         },
         "yaxis": "y"
        },
        {
         "customdata": [
          [
           "XRP/USDT",
           2.2
          ],
          [
           "XRP/USDT",
           1.99
          ],
          [
           "XRP/USDT",
           2.45
          ],
          [
           "XRP/USDT",
           2.42
          ],
          [
           "XRP/USDT",
           2.74
          ],
          [
           "XRP/USDT",
           2.38
          ],
          [
           "XRP/USDT",
           1.22
          ],
          [
           "XRP/USDT",
           0.56
          ],
          [
           "XRP/USDT",
           0.58
          ],
          [
           "XRP/USDT",
           0.54
          ],
          [
           "XRP/USDT",
           0.52
          ],
          [
           "XRP/USDT",
           0.49
          ],
          [
           "XRP/USDT",
           0.52
          ],
          [
           "XRP/USDT",
           0.53
          ],
          [
           "XRP/USDT",
           0.64
          ],
          [
           "XRP/USDT",
           0.56
          ],
          [
           "XRP/USDT",
           0.56
          ],
          [
           "XRP/USDT",
           0.64
          ],
          [
           "XRP/USDT",
           0.66
          ],
          [
           "XRP/USDT",
           0.55
          ],
          [
           "XRP/USDT",
           0.5
          ],
          [
           "XRP/USDT",
           0.57
          ],
          [
           "XRP/USDT",
           0.7
          ],
          [
           "XRP/USDT",
           0.51
          ],
          [
           "XRP/USDT",
           0.47
          ],
          [
           "XRP/USDT",
           0.49
          ],
          [
           "XRP/USDT",
           0.47
          ],
          [
           "XRP/USDT",
           0.39
          ],
          [
           "XRP/USDT",
           0.37
          ],
          [
           "XRP/USDT",
           0.37
          ],
          [
           "XRP/USDT",
           0.41
          ],
          [
           "XRP/USDT",
           0.49
          ],
          [
           "XRP/USDT",
           0.44
          ],
          [
           "XRP/USDT",
           0.36
          ],
          [
           "XRP/USDT",
           0.36
          ],
          [
           "XRP/USDT",
           0.36
          ],
          [
           "XRP/USDT",
           0.5
          ],
          [
           "XRP/USDT",
           0.71
          ],
          [
           "XRP/USDT",
           0.81
          ],
          [
           "XRP/USDT",
           0.75
          ],
          [
           "XRP/USDT",
           0.71
          ],
          [
           "XRP/USDT",
           0.81
          ],
          [
           "XRP/USDT",
           1.12
          ],
          [
           "XRP/USDT",
           1.09
          ],
          [
           "XRP/USDT",
           1.14
          ],
          [
           "XRP/USDT",
           1.02
          ],
          [
           "XRP/USDT",
           0.64
          ],
          [
           "XRP/USDT",
           0.8
          ],
          [
           "XRP/USDT",
           1.21
          ],
          [
           "XRP/USDT",
           1.26
          ],
          [
           "XRP/USDT",
           0.51
          ],
          [
           "XRP/USDT",
           0.55
          ],
          [
           "XRP/USDT",
           0.36
          ],
          [
           "XRP/USDT",
           0.43
          ],
          [
           "XRP/USDT",
           0.5
          ],
          [
           "XRP/USDT",
           0.25
          ],
          [
           "XRP/USDT",
           0.26
          ],
          [
           "XRP/USDT",
           0.29
          ],
          [
           "XRP/USDT",
           0.22
          ],
          [
           "XRP/USDT",
           0.19
          ],
          [
           "XRP/USDT",
           0.2
          ],
          [
           "XRP/USDT",
           0.2
          ],
          [
           "XRP/USDT",
           0.17
          ],
          [
           "XRP/USDT",
           0.28
          ],
          [
           "XRP/USDT",
           0.22
          ],
          [
           "XRP/USDT",
           0.2
          ],
          [
           "XRP/USDT",
           0.26
          ],
          [
           "XRP/USDT",
           0.28
          ],
          [
           "XRP/USDT",
           0.27
          ],
          [
           "XRP/USDT",
           0.29
          ],
          [
           "XRP/USDT",
           0.35
          ],
          [
           "XRP/USDT",
           0.44
          ],
          [
           "XRP/USDT",
           0.38
          ],
          [
           "XRP/USDT",
           0.33
          ],
          [
           "XRP/USDT",
           0.31
          ],
          [
           "XRP/USDT",
           0.32
          ],
          [
           "XRP/USDT",
           0.33
          ],
          [
           "XRP/USDT",
           0.37
          ],
          [
           "XRP/USDT",
           0.45
          ],
          [
           "XRP/USDT",
           0.49
          ],
          [
           "XRP/USDT",
           0.53
          ],
          [
           "XRP/USDT",
           0.36
          ],
          [
           "XRP/USDT",
           0.47
          ],
          [
           "XRP/USDT",
           0.57
          ],
          [
           "XRP/USDT",
           1
          ]
         ],
         "hovertemplate": "<b>%{customdata[0]}</b><br>Price: $%{customdata[1]:,.2f}<br><extra></extra>",
         "legendgroup": "XRP/USDT",
         "line": {
          "color": "#4B8BBE",
          "dash": "solid"
         },
         "marker": {
          "size": 4,
          "symbol": "circle"
         },
         "mode": "lines",
         "name": "XRP/USDT",
         "orientation": "v",
         "showlegend": true,
         "type": "scatter",
         "x": [
          "2025-05-01T00:00:00.000000000",
          "2025-04-01T00:00:00.000000000",
          "2025-03-01T00:00:00.000000000",
          "2025-02-01T00:00:00.000000000",
          "2025-01-01T00:00:00.000000000",
          "2024-12-01T00:00:00.000000000",
          "2024-11-01T00:00:00.000000000",
          "2024-10-01T00:00:00.000000000",
          "2024-09-01T00:00:00.000000000",
          "2024-08-01T00:00:00.000000000",
          "2024-07-01T00:00:00.000000000",
          "2024-06-01T00:00:00.000000000",
          "2024-05-01T00:00:00.000000000",
          "2024-04-01T00:00:00.000000000",
          "2024-03-01T00:00:00.000000000",
          "2024-02-01T00:00:00.000000000",
          "2024-01-01T00:00:00.000000000",
          "2023-12-01T00:00:00.000000000",
          "2023-11-01T00:00:00.000000000",
          "2023-10-01T00:00:00.000000000",
          "2023-09-01T00:00:00.000000000",
          "2023-08-01T00:00:00.000000000",
          "2023-07-01T00:00:00.000000000",
          "2023-06-01T00:00:00.000000000",
          "2023-05-01T00:00:00.000000000",
          "2023-04-01T00:00:00.000000000",
          "2023-03-01T00:00:00.000000000",
          "2023-02-01T00:00:00.000000000",
          "2023-01-01T00:00:00.000000000",
          "2022-12-01T00:00:00.000000000",
          "2022-11-01T00:00:00.000000000",
          "2022-10-01T00:00:00.000000000",
          "2022-09-01T00:00:00.000000000",
          "2022-08-01T00:00:00.000000000",
          "2022-07-01T00:00:00.000000000",
          "2022-06-01T00:00:00.000000000",
          "2022-05-01T00:00:00.000000000",
          "2022-04-01T00:00:00.000000000",
          "2022-03-01T00:00:00.000000000",
          "2022-02-01T00:00:00.000000000",
          "2022-01-01T00:00:00.000000000",
          "2021-12-01T00:00:00.000000000",
          "2021-11-01T00:00:00.000000000",
          "2021-10-01T00:00:00.000000000",
          "2021-09-01T00:00:00.000000000",
          "2021-08-01T00:00:00.000000000",
          "2021-07-01T00:00:00.000000000",
          "2021-06-01T00:00:00.000000000",
          "2021-05-01T00:00:00.000000000",
          "2021-04-01T00:00:00.000000000",
          "2021-03-01T00:00:00.000000000",
          "2021-02-01T00:00:00.000000000",
          "2021-01-01T00:00:00.000000000",
          "2020-12-01T00:00:00.000000000",
          "2020-11-01T00:00:00.000000000",
          "2020-10-01T00:00:00.000000000",
          "2020-09-01T00:00:00.000000000",
          "2020-08-01T00:00:00.000000000",
          "2020-07-01T00:00:00.000000000",
          "2020-06-01T00:00:00.000000000",
          "2020-05-01T00:00:00.000000000",
          "2020-04-01T00:00:00.000000000",
          "2020-03-01T00:00:00.000000000",
          "2020-02-01T00:00:00.000000000",
          "2020-01-01T00:00:00.000000000",
          "2019-12-01T00:00:00.000000000",
          "2019-11-01T00:00:00.000000000",
          "2019-10-01T00:00:00.000000000",
          "2019-09-01T00:00:00.000000000",
          "2019-08-01T00:00:00.000000000",
          "2019-07-01T00:00:00.000000000",
          "2019-06-01T00:00:00.000000000",
          "2019-05-01T00:00:00.000000000",
          "2019-04-01T00:00:00.000000000",
          "2019-03-01T00:00:00.000000000",
          "2019-02-01T00:00:00.000000000",
          "2019-01-01T00:00:00.000000000",
          "2018-12-01T00:00:00.000000000",
          "2018-11-01T00:00:00.000000000",
          "2018-10-01T00:00:00.000000000",
          "2018-09-01T00:00:00.000000000",
          "2018-08-01T00:00:00.000000000",
          "2018-07-01T00:00:00.000000000",
          "2018-06-01T00:00:00.000000000",
          "2018-05-01T00:00:00.000000000"
         ],
         "xaxis": "x",
         "y": {
          "bdata": "mpmZmZmZAUDXo3A9Ctf/P5qZmZmZmQNAXI/C9ShcA0DsUbgehesFQArXo3A9CgNAhetRuB6F8z/sUbgehevhP4/C9Shcj+I/SOF6FK5H4T+kcD0K16PgP1yPwvUoXN8/pHA9Ctej4D/2KFyPwvXgP3sUrkfheuQ/7FG4HoXr4T/sUbgehevhP3sUrkfheuQ/H4XrUbge5T+amZmZmZnhPwAAAAAAAOA/PQrXo3A94j9mZmZmZmbmP1K4HoXrUeA/FK5H4XoU3j9cj8L1KFzfPxSuR+F6FN4/9ihcj8L12D+uR+F6FK7XP65H4XoUrtc/PQrXo3A92j9cj8L1KFzfPylcj8L1KNw/CtejcD0K1z8K16NwPQrXPwrXo3A9Ctc/AAAAAAAA4D+4HoXrUbjmP+xRuB6F6+k/AAAAAAAA6D+4HoXrUbjmP+xRuB6F6+k/7FG4HoXr8T9xPQrXo3DxPz0K16NwPfI/UrgehetR8D97FK5H4XrkP5qZmZmZmek/XI/C9Shc8z8pXI/C9Sj0P1K4HoXrUeA/mpmZmZmZ4T8K16NwPQrXP4XrUbgehds/AAAAAAAA4D8AAAAAAADQP6RwPQrXo9A/j8L1KFyP0j8pXI/C9SjMP1K4HoXrUcg/mpmZmZmZyT+amZmZmZnJP8P1KFyPwsU/7FG4HoXr0T8pXI/C9SjMP5qZmZmZmck/pHA9Ctej0D/sUbgehevRP0jhehSuR9E/j8L1KFyP0j9mZmZmZmbWPylcj8L1KNw/UrgehetR2D8fhetRuB7VP9ejcD0K19M/exSuR+F61D8fhetRuB7VP65H4XoUrtc/zczMzMzM3D9cj8L1KFzfP/YoXI/C9eA/CtejcD0K1z8UrkfhehTePz0K16NwPeI/AAAAAAAA8D8=",
          "dtype": "f8"
         },
         "yaxis": "y"
        },
        {
         "customdata": [
          [
           "AVAX/USDT",
           21.06
          ],
          [
           "AVAX/USDT",
           18.87
          ],
          [
           "AVAX/USDT",
           20.2
          ],
          [
           "AVAX/USDT",
           27.66
          ],
          [
           "AVAX/USDT",
           38.44
          ],
          [
           "AVAX/USDT",
           44.7
          ],
          [
           "AVAX/USDT",
           35.14
          ],
          [
           "AVAX/USDT",
           26.88
          ],
          [
           "AVAX/USDT",
           25.66
          ],
          [
           "AVAX/USDT",
           22.64
          ],
          [
           "AVAX/USDT",
           27.4
          ],
          [
           "AVAX/USDT",
           30.36
          ],
          [
           "AVAX/USDT",
           36.03
          ],
          [
           "AVAX/USDT",
           41.69
          ],
          [
           "AVAX/USDT",
           50.11
          ],
          [
           "AVAX/USDT",
           38.47
          ],
          [
           "AVAX/USDT",
           35.34
          ],
          [
           "AVAX/USDT",
           35.26
          ],
          [
           "AVAX/USDT",
           17.78
          ],
          [
           "AVAX/USDT",
           10.26
          ],
          [
           "AVAX/USDT",
           9.38
          ],
          [
           "AVAX/USDT",
           11.34
          ],
          [
           "AVAX/USDT",
           14.1
          ],
          [
           "AVAX/USDT",
           12.46
          ],
          [
           "AVAX/USDT",
           15.72
          ],
          [
           "AVAX/USDT",
           18.92
          ],
          [
           "AVAX/USDT",
           16.07
          ],
          [
           "AVAX/USDT",
           19.81
          ],
          [
           "AVAX/USDT",
           16.23
          ],
          [
           "AVAX/USDT",
           12.47
          ],
          [
           "AVAX/USDT",
           16.04
          ],
          [
           "AVAX/USDT",
           17.12
          ],
          [
           "AVAX/USDT",
           19.05
          ],
          [
           "AVAX/USDT",
           24.18
          ],
          [
           "AVAX/USDT",
           21.09
          ],
          [
           "AVAX/USDT",
           20.75
          ],
          [
           "AVAX/USDT",
           45.44
          ],
          [
           "AVAX/USDT",
           79.34
          ],
          [
           "AVAX/USDT",
           83.76
          ],
          [
           "AVAX/USDT",
           81.61
          ],
          [
           "AVAX/USDT",
           85.24
          ],
          [
           "AVAX/USDT",
           101.46
          ],
          [
           "AVAX/USDT",
           104.6
          ],
          [
           "AVAX/USDT",
           62.22
          ],
          [
           "AVAX/USDT",
           56.02
          ],
          [
           "AVAX/USDT",
           35.65
          ],
          [
           "AVAX/USDT",
           11.78
          ],
          [
           "AVAX/USDT",
           15.01
          ],
          [
           "AVAX/USDT",
           27.99
          ],
          [
           "AVAX/USDT",
           30.28
          ],
          [
           "AVAX/USDT",
           31.36
          ],
          [
           "AVAX/USDT",
           36.44
          ],
          [
           "AVAX/USDT",
           9.2
          ],
          [
           "AVAX/USDT",
           3.32
          ],
          [
           "AVAX/USDT",
           3.7
          ],
          [
           "AVAX/USDT",
           3.96
          ],
          [
           "AVAX/USDT",
           3.92
          ]
         ],
         "hovertemplate": "<b>%{customdata[0]}</b><br>Price: $%{customdata[1]:,.2f}<br><extra></extra>",
         "legendgroup": "AVAX/USDT",
         "line": {
          "color": "#E84142",
          "dash": "solid"
         },
         "marker": {
          "size": 4,
          "symbol": "circle"
         },
         "mode": "lines",
         "name": "AVAX/USDT",
         "orientation": "v",
         "showlegend": true,
         "type": "scatter",
         "x": [
          "2025-05-01T00:00:00.000000000",
          "2025-04-01T00:00:00.000000000",
          "2025-03-01T00:00:00.000000000",
          "2025-02-01T00:00:00.000000000",
          "2025-01-01T00:00:00.000000000",
          "2024-12-01T00:00:00.000000000",
          "2024-11-01T00:00:00.000000000",
          "2024-10-01T00:00:00.000000000",
          "2024-09-01T00:00:00.000000000",
          "2024-08-01T00:00:00.000000000",
          "2024-07-01T00:00:00.000000000",
          "2024-06-01T00:00:00.000000000",
          "2024-05-01T00:00:00.000000000",
          "2024-04-01T00:00:00.000000000",
          "2024-03-01T00:00:00.000000000",
          "2024-02-01T00:00:00.000000000",
          "2024-01-01T00:00:00.000000000",
          "2023-12-01T00:00:00.000000000",
          "2023-11-01T00:00:00.000000000",
          "2023-10-01T00:00:00.000000000",
          "2023-09-01T00:00:00.000000000",
          "2023-08-01T00:00:00.000000000",
          "2023-07-01T00:00:00.000000000",
          "2023-06-01T00:00:00.000000000",
          "2023-05-01T00:00:00.000000000",
          "2023-04-01T00:00:00.000000000",
          "2023-03-01T00:00:00.000000000",
          "2023-02-01T00:00:00.000000000",
          "2023-01-01T00:00:00.000000000",
          "2022-12-01T00:00:00.000000000",
          "2022-11-01T00:00:00.000000000",
          "2022-10-01T00:00:00.000000000",
          "2022-09-01T00:00:00.000000000",
          "2022-08-01T00:00:00.000000000",
          "2022-07-01T00:00:00.000000000",
          "2022-06-01T00:00:00.000000000",
          "2022-05-01T00:00:00.000000000",
          "2022-04-01T00:00:00.000000000",
          "2022-03-01T00:00:00.000000000",
          "2022-02-01T00:00:00.000000000",
          "2022-01-01T00:00:00.000000000",
          "2021-12-01T00:00:00.000000000",
          "2021-11-01T00:00:00.000000000",
          "2021-10-01T00:00:00.000000000",
          "2021-09-01T00:00:00.000000000",
          "2021-08-01T00:00:00.000000000",
          "2021-07-01T00:00:00.000000000",
          "2021-06-01T00:00:00.000000000",
          "2021-05-01T00:00:00.000000000",
          "2021-04-01T00:00:00.000000000",
          "2021-03-01T00:00:00.000000000",
          "2021-02-01T00:00:00.000000000",
          "2021-01-01T00:00:00.000000000",
          "2020-12-01T00:00:00.000000000",
          "2020-11-01T00:00:00.000000000",
          "2020-10-01T00:00:00.000000000",
          "2020-09-01T00:00:00.000000000"
         ],
         "xaxis": "x",
         "y": {
          "bdata": "j8L1KFwPNUAfhetRuN4yQDMzMzMzMzRAKVyPwvWoO0C4HoXrUThDQJqZmZmZWUZAUrgeheuRQUDhehSuR+E6QClcj8L1qDlApHA9CtejNkBmZmZmZmY7QFyPwvUoXD5ApHA9CtcDQkC4HoXrUdhEQK5H4XoUDklAXI/C9Sg8Q0DsUbgehatBQOF6FK5HoUFASOF6FK7HMUCF61G4HoUkQMP1KFyPwiJArkfhehSuJkAzMzMzMzMsQOxRuB6F6yhAcT0K16NwL0DsUbgehesyQFK4HoXrETBAj8L1KFzPM0B7FK5H4TowQHE9Ctej8ChACtejcD0KMEAfhetRuB4xQM3MzMzMDDNArkfhehQuOEDXo3A9Chc1QAAAAAAAwDRAuB6F61G4RkD2KFyPwtVTQHE9Ctej8FRA16NwPQpnVECPwvUoXE9VQD0K16NwXVlAZmZmZmYmWkBcj8L1KBxPQMP1KFyPAkxAMzMzMzPTQUCPwvUoXI8nQIXrUbgeBS5APQrXo3D9O0BI4XoUrkc+QFyPwvUoXD9AuB6F61E4QkBmZmZmZmYiQI/C9ShcjwpAmpmZmZmZDUCuR+F6FK4PQFyPwvUoXA9A",
          "dtype": "f8"
         },
         "yaxis": "y"
        }
       ],
       "layout": {
        "font": {
         "family": "IBM Plex Sans"
        },
        "height": 435,
        "hovermode": "x unified",
        "legend": {
         "title": {
          "text": "Cryptocurrency"
         },
         "tracegroupgap": 0,
         "x": 0.01,
         "xanchor": "left",
         "y": 0.99,
         "yanchor": "top"
        },
        "template": {
         "data": {
          "bar": [
           {
            "error_x": {
             "color": "#f2f5fa"
            },
            "error_y": {
             "color": "#f2f5fa"
            },
            "marker": {
             "line": {
              "color": "rgb(17,17,17)",
              "width": 0.5
             },
             "pattern": {
              "fillmode": "overlay",
              "size": 10,
              "solidity": 0.2
             }
            },
            "type": "bar"
           }
          ],
          "barpolar": [
           {
            "marker": {
             "line": {
              "color": "rgb(17,17,17)",
              "width": 0.5
             },
             "pattern": {
              "fillmode": "overlay",
              "size": 10,
              "solidity": 0.2
             }
            },
            "type": "barpolar"
           }
          ],
          "carpet": [
           {
            "aaxis": {
             "endlinecolor": "#A2B1C6",
             "gridcolor": "#506784",
             "linecolor": "#506784",
             "minorgridcolor": "#506784",
             "startlinecolor": "#A2B1C6"
            },
            "baxis": {
             "endlinecolor": "#A2B1C6",
             "gridcolor": "#506784",
             "linecolor": "#506784",
             "minorgridcolor": "#506784",
             "startlinecolor": "#A2B1C6"
            },
            "type": "carpet"
           }
          ],
          "choropleth": [
           {
            "colorbar": {
             "outlinewidth": 0,
             "ticks": ""
            },
            "type": "choropleth"
           }
          ],
          "contour": [
           {
            "colorbar": {
             "outlinewidth": 0,
             "ticks": ""
            },
            "colorscale": [
             [
              0,
              "#0d0887"
             ],
             [
              0.1111111111111111,
              "#46039f"
             ],
             [
              0.2222222222222222,
              "#7201a8"
             ],
             [
              0.3333333333333333,
              "#9c179e"
             ],
             [
              0.4444444444444444,
              "#bd3786"
             ],
             [
              0.5555555555555556,
              "#d8576b"
             ],
             [
              0.6666666666666666,
              "#ed7953"
             ],
             [
              0.7777777777777778,
              "#fb9f3a"
             ],
             [
              0.8888888888888888,
              "#fdca26"
             ],
             [
              1,
              "#f0f921"
             ]
            ],
            "type": "contour"
           }
          ],
          "contourcarpet": [
           {
            "colorbar": {
             "outlinewidth": 0,
             "ticks": ""
            },
            "type": "contourcarpet"
           }
          ],
          "heatmap": [
           {
            "colorbar": {
             "outlinewidth": 0,
             "ticks": ""
            },
            "colorscale": [
             [
              0,
              "#0d0887"
             ],
             [
              0.1111111111111111,
              "#46039f"
             ],
             [
              0.2222222222222222,
              "#7201a8"
             ],
             [
              0.3333333333333333,
              "#9c179e"
             ],
             [
              0.4444444444444444,
              "#bd3786"
             ],
             [
              0.5555555555555556,
              "#d8576b"
             ],
             [
              0.6666666666666666,
              "#ed7953"
             ],
             [
              0.7777777777777778,
              "#fb9f3a"
             ],
             [
              0.8888888888888888,
              "#fdca26"
             ],
             [
              1,
              "#f0f921"
             ]
            ],
            "type": "heatmap"
           }
          ],
          "histogram": [
           {
            "marker": {
             "pattern": {
              "fillmode": "overlay",
              "size": 10,
              "solidity": 0.2
             }
            },
            "type": "histogram"
           }
          ],
          "histogram2d": [
           {
            "colorbar": {
             "outlinewidth": 0,
             "ticks": ""
            },
            "colorscale": [
             [
              0,
              "#0d0887"
             ],
             [
              0.1111111111111111,
              "#46039f"
             ],
             [
              0.2222222222222222,
              "#7201a8"
             ],
             [
              0.3333333333333333,
              "#9c179e"
             ],
             [
              0.4444444444444444,
              "#bd3786"
             ],
             [
              0.5555555555555556,
              "#d8576b"
             ],
             [
              0.6666666666666666,
              "#ed7953"
             ],
             [
              0.7777777777777778,
              "#fb9f3a"
             ],
             [
              0.8888888888888888,
              "#fdca26"
             ],
             [
              1,
              "#f0f921"
             ]
            ],
            "type": "histogram2d"
           }
          ],
          "histogram2dcontour": [
           {
            "colorbar": {
             "outlinewidth": 0,
             "ticks": ""
            },
            "colorscale": [
             [
              0,
              "#0d0887"
             ],
             [
              0.1111111111111111,
              "#46039f"
             ],
             [
              0.2222222222222222,
              "#7201a8"
             ],
             [
              0.3333333333333333,
              "#9c179e"
             ],
             [
              0.4444444444444444,
              "#bd3786"
             ],
             [
              0.5555555555555556,
              "#d8576b"
             ],
             [
              0.6666666666666666,
              "#ed7953"
             ],
             [
              0.7777777777777778,
              "#fb9f3a"
             ],
             [
              0.8888888888888888,
              "#fdca26"
             ],
             [
              1,
              "#f0f921"
             ]
            ],
            "type": "histogram2dcontour"
           }
          ],
          "mesh3d": [
           {
            "colorbar": {
             "outlinewidth": 0,
             "ticks": ""
            },
            "type": "mesh3d"
           }
          ],
          "parcoords": [
           {
            "line": {
             "colorbar": {
              "outlinewidth": 0,
              "ticks": ""
             }
            },
            "type": "parcoords"
           }
          ],
          "pie": [
           {
            "automargin": true,
            "type": "pie"
           }
          ],
          "scatter": [
           {
            "marker": {
             "line": {
              "color": "#283442"
             }
            },
            "type": "scatter"
           }
          ],
          "scatter3d": [
           {
            "line": {
             "colorbar": {
              "outlinewidth": 0,
              "ticks": ""
             }
            },
            "marker": {
             "colorbar": {
              "outlinewidth": 0,
              "ticks": ""
             }
            },
            "type": "scatter3d"
           }
          ],
          "scattercarpet": [
           {
            "marker": {
             "colorbar": {
              "outlinewidth": 0,
              "ticks": ""
             }
            },
            "type": "scattercarpet"
           }
          ],
          "scattergeo": [
           {
            "marker": {
             "colorbar": {
              "outlinewidth": 0,
              "ticks": ""
             }
            },
            "type": "scattergeo"
           }
          ],
          "scattergl": [
           {
            "marker": {
             "line": {
              "color": "#283442"
             }
            },
            "type": "scattergl"
           }
          ],
          "scattermap": [
           {
            "marker": {
             "colorbar": {
              "outlinewidth": 0,
              "ticks": ""
             }
            },
            "type": "scattermap"
           }
          ],
          "scattermapbox": [
           {
            "marker": {
             "colorbar": {
              "outlinewidth": 0,
              "ticks": ""
             }
            },
            "type": "scattermapbox"
           }
          ],
          "scatterpolar": [
           {
            "marker": {
             "colorbar": {
              "outlinewidth": 0,
              "ticks": ""
             }
            },
            "type": "scatterpolar"
           }
          ],
          "scatterpolargl": [
           {
            "marker": {
             "colorbar": {
              "outlinewidth": 0,
              "ticks": ""
             }
            },
            "type": "scatterpolargl"
           }
          ],
          "scatterternary": [
           {
            "marker": {
             "colorbar": {
              "outlinewidth": 0,
              "ticks": ""
             }
            },
            "type": "scatterternary"
           }
          ],
          "surface": [
           {
            "colorbar": {
             "outlinewidth": 0,
             "ticks": ""
            },
            "colorscale": [
             [
              0,
              "#0d0887"
             ],
             [
              0.1111111111111111,
              "#46039f"
             ],
             [
              0.2222222222222222,
              "#7201a8"
             ],
             [
              0.3333333333333333,
              "#9c179e"
             ],
             [
              0.4444444444444444,
              "#bd3786"
             ],
             [
              0.5555555555555556,
              "#d8576b"
             ],
             [
              0.6666666666666666,
              "#ed7953"
             ],
             [
              0.7777777777777778,
              "#fb9f3a"
             ],
             [
              0.8888888888888888,
              "#fdca26"
             ],
             [
              1,
              "#f0f921"
             ]
            ],
            "type": "surface"
           }
          ],
          "table": [
           {
            "cells": {
             "fill": {
              "color": "#506784"
             },
             "line": {
              "color": "rgb(17,17,17)"
             }
            },
            "header": {
             "fill": {
              "color": "#2a3f5f"
             },
             "line": {
              "color": "rgb(17,17,17)"
             }
            },
            "type": "table"
           }
          ]
         },
         "layout": {
          "annotationdefaults": {
           "arrowcolor": "#f2f5fa",
           "arrowhead": 0,
           "arrowwidth": 1
          },
          "autotypenumbers": "strict",
          "coloraxis": {
           "colorbar": {
            "outlinewidth": 0,
            "ticks": ""
           }
          },
          "colorscale": {
           "diverging": [
            [
             0,
             "#8e0152"
            ],
            [
             0.1,
             "#c51b7d"
            ],
            [
             0.2,
             "#de77ae"
            ],
            [
             0.3,
             "#f1b6da"
            ],
            [
             0.4,
             "#fde0ef"
            ],
            [
             0.5,
             "#f7f7f7"
            ],
            [
             0.6,
             "#e6f5d0"
            ],
            [
             0.7,
             "#b8e186"
            ],
            [
             0.8,
             "#7fbc41"
            ],
            [
             0.9,
             "#4d9221"
            ],
            [
             1,
             "#276419"
            ]
           ],
           "sequential": [
            [
             0,
             "#0d0887"
            ],
            [
             0.1111111111111111,
             "#46039f"
            ],
            [
             0.2222222222222222,
             "#7201a8"
            ],
            [
             0.3333333333333333,
             "#9c179e"
            ],
            [
             0.4444444444444444,
             "#bd3786"
            ],
            [
             0.5555555555555556,
             "#d8576b"
            ],
            [
             0.6666666666666666,
             "#ed7953"
            ],
            [
             0.7777777777777778,
             "#fb9f3a"
            ],
            [
             0.8888888888888888,
             "#fdca26"
            ],
            [
             1,
             "#f0f921"
            ]
           ],
           "sequentialminus": [
            [
             0,
             "#0d0887"
            ],
            [
             0.1111111111111111,
             "#46039f"
            ],
            [
             0.2222222222222222,
             "#7201a8"
            ],
            [
             0.3333333333333333,
             "#9c179e"
            ],
            [
             0.4444444444444444,
             "#bd3786"
            ],
            [
             0.5555555555555556,
             "#d8576b"
            ],
            [
             0.6666666666666666,
             "#ed7953"
            ],
            [
             0.7777777777777778,
             "#fb9f3a"
            ],
            [
             0.8888888888888888,
             "#fdca26"
            ],
            [
             1,
             "#f0f921"
            ]
           ]
          },
          "colorway": [
           "#636efa",
           "#EF553B",
           "#00cc96",
           "#ab63fa",
           "#FFA15A",
           "#19d3f3",
           "#FF6692",
           "#B6E880",
           "#FF97FF",
           "#FECB52"
          ],
          "font": {
           "color": "#f2f5fa"
          },
          "geo": {
           "bgcolor": "rgb(17,17,17)",
           "lakecolor": "rgb(17,17,17)",
           "landcolor": "rgb(17,17,17)",
           "showlakes": true,
           "showland": true,
           "subunitcolor": "#506784"
          },
          "hoverlabel": {
           "align": "left"
          },
          "hovermode": "closest",
          "mapbox": {
           "style": "dark"
          },
          "paper_bgcolor": "rgb(17,17,17)",
          "plot_bgcolor": "rgb(17,17,17)",
          "polar": {
           "angularaxis": {
            "gridcolor": "#506784",
            "linecolor": "#506784",
            "ticks": ""
           },
           "bgcolor": "rgb(17,17,17)",
           "radialaxis": {
            "gridcolor": "#506784",
            "linecolor": "#506784",
            "ticks": ""
           }
          },
          "scene": {
           "xaxis": {
            "backgroundcolor": "rgb(17,17,17)",
            "gridcolor": "#506784",
            "gridwidth": 2,
            "linecolor": "#506784",
            "showbackground": true,
            "ticks": "",
            "zerolinecolor": "#C8D4E3"
           },
           "yaxis": {
            "backgroundcolor": "rgb(17,17,17)",
            "gridcolor": "#506784",
            "gridwidth": 2,
            "linecolor": "#506784",
            "showbackground": true,
            "ticks": "",
            "zerolinecolor": "#C8D4E3"
           },
           "zaxis": {
            "backgroundcolor": "rgb(17,17,17)",
            "gridcolor": "#506784",
            "gridwidth": 2,
            "linecolor": "#506784",
            "showbackground": true,
            "ticks": "",
            "zerolinecolor": "#C8D4E3"
           }
          },
          "shapedefaults": {
           "line": {
            "color": "#f2f5fa"
           }
          },
          "sliderdefaults": {
           "bgcolor": "#C8D4E3",
           "bordercolor": "rgb(17,17,17)",
           "borderwidth": 1,
           "tickwidth": 0
          },
          "ternary": {
           "aaxis": {
            "gridcolor": "#506784",
            "linecolor": "#506784",
            "ticks": ""
           },
           "baxis": {
            "gridcolor": "#506784",
            "linecolor": "#506784",
            "ticks": ""
           },
           "bgcolor": "rgb(17,17,17)",
           "caxis": {
            "gridcolor": "#506784",
            "linecolor": "#506784",
            "ticks": ""
           }
          },
          "title": {
           "x": 0.05
          },
          "updatemenudefaults": {
           "bgcolor": "#506784",
           "borderwidth": 0
          },
          "xaxis": {
           "automargin": true,
           "gridcolor": "#283442",
           "linecolor": "#506784",
           "ticks": "",
           "title": {
            "standoff": 15
           },
           "zerolinecolor": "#283442",
           "zerolinewidth": 2
          },
          "yaxis": {
           "automargin": true,
           "gridcolor": "#283442",
           "linecolor": "#506784",
           "ticks": "",
           "title": {
            "standoff": 15
           },
           "zerolinecolor": "#283442",
           "zerolinewidth": 2
          }
         }
        },
        "title": {
         "subtitle": {
          "text": "Monthly Average | Log Scale"
         },
         "text": "<b>Crypto Price Growth</b>"
        },
        "width": 705,
        "xaxis": {
         "anchor": "y",
         "domain": [
          0,
          1
         ],
         "rangeslider": {
          "visible": true
         },
         "title": {
          "text": "Date"
         }
        },
        "yaxis": {
         "anchor": "x",
         "domain": [
          0,
          1
         ],
         "title": {
          "text": "Price (USD)"
         },
         "type": "log"
        }
       }
      }
     },
     "metadata": {},
     "output_type": "display_data"
    }
   ],
   "source": [
    "#%% Creating IBM Plex Sansactive Price Growth Graph\n",
    "\n",
    "# Convert Period to datetime for plotting\n",
    "crypto_monthly_avg['timestamp'] = crypto_monthly_avg['timestamp'].astype(str).apply(lambda x: pd.to_datetime(x))\n",
    "\n",
    "# Create the figure\n",
    "fig = px.line(\n",
    "    crypto_monthly_avg,\n",
    "    x='timestamp',\n",
    "    y='average_price',\n",
    "    color='symbols',\n",
    "    custom_data=['symbols', 'average_price'],\n",
    "    title='<b>Crypto Price Growth</b>',\n",
    "    subtitle='Monthly Average | Log Scale',\n",
    "    labels={\n",
    "        'timestamp': 'Date',\n",
    "        'average_price': 'Price (USD)',\n",
    "        'symbols': 'Cryptocurrency'\n",
    "    },\n",
    "    color_discrete_map={\n",
    "        'BTC/USDT': '#F7931A',  # Bitcoin Orange\n",
    "        'ETH/USDT': '#636BFF',  # Ethereum Blue\n",
    "        'BNB/USDT': '#F3BA2F',  # Binance Yellow\n",
    "        'SOL/USDT': '#CF62E7',   # Solana Pink\n",
    "        'XRP/USDT': '#4B8BBE',  # XRP Blue\n",
    "        'AVAX/USDT': '#E84142'   # Avalanche Red\n",
    "    },\n",
    "    markers=False,\n",
    ")\n",
    "\n",
    "# Update traces to reduce marker size\n",
    "fig.update_traces(\n",
    "    marker={'size': 4}, # Try values between 2-6\n",
    "    hovertemplate=\"<b>%{customdata[0]}</b><br>\" +\n",
    "                  \"Price: $%{customdata[1]:,.2f}<br>\" +\n",
    "                  \"<extra></extra>\"\n",
    "    )  \n",
    "# Customize the layout\n",
    "fig.update_layout(\n",
    "    template='plotly_dark',\n",
    "    hovermode='x unified',\n",
    "    font_family=\"IBM Plex Sans\",\n",
    "    legend=dict(\n",
    "        yanchor=\"top\",\n",
    "        y=0.99,\n",
    "        xanchor=\"left\",\n",
    "        x=0.01\n",
    "    ),\n",
    "    height=435,  # Adjust height\n",
    "    width=705,  # Adjust width\n",
    "    xaxis_title=\"Date\",\n",
    "    yaxis_title=\"Price (USD)\",\n",
    "    yaxis_type=\"log\"  # Log scale for better price comparison\n",
    ")\n",
    "\n",
    "# Add range slider\n",
    "fig.update_xaxes(rangeslider_visible=True)\n",
    "\n",
    "# Show the plot\n",
    "fig.show(config={\n",
    "    'displayModeBar': True,\n",
    "    'displaylogo': False,\n",
    "    'modeBarButtonsToAdd': ['fullscreen']\n",
    "})\n",
    "\n",
    "# Save the figure as an HTML file\n",
    "fig.write_html(\"plots/html/cypto_price_growth.html\")"
   ]
  },
  {
   "cell_type": "code",
   "execution_count": 48,
   "id": "2d16f571",
   "metadata": {},
   "outputs": [
    {
     "data": {
      "application/vnd.plotly.v1+json": {
       "config": {
        "displayModeBar": true,
        "displaylogo": false,
        "modeBarButtonsToAdd": [
         "fullscreen"
        ],
        "plotlyServerURL": "https://plot.ly"
       },
       "data": [
        {
         "customdata": [
          [
           "BTC/USDT",
           94420.22
          ],
          [
           "BTC/USDT",
           85133.02
          ],
          [
           "BTC/USDT",
           85803
          ],
          [
           "BTC/USDT",
           90521.12
          ],
          [
           "BTC/USDT",
           99422.34
          ],
          [
           "BTC/USDT",
           99426.5
          ],
          [
           "BTC/USDT",
           83211.5
          ],
          [
           "BTC/USDT",
           66283.06
          ],
          [
           "BTC/USDT",
           59524
          ],
          [
           "BTC/USDT",
           57329.89
          ],
          [
           "BTC/USDT",
           61782.96
          ],
          [
           "BTC/USDT",
           65199.51
          ],
          [
           "BTC/USDT",
           64265.91
          ],
          [
           "BTC/USDT",
           65994.8
          ],
          [
           "BTC/USDT",
           66391
          ],
          [
           "BTC/USDT",
           52942.14
          ],
          [
           "BTC/USDT",
           43762.24
          ],
          [
           "BTC/USDT",
           41157.93
          ],
          [
           "BTC/USDT",
           36273.7
          ],
          [
           "BTC/USDT",
           30909.33
          ],
          [
           "BTC/USDT",
           26192.28
          ],
          [
           "BTC/USDT",
           27705
          ],
          [
           "BTC/USDT",
           30333.05
          ],
          [
           "BTC/USDT",
           28115.97
          ],
          [
           "BTC/USDT",
           27815.73
          ],
          [
           "BTC/USDT",
           28971.41
          ],
          [
           "BTC/USDT",
           24366.88
          ],
          [
           "BTC/USDT",
           23300.54
          ],
          [
           "BTC/USDT",
           20229.78
          ],
          [
           "BTC/USDT",
           17322.12
          ],
          [
           "BTC/USDT",
           18478.32
          ],
          [
           "BTC/USDT",
           19637.5
          ],
          [
           "BTC/USDT",
           20462.49
          ],
          [
           "BTC/USDT",
           22365.66
          ],
          [
           "BTC/USDT",
           21724.5
          ],
          [
           "BTC/USDT",
           24802.48
          ],
          [
           "BTC/USDT",
           33361.88
          ],
          [
           "BTC/USDT",
           42511.16
          ],
          [
           "BTC/USDT",
           42672.42
          ],
          [
           "BTC/USDT",
           40071.64
          ],
          [
           "BTC/USDT",
           40453.58
          ],
          [
           "BTC/USDT",
           50526.92
          ],
          [
           "BTC/USDT",
           61128.32
          ],
          [
           "BTC/USDT",
           55141.52
          ],
          [
           "BTC/USDT",
           46260
          ],
          [
           "BTC/USDT",
           43916.35
          ],
          [
           "BTC/USDT",
           35863
          ],
          [
           "BTC/USDT",
           35067.5
          ],
          [
           "BTC/USDT",
           44750
          ],
          [
           "BTC/USDT",
           55892
          ],
          [
           "BTC/USDT",
           53397.26
          ],
          [
           "BTC/USDT",
           45324.48
          ],
          [
           "BTC/USDT",
           35040
          ],
          [
           "BTC/USDT",
           23436.16
          ],
          [
           "BTC/USDT",
           16529.1
          ],
          [
           "BTC/USDT",
           12237
          ],
          [
           "BTC/USDT",
           10937.92
          ],
          [
           "BTC/USDT",
           11493.25
          ],
          [
           "BTC/USDT",
           10168.52
          ],
          [
           "BTC/USDT",
           9606.5
          ],
          [
           "BTC/USDT",
           9092
          ],
          [
           "BTC/USDT",
           7805.06
          ],
          [
           "BTC/USDT",
           6485.06
          ],
          [
           "BTC/USDT",
           9472.5
          ],
          [
           "BTC/USDT",
           8224.52
          ],
          [
           "BTC/USDT",
           7092.5
          ],
          [
           "BTC/USDT",
           8014.34
          ],
          [
           "BTC/USDT",
           8835
          ],
          [
           "BTC/USDT",
           9307.94
          ],
          [
           "BTC/USDT",
           10825.35
          ],
          [
           "BTC/USDT",
           11103.54
          ],
          [
           "BTC/USDT",
           10707.29
          ],
          [
           "BTC/USDT",
           7195.23
          ],
          [
           "BTC/USDT",
           4833.5
          ],
          [
           "BTC/USDT",
           3905.34
          ],
          [
           "BTC/USDT",
           3785.55
          ],
          [
           "BTC/USDT",
           3709.86
          ],
          [
           "BTC/USDT",
           3734.62
          ],
          [
           "BTC/USDT",
           5133.9
          ],
          [
           "BTC/USDT",
           6942.5
          ],
          [
           "BTC/USDT",
           6760.5
          ],
          [
           "BTC/USDT",
           6815
          ],
          [
           "BTC/USDT",
           7280.88
          ],
          [
           "BTC/USDT",
           6768.34
          ],
          [
           "BTC/USDT",
           8526.48
          ],
          [
           "BTC/USDT",
           8094.91
          ],
          [
           "BTC/USDT",
           9155.05
          ],
          [
           "BTC/USDT",
           8893.01
          ],
          [
           "BTC/USDT",
           13105.62
          ],
          [
           "BTC/USDT",
           14589.34
          ],
          [
           "BTC/USDT",
           8312.52
          ],
          [
           "BTC/USDT",
           5304
          ],
          [
           "BTC/USDT",
           3878.1
          ],
          [
           "BTC/USDT",
           4072.71
          ]
         ],
         "hovertemplate": "<b>%{customdata[0]}</b><br>Price: $%{customdata[1]:,.2f}<br><extra></extra>",
         "legendgroup": "BTC/USDT",
         "line": {
          "color": "#F7931A",
          "dash": "solid"
         },
         "marker": {
          "size": 4,
          "symbol": "circle"
         },
         "mode": "lines",
         "name": "BTC/USDT",
         "orientation": "v",
         "showlegend": true,
         "type": "scatter",
         "x": [
          "2025-05-01T00:00:00.000000000",
          "2025-04-01T00:00:00.000000000",
          "2025-03-01T00:00:00.000000000",
          "2025-02-01T00:00:00.000000000",
          "2025-01-01T00:00:00.000000000",
          "2024-12-01T00:00:00.000000000",
          "2024-11-01T00:00:00.000000000",
          "2024-10-01T00:00:00.000000000",
          "2024-09-01T00:00:00.000000000",
          "2024-08-01T00:00:00.000000000",
          "2024-07-01T00:00:00.000000000",
          "2024-06-01T00:00:00.000000000",
          "2024-05-01T00:00:00.000000000",
          "2024-04-01T00:00:00.000000000",
          "2024-03-01T00:00:00.000000000",
          "2024-02-01T00:00:00.000000000",
          "2024-01-01T00:00:00.000000000",
          "2023-12-01T00:00:00.000000000",
          "2023-11-01T00:00:00.000000000",
          "2023-10-01T00:00:00.000000000",
          "2023-09-01T00:00:00.000000000",
          "2023-08-01T00:00:00.000000000",
          "2023-07-01T00:00:00.000000000",
          "2023-06-01T00:00:00.000000000",
          "2023-05-01T00:00:00.000000000",
          "2023-04-01T00:00:00.000000000",
          "2023-03-01T00:00:00.000000000",
          "2023-02-01T00:00:00.000000000",
          "2023-01-01T00:00:00.000000000",
          "2022-12-01T00:00:00.000000000",
          "2022-11-01T00:00:00.000000000",
          "2022-10-01T00:00:00.000000000",
          "2022-09-01T00:00:00.000000000",
          "2022-08-01T00:00:00.000000000",
          "2022-07-01T00:00:00.000000000",
          "2022-06-01T00:00:00.000000000",
          "2022-05-01T00:00:00.000000000",
          "2022-04-01T00:00:00.000000000",
          "2022-03-01T00:00:00.000000000",
          "2022-02-01T00:00:00.000000000",
          "2022-01-01T00:00:00.000000000",
          "2021-12-01T00:00:00.000000000",
          "2021-11-01T00:00:00.000000000",
          "2021-10-01T00:00:00.000000000",
          "2021-09-01T00:00:00.000000000",
          "2021-08-01T00:00:00.000000000",
          "2021-07-01T00:00:00.000000000",
          "2021-06-01T00:00:00.000000000",
          "2021-05-01T00:00:00.000000000",
          "2021-04-01T00:00:00.000000000",
          "2021-03-01T00:00:00.000000000",
          "2021-02-01T00:00:00.000000000",
          "2021-01-01T00:00:00.000000000",
          "2020-12-01T00:00:00.000000000",
          "2020-11-01T00:00:00.000000000",
          "2020-10-01T00:00:00.000000000",
          "2020-09-01T00:00:00.000000000",
          "2020-08-01T00:00:00.000000000",
          "2020-07-01T00:00:00.000000000",
          "2020-06-01T00:00:00.000000000",
          "2020-05-01T00:00:00.000000000",
          "2020-04-01T00:00:00.000000000",
          "2020-03-01T00:00:00.000000000",
          "2020-02-01T00:00:00.000000000",
          "2020-01-01T00:00:00.000000000",
          "2019-12-01T00:00:00.000000000",
          "2019-11-01T00:00:00.000000000",
          "2019-10-01T00:00:00.000000000",
          "2019-09-01T00:00:00.000000000",
          "2019-08-01T00:00:00.000000000",
          "2019-07-01T00:00:00.000000000",
          "2019-06-01T00:00:00.000000000",
          "2019-05-01T00:00:00.000000000",
          "2019-04-01T00:00:00.000000000",
          "2019-03-01T00:00:00.000000000",
          "2019-02-01T00:00:00.000000000",
          "2019-01-01T00:00:00.000000000",
          "2018-12-01T00:00:00.000000000",
          "2018-11-01T00:00:00.000000000",
          "2018-10-01T00:00:00.000000000",
          "2018-09-01T00:00:00.000000000",
          "2018-08-01T00:00:00.000000000",
          "2018-07-01T00:00:00.000000000",
          "2018-06-01T00:00:00.000000000",
          "2018-05-01T00:00:00.000000000",
          "2018-04-01T00:00:00.000000000",
          "2018-03-01T00:00:00.000000000",
          "2018-02-01T00:00:00.000000000",
          "2018-01-01T00:00:00.000000000",
          "2017-12-01T00:00:00.000000000",
          "2017-11-01T00:00:00.000000000",
          "2017-10-01T00:00:00.000000000",
          "2017-09-01T00:00:00.000000000",
          "2017-08-01T00:00:00.000000000"
         ],
         "xaxis": "x",
         "y": {
          "bdata": "UrgehUMN90AfhetR0Mj0QAAAAACw8vRAuB6F65EZ9kAK16Nw5UX4QAAAAAAoRvhAAAAAALhQ9EBcj8L1sC7wQAAAAACAEO1Arkfhejz+60CF61G43iruQB+F61Hw1e9A7FG4Hj1h70DNzMzMrBzwQAAAAABwNfBArkfhesTZ6UDhehSuR17lQClcj8K9GORAZmZmZja24UDsUbgeVS/eQLgehesRlNlAAAAAAEAO20AzMzMzQ5/dQEjhehT+dNtAhetRuO4p20DXo3A92krcQB+F61G4y9dA9ihcjyLB1kC4HoXrccHTQOF6FK6H6tBArkfhepQL0kAAAAAAYC3TQMP1KFyf+9NA16NwPWrX1UAAAAAAIDfVQIXrUbieONhAj8L1KDxK4EDsUbge5cHkQArXo3AN1uRArkfhevSQ40D2KFyPssDjQArXo3Ddq+hA16NwPQrZ7UA9CtejsOzqQAAAAACAluZAMzMzM4tx5UAAAAAA4ILhQAAAAABwH+FAAAAAAMDZ5UAAAAAAgErrQB+F61GoEupAw/UoXI8h5kAAAAAAABzhQNejcD0K49ZAZmZmZkYk0EAAAAAAgObHQClcj8L1XMVAAAAAAKByxkD2KFyPQtzDQAAAAABAw8JAAAAAAADCwUDD9ShcD32+QMP1KFwPVblAAAAAAECAwkD2KFyPQhDAQAAAAACAtLtApHA9CldOv0AAAAAAgEHBQB+F61H4LcJAzczMzKwkxUDsUbgexa/FQOxRuB6l6cRAFK5H4TobvEAAAAAAgOGyQEjhehSugq5AmpmZmRmTrUAfhetRuPusQArXo3A9La1AZmZmZuYNtEAAAAAAgB67QAAAAACAaLpAAAAAAACfukB7FK5H4XC8QKRwPQpXcLpACtejcD2nwEBcj8L16J6/QGZmZmaG4cFAexSuR4FewUDD9Shcz5jJQFK4HoWrfsxA9ihcj0I8wEAAAAAAALi0QDMzMzMzTK5AUrgehWvRr0A=",
          "dtype": "f8"
         },
         "yaxis": "y"
        },
        {
         "customdata": [
          [
           "ETH/USDT",
           1799.62
          ],
          [
           "ETH/USDT",
           1671.02
          ],
          [
           "ETH/USDT",
           2152.43
          ],
          [
           "ETH/USDT",
           2704.12
          ],
          [
           "ETH/USDT",
           3332.42
          ],
          [
           "ETH/USDT",
           3604.85
          ],
          [
           "ETH/USDT",
           3048.28
          ],
          [
           "ETH/USDT",
           2539.74
          ],
          [
           "ETH/USDT",
           2439.57
          ],
          [
           "ETH/USDT",
           2676.78
          ],
          [
           "ETH/USDT",
           3186.41
          ],
          [
           "ETH/USDT",
           3563.73
          ],
          [
           "ETH/USDT",
           3397
          ],
          [
           "ETH/USDT",
           3291.36
          ],
          [
           "ETH/USDT",
           3575.24
          ],
          [
           "ETH/USDT",
           2881.4
          ],
          [
           "ETH/USDT",
           2408.66
          ],
          [
           "ETH/USDT",
           2245.42
          ],
          [
           "ETH/USDT",
           1957.05
          ],
          [
           "ETH/USDT",
           1693.27
          ],
          [
           "ETH/USDT",
           1612.66
          ],
          [
           "ETH/USDT",
           1714.87
          ],
          [
           "ETH/USDT",
           1927.55
          ],
          [
           "ETH/USDT",
           1787.3
          ],
          [
           "ETH/USDT",
           1879.5
          ],
          [
           "ETH/USDT",
           1952.16
          ],
          [
           "ETH/USDT",
           1612.78
          ],
          [
           "ETH/USDT",
           1602.45
          ],
          [
           "ETH/USDT",
           1434.92
          ],
          [
           "ETH/USDT",
           1251.62
          ],
          [
           "ETH/USDT",
           1376.76
          ],
          [
           "ETH/USDT",
           1426.53
          ],
          [
           "ETH/USDT",
           1504.5
          ],
          [
           "ETH/USDT",
           1726.04
          ],
          [
           "ETH/USDT",
           1395.56
          ],
          [
           "ETH/USDT",
           1427.07
          ],
          [
           "ETH/USDT",
           2334.43
          ],
          [
           "ETH/USDT",
           3144.8
          ],
          [
           "ETH/USDT",
           2963.44
          ],
          [
           "ETH/USDT",
           2791.83
          ],
          [
           "ETH/USDT",
           3029.86
          ],
          [
           "ETH/USDT",
           4141.22
          ],
          [
           "ETH/USDT",
           4390.5
          ],
          [
           "ETH/USDT",
           3714.77
          ],
          [
           "ETH/USDT",
           3339.94
          ],
          [
           "ETH/USDT",
           2959.16
          ],
          [
           "ETH/USDT",
           2129.93
          ],
          [
           "ETH/USDT",
           2296.22
          ],
          [
           "ETH/USDT",
           3050.73
          ],
          [
           "ETH/USDT",
           2341.66
          ],
          [
           "ETH/USDT",
           1678.6
          ],
          [
           "ETH/USDT",
           1656.16
          ],
          [
           "ETH/USDT",
           1094.64
          ],
          [
           "ETH/USDT",
           644.58
          ],
          [
           "ETH/USDT",
           496.62
          ],
          [
           "ETH/USDT",
           376.46
          ],
          [
           "ETH/USDT",
           398.63
          ],
          [
           "ETH/USDT",
           385.5
          ],
          [
           "ETH/USDT",
           286.16
          ],
          [
           "ETH/USDT",
           234.9
          ],
          [
           "ETH/USDT",
           211.5
          ],
          [
           "ETH/USDT",
           177.96
          ],
          [
           "ETH/USDT",
           168.96
          ],
          [
           "ETH/USDT",
           233.76
          ],
          [
           "ETH/USDT",
           156.44
          ],
          [
           "ETH/USDT",
           134.38
          ],
          [
           "ETH/USDT",
           163.27
          ],
          [
           "ETH/USDT",
           175.6
          ],
          [
           "ETH/USDT",
           186.98
          ],
          [
           "ETH/USDT",
           201.38
          ],
          [
           "ETH/USDT",
           255.02
          ],
          [
           "ETH/USDT",
           296.68
          ],
          [
           "ETH/USDT",
           223.08
          ],
          [
           "ETH/USDT",
           162.72
          ],
          [
           "ETH/USDT",
           134.24
          ],
          [
           "ETH/USDT",
           133.6
          ],
          [
           "ETH/USDT",
           130.08
          ],
          [
           "ETH/USDT",
           119.73
          ],
          [
           "ETH/USDT",
           163.58
          ],
          [
           "ETH/USDT",
           214
          ],
          [
           "ETH/USDT",
           234.66
          ],
          [
           "ETH/USDT",
           342.5
          ],
          [
           "ETH/USDT",
           466.21
          ],
          [
           "ETH/USDT",
           516.64
          ],
          [
           "ETH/USDT",
           673.05
          ],
          [
           "ETH/USDT",
           534.94
          ],
          [
           "ETH/USDT",
           622.98
          ],
          [
           "ETH/USDT",
           867.54
          ],
          [
           "ETH/USDT",
           1078.4
          ],
          [
           "ETH/USDT",
           619.95
          ],
          [
           "ETH/USDT",
           394.86
          ],
          [
           "ETH/USDT",
           313.1
          ],
          [
           "ETH/USDT",
           293.2
          ],
          [
           "ETH/USDT",
           268.96
          ]
         ],
         "hovertemplate": "<b>%{customdata[0]}</b><br>Price: $%{customdata[1]:,.2f}<br><extra></extra>",
         "legendgroup": "ETH/USDT",
         "line": {
          "color": "#636BFF",
          "dash": "solid"
         },
         "marker": {
          "size": 4,
          "symbol": "circle"
         },
         "mode": "lines",
         "name": "ETH/USDT",
         "orientation": "v",
         "showlegend": true,
         "type": "scatter",
         "x": [
          "2025-05-01T00:00:00.000000000",
          "2025-04-01T00:00:00.000000000",
          "2025-03-01T00:00:00.000000000",
          "2025-02-01T00:00:00.000000000",
          "2025-01-01T00:00:00.000000000",
          "2024-12-01T00:00:00.000000000",
          "2024-11-01T00:00:00.000000000",
          "2024-10-01T00:00:00.000000000",
          "2024-09-01T00:00:00.000000000",
          "2024-08-01T00:00:00.000000000",
          "2024-07-01T00:00:00.000000000",
          "2024-06-01T00:00:00.000000000",
          "2024-05-01T00:00:00.000000000",
          "2024-04-01T00:00:00.000000000",
          "2024-03-01T00:00:00.000000000",
          "2024-02-01T00:00:00.000000000",
          "2024-01-01T00:00:00.000000000",
          "2023-12-01T00:00:00.000000000",
          "2023-11-01T00:00:00.000000000",
          "2023-10-01T00:00:00.000000000",
          "2023-09-01T00:00:00.000000000",
          "2023-08-01T00:00:00.000000000",
          "2023-07-01T00:00:00.000000000",
          "2023-06-01T00:00:00.000000000",
          "2023-05-01T00:00:00.000000000",
          "2023-04-01T00:00:00.000000000",
          "2023-03-01T00:00:00.000000000",
          "2023-02-01T00:00:00.000000000",
          "2023-01-01T00:00:00.000000000",
          "2022-12-01T00:00:00.000000000",
          "2022-11-01T00:00:00.000000000",
          "2022-10-01T00:00:00.000000000",
          "2022-09-01T00:00:00.000000000",
          "2022-08-01T00:00:00.000000000",
          "2022-07-01T00:00:00.000000000",
          "2022-06-01T00:00:00.000000000",
          "2022-05-01T00:00:00.000000000",
          "2022-04-01T00:00:00.000000000",
          "2022-03-01T00:00:00.000000000",
          "2022-02-01T00:00:00.000000000",
          "2022-01-01T00:00:00.000000000",
          "2021-12-01T00:00:00.000000000",
          "2021-11-01T00:00:00.000000000",
          "2021-10-01T00:00:00.000000000",
          "2021-09-01T00:00:00.000000000",
          "2021-08-01T00:00:00.000000000",
          "2021-07-01T00:00:00.000000000",
          "2021-06-01T00:00:00.000000000",
          "2021-05-01T00:00:00.000000000",
          "2021-04-01T00:00:00.000000000",
          "2021-03-01T00:00:00.000000000",
          "2021-02-01T00:00:00.000000000",
          "2021-01-01T00:00:00.000000000",
          "2020-12-01T00:00:00.000000000",
          "2020-11-01T00:00:00.000000000",
          "2020-10-01T00:00:00.000000000",
          "2020-09-01T00:00:00.000000000",
          "2020-08-01T00:00:00.000000000",
          "2020-07-01T00:00:00.000000000",
          "2020-06-01T00:00:00.000000000",
          "2020-05-01T00:00:00.000000000",
          "2020-04-01T00:00:00.000000000",
          "2020-03-01T00:00:00.000000000",
          "2020-02-01T00:00:00.000000000",
          "2020-01-01T00:00:00.000000000",
          "2019-12-01T00:00:00.000000000",
          "2019-11-01T00:00:00.000000000",
          "2019-10-01T00:00:00.000000000",
          "2019-09-01T00:00:00.000000000",
          "2019-08-01T00:00:00.000000000",
          "2019-07-01T00:00:00.000000000",
          "2019-06-01T00:00:00.000000000",
          "2019-05-01T00:00:00.000000000",
          "2019-04-01T00:00:00.000000000",
          "2019-03-01T00:00:00.000000000",
          "2019-02-01T00:00:00.000000000",
          "2019-01-01T00:00:00.000000000",
          "2018-12-01T00:00:00.000000000",
          "2018-11-01T00:00:00.000000000",
          "2018-10-01T00:00:00.000000000",
          "2018-09-01T00:00:00.000000000",
          "2018-08-01T00:00:00.000000000",
          "2018-07-01T00:00:00.000000000",
          "2018-06-01T00:00:00.000000000",
          "2018-05-01T00:00:00.000000000",
          "2018-04-01T00:00:00.000000000",
          "2018-03-01T00:00:00.000000000",
          "2018-02-01T00:00:00.000000000",
          "2018-01-01T00:00:00.000000000",
          "2017-12-01T00:00:00.000000000",
          "2017-11-01T00:00:00.000000000",
          "2017-10-01T00:00:00.000000000",
          "2017-09-01T00:00:00.000000000",
          "2017-08-01T00:00:00.000000000"
         ],
         "xaxis": "x",
         "y": {
          "bdata": "FK5H4XoenECuR+F6FByaQI/C9Sjc0KBACtejcD0gpUCkcD0K1wiqQDMzMzOzKaxAw/UoXI/Qp0AUrkfhetejQHE9CtcjD6NAw/UoXI/ppEC4HoXr0eSoQClcj8J116tAAAAAAACKqkAfhetRuLapQBSuR+F67qtAzczMzMyCpkC4HoXrUdGiQKRwPQrXiqFAMzMzMzOUnkCuR+F6FHWaQHE9CtejMplAFK5H4XrLmkAzMzMzMx6eQDMzMzMz7ZtAAAAAAABenUBxPQrXo4CeQIXrUbgeM5lAzczMzMwJmUBI4XoUrmuWQBSuR+F6jpNA16NwPQqDlUCF61G4HkqWQAAAAAAAgpdAXI/C9Sj4mkAK16NwPc6VQOF6FK5HTJZAj8L1KNw8okCamZmZmZGoQHsUrkfhJqdAXI/C9ajPpUAfhetRuKunQB+F61E4LbBAAAAAAIAmsUDXo3A9igWtQHsUrkfhF6pAuB6F61Eep0CPwvUo3KOgQD0K16Nw8KFAKVyPwnXVp0C4HoXrUUuiQGZmZmZmOppAcT0K16PgmUDD9ShcjxqRQHE9CtejJIRAUrgehesJf0CPwvUoXId3QK5H4XoU6nhAAAAAAAAYeEDD9Shcj+JxQM3MzMzMXG1AAAAAAABwakAfhetRuD5mQB+F61G4HmVAuB6F61E4bUCuR+F6FI5jQFyPwvUozGBAcT0K16NoZEAzMzMzM/NlQI/C9ShcX2dAXI/C9SgsaUBxPQrXo+BvQHsUrkfhinJAw/UoXI/ia0DXo3A9CldkQEjhehSux2BAMzMzMzOzYEDD9Shcj0JgQB+F61G47l1Aw/UoXI9yZEAAAAAAAMBqQIXrUbgeVW1AAAAAAABodUCPwvUoXCN9QIXrUbgeJYBAZmZmZmYIhUDsUbgehbeAQKRwPQrXd4NAuB6F61Eci0CamZmZmdmQQJqZmZmZX4NA9ihcj8KteECamZmZmZFzQDMzMzMzU3JAj8L1KFzPcEA=",
          "dtype": "f8"
         },
         "yaxis": "y"
        },
        {
         "customdata": [
          [
           "BNB/USDT",
           601.03
          ],
          [
           "BNB/USDT",
           570
          ],
          [
           "BNB/USDT",
           575.94
          ],
          [
           "BNB/USDT",
           616
          ],
          [
           "BNB/USDT",
           691.54
          ],
          [
           "BNB/USDT",
           706.28
          ],
          [
           "BNB/USDT",
           615.67
          ],
          [
           "BNB/USDT",
           573.25
          ],
          [
           "BNB/USDT",
           544.95
          ],
          [
           "BNB/USDT",
           500.3
          ],
          [
           "BNB/USDT",
           530.2
          ],
          [
           "BNB/USDT",
           636.5
          ],
          [
           "BNB/USDT",
           584.05
          ],
          [
           "BNB/USDT",
           571.25
          ],
          [
           "BNB/USDT",
           500.65
          ],
          [
           "BNB/USDT",
           361.85
          ],
          [
           "BNB/USDT",
           310.9
          ],
          [
           "BNB/USDT",
           281.55
          ],
          [
           "BNB/USDT",
           247.1
          ],
          [
           "BNB/USDT",
           220.05
          ],
          [
           "BNB/USDT",
           212.6
          ],
          [
           "BNB/USDT",
           226.1
          ],
          [
           "BNB/USDT",
           246.4
          ],
          [
           "BNB/USDT",
           264.4
          ],
          [
           "BNB/USDT",
           320.4
          ],
          [
           "BNB/USDT",
           324.75
          ],
          [
           "BNB/USDT",
           305.65
          ],
          [
           "BNB/USDT",
           310.3
          ],
          [
           "BNB/USDT",
           282.1
          ],
          [
           "BNB/USDT",
           261
          ],
          [
           "BNB/USDT",
           324.15
          ],
          [
           "BNB/USDT",
           297.35
          ],
          [
           "BNB/USDT",
           278.35
          ],
          [
           "BNB/USDT",
           304.55
          ],
          [
           "BNB/USDT",
           257.75
          ],
          [
           "BNB/USDT",
           253.95
          ],
          [
           "BNB/USDT",
           316.2
          ],
          [
           "BNB/USDT",
           418.15
          ],
          [
           "BNB/USDT",
           405.9
          ],
          [
           "BNB/USDT",
           384.45
          ],
          [
           "BNB/USDT",
           434.95
          ],
          [
           "BNB/USDT",
           569.5
          ],
          [
           "BNB/USDT",
           589.65
          ],
          [
           "BNB/USDT",
           461
          ],
          [
           "BNB/USDT",
           414.95
          ],
          [
           "BNB/USDT",
           417.98
          ],
          [
           "BNB/USDT",
           297.26
          ],
          [
           "BNB/USDT",
           329.21
          ],
          [
           "BNB/USDT",
           451.74
          ],
          [
           "BNB/USDT",
           469.63
          ],
          [
           "BNB/USDT",
           262.91
          ],
          [
           "BNB/USDT",
           196.07
          ],
          [
           "BNB/USDT",
           41.13
          ],
          [
           "BNB/USDT",
           33.36
          ],
          [
           "BNB/USDT",
           30.59
          ],
          [
           "BNB/USDT",
           29.02
          ],
          [
           "BNB/USDT",
           25.7
          ],
          [
           "BNB/USDT",
           21.51
          ],
          [
           "BNB/USDT",
           17.96
          ],
          [
           "BNB/USDT",
           16.5
          ],
          [
           "BNB/USDT",
           16.05
          ],
          [
           "BNB/USDT",
           15.05
          ],
          [
           "BNB/USDT",
           14.07
          ],
          [
           "BNB/USDT",
           22.45
          ],
          [
           "BNB/USDT",
           15.93
          ],
          [
           "BNB/USDT",
           14
          ],
          [
           "BNB/USDT",
           17.84
          ],
          [
           "BNB/USDT",
           18.05
          ],
          [
           "BNB/USDT",
           18.89
          ],
          [
           "BNB/USDT",
           26.38
          ],
          [
           "BNB/USDT",
           29.28
          ],
          [
           "BNB/USDT",
           34.16
          ],
          [
           "BNB/USDT",
           26.89
          ],
          [
           "BNB/USDT",
           20.87
          ],
          [
           "BNB/USDT",
           13.97
          ],
          [
           "BNB/USDT",
           8.71
          ],
          [
           "BNB/USDT",
           6.29
          ],
          [
           "BNB/USDT",
           5.37
          ],
          [
           "BNB/USDT",
           7.25
          ],
          [
           "BNB/USDT",
           10.11
          ],
          [
           "BNB/USDT",
           10.3
          ],
          [
           "BNB/USDT",
           11.5
          ],
          [
           "BNB/USDT",
           13.26
          ],
          [
           "BNB/USDT",
           15.41
          ],
          [
           "BNB/USDT",
           13.94
          ],
          [
           "BNB/USDT",
           13.1
          ],
          [
           "BNB/USDT",
           11
          ],
          [
           "BNB/USDT",
           8.68
          ],
          [
           "BNB/USDT",
           16.49
          ],
          [
           "BNB/USDT",
           6.59
          ],
          [
           "BNB/USDT",
           1.35
          ]
         ],
         "hovertemplate": "<b>%{customdata[0]}</b><br>Price: $%{customdata[1]:,.2f}<br><extra></extra>",
         "legendgroup": "BNB/USDT",
         "line": {
          "color": "#F3BA2F",
          "dash": "solid"
         },
         "marker": {
          "size": 4,
          "symbol": "circle"
         },
         "mode": "lines",
         "name": "BNB/USDT",
         "orientation": "v",
         "showlegend": true,
         "type": "scatter",
         "x": [
          "2025-05-01T00:00:00.000000000",
          "2025-04-01T00:00:00.000000000",
          "2025-03-01T00:00:00.000000000",
          "2025-02-01T00:00:00.000000000",
          "2025-01-01T00:00:00.000000000",
          "2024-12-01T00:00:00.000000000",
          "2024-11-01T00:00:00.000000000",
          "2024-10-01T00:00:00.000000000",
          "2024-09-01T00:00:00.000000000",
          "2024-08-01T00:00:00.000000000",
          "2024-07-01T00:00:00.000000000",
          "2024-06-01T00:00:00.000000000",
          "2024-05-01T00:00:00.000000000",
          "2024-04-01T00:00:00.000000000",
          "2024-03-01T00:00:00.000000000",
          "2024-02-01T00:00:00.000000000",
          "2024-01-01T00:00:00.000000000",
          "2023-12-01T00:00:00.000000000",
          "2023-11-01T00:00:00.000000000",
          "2023-10-01T00:00:00.000000000",
          "2023-09-01T00:00:00.000000000",
          "2023-08-01T00:00:00.000000000",
          "2023-07-01T00:00:00.000000000",
          "2023-06-01T00:00:00.000000000",
          "2023-05-01T00:00:00.000000000",
          "2023-04-01T00:00:00.000000000",
          "2023-03-01T00:00:00.000000000",
          "2023-02-01T00:00:00.000000000",
          "2023-01-01T00:00:00.000000000",
          "2022-12-01T00:00:00.000000000",
          "2022-11-01T00:00:00.000000000",
          "2022-10-01T00:00:00.000000000",
          "2022-09-01T00:00:00.000000000",
          "2022-08-01T00:00:00.000000000",
          "2022-07-01T00:00:00.000000000",
          "2022-06-01T00:00:00.000000000",
          "2022-05-01T00:00:00.000000000",
          "2022-04-01T00:00:00.000000000",
          "2022-03-01T00:00:00.000000000",
          "2022-02-01T00:00:00.000000000",
          "2022-01-01T00:00:00.000000000",
          "2021-12-01T00:00:00.000000000",
          "2021-11-01T00:00:00.000000000",
          "2021-10-01T00:00:00.000000000",
          "2021-09-01T00:00:00.000000000",
          "2021-08-01T00:00:00.000000000",
          "2021-07-01T00:00:00.000000000",
          "2021-06-01T00:00:00.000000000",
          "2021-05-01T00:00:00.000000000",
          "2021-04-01T00:00:00.000000000",
          "2021-03-01T00:00:00.000000000",
          "2021-02-01T00:00:00.000000000",
          "2021-01-01T00:00:00.000000000",
          "2020-12-01T00:00:00.000000000",
          "2020-11-01T00:00:00.000000000",
          "2020-10-01T00:00:00.000000000",
          "2020-09-01T00:00:00.000000000",
          "2020-08-01T00:00:00.000000000",
          "2020-07-01T00:00:00.000000000",
          "2020-06-01T00:00:00.000000000",
          "2020-05-01T00:00:00.000000000",
          "2020-04-01T00:00:00.000000000",
          "2020-03-01T00:00:00.000000000",
          "2020-02-01T00:00:00.000000000",
          "2020-01-01T00:00:00.000000000",
          "2019-12-01T00:00:00.000000000",
          "2019-11-01T00:00:00.000000000",
          "2019-10-01T00:00:00.000000000",
          "2019-09-01T00:00:00.000000000",
          "2019-08-01T00:00:00.000000000",
          "2019-07-01T00:00:00.000000000",
          "2019-06-01T00:00:00.000000000",
          "2019-05-01T00:00:00.000000000",
          "2019-04-01T00:00:00.000000000",
          "2019-03-01T00:00:00.000000000",
          "2019-02-01T00:00:00.000000000",
          "2019-01-01T00:00:00.000000000",
          "2018-12-01T00:00:00.000000000",
          "2018-11-01T00:00:00.000000000",
          "2018-10-01T00:00:00.000000000",
          "2018-09-01T00:00:00.000000000",
          "2018-08-01T00:00:00.000000000",
          "2018-07-01T00:00:00.000000000",
          "2018-06-01T00:00:00.000000000",
          "2018-05-01T00:00:00.000000000",
          "2018-04-01T00:00:00.000000000",
          "2018-03-01T00:00:00.000000000",
          "2018-02-01T00:00:00.000000000",
          "2018-01-01T00:00:00.000000000",
          "2017-12-01T00:00:00.000000000",
          "2017-11-01T00:00:00.000000000"
         ],
         "xaxis": "x",
         "y": {
          "bdata": "CtejcD3IgkAAAAAAANCBQOxRuB6F/4FAAAAAAABAg0C4HoXrUZyFQArXo3A9EoZAj8L1KFw9g0AAAAAAAOqBQJqZmZmZB4FAzczMzMxEf0CamZmZmZGAQAAAAAAA5INAZmZmZmZAgkAAAAAAANqBQGZmZmZmSn9AmpmZmZmddkBmZmZmZm5zQM3MzMzMmHFAMzMzMzPjbkCamZmZmYFrQDMzMzMzk2pAMzMzMzNDbEDNzMzMzMxuQGZmZmZmhnBAZmZmZmYGdEAAAAAAAEx0QGZmZmZmGnNAzczMzMxkc0CamZmZmaFxQAAAAAAAUHBAZmZmZmZCdECamZmZmZVyQJqZmZmZZXFAzczMzMwIc0AAAAAAABxwQGZmZmZmvm9AMzMzMzPDc0BmZmZmZiJ6QGZmZmZmXnlAMzMzMzMHeEAzMzMzMy97QAAAAAAAzIFAMzMzMzNtgkAAAAAAANB8QDMzMzMz73lASOF6FK4fekBcj8L1KJRyQI/C9Shck3RApHA9Ctc7fECuR+F6FFp9QMP1KFyPbnBACtejcD2CaEBxPQrXo5BEQK5H4XoUrkBA16NwPQqXPkCF61G4HgU9QDMzMzMzszlAw/UoXI+CNUD2KFyPwvUxQAAAAAAAgDBAzczMzMwMMECamZmZmRkuQKRwPQrXIyxAMzMzMzNzNkBcj8L1KNwvQAAAAAAAACxA16NwPQrXMUDNzMzMzAwyQKRwPQrX4zJA4XoUrkdhOkBI4XoUrkc9QBSuR+F6FEFApHA9CtfjOkAfhetRuN40QHE9Ctej8CtA7FG4HoVrIUApXI/C9SgZQHsUrkfhehVAAAAAAAAAHUC4HoXrUTgkQJqZmZmZmSRAAAAAAAAAJ0CF61G4HoUqQFK4HoXr0S5A4XoUrkfhK0AzMzMzMzMqQAAAAAAAACZAXI/C9ShcIUA9CtejcH0wQFyPwvUoXBpAmpmZmZmZ9T8=",
          "dtype": "f8"
         },
         "yaxis": "y"
        },
        {
         "customdata": [
          [
           "SOL/USDT",
           148.28
          ],
          [
           "SOL/USDT",
           126.13
          ],
          [
           "SOL/USDT",
           145.93
          ],
          [
           "SOL/USDT",
           181
          ],
          [
           "SOL/USDT",
           232.36
          ],
          [
           "SOL/USDT",
           211.13
          ],
          [
           "SOL/USDT",
           209.75
          ],
          [
           "SOL/USDT",
           158.24
          ],
          [
           "SOL/USDT",
           140.89
          ],
          [
           "SOL/USDT",
           141.45
          ],
          [
           "SOL/USDT",
           157.49
          ],
          [
           "SOL/USDT",
           148.8
          ],
          [
           "SOL/USDT",
           153.68
          ],
          [
           "SOL/USDT",
           160.23
          ],
          [
           "SOL/USDT",
           157.59
          ],
          [
           "SOL/USDT",
           113.76
          ],
          [
           "SOL/USDT",
           97.98
          ],
          [
           "SOL/USDT",
           92.48
          ],
          [
           "SOL/USDT",
           53
          ],
          [
           "SOL/USDT",
           29.78
          ],
          [
           "SOL/USDT",
           19.57
          ],
          [
           "SOL/USDT",
           22.38
          ],
          [
           "SOL/USDT",
           25.02
          ],
          [
           "SOL/USDT",
           17.55
          ],
          [
           "SOL/USDT",
           20.94
          ],
          [
           "SOL/USDT",
           22.92
          ],
          [
           "SOL/USDT",
           19.95
          ],
          [
           "SOL/USDT",
           23.4
          ],
          [
           "SOL/USDT",
           18.24
          ],
          [
           "SOL/USDT",
           11.48
          ],
          [
           "SOL/USDT",
           24.86
          ],
          [
           "SOL/USDT",
           30.67
          ],
          [
           "SOL/USDT",
           34.51
          ],
          [
           "SOL/USDT",
           39.19
          ],
          [
           "SOL/USDT",
           39.59
          ],
          [
           "SOL/USDT",
           35.99
          ],
          [
           "SOL/USDT",
           66.31
          ],
          [
           "SOL/USDT",
           112.71
          ],
          [
           "SOL/USDT",
           103.58
          ],
          [
           "SOL/USDT",
           98.64
          ],
          [
           "SOL/USDT",
           130.18
          ],
          [
           "SOL/USDT",
           195.58
          ],
          [
           "SOL/USDT",
           220.42
          ],
          [
           "SOL/USDT",
           178.27
          ],
          [
           "SOL/USDT",
           160.94
          ],
          [
           "SOL/USDT",
           81.22
          ],
          [
           "SOL/USDT",
           30.1
          ],
          [
           "SOL/USDT",
           32.19
          ],
          [
           "SOL/USDT",
           38.75
          ],
          [
           "SOL/USDT",
           33.49
          ],
          [
           "SOL/USDT",
           16.39
          ],
          [
           "SOL/USDT",
           11.16
          ],
          [
           "SOL/USDT",
           3.15
          ],
          [
           "SOL/USDT",
           1.63
          ],
          [
           "SOL/USDT",
           1.89
          ],
          [
           "SOL/USDT",
           2.15
          ],
          [
           "SOL/USDT",
           3.52
          ],
          [
           "SOL/USDT",
           3.81
          ]
         ],
         "hovertemplate": "<b>%{customdata[0]}</b><br>Price: $%{customdata[1]:,.2f}<br><extra></extra>",
         "legendgroup": "SOL/USDT",
         "line": {
          "color": "#CF62E7",
          "dash": "solid"
         },
         "marker": {
          "size": 4,
          "symbol": "circle"
         },
         "mode": "lines",
         "name": "SOL/USDT",
         "orientation": "v",
         "showlegend": true,
         "type": "scatter",
         "x": [
          "2025-05-01T00:00:00.000000000",
          "2025-04-01T00:00:00.000000000",
          "2025-03-01T00:00:00.000000000",
          "2025-02-01T00:00:00.000000000",
          "2025-01-01T00:00:00.000000000",
          "2024-12-01T00:00:00.000000000",
          "2024-11-01T00:00:00.000000000",
          "2024-10-01T00:00:00.000000000",
          "2024-09-01T00:00:00.000000000",
          "2024-08-01T00:00:00.000000000",
          "2024-07-01T00:00:00.000000000",
          "2024-06-01T00:00:00.000000000",
          "2024-05-01T00:00:00.000000000",
          "2024-04-01T00:00:00.000000000",
          "2024-03-01T00:00:00.000000000",
          "2024-02-01T00:00:00.000000000",
          "2024-01-01T00:00:00.000000000",
          "2023-12-01T00:00:00.000000000",
          "2023-11-01T00:00:00.000000000",
          "2023-10-01T00:00:00.000000000",
          "2023-09-01T00:00:00.000000000",
          "2023-08-01T00:00:00.000000000",
          "2023-07-01T00:00:00.000000000",
          "2023-06-01T00:00:00.000000000",
          "2023-05-01T00:00:00.000000000",
          "2023-04-01T00:00:00.000000000",
          "2023-03-01T00:00:00.000000000",
          "2023-02-01T00:00:00.000000000",
          "2023-01-01T00:00:00.000000000",
          "2022-12-01T00:00:00.000000000",
          "2022-11-01T00:00:00.000000000",
          "2022-10-01T00:00:00.000000000",
          "2022-09-01T00:00:00.000000000",
          "2022-08-01T00:00:00.000000000",
          "2022-07-01T00:00:00.000000000",
          "2022-06-01T00:00:00.000000000",
          "2022-05-01T00:00:00.000000000",
          "2022-04-01T00:00:00.000000000",
          "2022-03-01T00:00:00.000000000",
          "2022-02-01T00:00:00.000000000",
          "2022-01-01T00:00:00.000000000",
          "2021-12-01T00:00:00.000000000",
          "2021-11-01T00:00:00.000000000",
          "2021-10-01T00:00:00.000000000",
          "2021-09-01T00:00:00.000000000",
          "2021-08-01T00:00:00.000000000",
          "2021-07-01T00:00:00.000000000",
          "2021-06-01T00:00:00.000000000",
          "2021-05-01T00:00:00.000000000",
          "2021-04-01T00:00:00.000000000",
          "2021-03-01T00:00:00.000000000",
          "2021-02-01T00:00:00.000000000",
          "2021-01-01T00:00:00.000000000",
          "2020-12-01T00:00:00.000000000",
          "2020-11-01T00:00:00.000000000",
          "2020-10-01T00:00:00.000000000",
          "2020-09-01T00:00:00.000000000",
          "2020-08-01T00:00:00.000000000"
         ],
         "xaxis": "x",
         "y": {
          "bdata": "KVyPwvWIYkC4HoXrUYhfQPYoXI/CPWJAAAAAAACgZkDsUbgehQttQFyPwvUoZGpAAAAAAAA4akBI4XoUrsdjQBSuR+F6nGFAZmZmZmauYUBI4XoUrq9jQJqZmZmZmWJA9ihcj8I1Y0CPwvUoXAdkQHsUrkfhsmNAcT0K16NwXEAfhetRuH5YQB+F61G4HldAAAAAAACASkBI4XoUrsc9QFK4HoXrkTNA4XoUrkdhNkCF61G4HgU5QM3MzMzMjDFAcT0K16PwNEDsUbgehes2QDMzMzMz8zNAZmZmZmZmN0A9CtejcD0yQPYoXI/C9SZAXI/C9SjcOEDsUbgehas+QOF6FK5HQUFAuB6F61GYQ0DsUbgehctDQB+F61G4/kFApHA9CteTUEA9CtejcC1cQIXrUbge5VlAKVyPwvWoWED2KFyPwkVgQMP1KFyPcmhAPQrXo3CNa0BxPQrXo0hmQK5H4XoUHmRArkfhehROVECamZmZmRk+QLgehetRGEBAAAAAAABgQ0AfhetRuL5AQKRwPQrXYzBAUrgehetRJkAzMzMzMzMJQBSuR+F6FPo/PQrXo3A9/j8zMzMzMzMBQClcj8L1KAxAexSuR+F6DkA=",
          "dtype": "f8"
         },
         "yaxis": "y"
        },
        {
         "customdata": [
          [
           "XRP/USDT",
           2.2
          ],
          [
           "XRP/USDT",
           1.99
          ],
          [
           "XRP/USDT",
           2.45
          ],
          [
           "XRP/USDT",
           2.42
          ],
          [
           "XRP/USDT",
           2.74
          ],
          [
           "XRP/USDT",
           2.38
          ],
          [
           "XRP/USDT",
           1.22
          ],
          [
           "XRP/USDT",
           0.56
          ],
          [
           "XRP/USDT",
           0.58
          ],
          [
           "XRP/USDT",
           0.54
          ],
          [
           "XRP/USDT",
           0.52
          ],
          [
           "XRP/USDT",
           0.49
          ],
          [
           "XRP/USDT",
           0.52
          ],
          [
           "XRP/USDT",
           0.53
          ],
          [
           "XRP/USDT",
           0.64
          ],
          [
           "XRP/USDT",
           0.56
          ],
          [
           "XRP/USDT",
           0.56
          ],
          [
           "XRP/USDT",
           0.64
          ],
          [
           "XRP/USDT",
           0.66
          ],
          [
           "XRP/USDT",
           0.55
          ],
          [
           "XRP/USDT",
           0.5
          ],
          [
           "XRP/USDT",
           0.57
          ],
          [
           "XRP/USDT",
           0.7
          ],
          [
           "XRP/USDT",
           0.51
          ],
          [
           "XRP/USDT",
           0.47
          ],
          [
           "XRP/USDT",
           0.49
          ],
          [
           "XRP/USDT",
           0.47
          ],
          [
           "XRP/USDT",
           0.39
          ],
          [
           "XRP/USDT",
           0.37
          ],
          [
           "XRP/USDT",
           0.37
          ],
          [
           "XRP/USDT",
           0.41
          ],
          [
           "XRP/USDT",
           0.49
          ],
          [
           "XRP/USDT",
           0.44
          ],
          [
           "XRP/USDT",
           0.36
          ],
          [
           "XRP/USDT",
           0.36
          ],
          [
           "XRP/USDT",
           0.36
          ],
          [
           "XRP/USDT",
           0.5
          ],
          [
           "XRP/USDT",
           0.71
          ],
          [
           "XRP/USDT",
           0.81
          ],
          [
           "XRP/USDT",
           0.75
          ],
          [
           "XRP/USDT",
           0.71
          ],
          [
           "XRP/USDT",
           0.81
          ],
          [
           "XRP/USDT",
           1.12
          ],
          [
           "XRP/USDT",
           1.09
          ],
          [
           "XRP/USDT",
           1.14
          ],
          [
           "XRP/USDT",
           1.02
          ],
          [
           "XRP/USDT",
           0.64
          ],
          [
           "XRP/USDT",
           0.8
          ],
          [
           "XRP/USDT",
           1.21
          ],
          [
           "XRP/USDT",
           1.26
          ],
          [
           "XRP/USDT",
           0.51
          ],
          [
           "XRP/USDT",
           0.55
          ],
          [
           "XRP/USDT",
           0.36
          ],
          [
           "XRP/USDT",
           0.43
          ],
          [
           "XRP/USDT",
           0.5
          ],
          [
           "XRP/USDT",
           0.25
          ],
          [
           "XRP/USDT",
           0.26
          ],
          [
           "XRP/USDT",
           0.29
          ],
          [
           "XRP/USDT",
           0.22
          ],
          [
           "XRP/USDT",
           0.19
          ],
          [
           "XRP/USDT",
           0.2
          ],
          [
           "XRP/USDT",
           0.2
          ],
          [
           "XRP/USDT",
           0.17
          ],
          [
           "XRP/USDT",
           0.28
          ],
          [
           "XRP/USDT",
           0.22
          ],
          [
           "XRP/USDT",
           0.2
          ],
          [
           "XRP/USDT",
           0.26
          ],
          [
           "XRP/USDT",
           0.28
          ],
          [
           "XRP/USDT",
           0.27
          ],
          [
           "XRP/USDT",
           0.29
          ],
          [
           "XRP/USDT",
           0.35
          ],
          [
           "XRP/USDT",
           0.44
          ],
          [
           "XRP/USDT",
           0.38
          ],
          [
           "XRP/USDT",
           0.33
          ],
          [
           "XRP/USDT",
           0.31
          ],
          [
           "XRP/USDT",
           0.32
          ],
          [
           "XRP/USDT",
           0.33
          ],
          [
           "XRP/USDT",
           0.37
          ],
          [
           "XRP/USDT",
           0.45
          ],
          [
           "XRP/USDT",
           0.49
          ],
          [
           "XRP/USDT",
           0.53
          ],
          [
           "XRP/USDT",
           0.36
          ],
          [
           "XRP/USDT",
           0.47
          ],
          [
           "XRP/USDT",
           0.57
          ],
          [
           "XRP/USDT",
           1
          ]
         ],
         "hovertemplate": "<b>%{customdata[0]}</b><br>Price: $%{customdata[1]:,.2f}<br><extra></extra>",
         "legendgroup": "XRP/USDT",
         "line": {
          "color": "#4B8BBE",
          "dash": "solid"
         },
         "marker": {
          "size": 4,
          "symbol": "circle"
         },
         "mode": "lines",
         "name": "XRP/USDT",
         "orientation": "v",
         "showlegend": true,
         "type": "scatter",
         "x": [
          "2025-05-01T00:00:00.000000000",
          "2025-04-01T00:00:00.000000000",
          "2025-03-01T00:00:00.000000000",
          "2025-02-01T00:00:00.000000000",
          "2025-01-01T00:00:00.000000000",
          "2024-12-01T00:00:00.000000000",
          "2024-11-01T00:00:00.000000000",
          "2024-10-01T00:00:00.000000000",
          "2024-09-01T00:00:00.000000000",
          "2024-08-01T00:00:00.000000000",
          "2024-07-01T00:00:00.000000000",
          "2024-06-01T00:00:00.000000000",
          "2024-05-01T00:00:00.000000000",
          "2024-04-01T00:00:00.000000000",
          "2024-03-01T00:00:00.000000000",
          "2024-02-01T00:00:00.000000000",
          "2024-01-01T00:00:00.000000000",
          "2023-12-01T00:00:00.000000000",
          "2023-11-01T00:00:00.000000000",
          "2023-10-01T00:00:00.000000000",
          "2023-09-01T00:00:00.000000000",
          "2023-08-01T00:00:00.000000000",
          "2023-07-01T00:00:00.000000000",
          "2023-06-01T00:00:00.000000000",
          "2023-05-01T00:00:00.000000000",
          "2023-04-01T00:00:00.000000000",
          "2023-03-01T00:00:00.000000000",
          "2023-02-01T00:00:00.000000000",
          "2023-01-01T00:00:00.000000000",
          "2022-12-01T00:00:00.000000000",
          "2022-11-01T00:00:00.000000000",
          "2022-10-01T00:00:00.000000000",
          "2022-09-01T00:00:00.000000000",
          "2022-08-01T00:00:00.000000000",
          "2022-07-01T00:00:00.000000000",
          "2022-06-01T00:00:00.000000000",
          "2022-05-01T00:00:00.000000000",
          "2022-04-01T00:00:00.000000000",
          "2022-03-01T00:00:00.000000000",
          "2022-02-01T00:00:00.000000000",
          "2022-01-01T00:00:00.000000000",
          "2021-12-01T00:00:00.000000000",
          "2021-11-01T00:00:00.000000000",
          "2021-10-01T00:00:00.000000000",
          "2021-09-01T00:00:00.000000000",
          "2021-08-01T00:00:00.000000000",
          "2021-07-01T00:00:00.000000000",
          "2021-06-01T00:00:00.000000000",
          "2021-05-01T00:00:00.000000000",
          "2021-04-01T00:00:00.000000000",
          "2021-03-01T00:00:00.000000000",
          "2021-02-01T00:00:00.000000000",
          "2021-01-01T00:00:00.000000000",
          "2020-12-01T00:00:00.000000000",
          "2020-11-01T00:00:00.000000000",
          "2020-10-01T00:00:00.000000000",
          "2020-09-01T00:00:00.000000000",
          "2020-08-01T00:00:00.000000000",
          "2020-07-01T00:00:00.000000000",
          "2020-06-01T00:00:00.000000000",
          "2020-05-01T00:00:00.000000000",
          "2020-04-01T00:00:00.000000000",
          "2020-03-01T00:00:00.000000000",
          "2020-02-01T00:00:00.000000000",
          "2020-01-01T00:00:00.000000000",
          "2019-12-01T00:00:00.000000000",
          "2019-11-01T00:00:00.000000000",
          "2019-10-01T00:00:00.000000000",
          "2019-09-01T00:00:00.000000000",
          "2019-08-01T00:00:00.000000000",
          "2019-07-01T00:00:00.000000000",
          "2019-06-01T00:00:00.000000000",
          "2019-05-01T00:00:00.000000000",
          "2019-04-01T00:00:00.000000000",
          "2019-03-01T00:00:00.000000000",
          "2019-02-01T00:00:00.000000000",
          "2019-01-01T00:00:00.000000000",
          "2018-12-01T00:00:00.000000000",
          "2018-11-01T00:00:00.000000000",
          "2018-10-01T00:00:00.000000000",
          "2018-09-01T00:00:00.000000000",
          "2018-08-01T00:00:00.000000000",
          "2018-07-01T00:00:00.000000000",
          "2018-06-01T00:00:00.000000000",
          "2018-05-01T00:00:00.000000000"
         ],
         "xaxis": "x",
         "y": {
          "bdata": "mpmZmZmZAUDXo3A9Ctf/P5qZmZmZmQNAXI/C9ShcA0DsUbgehesFQArXo3A9CgNAhetRuB6F8z/sUbgehevhP4/C9Shcj+I/SOF6FK5H4T+kcD0K16PgP1yPwvUoXN8/pHA9Ctej4D/2KFyPwvXgP3sUrkfheuQ/7FG4HoXr4T/sUbgehevhP3sUrkfheuQ/H4XrUbge5T+amZmZmZnhPwAAAAAAAOA/PQrXo3A94j9mZmZmZmbmP1K4HoXrUeA/FK5H4XoU3j9cj8L1KFzfPxSuR+F6FN4/9ihcj8L12D+uR+F6FK7XP65H4XoUrtc/PQrXo3A92j9cj8L1KFzfPylcj8L1KNw/CtejcD0K1z8K16NwPQrXPwrXo3A9Ctc/AAAAAAAA4D+4HoXrUbjmP+xRuB6F6+k/AAAAAAAA6D+4HoXrUbjmP+xRuB6F6+k/7FG4HoXr8T9xPQrXo3DxPz0K16NwPfI/UrgehetR8D97FK5H4XrkP5qZmZmZmek/XI/C9Shc8z8pXI/C9Sj0P1K4HoXrUeA/mpmZmZmZ4T8K16NwPQrXP4XrUbgehds/AAAAAAAA4D8AAAAAAADQP6RwPQrXo9A/j8L1KFyP0j8pXI/C9SjMP1K4HoXrUcg/mpmZmZmZyT+amZmZmZnJP8P1KFyPwsU/7FG4HoXr0T8pXI/C9SjMP5qZmZmZmck/pHA9Ctej0D/sUbgehevRP0jhehSuR9E/j8L1KFyP0j9mZmZmZmbWPylcj8L1KNw/UrgehetR2D8fhetRuB7VP9ejcD0K19M/exSuR+F61D8fhetRuB7VP65H4XoUrtc/zczMzMzM3D9cj8L1KFzfP/YoXI/C9eA/CtejcD0K1z8UrkfhehTePz0K16NwPeI/AAAAAAAA8D8=",
          "dtype": "f8"
         },
         "yaxis": "y"
        },
        {
         "customdata": [
          [
           "AVAX/USDT",
           21.06
          ],
          [
           "AVAX/USDT",
           18.87
          ],
          [
           "AVAX/USDT",
           20.2
          ],
          [
           "AVAX/USDT",
           27.66
          ],
          [
           "AVAX/USDT",
           38.44
          ],
          [
           "AVAX/USDT",
           44.7
          ],
          [
           "AVAX/USDT",
           35.14
          ],
          [
           "AVAX/USDT",
           26.88
          ],
          [
           "AVAX/USDT",
           25.66
          ],
          [
           "AVAX/USDT",
           22.64
          ],
          [
           "AVAX/USDT",
           27.4
          ],
          [
           "AVAX/USDT",
           30.36
          ],
          [
           "AVAX/USDT",
           36.03
          ],
          [
           "AVAX/USDT",
           41.69
          ],
          [
           "AVAX/USDT",
           50.11
          ],
          [
           "AVAX/USDT",
           38.47
          ],
          [
           "AVAX/USDT",
           35.34
          ],
          [
           "AVAX/USDT",
           35.26
          ],
          [
           "AVAX/USDT",
           17.78
          ],
          [
           "AVAX/USDT",
           10.26
          ],
          [
           "AVAX/USDT",
           9.38
          ],
          [
           "AVAX/USDT",
           11.34
          ],
          [
           "AVAX/USDT",
           14.1
          ],
          [
           "AVAX/USDT",
           12.46
          ],
          [
           "AVAX/USDT",
           15.72
          ],
          [
           "AVAX/USDT",
           18.92
          ],
          [
           "AVAX/USDT",
           16.07
          ],
          [
           "AVAX/USDT",
           19.81
          ],
          [
           "AVAX/USDT",
           16.23
          ],
          [
           "AVAX/USDT",
           12.47
          ],
          [
           "AVAX/USDT",
           16.04
          ],
          [
           "AVAX/USDT",
           17.12
          ],
          [
           "AVAX/USDT",
           19.05
          ],
          [
           "AVAX/USDT",
           24.18
          ],
          [
           "AVAX/USDT",
           21.09
          ],
          [
           "AVAX/USDT",
           20.75
          ],
          [
           "AVAX/USDT",
           45.44
          ],
          [
           "AVAX/USDT",
           79.34
          ],
          [
           "AVAX/USDT",
           83.76
          ],
          [
           "AVAX/USDT",
           81.61
          ],
          [
           "AVAX/USDT",
           85.24
          ],
          [
           "AVAX/USDT",
           101.46
          ],
          [
           "AVAX/USDT",
           104.6
          ],
          [
           "AVAX/USDT",
           62.22
          ],
          [
           "AVAX/USDT",
           56.02
          ],
          [
           "AVAX/USDT",
           35.65
          ],
          [
           "AVAX/USDT",
           11.78
          ],
          [
           "AVAX/USDT",
           15.01
          ],
          [
           "AVAX/USDT",
           27.99
          ],
          [
           "AVAX/USDT",
           30.28
          ],
          [
           "AVAX/USDT",
           31.36
          ],
          [
           "AVAX/USDT",
           36.44
          ],
          [
           "AVAX/USDT",
           9.2
          ],
          [
           "AVAX/USDT",
           3.32
          ],
          [
           "AVAX/USDT",
           3.7
          ],
          [
           "AVAX/USDT",
           3.96
          ],
          [
           "AVAX/USDT",
           3.92
          ]
         ],
         "hovertemplate": "<b>%{customdata[0]}</b><br>Price: $%{customdata[1]:,.2f}<br><extra></extra>",
         "legendgroup": "AVAX/USDT",
         "line": {
          "color": "#E84142",
          "dash": "solid"
         },
         "marker": {
          "size": 4,
          "symbol": "circle"
         },
         "mode": "lines",
         "name": "AVAX/USDT",
         "orientation": "v",
         "showlegend": true,
         "type": "scatter",
         "x": [
          "2025-05-01T00:00:00.000000000",
          "2025-04-01T00:00:00.000000000",
          "2025-03-01T00:00:00.000000000",
          "2025-02-01T00:00:00.000000000",
          "2025-01-01T00:00:00.000000000",
          "2024-12-01T00:00:00.000000000",
          "2024-11-01T00:00:00.000000000",
          "2024-10-01T00:00:00.000000000",
          "2024-09-01T00:00:00.000000000",
          "2024-08-01T00:00:00.000000000",
          "2024-07-01T00:00:00.000000000",
          "2024-06-01T00:00:00.000000000",
          "2024-05-01T00:00:00.000000000",
          "2024-04-01T00:00:00.000000000",
          "2024-03-01T00:00:00.000000000",
          "2024-02-01T00:00:00.000000000",
          "2024-01-01T00:00:00.000000000",
          "2023-12-01T00:00:00.000000000",
          "2023-11-01T00:00:00.000000000",
          "2023-10-01T00:00:00.000000000",
          "2023-09-01T00:00:00.000000000",
          "2023-08-01T00:00:00.000000000",
          "2023-07-01T00:00:00.000000000",
          "2023-06-01T00:00:00.000000000",
          "2023-05-01T00:00:00.000000000",
          "2023-04-01T00:00:00.000000000",
          "2023-03-01T00:00:00.000000000",
          "2023-02-01T00:00:00.000000000",
          "2023-01-01T00:00:00.000000000",
          "2022-12-01T00:00:00.000000000",
          "2022-11-01T00:00:00.000000000",
          "2022-10-01T00:00:00.000000000",
          "2022-09-01T00:00:00.000000000",
          "2022-08-01T00:00:00.000000000",
          "2022-07-01T00:00:00.000000000",
          "2022-06-01T00:00:00.000000000",
          "2022-05-01T00:00:00.000000000",
          "2022-04-01T00:00:00.000000000",
          "2022-03-01T00:00:00.000000000",
          "2022-02-01T00:00:00.000000000",
          "2022-01-01T00:00:00.000000000",
          "2021-12-01T00:00:00.000000000",
          "2021-11-01T00:00:00.000000000",
          "2021-10-01T00:00:00.000000000",
          "2021-09-01T00:00:00.000000000",
          "2021-08-01T00:00:00.000000000",
          "2021-07-01T00:00:00.000000000",
          "2021-06-01T00:00:00.000000000",
          "2021-05-01T00:00:00.000000000",
          "2021-04-01T00:00:00.000000000",
          "2021-03-01T00:00:00.000000000",
          "2021-02-01T00:00:00.000000000",
          "2021-01-01T00:00:00.000000000",
          "2020-12-01T00:00:00.000000000",
          "2020-11-01T00:00:00.000000000",
          "2020-10-01T00:00:00.000000000",
          "2020-09-01T00:00:00.000000000"
         ],
         "xaxis": "x",
         "y": {
          "bdata": "j8L1KFwPNUAfhetRuN4yQDMzMzMzMzRAKVyPwvWoO0C4HoXrUThDQJqZmZmZWUZAUrgeheuRQUDhehSuR+E6QClcj8L1qDlApHA9CtejNkBmZmZmZmY7QFyPwvUoXD5ApHA9CtcDQkC4HoXrUdhEQK5H4XoUDklAXI/C9Sg8Q0DsUbgehatBQOF6FK5HoUFASOF6FK7HMUCF61G4HoUkQMP1KFyPwiJArkfhehSuJkAzMzMzMzMsQOxRuB6F6yhAcT0K16NwL0DsUbgehesyQFK4HoXrETBAj8L1KFzPM0B7FK5H4TowQHE9Ctej8ChACtejcD0KMEAfhetRuB4xQM3MzMzMDDNArkfhehQuOEDXo3A9Chc1QAAAAAAAwDRAuB6F61G4RkD2KFyPwtVTQHE9Ctej8FRA16NwPQpnVECPwvUoXE9VQD0K16NwXVlAZmZmZmYmWkBcj8L1KBxPQMP1KFyPAkxAMzMzMzPTQUCPwvUoXI8nQIXrUbgeBS5APQrXo3D9O0BI4XoUrkc+QFyPwvUoXD9AuB6F61E4QkBmZmZmZmYiQI/C9ShcjwpAmpmZmZmZDUCuR+F6FK4PQFyPwvUoXA9A",
          "dtype": "f8"
         },
         "yaxis": "y"
        }
       ],
       "layout": {
        "font": {
         "family": "IBM Plex Sans"
        },
        "height": 397,
        "hovermode": "x unified",
        "legend": {
         "title": {
          "text": "Cryptocurrency"
         },
         "tracegroupgap": 0,
         "x": 0.01,
         "xanchor": "left",
         "y": 0.99,
         "yanchor": "top"
        },
        "margin": {
         "b": 10,
         "l": 10,
         "r": 10,
         "t": 40
        },
        "showlegend": false,
        "template": {
         "data": {
          "bar": [
           {
            "error_x": {
             "color": "#f2f5fa"
            },
            "error_y": {
             "color": "#f2f5fa"
            },
            "marker": {
             "line": {
              "color": "rgb(17,17,17)",
              "width": 0.5
             },
             "pattern": {
              "fillmode": "overlay",
              "size": 10,
              "solidity": 0.2
             }
            },
            "type": "bar"
           }
          ],
          "barpolar": [
           {
            "marker": {
             "line": {
              "color": "rgb(17,17,17)",
              "width": 0.5
             },
             "pattern": {
              "fillmode": "overlay",
              "size": 10,
              "solidity": 0.2
             }
            },
            "type": "barpolar"
           }
          ],
          "carpet": [
           {
            "aaxis": {
             "endlinecolor": "#A2B1C6",
             "gridcolor": "#506784",
             "linecolor": "#506784",
             "minorgridcolor": "#506784",
             "startlinecolor": "#A2B1C6"
            },
            "baxis": {
             "endlinecolor": "#A2B1C6",
             "gridcolor": "#506784",
             "linecolor": "#506784",
             "minorgridcolor": "#506784",
             "startlinecolor": "#A2B1C6"
            },
            "type": "carpet"
           }
          ],
          "choropleth": [
           {
            "colorbar": {
             "outlinewidth": 0,
             "ticks": ""
            },
            "type": "choropleth"
           }
          ],
          "contour": [
           {
            "colorbar": {
             "outlinewidth": 0,
             "ticks": ""
            },
            "colorscale": [
             [
              0,
              "#0d0887"
             ],
             [
              0.1111111111111111,
              "#46039f"
             ],
             [
              0.2222222222222222,
              "#7201a8"
             ],
             [
              0.3333333333333333,
              "#9c179e"
             ],
             [
              0.4444444444444444,
              "#bd3786"
             ],
             [
              0.5555555555555556,
              "#d8576b"
             ],
             [
              0.6666666666666666,
              "#ed7953"
             ],
             [
              0.7777777777777778,
              "#fb9f3a"
             ],
             [
              0.8888888888888888,
              "#fdca26"
             ],
             [
              1,
              "#f0f921"
             ]
            ],
            "type": "contour"
           }
          ],
          "contourcarpet": [
           {
            "colorbar": {
             "outlinewidth": 0,
             "ticks": ""
            },
            "type": "contourcarpet"
           }
          ],
          "heatmap": [
           {
            "colorbar": {
             "outlinewidth": 0,
             "ticks": ""
            },
            "colorscale": [
             [
              0,
              "#0d0887"
             ],
             [
              0.1111111111111111,
              "#46039f"
             ],
             [
              0.2222222222222222,
              "#7201a8"
             ],
             [
              0.3333333333333333,
              "#9c179e"
             ],
             [
              0.4444444444444444,
              "#bd3786"
             ],
             [
              0.5555555555555556,
              "#d8576b"
             ],
             [
              0.6666666666666666,
              "#ed7953"
             ],
             [
              0.7777777777777778,
              "#fb9f3a"
             ],
             [
              0.8888888888888888,
              "#fdca26"
             ],
             [
              1,
              "#f0f921"
             ]
            ],
            "type": "heatmap"
           }
          ],
          "histogram": [
           {
            "marker": {
             "pattern": {
              "fillmode": "overlay",
              "size": 10,
              "solidity": 0.2
             }
            },
            "type": "histogram"
           }
          ],
          "histogram2d": [
           {
            "colorbar": {
             "outlinewidth": 0,
             "ticks": ""
            },
            "colorscale": [
             [
              0,
              "#0d0887"
             ],
             [
              0.1111111111111111,
              "#46039f"
             ],
             [
              0.2222222222222222,
              "#7201a8"
             ],
             [
              0.3333333333333333,
              "#9c179e"
             ],
             [
              0.4444444444444444,
              "#bd3786"
             ],
             [
              0.5555555555555556,
              "#d8576b"
             ],
             [
              0.6666666666666666,
              "#ed7953"
             ],
             [
              0.7777777777777778,
              "#fb9f3a"
             ],
             [
              0.8888888888888888,
              "#fdca26"
             ],
             [
              1,
              "#f0f921"
             ]
            ],
            "type": "histogram2d"
           }
          ],
          "histogram2dcontour": [
           {
            "colorbar": {
             "outlinewidth": 0,
             "ticks": ""
            },
            "colorscale": [
             [
              0,
              "#0d0887"
             ],
             [
              0.1111111111111111,
              "#46039f"
             ],
             [
              0.2222222222222222,
              "#7201a8"
             ],
             [
              0.3333333333333333,
              "#9c179e"
             ],
             [
              0.4444444444444444,
              "#bd3786"
             ],
             [
              0.5555555555555556,
              "#d8576b"
             ],
             [
              0.6666666666666666,
              "#ed7953"
             ],
             [
              0.7777777777777778,
              "#fb9f3a"
             ],
             [
              0.8888888888888888,
              "#fdca26"
             ],
             [
              1,
              "#f0f921"
             ]
            ],
            "type": "histogram2dcontour"
           }
          ],
          "mesh3d": [
           {
            "colorbar": {
             "outlinewidth": 0,
             "ticks": ""
            },
            "type": "mesh3d"
           }
          ],
          "parcoords": [
           {
            "line": {
             "colorbar": {
              "outlinewidth": 0,
              "ticks": ""
             }
            },
            "type": "parcoords"
           }
          ],
          "pie": [
           {
            "automargin": true,
            "type": "pie"
           }
          ],
          "scatter": [
           {
            "marker": {
             "line": {
              "color": "#283442"
             }
            },
            "type": "scatter"
           }
          ],
          "scatter3d": [
           {
            "line": {
             "colorbar": {
              "outlinewidth": 0,
              "ticks": ""
             }
            },
            "marker": {
             "colorbar": {
              "outlinewidth": 0,
              "ticks": ""
             }
            },
            "type": "scatter3d"
           }
          ],
          "scattercarpet": [
           {
            "marker": {
             "colorbar": {
              "outlinewidth": 0,
              "ticks": ""
             }
            },
            "type": "scattercarpet"
           }
          ],
          "scattergeo": [
           {
            "marker": {
             "colorbar": {
              "outlinewidth": 0,
              "ticks": ""
             }
            },
            "type": "scattergeo"
           }
          ],
          "scattergl": [
           {
            "marker": {
             "line": {
              "color": "#283442"
             }
            },
            "type": "scattergl"
           }
          ],
          "scattermap": [
           {
            "marker": {
             "colorbar": {
              "outlinewidth": 0,
              "ticks": ""
             }
            },
            "type": "scattermap"
           }
          ],
          "scattermapbox": [
           {
            "marker": {
             "colorbar": {
              "outlinewidth": 0,
              "ticks": ""
             }
            },
            "type": "scattermapbox"
           }
          ],
          "scatterpolar": [
           {
            "marker": {
             "colorbar": {
              "outlinewidth": 0,
              "ticks": ""
             }
            },
            "type": "scatterpolar"
           }
          ],
          "scatterpolargl": [
           {
            "marker": {
             "colorbar": {
              "outlinewidth": 0,
              "ticks": ""
             }
            },
            "type": "scatterpolargl"
           }
          ],
          "scatterternary": [
           {
            "marker": {
             "colorbar": {
              "outlinewidth": 0,
              "ticks": ""
             }
            },
            "type": "scatterternary"
           }
          ],
          "surface": [
           {
            "colorbar": {
             "outlinewidth": 0,
             "ticks": ""
            },
            "colorscale": [
             [
              0,
              "#0d0887"
             ],
             [
              0.1111111111111111,
              "#46039f"
             ],
             [
              0.2222222222222222,
              "#7201a8"
             ],
             [
              0.3333333333333333,
              "#9c179e"
             ],
             [
              0.4444444444444444,
              "#bd3786"
             ],
             [
              0.5555555555555556,
              "#d8576b"
             ],
             [
              0.6666666666666666,
              "#ed7953"
             ],
             [
              0.7777777777777778,
              "#fb9f3a"
             ],
             [
              0.8888888888888888,
              "#fdca26"
             ],
             [
              1,
              "#f0f921"
             ]
            ],
            "type": "surface"
           }
          ],
          "table": [
           {
            "cells": {
             "fill": {
              "color": "#506784"
             },
             "line": {
              "color": "rgb(17,17,17)"
             }
            },
            "header": {
             "fill": {
              "color": "#2a3f5f"
             },
             "line": {
              "color": "rgb(17,17,17)"
             }
            },
            "type": "table"
           }
          ]
         },
         "layout": {
          "annotationdefaults": {
           "arrowcolor": "#f2f5fa",
           "arrowhead": 0,
           "arrowwidth": 1
          },
          "autotypenumbers": "strict",
          "coloraxis": {
           "colorbar": {
            "outlinewidth": 0,
            "ticks": ""
           }
          },
          "colorscale": {
           "diverging": [
            [
             0,
             "#8e0152"
            ],
            [
             0.1,
             "#c51b7d"
            ],
            [
             0.2,
             "#de77ae"
            ],
            [
             0.3,
             "#f1b6da"
            ],
            [
             0.4,
             "#fde0ef"
            ],
            [
             0.5,
             "#f7f7f7"
            ],
            [
             0.6,
             "#e6f5d0"
            ],
            [
             0.7,
             "#b8e186"
            ],
            [
             0.8,
             "#7fbc41"
            ],
            [
             0.9,
             "#4d9221"
            ],
            [
             1,
             "#276419"
            ]
           ],
           "sequential": [
            [
             0,
             "#0d0887"
            ],
            [
             0.1111111111111111,
             "#46039f"
            ],
            [
             0.2222222222222222,
             "#7201a8"
            ],
            [
             0.3333333333333333,
             "#9c179e"
            ],
            [
             0.4444444444444444,
             "#bd3786"
            ],
            [
             0.5555555555555556,
             "#d8576b"
            ],
            [
             0.6666666666666666,
             "#ed7953"
            ],
            [
             0.7777777777777778,
             "#fb9f3a"
            ],
            [
             0.8888888888888888,
             "#fdca26"
            ],
            [
             1,
             "#f0f921"
            ]
           ],
           "sequentialminus": [
            [
             0,
             "#0d0887"
            ],
            [
             0.1111111111111111,
             "#46039f"
            ],
            [
             0.2222222222222222,
             "#7201a8"
            ],
            [
             0.3333333333333333,
             "#9c179e"
            ],
            [
             0.4444444444444444,
             "#bd3786"
            ],
            [
             0.5555555555555556,
             "#d8576b"
            ],
            [
             0.6666666666666666,
             "#ed7953"
            ],
            [
             0.7777777777777778,
             "#fb9f3a"
            ],
            [
             0.8888888888888888,
             "#fdca26"
            ],
            [
             1,
             "#f0f921"
            ]
           ]
          },
          "colorway": [
           "#636efa",
           "#EF553B",
           "#00cc96",
           "#ab63fa",
           "#FFA15A",
           "#19d3f3",
           "#FF6692",
           "#B6E880",
           "#FF97FF",
           "#FECB52"
          ],
          "font": {
           "color": "#f2f5fa"
          },
          "geo": {
           "bgcolor": "rgb(17,17,17)",
           "lakecolor": "rgb(17,17,17)",
           "landcolor": "rgb(17,17,17)",
           "showlakes": true,
           "showland": true,
           "subunitcolor": "#506784"
          },
          "hoverlabel": {
           "align": "left"
          },
          "hovermode": "closest",
          "mapbox": {
           "style": "dark"
          },
          "paper_bgcolor": "rgb(17,17,17)",
          "plot_bgcolor": "rgb(17,17,17)",
          "polar": {
           "angularaxis": {
            "gridcolor": "#506784",
            "linecolor": "#506784",
            "ticks": ""
           },
           "bgcolor": "rgb(17,17,17)",
           "radialaxis": {
            "gridcolor": "#506784",
            "linecolor": "#506784",
            "ticks": ""
           }
          },
          "scene": {
           "xaxis": {
            "backgroundcolor": "rgb(17,17,17)",
            "gridcolor": "#506784",
            "gridwidth": 2,
            "linecolor": "#506784",
            "showbackground": true,
            "ticks": "",
            "zerolinecolor": "#C8D4E3"
           },
           "yaxis": {
            "backgroundcolor": "rgb(17,17,17)",
            "gridcolor": "#506784",
            "gridwidth": 2,
            "linecolor": "#506784",
            "showbackground": true,
            "ticks": "",
            "zerolinecolor": "#C8D4E3"
           },
           "zaxis": {
            "backgroundcolor": "rgb(17,17,17)",
            "gridcolor": "#506784",
            "gridwidth": 2,
            "linecolor": "#506784",
            "showbackground": true,
            "ticks": "",
            "zerolinecolor": "#C8D4E3"
           }
          },
          "shapedefaults": {
           "line": {
            "color": "#f2f5fa"
           }
          },
          "sliderdefaults": {
           "bgcolor": "#C8D4E3",
           "bordercolor": "rgb(17,17,17)",
           "borderwidth": 1,
           "tickwidth": 0
          },
          "ternary": {
           "aaxis": {
            "gridcolor": "#506784",
            "linecolor": "#506784",
            "ticks": ""
           },
           "baxis": {
            "gridcolor": "#506784",
            "linecolor": "#506784",
            "ticks": ""
           },
           "bgcolor": "rgb(17,17,17)",
           "caxis": {
            "gridcolor": "#506784",
            "linecolor": "#506784",
            "ticks": ""
           }
          },
          "title": {
           "x": 0.05
          },
          "updatemenudefaults": {
           "bgcolor": "#506784",
           "borderwidth": 0
          },
          "xaxis": {
           "automargin": true,
           "gridcolor": "#283442",
           "linecolor": "#506784",
           "ticks": "",
           "title": {
            "standoff": 15
           },
           "zerolinecolor": "#283442",
           "zerolinewidth": 2
          },
          "yaxis": {
           "automargin": true,
           "gridcolor": "#283442",
           "linecolor": "#506784",
           "ticks": "",
           "title": {
            "standoff": 15
           },
           "zerolinecolor": "#283442",
           "zerolinewidth": 2
          }
         }
        },
        "title": {
         "font": {
          "color": "white",
          "size": 14
         },
         "text": "Crypto Price Growth",
         "xanchor": "left"
        },
        "width": 353,
        "xaxis": {
         "anchor": "y",
         "domain": [
          0,
          1
         ],
         "title": {
          "text": "Date"
         }
        },
        "yaxis": {
         "anchor": "x",
         "domain": [
          0,
          1
         ],
         "title": {
          "text": "Price (USD)"
         },
         "type": "log"
        }
       }
      }
     },
     "metadata": {},
     "output_type": "display_data"
    }
   ],
   "source": [
    "#%% Creating IBM Plex Sansactive Price Growth Graph\n",
    "\n",
    "# Convert Period to datetime for plotting\n",
    "crypto_monthly_avg['timestamp'] = crypto_monthly_avg['timestamp'].astype(str).apply(lambda x: pd.to_datetime(x))\n",
    "\n",
    "# Create the figure\n",
    "figm = px.line(\n",
    "    crypto_monthly_avg,\n",
    "    x='timestamp',\n",
    "    y='average_price',\n",
    "    color='symbols',\n",
    "    custom_data=['symbols', 'average_price'],\n",
    "    title='Crypto Price Growth', \n",
    "    labels={\n",
    "        'timestamp': 'Date',\n",
    "        'average_price': 'Price (USD)',\n",
    "        'symbols': 'Cryptocurrency'\n",
    "    },\n",
    "    color_discrete_map={\n",
    "        'BTC/USDT': '#F7931A',  # Bitcoin Orange\n",
    "        'ETH/USDT': '#636BFF',  # Ethereum Blue\n",
    "        'BNB/USDT': '#F3BA2F',  # Binance Yellow\n",
    "        'SOL/USDT': '#CF62E7',   # Solana Pink\n",
    "        'XRP/USDT': '#4B8BBE',  # XRP Blue\n",
    "        'AVAX/USDT': '#E84142'   # Avalanche Red\n",
    "    },\n",
    "    markers=False,\n",
    ")\n",
    "\n",
    "# Update traces to reduce marker size\n",
    "figm.update_traces(\n",
    "    marker={'size': 4}, # Try values between 2-6\n",
    "    hovertemplate=\"<b>%{customdata[0]}</b><br>\" +\n",
    "                  \"Price: $%{customdata[1]:,.2f}<br>\" +\n",
    "                  \"<extra></extra>\"\n",
    "    )  \n",
    "# Customize the layout\n",
    "figm.update_layout(\n",
    "    template='plotly_dark',\n",
    "    hovermode='x unified',\n",
    "    font_family=\"IBM Plex Sans\",\n",
    "    title=dict(\n",
    "        text='Crypto Price Growth',\n",
    "        font=dict(size=14, color='white'),\n",
    "        xanchor='left'\n",
    "    ),\n",
    "    legend=dict(\n",
    "        yanchor=\"top\",\n",
    "        y=0.99,\n",
    "        xanchor=\"left\",\n",
    "        x=0.01\n",
    "    ),\n",
    "    height=397,  # Adjust height\n",
    "    width=353,  # Adjust width\n",
    "    margin=dict(\n",
    "        l=10,\n",
    "        r=10,\n",
    "        t=40,\n",
    "        b=10 \n",
    "    ),\n",
    "    showlegend=False,\n",
    "    xaxis_title=\"Date\",\n",
    "    yaxis_title=\"Price (USD)\",\n",
    "    yaxis_type=\"log\"  # Log scale for better price comparison\n",
    ")\n",
    "\n",
    "# Show the plot\n",
    "figm.show(config={\n",
    "    'displayModeBar': True,\n",
    "    'displaylogo': False,\n",
    "    'modeBarButtonsToAdd': ['fullscreen']\n",
    "})\n",
    "\n",
    "# Save the figure as an HTML file\n",
    "figm.write_html(\"plots/html/cypto_price_growth_mobile.html\")"
   ]
  },
  {
   "cell_type": "markdown",
   "id": "7acf3678",
   "metadata": {},
   "source": [
    "# **Crypto Relative Price Performance**\n",
    "Each cryptocurrency price was normalized to 100% from July 2020 and then January 2024 to enable direct comparison of growth rates."
   ]
  },
  {
   "cell_type": "code",
   "execution_count": 30,
   "id": "4b168ddb",
   "metadata": {},
   "outputs": [
    {
     "name": "stderr",
     "output_type": "stream",
     "text": [
      "C:\\Users\\Matheus\\AppData\\Local\\Temp\\ipykernel_1908\\2269613118.py:17: FutureWarning:\n",
      "\n",
      "The default of observed=False is deprecated and will be changed to True in a future version of pandas. Pass observed=False to retain current behavior or observed=True to adopt the future default and silence this warning.\n",
      "\n"
     ]
    }
   ],
   "source": [
    "#%% Creating Normalized Price Data\n",
    "\n",
    "# Create a copy of the DataFrame to avoid modifying the original\n",
    "normalized_df_2020 = crypto_monthly_avg.copy()\n",
    "\n",
    "# Convert timestamp to datetime if not already\n",
    "normalized_df_2020['timestamp'] = pd.to_datetime(normalized_df_2020['timestamp'])\n",
    "\n",
    "# Filter data starting from January 2024\n",
    "start_date = pd.to_datetime('2020-07-01')\n",
    "normalized_df_2020 = normalized_df_2020[normalized_df_2020['timestamp'] >= start_date]\n",
    "\n",
    "# Sort by timestamp ascending to get correct base prices\n",
    "normalized_df_2020 = normalized_df_2020.sort_values(['symbols', 'timestamp'], ascending=[True, True])\n",
    "\n",
    "# Get the first value for each symbol\n",
    "base_values = normalized_df_2020.groupby('symbols').first()['average_price']\n",
    "\n",
    "# Calculate normalized prices \n",
    "normalized_df_2020['normalized_price'] = normalized_df_2020.apply(\n",
    "    lambda x: (x['average_price'] / base_values[x['symbols']]) * 100,\n",
    "    axis=1\n",
    ")"
   ]
  },
  {
   "cell_type": "code",
   "execution_count": 20,
   "id": "20a6c779",
   "metadata": {},
   "outputs": [
    {
     "data": {
      "application/vnd.plotly.v1+json": {
       "config": {
        "displayModeBar": true,
        "displaylogo": false,
        "modeBarButtonsToAdd": [
         "fullscreen"
        ],
        "plotlyServerURL": "https://plot.ly"
       },
       "data": [
        {
         "customdata": [
          [
           "BTC/USDT",
           10168.52
          ],
          [
           "BTC/USDT",
           11493.25
          ],
          [
           "BTC/USDT",
           10937.92
          ],
          [
           "BTC/USDT",
           12237
          ],
          [
           "BTC/USDT",
           16529.1
          ],
          [
           "BTC/USDT",
           23436.16
          ],
          [
           "BTC/USDT",
           35040
          ],
          [
           "BTC/USDT",
           45324.48
          ],
          [
           "BTC/USDT",
           53397.26
          ],
          [
           "BTC/USDT",
           55892
          ],
          [
           "BTC/USDT",
           44750
          ],
          [
           "BTC/USDT",
           35067.5
          ],
          [
           "BTC/USDT",
           35863
          ],
          [
           "BTC/USDT",
           43916.35
          ],
          [
           "BTC/USDT",
           46260
          ],
          [
           "BTC/USDT",
           55141.52
          ],
          [
           "BTC/USDT",
           61128.32
          ],
          [
           "BTC/USDT",
           50526.92
          ],
          [
           "BTC/USDT",
           40453.58
          ],
          [
           "BTC/USDT",
           40071.64
          ],
          [
           "BTC/USDT",
           42672.42
          ],
          [
           "BTC/USDT",
           42511.16
          ],
          [
           "BTC/USDT",
           33361.88
          ],
          [
           "BTC/USDT",
           24802.48
          ],
          [
           "BTC/USDT",
           21724.5
          ],
          [
           "BTC/USDT",
           22365.66
          ],
          [
           "BTC/USDT",
           20462.49
          ],
          [
           "BTC/USDT",
           19637.5
          ],
          [
           "BTC/USDT",
           18478.32
          ],
          [
           "BTC/USDT",
           17322.12
          ],
          [
           "BTC/USDT",
           20229.78
          ],
          [
           "BTC/USDT",
           23300.54
          ],
          [
           "BTC/USDT",
           24366.88
          ],
          [
           "BTC/USDT",
           28971.41
          ],
          [
           "BTC/USDT",
           27815.73
          ],
          [
           "BTC/USDT",
           28115.97
          ],
          [
           "BTC/USDT",
           30333.05
          ],
          [
           "BTC/USDT",
           27705
          ],
          [
           "BTC/USDT",
           26192.28
          ],
          [
           "BTC/USDT",
           30909.33
          ],
          [
           "BTC/USDT",
           36273.7
          ],
          [
           "BTC/USDT",
           41157.93
          ],
          [
           "BTC/USDT",
           43762.24
          ],
          [
           "BTC/USDT",
           52942.14
          ],
          [
           "BTC/USDT",
           66391
          ],
          [
           "BTC/USDT",
           65994.8
          ],
          [
           "BTC/USDT",
           64265.91
          ],
          [
           "BTC/USDT",
           65199.51
          ],
          [
           "BTC/USDT",
           61782.96
          ],
          [
           "BTC/USDT",
           57329.89
          ],
          [
           "BTC/USDT",
           59524
          ],
          [
           "BTC/USDT",
           66283.06
          ],
          [
           "BTC/USDT",
           83211.5
          ],
          [
           "BTC/USDT",
           99426.5
          ],
          [
           "BTC/USDT",
           99422.34
          ],
          [
           "BTC/USDT",
           90521.12
          ],
          [
           "BTC/USDT",
           85803
          ],
          [
           "BTC/USDT",
           85133.02
          ],
          [
           "BTC/USDT",
           94420.22
          ]
         ],
         "hoverlabel": {
          "bordercolor": "rgba(17, 17, 17, 0.9)",
          "font": {
           "family": "IBM Plex Sans",
           "size": 11
          },
          "namelength": -1
         },
         "hovertemplate": "<b>%{customdata[0]}</b><br>Change: %{y:.1f}%<br>Price: $%{customdata[1]:,.2f}<br><extra></extra>",
         "legendgroup": "BTC/USDT",
         "line": {
          "color": "#F7931A",
          "dash": "solid"
         },
         "marker": {
          "size": 4,
          "symbol": "circle"
         },
         "mode": "lines",
         "name": "BTC/USDT",
         "orientation": "v",
         "showlegend": true,
         "type": "scatter",
         "x": [
          "2020-07-01T00:00:00.000000000",
          "2020-08-01T00:00:00.000000000",
          "2020-09-01T00:00:00.000000000",
          "2020-10-01T00:00:00.000000000",
          "2020-11-01T00:00:00.000000000",
          "2020-12-01T00:00:00.000000000",
          "2021-01-01T00:00:00.000000000",
          "2021-02-01T00:00:00.000000000",
          "2021-03-01T00:00:00.000000000",
          "2021-04-01T00:00:00.000000000",
          "2021-05-01T00:00:00.000000000",
          "2021-06-01T00:00:00.000000000",
          "2021-07-01T00:00:00.000000000",
          "2021-08-01T00:00:00.000000000",
          "2021-09-01T00:00:00.000000000",
          "2021-10-01T00:00:00.000000000",
          "2021-11-01T00:00:00.000000000",
          "2021-12-01T00:00:00.000000000",
          "2022-01-01T00:00:00.000000000",
          "2022-02-01T00:00:00.000000000",
          "2022-03-01T00:00:00.000000000",
          "2022-04-01T00:00:00.000000000",
          "2022-05-01T00:00:00.000000000",
          "2022-06-01T00:00:00.000000000",
          "2022-07-01T00:00:00.000000000",
          "2022-08-01T00:00:00.000000000",
          "2022-09-01T00:00:00.000000000",
          "2022-10-01T00:00:00.000000000",
          "2022-11-01T00:00:00.000000000",
          "2022-12-01T00:00:00.000000000",
          "2023-01-01T00:00:00.000000000",
          "2023-02-01T00:00:00.000000000",
          "2023-03-01T00:00:00.000000000",
          "2023-04-01T00:00:00.000000000",
          "2023-05-01T00:00:00.000000000",
          "2023-06-01T00:00:00.000000000",
          "2023-07-01T00:00:00.000000000",
          "2023-08-01T00:00:00.000000000",
          "2023-09-01T00:00:00.000000000",
          "2023-10-01T00:00:00.000000000",
          "2023-11-01T00:00:00.000000000",
          "2023-12-01T00:00:00.000000000",
          "2024-01-01T00:00:00.000000000",
          "2024-02-01T00:00:00.000000000",
          "2024-03-01T00:00:00.000000000",
          "2024-04-01T00:00:00.000000000",
          "2024-05-01T00:00:00.000000000",
          "2024-06-01T00:00:00.000000000",
          "2024-07-01T00:00:00.000000000",
          "2024-08-01T00:00:00.000000000",
          "2024-09-01T00:00:00.000000000",
          "2024-10-01T00:00:00.000000000",
          "2024-11-01T00:00:00.000000000",
          "2024-12-01T00:00:00.000000000",
          "2025-01-01T00:00:00.000000000",
          "2025-02-01T00:00:00.000000000",
          "2025-03-01T00:00:00.000000000",
          "2025-04-01T00:00:00.000000000",
          "2025-05-01T00:00:00.000000000"
         ],
         "xaxis": "x",
         "y": {
          "bdata": "AAAAAAAAWUBnRSjCxkFcQEgDQV1B5FpAvHsCRuMVXkDnju9ap1FkQG/FO25Iz2xAJi7MmXyJdUBD80ibu9t7QIj3kVz8aIBACUEl5kEtgUCVRJjfVoF7QGTHUFXQjXVA6RxfA/wKdkBDU2h3Kv56QMRoIHXvbnxAIMzXyTbygEAqPix6OMmCQCuZXwlUDn9AcXTd/03deEDKqUcBNaF4QB1IDX9vOnpAAjDCwA8hekDKzsXxb4F0QHecA2ZCfW5ApEZmDqG0akCPIcNrZn5rQDbuZox6J2lAXl2QZ9sjaEAjreEfEbdmQAxdnes2S2VAPy6F4T7eaEAFohuQmqRsQEqR4m4t9G1Acm0XoJrOcUCxYDB4whhxQDdizn0ASHFAYGPnF9ukckD0sl4iVgdxQFjsPvxPGXBA5pcpVYj/ckCxkZJ+m0t2QCsCuAwiTHlAWvLJu+rlekBEyNb5LUWAQHcMIfZBZ4RAmslmQhZIhEC/yrZkEcCDQJW1IaaECYRA+H1GULn8gkC5J2LaYZ6BQDxGUIYAS4JAuWNv/MNehEACibXEmJKJQBaPmHJMjo5A8CGsqfiNjkA6il3VrNGLQOsV/xt7XopAoAP9UMUpikDR4MoCbwSNQA==",
          "dtype": "f8"
         },
         "yaxis": "y"
        },
        {
         "customdata": [
          [
           "ETH/USDT",
           286.16
          ],
          [
           "ETH/USDT",
           385.5
          ],
          [
           "ETH/USDT",
           398.63
          ],
          [
           "ETH/USDT",
           376.46
          ],
          [
           "ETH/USDT",
           496.62
          ],
          [
           "ETH/USDT",
           644.58
          ],
          [
           "ETH/USDT",
           1094.64
          ],
          [
           "ETH/USDT",
           1656.16
          ],
          [
           "ETH/USDT",
           1678.6
          ],
          [
           "ETH/USDT",
           2341.66
          ],
          [
           "ETH/USDT",
           3050.73
          ],
          [
           "ETH/USDT",
           2296.22
          ],
          [
           "ETH/USDT",
           2129.93
          ],
          [
           "ETH/USDT",
           2959.16
          ],
          [
           "ETH/USDT",
           3339.94
          ],
          [
           "ETH/USDT",
           3714.77
          ],
          [
           "ETH/USDT",
           4390.5
          ],
          [
           "ETH/USDT",
           4141.22
          ],
          [
           "ETH/USDT",
           3029.86
          ],
          [
           "ETH/USDT",
           2791.83
          ],
          [
           "ETH/USDT",
           2963.44
          ],
          [
           "ETH/USDT",
           3144.8
          ],
          [
           "ETH/USDT",
           2334.43
          ],
          [
           "ETH/USDT",
           1427.07
          ],
          [
           "ETH/USDT",
           1395.56
          ],
          [
           "ETH/USDT",
           1726.04
          ],
          [
           "ETH/USDT",
           1504.5
          ],
          [
           "ETH/USDT",
           1426.53
          ],
          [
           "ETH/USDT",
           1376.76
          ],
          [
           "ETH/USDT",
           1251.62
          ],
          [
           "ETH/USDT",
           1434.92
          ],
          [
           "ETH/USDT",
           1602.45
          ],
          [
           "ETH/USDT",
           1612.78
          ],
          [
           "ETH/USDT",
           1952.16
          ],
          [
           "ETH/USDT",
           1879.5
          ],
          [
           "ETH/USDT",
           1787.3
          ],
          [
           "ETH/USDT",
           1927.55
          ],
          [
           "ETH/USDT",
           1714.87
          ],
          [
           "ETH/USDT",
           1612.66
          ],
          [
           "ETH/USDT",
           1693.27
          ],
          [
           "ETH/USDT",
           1957.05
          ],
          [
           "ETH/USDT",
           2245.42
          ],
          [
           "ETH/USDT",
           2408.66
          ],
          [
           "ETH/USDT",
           2881.4
          ],
          [
           "ETH/USDT",
           3575.24
          ],
          [
           "ETH/USDT",
           3291.36
          ],
          [
           "ETH/USDT",
           3397
          ],
          [
           "ETH/USDT",
           3563.73
          ],
          [
           "ETH/USDT",
           3186.41
          ],
          [
           "ETH/USDT",
           2676.78
          ],
          [
           "ETH/USDT",
           2439.57
          ],
          [
           "ETH/USDT",
           2539.74
          ],
          [
           "ETH/USDT",
           3048.28
          ],
          [
           "ETH/USDT",
           3604.85
          ],
          [
           "ETH/USDT",
           3332.42
          ],
          [
           "ETH/USDT",
           2704.12
          ],
          [
           "ETH/USDT",
           2152.43
          ],
          [
           "ETH/USDT",
           1671.02
          ],
          [
           "ETH/USDT",
           1799.62
          ]
         ],
         "hoverlabel": {
          "bordercolor": "rgba(17, 17, 17, 0.9)",
          "font": {
           "family": "IBM Plex Sans",
           "size": 11
          },
          "namelength": -1
         },
         "hovertemplate": "<b>%{customdata[0]}</b><br>Change: %{y:.1f}%<br>Price: $%{customdata[1]:,.2f}<br><extra></extra>",
         "legendgroup": "ETH/USDT",
         "line": {
          "color": "#636BFF",
          "dash": "solid"
         },
         "marker": {
          "size": 4,
          "symbol": "circle"
         },
         "mode": "lines",
         "name": "ETH/USDT",
         "orientation": "v",
         "showlegend": true,
         "type": "scatter",
         "x": [
          "2020-07-01T00:00:00.000000000",
          "2020-08-01T00:00:00.000000000",
          "2020-09-01T00:00:00.000000000",
          "2020-10-01T00:00:00.000000000",
          "2020-11-01T00:00:00.000000000",
          "2020-12-01T00:00:00.000000000",
          "2021-01-01T00:00:00.000000000",
          "2021-02-01T00:00:00.000000000",
          "2021-03-01T00:00:00.000000000",
          "2021-04-01T00:00:00.000000000",
          "2021-05-01T00:00:00.000000000",
          "2021-06-01T00:00:00.000000000",
          "2021-07-01T00:00:00.000000000",
          "2021-08-01T00:00:00.000000000",
          "2021-09-01T00:00:00.000000000",
          "2021-10-01T00:00:00.000000000",
          "2021-11-01T00:00:00.000000000",
          "2021-12-01T00:00:00.000000000",
          "2022-01-01T00:00:00.000000000",
          "2022-02-01T00:00:00.000000000",
          "2022-03-01T00:00:00.000000000",
          "2022-04-01T00:00:00.000000000",
          "2022-05-01T00:00:00.000000000",
          "2022-06-01T00:00:00.000000000",
          "2022-07-01T00:00:00.000000000",
          "2022-08-01T00:00:00.000000000",
          "2022-09-01T00:00:00.000000000",
          "2022-10-01T00:00:00.000000000",
          "2022-11-01T00:00:00.000000000",
          "2022-12-01T00:00:00.000000000",
          "2023-01-01T00:00:00.000000000",
          "2023-02-01T00:00:00.000000000",
          "2023-03-01T00:00:00.000000000",
          "2023-04-01T00:00:00.000000000",
          "2023-05-01T00:00:00.000000000",
          "2023-06-01T00:00:00.000000000",
          "2023-07-01T00:00:00.000000000",
          "2023-08-01T00:00:00.000000000",
          "2023-09-01T00:00:00.000000000",
          "2023-10-01T00:00:00.000000000",
          "2023-11-01T00:00:00.000000000",
          "2023-12-01T00:00:00.000000000",
          "2024-01-01T00:00:00.000000000",
          "2024-02-01T00:00:00.000000000",
          "2024-03-01T00:00:00.000000000",
          "2024-04-01T00:00:00.000000000",
          "2024-05-01T00:00:00.000000000",
          "2024-06-01T00:00:00.000000000",
          "2024-07-01T00:00:00.000000000",
          "2024-08-01T00:00:00.000000000",
          "2024-09-01T00:00:00.000000000",
          "2024-10-01T00:00:00.000000000",
          "2024-11-01T00:00:00.000000000",
          "2024-12-01T00:00:00.000000000",
          "2025-01-01T00:00:00.000000000",
          "2025-02-01T00:00:00.000000000",
          "2025-03-01T00:00:00.000000000",
          "2025-04-01T00:00:00.000000000",
          "2025-05-01T00:00:00.000000000"
         ],
         "xaxis": "x",
         "y": {
          "bdata": "AAAAAAAAWUC2SUoC4NZgQAlbSLWzaWFAHDly5MhxYEA85qcGe7FlQBLdJysNKGxAPqCJpW/od0AXU+9wBhaCQEyYMGHCVIJAygTlgG+SiUAdXgWdXqiQQEdI/tdmE4lAMD4z1INCh0BzMPMKXyiQQGZd3weiPJJAMkA33JNIlEAt7f5GIPmXQB3xT3utnJZA4AqodDKLkEAy1YXC8nyOQJxdBJtaLpBALKDSydwrkUAjR44cOX6JQOj2NgAlK39AQTrin/Z6fkBxdQ9oYtmCQM7lXeAJboBAAQQIECAof0AcO3bs2BF+QKsyHKYnVntASyp5OwlXf0BQVxwU33+BQCfh5hbAnIFAGDFixIhRhUDmzJkzZ4aEQDe5BC6lhINAwqmcy7sMhUB0oK44KLqCQEaNGjVqnIFAZaYDdcV9gkAgi6h1NF+FQIw+xh5ihYhAEUrdTL5NikDiD7KIWnePQI5D0DKKhZNAZ2DlE7r4kUBqQ2J7ZIySQJK3k3BzdZNAie6TlQZmkUARs4peTzuNQAIFChQopIpAQoYMGTK8i0CGMKrm8aSQQAUwqeTtrpNA4sOHDx8ykkCfrjgovoeNQFWtWrVqgYdAVDubf5E/gkBeB6FmFqeDQA==",
          "dtype": "f8"
         },
         "yaxis": "y"
        },
        {
         "customdata": [
          [
           "BNB/USDT",
           17.96
          ],
          [
           "BNB/USDT",
           21.51
          ],
          [
           "BNB/USDT",
           25.7
          ],
          [
           "BNB/USDT",
           29.02
          ],
          [
           "BNB/USDT",
           30.59
          ],
          [
           "BNB/USDT",
           33.36
          ],
          [
           "BNB/USDT",
           41.13
          ],
          [
           "BNB/USDT",
           196.07
          ],
          [
           "BNB/USDT",
           262.91
          ],
          [
           "BNB/USDT",
           469.63
          ],
          [
           "BNB/USDT",
           451.74
          ],
          [
           "BNB/USDT",
           329.21
          ],
          [
           "BNB/USDT",
           297.26
          ],
          [
           "BNB/USDT",
           417.98
          ],
          [
           "BNB/USDT",
           414.95
          ],
          [
           "BNB/USDT",
           461
          ],
          [
           "BNB/USDT",
           589.65
          ],
          [
           "BNB/USDT",
           569.5
          ],
          [
           "BNB/USDT",
           434.95
          ],
          [
           "BNB/USDT",
           384.45
          ],
          [
           "BNB/USDT",
           405.9
          ],
          [
           "BNB/USDT",
           418.15
          ],
          [
           "BNB/USDT",
           316.2
          ],
          [
           "BNB/USDT",
           253.95
          ],
          [
           "BNB/USDT",
           257.75
          ],
          [
           "BNB/USDT",
           304.55
          ],
          [
           "BNB/USDT",
           278.35
          ],
          [
           "BNB/USDT",
           297.35
          ],
          [
           "BNB/USDT",
           324.15
          ],
          [
           "BNB/USDT",
           261
          ],
          [
           "BNB/USDT",
           282.1
          ],
          [
           "BNB/USDT",
           310.3
          ],
          [
           "BNB/USDT",
           305.65
          ],
          [
           "BNB/USDT",
           324.75
          ],
          [
           "BNB/USDT",
           320.4
          ],
          [
           "BNB/USDT",
           264.4
          ],
          [
           "BNB/USDT",
           246.4
          ],
          [
           "BNB/USDT",
           226.1
          ],
          [
           "BNB/USDT",
           212.6
          ],
          [
           "BNB/USDT",
           220.05
          ],
          [
           "BNB/USDT",
           247.1
          ],
          [
           "BNB/USDT",
           281.55
          ],
          [
           "BNB/USDT",
           310.9
          ],
          [
           "BNB/USDT",
           361.85
          ],
          [
           "BNB/USDT",
           500.65
          ],
          [
           "BNB/USDT",
           571.25
          ],
          [
           "BNB/USDT",
           584.05
          ],
          [
           "BNB/USDT",
           636.5
          ],
          [
           "BNB/USDT",
           530.2
          ],
          [
           "BNB/USDT",
           500.3
          ],
          [
           "BNB/USDT",
           544.95
          ],
          [
           "BNB/USDT",
           573.25
          ],
          [
           "BNB/USDT",
           615.67
          ],
          [
           "BNB/USDT",
           706.28
          ],
          [
           "BNB/USDT",
           691.54
          ],
          [
           "BNB/USDT",
           616
          ],
          [
           "BNB/USDT",
           575.94
          ],
          [
           "BNB/USDT",
           570
          ],
          [
           "BNB/USDT",
           601.03
          ]
         ],
         "hoverlabel": {
          "bordercolor": "rgba(17, 17, 17, 0.9)",
          "font": {
           "family": "IBM Plex Sans",
           "size": 11
          },
          "namelength": -1
         },
         "hovertemplate": "<b>%{customdata[0]}</b><br>Change: %{y:.1f}%<br>Price: $%{customdata[1]:,.2f}<br><extra></extra>",
         "legendgroup": "BNB/USDT",
         "line": {
          "color": "#F3BA2F",
          "dash": "solid"
         },
         "marker": {
          "size": 4,
          "symbol": "circle"
         },
         "mode": "lines",
         "name": "BNB/USDT",
         "orientation": "v",
         "showlegend": true,
         "type": "scatter",
         "x": [
          "2020-07-01T00:00:00.000000000",
          "2020-08-01T00:00:00.000000000",
          "2020-09-01T00:00:00.000000000",
          "2020-10-01T00:00:00.000000000",
          "2020-11-01T00:00:00.000000000",
          "2020-12-01T00:00:00.000000000",
          "2021-01-01T00:00:00.000000000",
          "2021-02-01T00:00:00.000000000",
          "2021-03-01T00:00:00.000000000",
          "2021-04-01T00:00:00.000000000",
          "2021-05-01T00:00:00.000000000",
          "2021-06-01T00:00:00.000000000",
          "2021-07-01T00:00:00.000000000",
          "2021-08-01T00:00:00.000000000",
          "2021-09-01T00:00:00.000000000",
          "2021-10-01T00:00:00.000000000",
          "2021-11-01T00:00:00.000000000",
          "2021-12-01T00:00:00.000000000",
          "2022-01-01T00:00:00.000000000",
          "2022-02-01T00:00:00.000000000",
          "2022-03-01T00:00:00.000000000",
          "2022-04-01T00:00:00.000000000",
          "2022-05-01T00:00:00.000000000",
          "2022-06-01T00:00:00.000000000",
          "2022-07-01T00:00:00.000000000",
          "2022-08-01T00:00:00.000000000",
          "2022-09-01T00:00:00.000000000",
          "2022-10-01T00:00:00.000000000",
          "2022-11-01T00:00:00.000000000",
          "2022-12-01T00:00:00.000000000",
          "2023-01-01T00:00:00.000000000",
          "2023-02-01T00:00:00.000000000",
          "2023-03-01T00:00:00.000000000",
          "2023-04-01T00:00:00.000000000",
          "2023-05-01T00:00:00.000000000",
          "2023-06-01T00:00:00.000000000",
          "2023-07-01T00:00:00.000000000",
          "2023-08-01T00:00:00.000000000",
          "2023-09-01T00:00:00.000000000",
          "2023-10-01T00:00:00.000000000",
          "2023-11-01T00:00:00.000000000",
          "2023-12-01T00:00:00.000000000",
          "2024-01-01T00:00:00.000000000",
          "2024-02-01T00:00:00.000000000",
          "2024-03-01T00:00:00.000000000",
          "2024-04-01T00:00:00.000000000",
          "2024-05-01T00:00:00.000000000",
          "2024-06-01T00:00:00.000000000",
          "2024-07-01T00:00:00.000000000",
          "2024-08-01T00:00:00.000000000",
          "2024-09-01T00:00:00.000000000",
          "2024-10-01T00:00:00.000000000",
          "2024-11-01T00:00:00.000000000",
          "2024-12-01T00:00:00.000000000",
          "2025-01-01T00:00:00.000000000",
          "2025-02-01T00:00:00.000000000",
          "2025-03-01T00:00:00.000000000",
          "2025-04-01T00:00:00.000000000",
          "2025-05-01T00:00:00.000000000"
         ],
         "xaxis": "x",
         "y": {
          "bdata": "AAAAAAAAWUDTDmaNCPFdQO1g1ogQ42FA1Qot8ZkyZEA9lPyFVUplQJe3PhLgN2dAXlze+kigbEAb0FOt0A6RQO4fyOF035ZAaInPlLttpED4jccig6ajQBeXtz4SpJxAwC4ub33cmUBKP9HRkC6iQP7CKvXSDKJANqCnWqENpEC1g1kjQqapQCY+U+7exahAWSNCjIrrokBztsAuLrmgQG6+MmcLqKFApty9c3UwokB4rk72UIKbQD+Qw+nmF5ZAL+1g1ohslkCnm6/M2X6aQIXXBvRUN5hAMqgZk37emUDzlTlbYDOcQE25e+fqtJZAp5uvzNmKmEDcP5DD6f6aQEm9tINZl5pAkr+wSr1AnEDR0ZCC29+bQNFPdDSkAJdALm99JMBvlUCoGZN+oquTQC3xmXL3fpJApOD2D+Qkk0Bnyt07V3+VQNUKLfGZfphAeWkHs0YMm0B/oqMhBXufQB5K/sIqx6VALbCLy1vZqEDOFtjF5WepQFcneyj5r6tADKvUSzsQp0BRMyb9RMOlQE+1Qkt8tKdANqCnWqHvqEBUbMJrA8iqQNIOZo0Iua5Ao+D2D+QUrkD6ypwtsMuqQMjhdPOVDalAJzoaUnDLqEDy1kcC/CSqQA==",
          "dtype": "f8"
         },
         "yaxis": "y"
        },
        {
         "customdata": [
          [
           "SOL/USDT",
           3.81
          ],
          [
           "SOL/USDT",
           3.52
          ],
          [
           "SOL/USDT",
           2.15
          ],
          [
           "SOL/USDT",
           1.89
          ],
          [
           "SOL/USDT",
           1.63
          ],
          [
           "SOL/USDT",
           3.15
          ],
          [
           "SOL/USDT",
           11.16
          ],
          [
           "SOL/USDT",
           16.39
          ],
          [
           "SOL/USDT",
           33.49
          ],
          [
           "SOL/USDT",
           38.75
          ],
          [
           "SOL/USDT",
           32.19
          ],
          [
           "SOL/USDT",
           30.1
          ],
          [
           "SOL/USDT",
           81.22
          ],
          [
           "SOL/USDT",
           160.94
          ],
          [
           "SOL/USDT",
           178.27
          ],
          [
           "SOL/USDT",
           220.42
          ],
          [
           "SOL/USDT",
           195.58
          ],
          [
           "SOL/USDT",
           130.18
          ],
          [
           "SOL/USDT",
           98.64
          ],
          [
           "SOL/USDT",
           103.58
          ],
          [
           "SOL/USDT",
           112.71
          ],
          [
           "SOL/USDT",
           66.31
          ],
          [
           "SOL/USDT",
           35.99
          ],
          [
           "SOL/USDT",
           39.59
          ],
          [
           "SOL/USDT",
           39.19
          ],
          [
           "SOL/USDT",
           34.51
          ],
          [
           "SOL/USDT",
           30.67
          ],
          [
           "SOL/USDT",
           24.86
          ],
          [
           "SOL/USDT",
           11.48
          ],
          [
           "SOL/USDT",
           18.24
          ],
          [
           "SOL/USDT",
           23.4
          ],
          [
           "SOL/USDT",
           19.95
          ],
          [
           "SOL/USDT",
           22.92
          ],
          [
           "SOL/USDT",
           20.94
          ],
          [
           "SOL/USDT",
           17.55
          ],
          [
           "SOL/USDT",
           25.02
          ],
          [
           "SOL/USDT",
           22.38
          ],
          [
           "SOL/USDT",
           19.57
          ],
          [
           "SOL/USDT",
           29.78
          ],
          [
           "SOL/USDT",
           53
          ],
          [
           "SOL/USDT",
           92.48
          ],
          [
           "SOL/USDT",
           97.98
          ],
          [
           "SOL/USDT",
           113.76
          ],
          [
           "SOL/USDT",
           157.59
          ],
          [
           "SOL/USDT",
           160.23
          ],
          [
           "SOL/USDT",
           153.68
          ],
          [
           "SOL/USDT",
           148.8
          ],
          [
           "SOL/USDT",
           157.49
          ],
          [
           "SOL/USDT",
           141.45
          ],
          [
           "SOL/USDT",
           140.89
          ],
          [
           "SOL/USDT",
           158.24
          ],
          [
           "SOL/USDT",
           209.75
          ],
          [
           "SOL/USDT",
           211.13
          ],
          [
           "SOL/USDT",
           232.36
          ],
          [
           "SOL/USDT",
           181
          ],
          [
           "SOL/USDT",
           145.93
          ],
          [
           "SOL/USDT",
           126.13
          ],
          [
           "SOL/USDT",
           148.28
          ]
         ],
         "hoverlabel": {
          "bordercolor": "rgba(17, 17, 17, 0.9)",
          "font": {
           "family": "IBM Plex Sans",
           "size": 11
          },
          "namelength": -1
         },
         "hovertemplate": "<b>%{customdata[0]}</b><br>Change: %{y:.1f}%<br>Price: $%{customdata[1]:,.2f}<br><extra></extra>",
         "legendgroup": "SOL/USDT",
         "line": {
          "color": "#CF62E7",
          "dash": "solid"
         },
         "marker": {
          "size": 4,
          "symbol": "circle"
         },
         "mode": "lines",
         "name": "SOL/USDT",
         "orientation": "v",
         "showlegend": true,
         "type": "scatter",
         "x": [
          "2020-08-01T00:00:00.000000000",
          "2020-09-01T00:00:00.000000000",
          "2020-10-01T00:00:00.000000000",
          "2020-11-01T00:00:00.000000000",
          "2020-12-01T00:00:00.000000000",
          "2021-01-01T00:00:00.000000000",
          "2021-02-01T00:00:00.000000000",
          "2021-03-01T00:00:00.000000000",
          "2021-04-01T00:00:00.000000000",
          "2021-05-01T00:00:00.000000000",
          "2021-06-01T00:00:00.000000000",
          "2021-07-01T00:00:00.000000000",
          "2021-08-01T00:00:00.000000000",
          "2021-09-01T00:00:00.000000000",
          "2021-10-01T00:00:00.000000000",
          "2021-11-01T00:00:00.000000000",
          "2021-12-01T00:00:00.000000000",
          "2022-01-01T00:00:00.000000000",
          "2022-02-01T00:00:00.000000000",
          "2022-03-01T00:00:00.000000000",
          "2022-04-01T00:00:00.000000000",
          "2022-05-01T00:00:00.000000000",
          "2022-06-01T00:00:00.000000000",
          "2022-07-01T00:00:00.000000000",
          "2022-08-01T00:00:00.000000000",
          "2022-09-01T00:00:00.000000000",
          "2022-10-01T00:00:00.000000000",
          "2022-11-01T00:00:00.000000000",
          "2022-12-01T00:00:00.000000000",
          "2023-01-01T00:00:00.000000000",
          "2023-02-01T00:00:00.000000000",
          "2023-03-01T00:00:00.000000000",
          "2023-04-01T00:00:00.000000000",
          "2023-05-01T00:00:00.000000000",
          "2023-06-01T00:00:00.000000000",
          "2023-07-01T00:00:00.000000000",
          "2023-08-01T00:00:00.000000000",
          "2023-09-01T00:00:00.000000000",
          "2023-10-01T00:00:00.000000000",
          "2023-11-01T00:00:00.000000000",
          "2023-12-01T00:00:00.000000000",
          "2024-01-01T00:00:00.000000000",
          "2024-02-01T00:00:00.000000000",
          "2024-03-01T00:00:00.000000000",
          "2024-04-01T00:00:00.000000000",
          "2024-05-01T00:00:00.000000000",
          "2024-06-01T00:00:00.000000000",
          "2024-07-01T00:00:00.000000000",
          "2024-08-01T00:00:00.000000000",
          "2024-09-01T00:00:00.000000000",
          "2024-10-01T00:00:00.000000000",
          "2024-11-01T00:00:00.000000000",
          "2024-12-01T00:00:00.000000000",
          "2025-01-01T00:00:00.000000000",
          "2025-02-01T00:00:00.000000000",
          "2025-03-01T00:00:00.000000000",
          "2025-04-01T00:00:00.000000000",
          "2025-05-01T00:00:00.000000000"
         ],
         "xaxis": "x",
         "y": {
          "bdata": "AAAAAAAAWUDGjXFj3BhXQI1xY9wYN0xAs9lsNpvNSEDZQXaQHWRFQGu1Wq1Wq1RA1Ol0Op1OckAIL8KL8OJ6QFaAFWAFeItAuofuoXvIj0DhcDgcDmeKQFwD18A1sIhARngRXoSnoEBagpagJYCwQAuwAqwAR7JA1BQ1RU2ZtkBWVVVVVQ20QIkZYoaYsapAP5/P5/M5pEBT1BQ1RT2lQJFIJBKJHKdA4Rq4Bq4xm0BJT9KT9ISNQOPGuDFuPJBA+Ca+iW8SkEAb48a4MU6MQFN+lB/lJ4lAKT/Kj/JjhED1T/1T/9RyQHq9Xq/X631ALBaLxWIxg0Cfz+fz+VyAQJPJZDKZzIJAm81ms9ksgUBCoVAoFMp8QLFYLBaLhYRAZrPZbDZbgkD70r60Lw2AQEvQErQEbYhA38Q38U28lUB+aV/al/aiQOp0Op1OF6RAdTqdTqdTp0CHw+FwOCiwQDAYDAaDbbBAETPEDDGDr0BhMBgMBoOuQIkZYoaYJbBAJpPJZDIBrUDOvDPvzOOsQH6UH+VHObBA/lP/1D+BtUCEF+FFeKW1QAErwAqw0rdAgOqf+qeOskDiRXgRXuytQPVP/VP/3KlAoXvoHrpnrkA=",
          "dtype": "f8"
         },
         "yaxis": "y"
        },
        {
         "customdata": [
          [
           "XRP/USDT",
           0.22
          ],
          [
           "XRP/USDT",
           0.29
          ],
          [
           "XRP/USDT",
           0.26
          ],
          [
           "XRP/USDT",
           0.25
          ],
          [
           "XRP/USDT",
           0.5
          ],
          [
           "XRP/USDT",
           0.43
          ],
          [
           "XRP/USDT",
           0.36
          ],
          [
           "XRP/USDT",
           0.55
          ],
          [
           "XRP/USDT",
           0.51
          ],
          [
           "XRP/USDT",
           1.26
          ],
          [
           "XRP/USDT",
           1.21
          ],
          [
           "XRP/USDT",
           0.8
          ],
          [
           "XRP/USDT",
           0.64
          ],
          [
           "XRP/USDT",
           1.02
          ],
          [
           "XRP/USDT",
           1.14
          ],
          [
           "XRP/USDT",
           1.09
          ],
          [
           "XRP/USDT",
           1.12
          ],
          [
           "XRP/USDT",
           0.81
          ],
          [
           "XRP/USDT",
           0.71
          ],
          [
           "XRP/USDT",
           0.75
          ],
          [
           "XRP/USDT",
           0.81
          ],
          [
           "XRP/USDT",
           0.71
          ],
          [
           "XRP/USDT",
           0.5
          ],
          [
           "XRP/USDT",
           0.36
          ],
          [
           "XRP/USDT",
           0.36
          ],
          [
           "XRP/USDT",
           0.36
          ],
          [
           "XRP/USDT",
           0.44
          ],
          [
           "XRP/USDT",
           0.49
          ],
          [
           "XRP/USDT",
           0.41
          ],
          [
           "XRP/USDT",
           0.37
          ],
          [
           "XRP/USDT",
           0.37
          ],
          [
           "XRP/USDT",
           0.39
          ],
          [
           "XRP/USDT",
           0.47
          ],
          [
           "XRP/USDT",
           0.49
          ],
          [
           "XRP/USDT",
           0.47
          ],
          [
           "XRP/USDT",
           0.51
          ],
          [
           "XRP/USDT",
           0.7
          ],
          [
           "XRP/USDT",
           0.57
          ],
          [
           "XRP/USDT",
           0.5
          ],
          [
           "XRP/USDT",
           0.55
          ],
          [
           "XRP/USDT",
           0.66
          ],
          [
           "XRP/USDT",
           0.64
          ],
          [
           "XRP/USDT",
           0.56
          ],
          [
           "XRP/USDT",
           0.56
          ],
          [
           "XRP/USDT",
           0.64
          ],
          [
           "XRP/USDT",
           0.53
          ],
          [
           "XRP/USDT",
           0.52
          ],
          [
           "XRP/USDT",
           0.49
          ],
          [
           "XRP/USDT",
           0.52
          ],
          [
           "XRP/USDT",
           0.54
          ],
          [
           "XRP/USDT",
           0.58
          ],
          [
           "XRP/USDT",
           0.56
          ],
          [
           "XRP/USDT",
           1.22
          ],
          [
           "XRP/USDT",
           2.38
          ],
          [
           "XRP/USDT",
           2.74
          ],
          [
           "XRP/USDT",
           2.42
          ],
          [
           "XRP/USDT",
           2.45
          ],
          [
           "XRP/USDT",
           1.99
          ],
          [
           "XRP/USDT",
           2.2
          ]
         ],
         "hoverlabel": {
          "bordercolor": "rgba(17, 17, 17, 0.9)",
          "font": {
           "family": "IBM Plex Sans",
           "size": 11
          },
          "namelength": -1
         },
         "hovertemplate": "<b>%{customdata[0]}</b><br>Change: %{y:.1f}%<br>Price: $%{customdata[1]:,.2f}<br><extra></extra>",
         "legendgroup": "XRP/USDT",
         "line": {
          "color": "#4B8BBE",
          "dash": "solid"
         },
         "marker": {
          "size": 4,
          "symbol": "circle"
         },
         "mode": "lines",
         "name": "XRP/USDT",
         "orientation": "v",
         "showlegend": true,
         "type": "scatter",
         "x": [
          "2020-07-01T00:00:00.000000000",
          "2020-08-01T00:00:00.000000000",
          "2020-09-01T00:00:00.000000000",
          "2020-10-01T00:00:00.000000000",
          "2020-11-01T00:00:00.000000000",
          "2020-12-01T00:00:00.000000000",
          "2021-01-01T00:00:00.000000000",
          "2021-02-01T00:00:00.000000000",
          "2021-03-01T00:00:00.000000000",
          "2021-04-01T00:00:00.000000000",
          "2021-05-01T00:00:00.000000000",
          "2021-06-01T00:00:00.000000000",
          "2021-07-01T00:00:00.000000000",
          "2021-08-01T00:00:00.000000000",
          "2021-09-01T00:00:00.000000000",
          "2021-10-01T00:00:00.000000000",
          "2021-11-01T00:00:00.000000000",
          "2021-12-01T00:00:00.000000000",
          "2022-01-01T00:00:00.000000000",
          "2022-02-01T00:00:00.000000000",
          "2022-03-01T00:00:00.000000000",
          "2022-04-01T00:00:00.000000000",
          "2022-05-01T00:00:00.000000000",
          "2022-06-01T00:00:00.000000000",
          "2022-07-01T00:00:00.000000000",
          "2022-08-01T00:00:00.000000000",
          "2022-09-01T00:00:00.000000000",
          "2022-10-01T00:00:00.000000000",
          "2022-11-01T00:00:00.000000000",
          "2022-12-01T00:00:00.000000000",
          "2023-01-01T00:00:00.000000000",
          "2023-02-01T00:00:00.000000000",
          "2023-03-01T00:00:00.000000000",
          "2023-04-01T00:00:00.000000000",
          "2023-05-01T00:00:00.000000000",
          "2023-06-01T00:00:00.000000000",
          "2023-07-01T00:00:00.000000000",
          "2023-08-01T00:00:00.000000000",
          "2023-09-01T00:00:00.000000000",
          "2023-10-01T00:00:00.000000000",
          "2023-11-01T00:00:00.000000000",
          "2023-12-01T00:00:00.000000000",
          "2024-01-01T00:00:00.000000000",
          "2024-02-01T00:00:00.000000000",
          "2024-03-01T00:00:00.000000000",
          "2024-04-01T00:00:00.000000000",
          "2024-05-01T00:00:00.000000000",
          "2024-06-01T00:00:00.000000000",
          "2024-07-01T00:00:00.000000000",
          "2024-08-01T00:00:00.000000000",
          "2024-09-01T00:00:00.000000000",
          "2024-10-01T00:00:00.000000000",
          "2024-11-01T00:00:00.000000000",
          "2024-12-01T00:00:00.000000000",
          "2025-01-01T00:00:00.000000000",
          "2025-02-01T00:00:00.000000000",
          "2025-03-01T00:00:00.000000000",
          "2025-04-01T00:00:00.000000000",
          "2025-05-01T00:00:00.000000000"
         ],
         "xaxis": "x",
         "y": {
          "bdata": "AAAAAAAAWUC66KKLLnpgQIwuuuiii11A6aKLLrpoXEDpoosuumhsQC+66KKLbmhAdNFFF110ZEAAAAAAAEBvQLvooosu+mxARhdddNHlgUAAAAAAADCBQLvooosuunZAL7rooosuckC76KKLLvp8QNFFF110MYBAGF100UX3fkDTRRdddNF/QKOLLrroAndAiy666KIrdEAvuuiii051QKOLLrroAndAiy666KIrdEDpoosuumhsQHTRRRdddGRAdNFFF110ZEB00UUXXXRkQAAAAAAAAGlAF1100UXXa0CLLrrooktnQEYXXXTRBWVARhdddNEFZUDpoosuuihmQHTRRRddtGpAF1100UXXa0B00UUXXbRqQLvooosu+mxAo4suuujic0DRRRdddDFwQOmiiy66aGxAAAAAAABAb0AAAAAAAMByQC+66KKLLnJA00UXXXTRb0DTRRdddNFvQC+66KKLLnJAXXTRRRcdbkCMLrrooottQBdddNFF12tAjC666KKLbUAvuuiii65uQLrooosuenBA00UXXXTRb0B00UUXXVSBQBdddNFF55BARhdddNF1k0AAAAAAADCRQC+66KKLZpFAdNFFF11EjEAAAAAAAECPQA==",
          "dtype": "f8"
         },
         "yaxis": "y"
        },
        {
         "customdata": [
          [
           "AVAX/USDT",
           3.92
          ],
          [
           "AVAX/USDT",
           3.96
          ],
          [
           "AVAX/USDT",
           3.7
          ],
          [
           "AVAX/USDT",
           3.32
          ],
          [
           "AVAX/USDT",
           9.2
          ],
          [
           "AVAX/USDT",
           36.44
          ],
          [
           "AVAX/USDT",
           31.36
          ],
          [
           "AVAX/USDT",
           30.28
          ],
          [
           "AVAX/USDT",
           27.99
          ],
          [
           "AVAX/USDT",
           15.01
          ],
          [
           "AVAX/USDT",
           11.78
          ],
          [
           "AVAX/USDT",
           35.65
          ],
          [
           "AVAX/USDT",
           56.02
          ],
          [
           "AVAX/USDT",
           62.22
          ],
          [
           "AVAX/USDT",
           104.6
          ],
          [
           "AVAX/USDT",
           101.46
          ],
          [
           "AVAX/USDT",
           85.24
          ],
          [
           "AVAX/USDT",
           81.61
          ],
          [
           "AVAX/USDT",
           83.76
          ],
          [
           "AVAX/USDT",
           79.34
          ],
          [
           "AVAX/USDT",
           45.44
          ],
          [
           "AVAX/USDT",
           20.75
          ],
          [
           "AVAX/USDT",
           21.09
          ],
          [
           "AVAX/USDT",
           24.18
          ],
          [
           "AVAX/USDT",
           19.05
          ],
          [
           "AVAX/USDT",
           17.12
          ],
          [
           "AVAX/USDT",
           16.04
          ],
          [
           "AVAX/USDT",
           12.47
          ],
          [
           "AVAX/USDT",
           16.23
          ],
          [
           "AVAX/USDT",
           19.81
          ],
          [
           "AVAX/USDT",
           16.07
          ],
          [
           "AVAX/USDT",
           18.92
          ],
          [
           "AVAX/USDT",
           15.72
          ],
          [
           "AVAX/USDT",
           12.46
          ],
          [
           "AVAX/USDT",
           14.1
          ],
          [
           "AVAX/USDT",
           11.34
          ],
          [
           "AVAX/USDT",
           9.38
          ],
          [
           "AVAX/USDT",
           10.26
          ],
          [
           "AVAX/USDT",
           17.78
          ],
          [
           "AVAX/USDT",
           35.26
          ],
          [
           "AVAX/USDT",
           35.34
          ],
          [
           "AVAX/USDT",
           38.47
          ],
          [
           "AVAX/USDT",
           50.11
          ],
          [
           "AVAX/USDT",
           41.69
          ],
          [
           "AVAX/USDT",
           36.03
          ],
          [
           "AVAX/USDT",
           30.36
          ],
          [
           "AVAX/USDT",
           27.4
          ],
          [
           "AVAX/USDT",
           22.64
          ],
          [
           "AVAX/USDT",
           25.66
          ],
          [
           "AVAX/USDT",
           26.88
          ],
          [
           "AVAX/USDT",
           35.14
          ],
          [
           "AVAX/USDT",
           44.7
          ],
          [
           "AVAX/USDT",
           38.44
          ],
          [
           "AVAX/USDT",
           27.66
          ],
          [
           "AVAX/USDT",
           20.2
          ],
          [
           "AVAX/USDT",
           18.87
          ],
          [
           "AVAX/USDT",
           21.06
          ]
         ],
         "hoverlabel": {
          "bordercolor": "rgba(17, 17, 17, 0.9)",
          "font": {
           "family": "IBM Plex Sans",
           "size": 11
          },
          "namelength": -1
         },
         "hovertemplate": "<b>%{customdata[0]}</b><br>Change: %{y:.1f}%<br>Price: $%{customdata[1]:,.2f}<br><extra></extra>",
         "legendgroup": "AVAX/USDT",
         "line": {
          "color": "#E84142",
          "dash": "solid"
         },
         "marker": {
          "size": 4,
          "symbol": "circle"
         },
         "mode": "lines",
         "name": "AVAX/USDT",
         "orientation": "v",
         "showlegend": true,
         "type": "scatter",
         "x": [
          "2020-09-01T00:00:00.000000000",
          "2020-10-01T00:00:00.000000000",
          "2020-11-01T00:00:00.000000000",
          "2020-12-01T00:00:00.000000000",
          "2021-01-01T00:00:00.000000000",
          "2021-02-01T00:00:00.000000000",
          "2021-03-01T00:00:00.000000000",
          "2021-04-01T00:00:00.000000000",
          "2021-05-01T00:00:00.000000000",
          "2021-06-01T00:00:00.000000000",
          "2021-07-01T00:00:00.000000000",
          "2021-08-01T00:00:00.000000000",
          "2021-09-01T00:00:00.000000000",
          "2021-10-01T00:00:00.000000000",
          "2021-11-01T00:00:00.000000000",
          "2021-12-01T00:00:00.000000000",
          "2022-01-01T00:00:00.000000000",
          "2022-02-01T00:00:00.000000000",
          "2022-03-01T00:00:00.000000000",
          "2022-04-01T00:00:00.000000000",
          "2022-05-01T00:00:00.000000000",
          "2022-06-01T00:00:00.000000000",
          "2022-07-01T00:00:00.000000000",
          "2022-08-01T00:00:00.000000000",
          "2022-09-01T00:00:00.000000000",
          "2022-10-01T00:00:00.000000000",
          "2022-11-01T00:00:00.000000000",
          "2022-12-01T00:00:00.000000000",
          "2023-01-01T00:00:00.000000000",
          "2023-02-01T00:00:00.000000000",
          "2023-03-01T00:00:00.000000000",
          "2023-04-01T00:00:00.000000000",
          "2023-05-01T00:00:00.000000000",
          "2023-06-01T00:00:00.000000000",
          "2023-07-01T00:00:00.000000000",
          "2023-08-01T00:00:00.000000000",
          "2023-09-01T00:00:00.000000000",
          "2023-10-01T00:00:00.000000000",
          "2023-11-01T00:00:00.000000000",
          "2023-12-01T00:00:00.000000000",
          "2024-01-01T00:00:00.000000000",
          "2024-02-01T00:00:00.000000000",
          "2024-03-01T00:00:00.000000000",
          "2024-04-01T00:00:00.000000000",
          "2024-05-01T00:00:00.000000000",
          "2024-06-01T00:00:00.000000000",
          "2024-07-01T00:00:00.000000000",
          "2024-08-01T00:00:00.000000000",
          "2024-09-01T00:00:00.000000000",
          "2024-10-01T00:00:00.000000000",
          "2024-11-01T00:00:00.000000000",
          "2024-12-01T00:00:00.000000000",
          "2025-01-01T00:00:00.000000000",
          "2025-02-01T00:00:00.000000000",
          "2025-03-01T00:00:00.000000000",
          "2025-04-01T00:00:00.000000000",
          "2025-05-01T00:00:00.000000000"
         ],
         "xaxis": "x",
         "y": {
          "bdata": "AAAAAAAAWUDwcgpeTkFZQNeHxvrQmFdA60NjfWgsVUD1obE+NFZtQKfg5RS8DI1AAAAAAAAAiUAVvJyClyOIQI31obE+UIZAsj401ofud0BeTsHLKchyQOYUvJyCa4xAvZyCl1NUlkA01ofG+syYQKfg5RS82KRAsT401oc4pEA01ofG+vygQD401ofGQ6BAT8HLKXixoEDSWB8a65+fQKfg5RS8HJJAEI31obGKgEAvp+DlFNCAQBCN9aGxRoNA5hS8nIJffkBzCl5OwUt7QJyCl1PwknlAC15Owcvhc0Aa60NjfeB5QNq2bdu2lX9AK3g5BS+feUCDl1Pwcip+QL2cgpdTEHlA3LZt27bdc0D70FgfGnt2QEmSJEmSFHJAlCRJkiTpbUBzCl5OwVtwQJQkSZIkWXxA0FgfGusbjECP9aGxPiyMQMwpeDkFq45AWR8a60P5k0Avp+DlFJ6QQGR9aKwPuYxA0VgfGusziECisT401teFQOtDY31oDIJAp+DlFLx0hEDbtm3btm2FQLht27ZtA4xAwsspeDnRkUAFL6fg5aSOQAYvp+DlDIZAgpdT8HIagECZU/ByChZ+QGisD431yYBA",
          "dtype": "f8"
         },
         "yaxis": "y"
        }
       ],
       "layout": {
        "font": {
         "family": "IBM Plex Sans"
        },
        "height": 435,
        "hovermode": "x unified",
        "legend": {
         "font": {
          "color": "white",
          "family": "IBM Plex Sans",
          "size": 11
         },
         "title": {
          "text": "Cryptocurrency"
         },
         "tracegroupgap": 0,
         "x": 1.05,
         "xanchor": "left",
         "y": 0.99,
         "yanchor": "top"
        },
        "template": {
         "data": {
          "bar": [
           {
            "error_x": {
             "color": "#f2f5fa"
            },
            "error_y": {
             "color": "#f2f5fa"
            },
            "marker": {
             "line": {
              "color": "rgb(17,17,17)",
              "width": 0.5
             },
             "pattern": {
              "fillmode": "overlay",
              "size": 10,
              "solidity": 0.2
             }
            },
            "type": "bar"
           }
          ],
          "barpolar": [
           {
            "marker": {
             "line": {
              "color": "rgb(17,17,17)",
              "width": 0.5
             },
             "pattern": {
              "fillmode": "overlay",
              "size": 10,
              "solidity": 0.2
             }
            },
            "type": "barpolar"
           }
          ],
          "carpet": [
           {
            "aaxis": {
             "endlinecolor": "#A2B1C6",
             "gridcolor": "#506784",
             "linecolor": "#506784",
             "minorgridcolor": "#506784",
             "startlinecolor": "#A2B1C6"
            },
            "baxis": {
             "endlinecolor": "#A2B1C6",
             "gridcolor": "#506784",
             "linecolor": "#506784",
             "minorgridcolor": "#506784",
             "startlinecolor": "#A2B1C6"
            },
            "type": "carpet"
           }
          ],
          "choropleth": [
           {
            "colorbar": {
             "outlinewidth": 0,
             "ticks": ""
            },
            "type": "choropleth"
           }
          ],
          "contour": [
           {
            "colorbar": {
             "outlinewidth": 0,
             "ticks": ""
            },
            "colorscale": [
             [
              0,
              "#0d0887"
             ],
             [
              0.1111111111111111,
              "#46039f"
             ],
             [
              0.2222222222222222,
              "#7201a8"
             ],
             [
              0.3333333333333333,
              "#9c179e"
             ],
             [
              0.4444444444444444,
              "#bd3786"
             ],
             [
              0.5555555555555556,
              "#d8576b"
             ],
             [
              0.6666666666666666,
              "#ed7953"
             ],
             [
              0.7777777777777778,
              "#fb9f3a"
             ],
             [
              0.8888888888888888,
              "#fdca26"
             ],
             [
              1,
              "#f0f921"
             ]
            ],
            "type": "contour"
           }
          ],
          "contourcarpet": [
           {
            "colorbar": {
             "outlinewidth": 0,
             "ticks": ""
            },
            "type": "contourcarpet"
           }
          ],
          "heatmap": [
           {
            "colorbar": {
             "outlinewidth": 0,
             "ticks": ""
            },
            "colorscale": [
             [
              0,
              "#0d0887"
             ],
             [
              0.1111111111111111,
              "#46039f"
             ],
             [
              0.2222222222222222,
              "#7201a8"
             ],
             [
              0.3333333333333333,
              "#9c179e"
             ],
             [
              0.4444444444444444,
              "#bd3786"
             ],
             [
              0.5555555555555556,
              "#d8576b"
             ],
             [
              0.6666666666666666,
              "#ed7953"
             ],
             [
              0.7777777777777778,
              "#fb9f3a"
             ],
             [
              0.8888888888888888,
              "#fdca26"
             ],
             [
              1,
              "#f0f921"
             ]
            ],
            "type": "heatmap"
           }
          ],
          "histogram": [
           {
            "marker": {
             "pattern": {
              "fillmode": "overlay",
              "size": 10,
              "solidity": 0.2
             }
            },
            "type": "histogram"
           }
          ],
          "histogram2d": [
           {
            "colorbar": {
             "outlinewidth": 0,
             "ticks": ""
            },
            "colorscale": [
             [
              0,
              "#0d0887"
             ],
             [
              0.1111111111111111,
              "#46039f"
             ],
             [
              0.2222222222222222,
              "#7201a8"
             ],
             [
              0.3333333333333333,
              "#9c179e"
             ],
             [
              0.4444444444444444,
              "#bd3786"
             ],
             [
              0.5555555555555556,
              "#d8576b"
             ],
             [
              0.6666666666666666,
              "#ed7953"
             ],
             [
              0.7777777777777778,
              "#fb9f3a"
             ],
             [
              0.8888888888888888,
              "#fdca26"
             ],
             [
              1,
              "#f0f921"
             ]
            ],
            "type": "histogram2d"
           }
          ],
          "histogram2dcontour": [
           {
            "colorbar": {
             "outlinewidth": 0,
             "ticks": ""
            },
            "colorscale": [
             [
              0,
              "#0d0887"
             ],
             [
              0.1111111111111111,
              "#46039f"
             ],
             [
              0.2222222222222222,
              "#7201a8"
             ],
             [
              0.3333333333333333,
              "#9c179e"
             ],
             [
              0.4444444444444444,
              "#bd3786"
             ],
             [
              0.5555555555555556,
              "#d8576b"
             ],
             [
              0.6666666666666666,
              "#ed7953"
             ],
             [
              0.7777777777777778,
              "#fb9f3a"
             ],
             [
              0.8888888888888888,
              "#fdca26"
             ],
             [
              1,
              "#f0f921"
             ]
            ],
            "type": "histogram2dcontour"
           }
          ],
          "mesh3d": [
           {
            "colorbar": {
             "outlinewidth": 0,
             "ticks": ""
            },
            "type": "mesh3d"
           }
          ],
          "parcoords": [
           {
            "line": {
             "colorbar": {
              "outlinewidth": 0,
              "ticks": ""
             }
            },
            "type": "parcoords"
           }
          ],
          "pie": [
           {
            "automargin": true,
            "type": "pie"
           }
          ],
          "scatter": [
           {
            "marker": {
             "line": {
              "color": "#283442"
             }
            },
            "type": "scatter"
           }
          ],
          "scatter3d": [
           {
            "line": {
             "colorbar": {
              "outlinewidth": 0,
              "ticks": ""
             }
            },
            "marker": {
             "colorbar": {
              "outlinewidth": 0,
              "ticks": ""
             }
            },
            "type": "scatter3d"
           }
          ],
          "scattercarpet": [
           {
            "marker": {
             "colorbar": {
              "outlinewidth": 0,
              "ticks": ""
             }
            },
            "type": "scattercarpet"
           }
          ],
          "scattergeo": [
           {
            "marker": {
             "colorbar": {
              "outlinewidth": 0,
              "ticks": ""
             }
            },
            "type": "scattergeo"
           }
          ],
          "scattergl": [
           {
            "marker": {
             "line": {
              "color": "#283442"
             }
            },
            "type": "scattergl"
           }
          ],
          "scattermap": [
           {
            "marker": {
             "colorbar": {
              "outlinewidth": 0,
              "ticks": ""
             }
            },
            "type": "scattermap"
           }
          ],
          "scattermapbox": [
           {
            "marker": {
             "colorbar": {
              "outlinewidth": 0,
              "ticks": ""
             }
            },
            "type": "scattermapbox"
           }
          ],
          "scatterpolar": [
           {
            "marker": {
             "colorbar": {
              "outlinewidth": 0,
              "ticks": ""
             }
            },
            "type": "scatterpolar"
           }
          ],
          "scatterpolargl": [
           {
            "marker": {
             "colorbar": {
              "outlinewidth": 0,
              "ticks": ""
             }
            },
            "type": "scatterpolargl"
           }
          ],
          "scatterternary": [
           {
            "marker": {
             "colorbar": {
              "outlinewidth": 0,
              "ticks": ""
             }
            },
            "type": "scatterternary"
           }
          ],
          "surface": [
           {
            "colorbar": {
             "outlinewidth": 0,
             "ticks": ""
            },
            "colorscale": [
             [
              0,
              "#0d0887"
             ],
             [
              0.1111111111111111,
              "#46039f"
             ],
             [
              0.2222222222222222,
              "#7201a8"
             ],
             [
              0.3333333333333333,
              "#9c179e"
             ],
             [
              0.4444444444444444,
              "#bd3786"
             ],
             [
              0.5555555555555556,
              "#d8576b"
             ],
             [
              0.6666666666666666,
              "#ed7953"
             ],
             [
              0.7777777777777778,
              "#fb9f3a"
             ],
             [
              0.8888888888888888,
              "#fdca26"
             ],
             [
              1,
              "#f0f921"
             ]
            ],
            "type": "surface"
           }
          ],
          "table": [
           {
            "cells": {
             "fill": {
              "color": "#506784"
             },
             "line": {
              "color": "rgb(17,17,17)"
             }
            },
            "header": {
             "fill": {
              "color": "#2a3f5f"
             },
             "line": {
              "color": "rgb(17,17,17)"
             }
            },
            "type": "table"
           }
          ]
         },
         "layout": {
          "annotationdefaults": {
           "arrowcolor": "#f2f5fa",
           "arrowhead": 0,
           "arrowwidth": 1
          },
          "autotypenumbers": "strict",
          "coloraxis": {
           "colorbar": {
            "outlinewidth": 0,
            "ticks": ""
           }
          },
          "colorscale": {
           "diverging": [
            [
             0,
             "#8e0152"
            ],
            [
             0.1,
             "#c51b7d"
            ],
            [
             0.2,
             "#de77ae"
            ],
            [
             0.3,
             "#f1b6da"
            ],
            [
             0.4,
             "#fde0ef"
            ],
            [
             0.5,
             "#f7f7f7"
            ],
            [
             0.6,
             "#e6f5d0"
            ],
            [
             0.7,
             "#b8e186"
            ],
            [
             0.8,
             "#7fbc41"
            ],
            [
             0.9,
             "#4d9221"
            ],
            [
             1,
             "#276419"
            ]
           ],
           "sequential": [
            [
             0,
             "#0d0887"
            ],
            [
             0.1111111111111111,
             "#46039f"
            ],
            [
             0.2222222222222222,
             "#7201a8"
            ],
            [
             0.3333333333333333,
             "#9c179e"
            ],
            [
             0.4444444444444444,
             "#bd3786"
            ],
            [
             0.5555555555555556,
             "#d8576b"
            ],
            [
             0.6666666666666666,
             "#ed7953"
            ],
            [
             0.7777777777777778,
             "#fb9f3a"
            ],
            [
             0.8888888888888888,
             "#fdca26"
            ],
            [
             1,
             "#f0f921"
            ]
           ],
           "sequentialminus": [
            [
             0,
             "#0d0887"
            ],
            [
             0.1111111111111111,
             "#46039f"
            ],
            [
             0.2222222222222222,
             "#7201a8"
            ],
            [
             0.3333333333333333,
             "#9c179e"
            ],
            [
             0.4444444444444444,
             "#bd3786"
            ],
            [
             0.5555555555555556,
             "#d8576b"
            ],
            [
             0.6666666666666666,
             "#ed7953"
            ],
            [
             0.7777777777777778,
             "#fb9f3a"
            ],
            [
             0.8888888888888888,
             "#fdca26"
            ],
            [
             1,
             "#f0f921"
            ]
           ]
          },
          "colorway": [
           "#636efa",
           "#EF553B",
           "#00cc96",
           "#ab63fa",
           "#FFA15A",
           "#19d3f3",
           "#FF6692",
           "#B6E880",
           "#FF97FF",
           "#FECB52"
          ],
          "font": {
           "color": "#f2f5fa"
          },
          "geo": {
           "bgcolor": "rgb(17,17,17)",
           "lakecolor": "rgb(17,17,17)",
           "landcolor": "rgb(17,17,17)",
           "showlakes": true,
           "showland": true,
           "subunitcolor": "#506784"
          },
          "hoverlabel": {
           "align": "left"
          },
          "hovermode": "closest",
          "mapbox": {
           "style": "dark"
          },
          "paper_bgcolor": "rgb(17,17,17)",
          "plot_bgcolor": "rgb(17,17,17)",
          "polar": {
           "angularaxis": {
            "gridcolor": "#506784",
            "linecolor": "#506784",
            "ticks": ""
           },
           "bgcolor": "rgb(17,17,17)",
           "radialaxis": {
            "gridcolor": "#506784",
            "linecolor": "#506784",
            "ticks": ""
           }
          },
          "scene": {
           "xaxis": {
            "backgroundcolor": "rgb(17,17,17)",
            "gridcolor": "#506784",
            "gridwidth": 2,
            "linecolor": "#506784",
            "showbackground": true,
            "ticks": "",
            "zerolinecolor": "#C8D4E3"
           },
           "yaxis": {
            "backgroundcolor": "rgb(17,17,17)",
            "gridcolor": "#506784",
            "gridwidth": 2,
            "linecolor": "#506784",
            "showbackground": true,
            "ticks": "",
            "zerolinecolor": "#C8D4E3"
           },
           "zaxis": {
            "backgroundcolor": "rgb(17,17,17)",
            "gridcolor": "#506784",
            "gridwidth": 2,
            "linecolor": "#506784",
            "showbackground": true,
            "ticks": "",
            "zerolinecolor": "#C8D4E3"
           }
          },
          "shapedefaults": {
           "line": {
            "color": "#f2f5fa"
           }
          },
          "sliderdefaults": {
           "bgcolor": "#C8D4E3",
           "bordercolor": "rgb(17,17,17)",
           "borderwidth": 1,
           "tickwidth": 0
          },
          "ternary": {
           "aaxis": {
            "gridcolor": "#506784",
            "linecolor": "#506784",
            "ticks": ""
           },
           "baxis": {
            "gridcolor": "#506784",
            "linecolor": "#506784",
            "ticks": ""
           },
           "bgcolor": "rgb(17,17,17)",
           "caxis": {
            "gridcolor": "#506784",
            "linecolor": "#506784",
            "ticks": ""
           }
          },
          "title": {
           "x": 0.05
          },
          "updatemenudefaults": {
           "bgcolor": "#506784",
           "borderwidth": 0
          },
          "xaxis": {
           "automargin": true,
           "gridcolor": "#283442",
           "linecolor": "#506784",
           "ticks": "",
           "title": {
            "standoff": 15
           },
           "zerolinecolor": "#283442",
           "zerolinewidth": 2
          },
          "yaxis": {
           "automargin": true,
           "gridcolor": "#283442",
           "linecolor": "#506784",
           "ticks": "",
           "title": {
            "standoff": 15
           },
           "zerolinecolor": "#283442",
           "zerolinewidth": 2
          }
         }
        },
        "title": {
         "subtitle": {
          "text": "Normalized to July 2020"
         },
         "text": "<b>Crypto Relative Price Performance</b>"
        },
        "width": 705,
        "xaxis": {
         "anchor": "y",
         "domain": [
          0,
          1
         ],
         "rangeslider": {
          "visible": true
         },
         "title": {
          "text": "Date"
         }
        },
        "yaxis": {
         "anchor": "x",
         "domain": [
          0,
          1
         ],
         "tickformat": ",d",
         "ticksuffix": "%",
         "title": {
          "text": "Price Change (%)"
         }
        }
       }
      }
     },
     "metadata": {},
     "output_type": "display_data"
    }
   ],
   "source": [
    "#%% Create the normalized price evolution graph\n",
    "\n",
    "# Create the figure\n",
    "fig = px.line(\n",
    "    normalized_df_2020,\n",
    "    x='timestamp',\n",
    "    y='normalized_price',\n",
    "    color='symbols',\n",
    "    custom_data=['symbols', 'average_price'],\n",
    "    title='<b>Crypto Relative Price Performance</b>',\n",
    "    subtitle='Normalized to July 2020',\n",
    "    labels={\n",
    "        'timestamp': 'Date',\n",
    "        'normalized_price': 'Price Change (%)',\n",
    "        'symbols': 'Cryptocurrency'\n",
    "    },\n",
    "    color_discrete_map={\n",
    "        'BTC/USDT': '#F7931A',  # Bitcoin Orange\n",
    "        'ETH/USDT': '#636BFF',  # Ethereum Blue\n",
    "        'BNB/USDT': '#F3BA2F',  # Binance Yellow\n",
    "        'SOL/USDT': '#CF62E7',   # Solana Pink\n",
    "        'XRP/USDT': '#4B8BBE',  # XRP Blue\n",
    "        'AVAX/USDT': '#E84142'  # Avalanche Red\n",
    "    },\n",
    "    markers=False,\n",
    ")\n",
    "\n",
    "# Update traces to reduce marker size\n",
    "fig.update_traces(\n",
    "    marker={'size': 4}, # Try values between 2-6\n",
    "    hovertemplate=\"<b>%{customdata[0]}</b><br>\" +\n",
    "                  \"Change: %{y:.1f}%<br>\" +\n",
    "                  \"Price: $%{customdata[1]:,.2f}<br>\" +\n",
    "                  \"<extra></extra>\",\n",
    "                  hoverlabel=dict(\n",
    "    font=dict(\n",
    "         family=\"IBM Plex Sans\",\n",
    "            size=11,\n",
    "        ),\n",
    "        bordercolor=\"rgba(17, 17, 17, 0.9)\",  # Same as background to remove border\n",
    "        namelength=-1  # Show full text\n",
    "    ),\n",
    "    )  \n",
    "\n",
    "# Customize the layout\n",
    "fig.update_layout(\n",
    "    template='plotly_dark',\n",
    "    hovermode='x unified',\n",
    "    font_family=\"IBM Plex Sans\",\n",
    "    legend=dict(\n",
    "        title=dict(text=\"Cryptocurrency\"),\n",
    "        font=dict(\n",
    "            family=\"IBM Plex Sans\",\n",
    "            size=11,\n",
    "            color=\"white\"\n",
    "        ),\n",
    "        yanchor=\"top\",\n",
    "        y=0.99,\n",
    "        xanchor=\"left\",\n",
    "        x=1.05,\n",
    "    ),\n",
    "    height=435,  # Adjust height\n",
    "    width=705,  # Adjust width\n",
    "    xaxis_title=\"Date\",\n",
    "    yaxis_title=\"Price Change (%)\",\n",
    "    yaxis=dict(\n",
    "        tickformat=',d', ticksuffix='%',  # Format y-axis as percentage    \n",
    "    )\n",
    ")\n",
    "\n",
    "# Add range slider\n",
    "fig.update_xaxes(rangeslider_visible=True)\n",
    "\n",
    "# Show the plot\n",
    "fig.show(config={\n",
    "    'displayModeBar': True,\n",
    "    'displaylogo': False,\n",
    "    'modeBarButtonsToAdd': ['fullscreen']\n",
    "})\n",
    "\n",
    "# Save the figure as an HTML file\n",
    "fig.write_html(\"plots/html/jul2020_crypto_relative_price_performance.html\")"
   ]
  },
  {
   "cell_type": "code",
   "execution_count": null,
   "id": "7f6ba0b6",
   "metadata": {},
   "outputs": [
    {
     "data": {
      "application/vnd.plotly.v1+json": {
       "config": {
        "displayModeBar": true,
        "displaylogo": false,
        "modeBarButtonsToAdd": [
         "fullscreen"
        ],
        "plotlyServerURL": "https://plot.ly"
       },
       "data": [
        {
         "customdata": [
          [
           "BTC/USDT",
           10168.52
          ],
          [
           "BTC/USDT",
           11493.25
          ],
          [
           "BTC/USDT",
           10937.92
          ],
          [
           "BTC/USDT",
           12237
          ],
          [
           "BTC/USDT",
           16529.1
          ],
          [
           "BTC/USDT",
           23436.16
          ],
          [
           "BTC/USDT",
           35040
          ],
          [
           "BTC/USDT",
           45324.48
          ],
          [
           "BTC/USDT",
           53397.26
          ],
          [
           "BTC/USDT",
           55892
          ],
          [
           "BTC/USDT",
           44750
          ],
          [
           "BTC/USDT",
           35067.5
          ],
          [
           "BTC/USDT",
           35863
          ],
          [
           "BTC/USDT",
           43916.35
          ],
          [
           "BTC/USDT",
           46260
          ],
          [
           "BTC/USDT",
           55141.52
          ],
          [
           "BTC/USDT",
           61128.32
          ],
          [
           "BTC/USDT",
           50526.92
          ],
          [
           "BTC/USDT",
           40453.58
          ],
          [
           "BTC/USDT",
           40071.64
          ],
          [
           "BTC/USDT",
           42672.42
          ],
          [
           "BTC/USDT",
           42511.16
          ],
          [
           "BTC/USDT",
           33361.88
          ],
          [
           "BTC/USDT",
           24802.48
          ],
          [
           "BTC/USDT",
           21724.5
          ],
          [
           "BTC/USDT",
           22365.66
          ],
          [
           "BTC/USDT",
           20462.49
          ],
          [
           "BTC/USDT",
           19637.5
          ],
          [
           "BTC/USDT",
           18478.32
          ],
          [
           "BTC/USDT",
           17322.12
          ],
          [
           "BTC/USDT",
           20229.78
          ],
          [
           "BTC/USDT",
           23300.54
          ],
          [
           "BTC/USDT",
           24366.88
          ],
          [
           "BTC/USDT",
           28971.41
          ],
          [
           "BTC/USDT",
           27815.73
          ],
          [
           "BTC/USDT",
           28115.97
          ],
          [
           "BTC/USDT",
           30333.05
          ],
          [
           "BTC/USDT",
           27705
          ],
          [
           "BTC/USDT",
           26192.28
          ],
          [
           "BTC/USDT",
           30909.33
          ],
          [
           "BTC/USDT",
           36273.7
          ],
          [
           "BTC/USDT",
           41157.93
          ],
          [
           "BTC/USDT",
           43762.24
          ],
          [
           "BTC/USDT",
           52942.14
          ],
          [
           "BTC/USDT",
           66391
          ],
          [
           "BTC/USDT",
           65994.8
          ],
          [
           "BTC/USDT",
           64265.91
          ],
          [
           "BTC/USDT",
           65199.51
          ],
          [
           "BTC/USDT",
           61782.96
          ],
          [
           "BTC/USDT",
           57329.89
          ],
          [
           "BTC/USDT",
           59524
          ],
          [
           "BTC/USDT",
           66283.06
          ],
          [
           "BTC/USDT",
           83211.5
          ],
          [
           "BTC/USDT",
           99426.5
          ],
          [
           "BTC/USDT",
           99422.34
          ],
          [
           "BTC/USDT",
           90521.12
          ],
          [
           "BTC/USDT",
           85803
          ],
          [
           "BTC/USDT",
           85133.02
          ],
          [
           "BTC/USDT",
           94420.22
          ]
         ],
         "hoverlabel": {
          "bordercolor": "rgba(17, 17, 17, 0.9)",
          "font": {
           "family": "IBM Plex Sans",
           "size": 11
          },
          "namelength": -1
         },
         "hovertemplate": "<b>%{customdata[0]}</b><br>Change: %{y:.1f}%<br>Price: $%{customdata[1]:,.2f}<br><extra></extra>",
         "legendgroup": "BTC/USDT",
         "line": {
          "color": "#F7931A",
          "dash": "solid"
         },
         "marker": {
          "size": 4,
          "symbol": "circle"
         },
         "mode": "lines",
         "name": "BTC/USDT",
         "orientation": "v",
         "showlegend": true,
         "type": "scatter",
         "x": [
          "2020-07-01T00:00:00.000000000",
          "2020-08-01T00:00:00.000000000",
          "2020-09-01T00:00:00.000000000",
          "2020-10-01T00:00:00.000000000",
          "2020-11-01T00:00:00.000000000",
          "2020-12-01T00:00:00.000000000",
          "2021-01-01T00:00:00.000000000",
          "2021-02-01T00:00:00.000000000",
          "2021-03-01T00:00:00.000000000",
          "2021-04-01T00:00:00.000000000",
          "2021-05-01T00:00:00.000000000",
          "2021-06-01T00:00:00.000000000",
          "2021-07-01T00:00:00.000000000",
          "2021-08-01T00:00:00.000000000",
          "2021-09-01T00:00:00.000000000",
          "2021-10-01T00:00:00.000000000",
          "2021-11-01T00:00:00.000000000",
          "2021-12-01T00:00:00.000000000",
          "2022-01-01T00:00:00.000000000",
          "2022-02-01T00:00:00.000000000",
          "2022-03-01T00:00:00.000000000",
          "2022-04-01T00:00:00.000000000",
          "2022-05-01T00:00:00.000000000",
          "2022-06-01T00:00:00.000000000",
          "2022-07-01T00:00:00.000000000",
          "2022-08-01T00:00:00.000000000",
          "2022-09-01T00:00:00.000000000",
          "2022-10-01T00:00:00.000000000",
          "2022-11-01T00:00:00.000000000",
          "2022-12-01T00:00:00.000000000",
          "2023-01-01T00:00:00.000000000",
          "2023-02-01T00:00:00.000000000",
          "2023-03-01T00:00:00.000000000",
          "2023-04-01T00:00:00.000000000",
          "2023-05-01T00:00:00.000000000",
          "2023-06-01T00:00:00.000000000",
          "2023-07-01T00:00:00.000000000",
          "2023-08-01T00:00:00.000000000",
          "2023-09-01T00:00:00.000000000",
          "2023-10-01T00:00:00.000000000",
          "2023-11-01T00:00:00.000000000",
          "2023-12-01T00:00:00.000000000",
          "2024-01-01T00:00:00.000000000",
          "2024-02-01T00:00:00.000000000",
          "2024-03-01T00:00:00.000000000",
          "2024-04-01T00:00:00.000000000",
          "2024-05-01T00:00:00.000000000",
          "2024-06-01T00:00:00.000000000",
          "2024-07-01T00:00:00.000000000",
          "2024-08-01T00:00:00.000000000",
          "2024-09-01T00:00:00.000000000",
          "2024-10-01T00:00:00.000000000",
          "2024-11-01T00:00:00.000000000",
          "2024-12-01T00:00:00.000000000",
          "2025-01-01T00:00:00.000000000",
          "2025-02-01T00:00:00.000000000",
          "2025-03-01T00:00:00.000000000",
          "2025-04-01T00:00:00.000000000",
          "2025-05-01T00:00:00.000000000"
         ],
         "xaxis": "x",
         "y": {
          "bdata": "AAAAAAAAWUBnRSjCxkFcQEgDQV1B5FpAvHsCRuMVXkDnju9ap1FkQG/FO25Iz2xAJi7MmXyJdUBD80ibu9t7QIj3kVz8aIBACUEl5kEtgUCVRJjfVoF7QGTHUFXQjXVA6RxfA/wKdkBDU2h3Kv56QMRoIHXvbnxAIMzXyTbygEAqPix6OMmCQCuZXwlUDn9AcXTd/03deEDKqUcBNaF4QB1IDX9vOnpAAjDCwA8hekDKzsXxb4F0QHecA2ZCfW5ApEZmDqG0akCPIcNrZn5rQDbuZox6J2lAXl2QZ9sjaEAjreEfEbdmQAxdnes2S2VAPy6F4T7eaEAFohuQmqRsQEqR4m4t9G1Acm0XoJrOcUCxYDB4whhxQDdizn0ASHFAYGPnF9ukckD0sl4iVgdxQFjsPvxPGXBA5pcpVYj/ckCxkZJ+m0t2QCsCuAwiTHlAWvLJu+rlekBEyNb5LUWAQHcMIfZBZ4RAmslmQhZIhEC/yrZkEcCDQJW1IaaECYRA+H1GULn8gkC5J2LaYZ6BQDxGUIYAS4JAuWNv/MNehEACibXEmJKJQBaPmHJMjo5A8CGsqfiNjkA6il3VrNGLQOsV/xt7XopAoAP9UMUpikDR4MoCbwSNQA==",
          "dtype": "f8"
         },
         "yaxis": "y"
        },
        {
         "customdata": [
          [
           "ETH/USDT",
           286.16
          ],
          [
           "ETH/USDT",
           385.5
          ],
          [
           "ETH/USDT",
           398.63
          ],
          [
           "ETH/USDT",
           376.46
          ],
          [
           "ETH/USDT",
           496.62
          ],
          [
           "ETH/USDT",
           644.58
          ],
          [
           "ETH/USDT",
           1094.64
          ],
          [
           "ETH/USDT",
           1656.16
          ],
          [
           "ETH/USDT",
           1678.6
          ],
          [
           "ETH/USDT",
           2341.66
          ],
          [
           "ETH/USDT",
           3050.73
          ],
          [
           "ETH/USDT",
           2296.22
          ],
          [
           "ETH/USDT",
           2129.93
          ],
          [
           "ETH/USDT",
           2959.16
          ],
          [
           "ETH/USDT",
           3339.94
          ],
          [
           "ETH/USDT",
           3714.77
          ],
          [
           "ETH/USDT",
           4390.5
          ],
          [
           "ETH/USDT",
           4141.22
          ],
          [
           "ETH/USDT",
           3029.86
          ],
          [
           "ETH/USDT",
           2791.83
          ],
          [
           "ETH/USDT",
           2963.44
          ],
          [
           "ETH/USDT",
           3144.8
          ],
          [
           "ETH/USDT",
           2334.43
          ],
          [
           "ETH/USDT",
           1427.07
          ],
          [
           "ETH/USDT",
           1395.56
          ],
          [
           "ETH/USDT",
           1726.04
          ],
          [
           "ETH/USDT",
           1504.5
          ],
          [
           "ETH/USDT",
           1426.53
          ],
          [
           "ETH/USDT",
           1376.76
          ],
          [
           "ETH/USDT",
           1251.62
          ],
          [
           "ETH/USDT",
           1434.92
          ],
          [
           "ETH/USDT",
           1602.45
          ],
          [
           "ETH/USDT",
           1612.78
          ],
          [
           "ETH/USDT",
           1952.16
          ],
          [
           "ETH/USDT",
           1879.5
          ],
          [
           "ETH/USDT",
           1787.3
          ],
          [
           "ETH/USDT",
           1927.55
          ],
          [
           "ETH/USDT",
           1714.87
          ],
          [
           "ETH/USDT",
           1612.66
          ],
          [
           "ETH/USDT",
           1693.27
          ],
          [
           "ETH/USDT",
           1957.05
          ],
          [
           "ETH/USDT",
           2245.42
          ],
          [
           "ETH/USDT",
           2408.66
          ],
          [
           "ETH/USDT",
           2881.4
          ],
          [
           "ETH/USDT",
           3575.24
          ],
          [
           "ETH/USDT",
           3291.36
          ],
          [
           "ETH/USDT",
           3397
          ],
          [
           "ETH/USDT",
           3563.73
          ],
          [
           "ETH/USDT",
           3186.41
          ],
          [
           "ETH/USDT",
           2676.78
          ],
          [
           "ETH/USDT",
           2439.57
          ],
          [
           "ETH/USDT",
           2539.74
          ],
          [
           "ETH/USDT",
           3048.28
          ],
          [
           "ETH/USDT",
           3604.85
          ],
          [
           "ETH/USDT",
           3332.42
          ],
          [
           "ETH/USDT",
           2704.12
          ],
          [
           "ETH/USDT",
           2152.43
          ],
          [
           "ETH/USDT",
           1671.02
          ],
          [
           "ETH/USDT",
           1799.62
          ]
         ],
         "hoverlabel": {
          "bordercolor": "rgba(17, 17, 17, 0.9)",
          "font": {
           "family": "IBM Plex Sans",
           "size": 11
          },
          "namelength": -1
         },
         "hovertemplate": "<b>%{customdata[0]}</b><br>Change: %{y:.1f}%<br>Price: $%{customdata[1]:,.2f}<br><extra></extra>",
         "legendgroup": "ETH/USDT",
         "line": {
          "color": "#636BFF",
          "dash": "solid"
         },
         "marker": {
          "size": 4,
          "symbol": "circle"
         },
         "mode": "lines",
         "name": "ETH/USDT",
         "orientation": "v",
         "showlegend": true,
         "type": "scatter",
         "x": [
          "2020-07-01T00:00:00.000000000",
          "2020-08-01T00:00:00.000000000",
          "2020-09-01T00:00:00.000000000",
          "2020-10-01T00:00:00.000000000",
          "2020-11-01T00:00:00.000000000",
          "2020-12-01T00:00:00.000000000",
          "2021-01-01T00:00:00.000000000",
          "2021-02-01T00:00:00.000000000",
          "2021-03-01T00:00:00.000000000",
          "2021-04-01T00:00:00.000000000",
          "2021-05-01T00:00:00.000000000",
          "2021-06-01T00:00:00.000000000",
          "2021-07-01T00:00:00.000000000",
          "2021-08-01T00:00:00.000000000",
          "2021-09-01T00:00:00.000000000",
          "2021-10-01T00:00:00.000000000",
          "2021-11-01T00:00:00.000000000",
          "2021-12-01T00:00:00.000000000",
          "2022-01-01T00:00:00.000000000",
          "2022-02-01T00:00:00.000000000",
          "2022-03-01T00:00:00.000000000",
          "2022-04-01T00:00:00.000000000",
          "2022-05-01T00:00:00.000000000",
          "2022-06-01T00:00:00.000000000",
          "2022-07-01T00:00:00.000000000",
          "2022-08-01T00:00:00.000000000",
          "2022-09-01T00:00:00.000000000",
          "2022-10-01T00:00:00.000000000",
          "2022-11-01T00:00:00.000000000",
          "2022-12-01T00:00:00.000000000",
          "2023-01-01T00:00:00.000000000",
          "2023-02-01T00:00:00.000000000",
          "2023-03-01T00:00:00.000000000",
          "2023-04-01T00:00:00.000000000",
          "2023-05-01T00:00:00.000000000",
          "2023-06-01T00:00:00.000000000",
          "2023-07-01T00:00:00.000000000",
          "2023-08-01T00:00:00.000000000",
          "2023-09-01T00:00:00.000000000",
          "2023-10-01T00:00:00.000000000",
          "2023-11-01T00:00:00.000000000",
          "2023-12-01T00:00:00.000000000",
          "2024-01-01T00:00:00.000000000",
          "2024-02-01T00:00:00.000000000",
          "2024-03-01T00:00:00.000000000",
          "2024-04-01T00:00:00.000000000",
          "2024-05-01T00:00:00.000000000",
          "2024-06-01T00:00:00.000000000",
          "2024-07-01T00:00:00.000000000",
          "2024-08-01T00:00:00.000000000",
          "2024-09-01T00:00:00.000000000",
          "2024-10-01T00:00:00.000000000",
          "2024-11-01T00:00:00.000000000",
          "2024-12-01T00:00:00.000000000",
          "2025-01-01T00:00:00.000000000",
          "2025-02-01T00:00:00.000000000",
          "2025-03-01T00:00:00.000000000",
          "2025-04-01T00:00:00.000000000",
          "2025-05-01T00:00:00.000000000"
         ],
         "xaxis": "x",
         "y": {
          "bdata": "AAAAAAAAWUC2SUoC4NZgQAlbSLWzaWFAHDly5MhxYEA85qcGe7FlQBLdJysNKGxAPqCJpW/od0AXU+9wBhaCQEyYMGHCVIJAygTlgG+SiUAdXgWdXqiQQEdI/tdmE4lAMD4z1INCh0BzMPMKXyiQQGZd3weiPJJAMkA33JNIlEAt7f5GIPmXQB3xT3utnJZA4AqodDKLkEAy1YXC8nyOQJxdBJtaLpBALKDSydwrkUAjR44cOX6JQOj2NgAlK39AQTrin/Z6fkBxdQ9oYtmCQM7lXeAJboBAAQQIECAof0AcO3bs2BF+QKsyHKYnVntASyp5OwlXf0BQVxwU33+BQCfh5hbAnIFAGDFixIhRhUDmzJkzZ4aEQDe5BC6lhINAwqmcy7sMhUB0oK44KLqCQEaNGjVqnIFAZaYDdcV9gkAgi6h1NF+FQIw+xh5ihYhAEUrdTL5NikDiD7KIWnePQI5D0DKKhZNAZ2DlE7r4kUBqQ2J7ZIySQJK3k3BzdZNAie6TlQZmkUARs4peTzuNQAIFChQopIpAQoYMGTK8i0CGMKrm8aSQQAUwqeTtrpNA4sOHDx8ykkCfrjgovoeNQFWtWrVqgYdAVDubf5E/gkBeB6FmFqeDQA==",
          "dtype": "f8"
         },
         "yaxis": "y"
        },
        {
         "customdata": [
          [
           "BNB/USDT",
           17.96
          ],
          [
           "BNB/USDT",
           21.51
          ],
          [
           "BNB/USDT",
           25.7
          ],
          [
           "BNB/USDT",
           29.02
          ],
          [
           "BNB/USDT",
           30.59
          ],
          [
           "BNB/USDT",
           33.36
          ],
          [
           "BNB/USDT",
           41.13
          ],
          [
           "BNB/USDT",
           196.07
          ],
          [
           "BNB/USDT",
           262.91
          ],
          [
           "BNB/USDT",
           469.63
          ],
          [
           "BNB/USDT",
           451.74
          ],
          [
           "BNB/USDT",
           329.21
          ],
          [
           "BNB/USDT",
           297.26
          ],
          [
           "BNB/USDT",
           417.98
          ],
          [
           "BNB/USDT",
           414.95
          ],
          [
           "BNB/USDT",
           461
          ],
          [
           "BNB/USDT",
           589.65
          ],
          [
           "BNB/USDT",
           569.5
          ],
          [
           "BNB/USDT",
           434.95
          ],
          [
           "BNB/USDT",
           384.45
          ],
          [
           "BNB/USDT",
           405.9
          ],
          [
           "BNB/USDT",
           418.15
          ],
          [
           "BNB/USDT",
           316.2
          ],
          [
           "BNB/USDT",
           253.95
          ],
          [
           "BNB/USDT",
           257.75
          ],
          [
           "BNB/USDT",
           304.55
          ],
          [
           "BNB/USDT",
           278.35
          ],
          [
           "BNB/USDT",
           297.35
          ],
          [
           "BNB/USDT",
           324.15
          ],
          [
           "BNB/USDT",
           261
          ],
          [
           "BNB/USDT",
           282.1
          ],
          [
           "BNB/USDT",
           310.3
          ],
          [
           "BNB/USDT",
           305.65
          ],
          [
           "BNB/USDT",
           324.75
          ],
          [
           "BNB/USDT",
           320.4
          ],
          [
           "BNB/USDT",
           264.4
          ],
          [
           "BNB/USDT",
           246.4
          ],
          [
           "BNB/USDT",
           226.1
          ],
          [
           "BNB/USDT",
           212.6
          ],
          [
           "BNB/USDT",
           220.05
          ],
          [
           "BNB/USDT",
           247.1
          ],
          [
           "BNB/USDT",
           281.55
          ],
          [
           "BNB/USDT",
           310.9
          ],
          [
           "BNB/USDT",
           361.85
          ],
          [
           "BNB/USDT",
           500.65
          ],
          [
           "BNB/USDT",
           571.25
          ],
          [
           "BNB/USDT",
           584.05
          ],
          [
           "BNB/USDT",
           636.5
          ],
          [
           "BNB/USDT",
           530.2
          ],
          [
           "BNB/USDT",
           500.3
          ],
          [
           "BNB/USDT",
           544.95
          ],
          [
           "BNB/USDT",
           573.25
          ],
          [
           "BNB/USDT",
           615.67
          ],
          [
           "BNB/USDT",
           706.28
          ],
          [
           "BNB/USDT",
           691.54
          ],
          [
           "BNB/USDT",
           616
          ],
          [
           "BNB/USDT",
           575.94
          ],
          [
           "BNB/USDT",
           570
          ],
          [
           "BNB/USDT",
           601.03
          ]
         ],
         "hoverlabel": {
          "bordercolor": "rgba(17, 17, 17, 0.9)",
          "font": {
           "family": "IBM Plex Sans",
           "size": 11
          },
          "namelength": -1
         },
         "hovertemplate": "<b>%{customdata[0]}</b><br>Change: %{y:.1f}%<br>Price: $%{customdata[1]:,.2f}<br><extra></extra>",
         "legendgroup": "BNB/USDT",
         "line": {
          "color": "#F3BA2F",
          "dash": "solid"
         },
         "marker": {
          "size": 4,
          "symbol": "circle"
         },
         "mode": "lines",
         "name": "BNB/USDT",
         "orientation": "v",
         "showlegend": true,
         "type": "scatter",
         "x": [
          "2020-07-01T00:00:00.000000000",
          "2020-08-01T00:00:00.000000000",
          "2020-09-01T00:00:00.000000000",
          "2020-10-01T00:00:00.000000000",
          "2020-11-01T00:00:00.000000000",
          "2020-12-01T00:00:00.000000000",
          "2021-01-01T00:00:00.000000000",
          "2021-02-01T00:00:00.000000000",
          "2021-03-01T00:00:00.000000000",
          "2021-04-01T00:00:00.000000000",
          "2021-05-01T00:00:00.000000000",
          "2021-06-01T00:00:00.000000000",
          "2021-07-01T00:00:00.000000000",
          "2021-08-01T00:00:00.000000000",
          "2021-09-01T00:00:00.000000000",
          "2021-10-01T00:00:00.000000000",
          "2021-11-01T00:00:00.000000000",
          "2021-12-01T00:00:00.000000000",
          "2022-01-01T00:00:00.000000000",
          "2022-02-01T00:00:00.000000000",
          "2022-03-01T00:00:00.000000000",
          "2022-04-01T00:00:00.000000000",
          "2022-05-01T00:00:00.000000000",
          "2022-06-01T00:00:00.000000000",
          "2022-07-01T00:00:00.000000000",
          "2022-08-01T00:00:00.000000000",
          "2022-09-01T00:00:00.000000000",
          "2022-10-01T00:00:00.000000000",
          "2022-11-01T00:00:00.000000000",
          "2022-12-01T00:00:00.000000000",
          "2023-01-01T00:00:00.000000000",
          "2023-02-01T00:00:00.000000000",
          "2023-03-01T00:00:00.000000000",
          "2023-04-01T00:00:00.000000000",
          "2023-05-01T00:00:00.000000000",
          "2023-06-01T00:00:00.000000000",
          "2023-07-01T00:00:00.000000000",
          "2023-08-01T00:00:00.000000000",
          "2023-09-01T00:00:00.000000000",
          "2023-10-01T00:00:00.000000000",
          "2023-11-01T00:00:00.000000000",
          "2023-12-01T00:00:00.000000000",
          "2024-01-01T00:00:00.000000000",
          "2024-02-01T00:00:00.000000000",
          "2024-03-01T00:00:00.000000000",
          "2024-04-01T00:00:00.000000000",
          "2024-05-01T00:00:00.000000000",
          "2024-06-01T00:00:00.000000000",
          "2024-07-01T00:00:00.000000000",
          "2024-08-01T00:00:00.000000000",
          "2024-09-01T00:00:00.000000000",
          "2024-10-01T00:00:00.000000000",
          "2024-11-01T00:00:00.000000000",
          "2024-12-01T00:00:00.000000000",
          "2025-01-01T00:00:00.000000000",
          "2025-02-01T00:00:00.000000000",
          "2025-03-01T00:00:00.000000000",
          "2025-04-01T00:00:00.000000000",
          "2025-05-01T00:00:00.000000000"
         ],
         "xaxis": "x",
         "y": {
          "bdata": "AAAAAAAAWUDTDmaNCPFdQO1g1ogQ42FA1Qot8ZkyZEA9lPyFVUplQJe3PhLgN2dAXlze+kigbEAb0FOt0A6RQO4fyOF035ZAaInPlLttpED4jccig6ajQBeXtz4SpJxAwC4ub33cmUBKP9HRkC6iQP7CKvXSDKJANqCnWqENpEC1g1kjQqapQCY+U+7exahAWSNCjIrrokBztsAuLrmgQG6+MmcLqKFApty9c3UwokB4rk72UIKbQD+Qw+nmF5ZAL+1g1ohslkCnm6/M2X6aQIXXBvRUN5hAMqgZk37emUDzlTlbYDOcQE25e+fqtJZAp5uvzNmKmEDcP5DD6f6aQEm9tINZl5pAkr+wSr1AnEDR0ZCC29+bQNFPdDSkAJdALm99JMBvlUCoGZN+oquTQC3xmXL3fpJApOD2D+Qkk0Bnyt07V3+VQNUKLfGZfphAeWkHs0YMm0B/oqMhBXufQB5K/sIqx6VALbCLy1vZqEDOFtjF5WepQFcneyj5r6tADKvUSzsQp0BRMyb9RMOlQE+1Qkt8tKdANqCnWqHvqEBUbMJrA8iqQNIOZo0Iua5Ao+D2D+QUrkD6ypwtsMuqQMjhdPOVDalAJzoaUnDLqEDy1kcC/CSqQA==",
          "dtype": "f8"
         },
         "yaxis": "y"
        },
        {
         "customdata": [
          [
           "SOL/USDT",
           3.81
          ],
          [
           "SOL/USDT",
           3.52
          ],
          [
           "SOL/USDT",
           2.15
          ],
          [
           "SOL/USDT",
           1.89
          ],
          [
           "SOL/USDT",
           1.63
          ],
          [
           "SOL/USDT",
           3.15
          ],
          [
           "SOL/USDT",
           11.16
          ],
          [
           "SOL/USDT",
           16.39
          ],
          [
           "SOL/USDT",
           33.49
          ],
          [
           "SOL/USDT",
           38.75
          ],
          [
           "SOL/USDT",
           32.19
          ],
          [
           "SOL/USDT",
           30.1
          ],
          [
           "SOL/USDT",
           81.22
          ],
          [
           "SOL/USDT",
           160.94
          ],
          [
           "SOL/USDT",
           178.27
          ],
          [
           "SOL/USDT",
           220.42
          ],
          [
           "SOL/USDT",
           195.58
          ],
          [
           "SOL/USDT",
           130.18
          ],
          [
           "SOL/USDT",
           98.64
          ],
          [
           "SOL/USDT",
           103.58
          ],
          [
           "SOL/USDT",
           112.71
          ],
          [
           "SOL/USDT",
           66.31
          ],
          [
           "SOL/USDT",
           35.99
          ],
          [
           "SOL/USDT",
           39.59
          ],
          [
           "SOL/USDT",
           39.19
          ],
          [
           "SOL/USDT",
           34.51
          ],
          [
           "SOL/USDT",
           30.67
          ],
          [
           "SOL/USDT",
           24.86
          ],
          [
           "SOL/USDT",
           11.48
          ],
          [
           "SOL/USDT",
           18.24
          ],
          [
           "SOL/USDT",
           23.4
          ],
          [
           "SOL/USDT",
           19.95
          ],
          [
           "SOL/USDT",
           22.92
          ],
          [
           "SOL/USDT",
           20.94
          ],
          [
           "SOL/USDT",
           17.55
          ],
          [
           "SOL/USDT",
           25.02
          ],
          [
           "SOL/USDT",
           22.38
          ],
          [
           "SOL/USDT",
           19.57
          ],
          [
           "SOL/USDT",
           29.78
          ],
          [
           "SOL/USDT",
           53
          ],
          [
           "SOL/USDT",
           92.48
          ],
          [
           "SOL/USDT",
           97.98
          ],
          [
           "SOL/USDT",
           113.76
          ],
          [
           "SOL/USDT",
           157.59
          ],
          [
           "SOL/USDT",
           160.23
          ],
          [
           "SOL/USDT",
           153.68
          ],
          [
           "SOL/USDT",
           148.8
          ],
          [
           "SOL/USDT",
           157.49
          ],
          [
           "SOL/USDT",
           141.45
          ],
          [
           "SOL/USDT",
           140.89
          ],
          [
           "SOL/USDT",
           158.24
          ],
          [
           "SOL/USDT",
           209.75
          ],
          [
           "SOL/USDT",
           211.13
          ],
          [
           "SOL/USDT",
           232.36
          ],
          [
           "SOL/USDT",
           181
          ],
          [
           "SOL/USDT",
           145.93
          ],
          [
           "SOL/USDT",
           126.13
          ],
          [
           "SOL/USDT",
           148.28
          ]
         ],
         "hoverlabel": {
          "bordercolor": "rgba(17, 17, 17, 0.9)",
          "font": {
           "family": "IBM Plex Sans",
           "size": 11
          },
          "namelength": -1
         },
         "hovertemplate": "<b>%{customdata[0]}</b><br>Change: %{y:.1f}%<br>Price: $%{customdata[1]:,.2f}<br><extra></extra>",
         "legendgroup": "SOL/USDT",
         "line": {
          "color": "#CF62E7",
          "dash": "solid"
         },
         "marker": {
          "size": 4,
          "symbol": "circle"
         },
         "mode": "lines",
         "name": "SOL/USDT",
         "orientation": "v",
         "showlegend": true,
         "type": "scatter",
         "x": [
          "2020-08-01T00:00:00.000000000",
          "2020-09-01T00:00:00.000000000",
          "2020-10-01T00:00:00.000000000",
          "2020-11-01T00:00:00.000000000",
          "2020-12-01T00:00:00.000000000",
          "2021-01-01T00:00:00.000000000",
          "2021-02-01T00:00:00.000000000",
          "2021-03-01T00:00:00.000000000",
          "2021-04-01T00:00:00.000000000",
          "2021-05-01T00:00:00.000000000",
          "2021-06-01T00:00:00.000000000",
          "2021-07-01T00:00:00.000000000",
          "2021-08-01T00:00:00.000000000",
          "2021-09-01T00:00:00.000000000",
          "2021-10-01T00:00:00.000000000",
          "2021-11-01T00:00:00.000000000",
          "2021-12-01T00:00:00.000000000",
          "2022-01-01T00:00:00.000000000",
          "2022-02-01T00:00:00.000000000",
          "2022-03-01T00:00:00.000000000",
          "2022-04-01T00:00:00.000000000",
          "2022-05-01T00:00:00.000000000",
          "2022-06-01T00:00:00.000000000",
          "2022-07-01T00:00:00.000000000",
          "2022-08-01T00:00:00.000000000",
          "2022-09-01T00:00:00.000000000",
          "2022-10-01T00:00:00.000000000",
          "2022-11-01T00:00:00.000000000",
          "2022-12-01T00:00:00.000000000",
          "2023-01-01T00:00:00.000000000",
          "2023-02-01T00:00:00.000000000",
          "2023-03-01T00:00:00.000000000",
          "2023-04-01T00:00:00.000000000",
          "2023-05-01T00:00:00.000000000",
          "2023-06-01T00:00:00.000000000",
          "2023-07-01T00:00:00.000000000",
          "2023-08-01T00:00:00.000000000",
          "2023-09-01T00:00:00.000000000",
          "2023-10-01T00:00:00.000000000",
          "2023-11-01T00:00:00.000000000",
          "2023-12-01T00:00:00.000000000",
          "2024-01-01T00:00:00.000000000",
          "2024-02-01T00:00:00.000000000",
          "2024-03-01T00:00:00.000000000",
          "2024-04-01T00:00:00.000000000",
          "2024-05-01T00:00:00.000000000",
          "2024-06-01T00:00:00.000000000",
          "2024-07-01T00:00:00.000000000",
          "2024-08-01T00:00:00.000000000",
          "2024-09-01T00:00:00.000000000",
          "2024-10-01T00:00:00.000000000",
          "2024-11-01T00:00:00.000000000",
          "2024-12-01T00:00:00.000000000",
          "2025-01-01T00:00:00.000000000",
          "2025-02-01T00:00:00.000000000",
          "2025-03-01T00:00:00.000000000",
          "2025-04-01T00:00:00.000000000",
          "2025-05-01T00:00:00.000000000"
         ],
         "xaxis": "x",
         "y": {
          "bdata": "AAAAAAAAWUDGjXFj3BhXQI1xY9wYN0xAs9lsNpvNSEDZQXaQHWRFQGu1Wq1Wq1RA1Ol0Op1OckAIL8KL8OJ6QFaAFWAFeItAuofuoXvIj0DhcDgcDmeKQFwD18A1sIhARngRXoSnoEBagpagJYCwQAuwAqwAR7JA1BQ1RU2ZtkBWVVVVVQ20QIkZYoaYsapAP5/P5/M5pEBT1BQ1RT2lQJFIJBKJHKdA4Rq4Bq4xm0BJT9KT9ISNQOPGuDFuPJBA+Ca+iW8SkEAb48a4MU6MQFN+lB/lJ4lAKT/Kj/JjhED1T/1T/9RyQHq9Xq/X631ALBaLxWIxg0Cfz+fz+VyAQJPJZDKZzIJAm81ms9ksgUBCoVAoFMp8QLFYLBaLhYRAZrPZbDZbgkD70r60Lw2AQEvQErQEbYhA38Q38U28lUB+aV/al/aiQOp0Op1OF6RAdTqdTqdTp0CHw+FwOCiwQDAYDAaDbbBAETPEDDGDr0BhMBgMBoOuQIkZYoaYJbBAJpPJZDIBrUDOvDPvzOOsQH6UH+VHObBA/lP/1D+BtUCEF+FFeKW1QAErwAqw0rdAgOqf+qeOskDiRXgRXuytQPVP/VP/3KlAoXvoHrpnrkA=",
          "dtype": "f8"
         },
         "yaxis": "y"
        },
        {
         "customdata": [
          [
           "XRP/USDT",
           0.22
          ],
          [
           "XRP/USDT",
           0.29
          ],
          [
           "XRP/USDT",
           0.26
          ],
          [
           "XRP/USDT",
           0.25
          ],
          [
           "XRP/USDT",
           0.5
          ],
          [
           "XRP/USDT",
           0.43
          ],
          [
           "XRP/USDT",
           0.36
          ],
          [
           "XRP/USDT",
           0.55
          ],
          [
           "XRP/USDT",
           0.51
          ],
          [
           "XRP/USDT",
           1.26
          ],
          [
           "XRP/USDT",
           1.21
          ],
          [
           "XRP/USDT",
           0.8
          ],
          [
           "XRP/USDT",
           0.64
          ],
          [
           "XRP/USDT",
           1.02
          ],
          [
           "XRP/USDT",
           1.14
          ],
          [
           "XRP/USDT",
           1.09
          ],
          [
           "XRP/USDT",
           1.12
          ],
          [
           "XRP/USDT",
           0.81
          ],
          [
           "XRP/USDT",
           0.71
          ],
          [
           "XRP/USDT",
           0.75
          ],
          [
           "XRP/USDT",
           0.81
          ],
          [
           "XRP/USDT",
           0.71
          ],
          [
           "XRP/USDT",
           0.5
          ],
          [
           "XRP/USDT",
           0.36
          ],
          [
           "XRP/USDT",
           0.36
          ],
          [
           "XRP/USDT",
           0.36
          ],
          [
           "XRP/USDT",
           0.44
          ],
          [
           "XRP/USDT",
           0.49
          ],
          [
           "XRP/USDT",
           0.41
          ],
          [
           "XRP/USDT",
           0.37
          ],
          [
           "XRP/USDT",
           0.37
          ],
          [
           "XRP/USDT",
           0.39
          ],
          [
           "XRP/USDT",
           0.47
          ],
          [
           "XRP/USDT",
           0.49
          ],
          [
           "XRP/USDT",
           0.47
          ],
          [
           "XRP/USDT",
           0.51
          ],
          [
           "XRP/USDT",
           0.7
          ],
          [
           "XRP/USDT",
           0.57
          ],
          [
           "XRP/USDT",
           0.5
          ],
          [
           "XRP/USDT",
           0.55
          ],
          [
           "XRP/USDT",
           0.66
          ],
          [
           "XRP/USDT",
           0.64
          ],
          [
           "XRP/USDT",
           0.56
          ],
          [
           "XRP/USDT",
           0.56
          ],
          [
           "XRP/USDT",
           0.64
          ],
          [
           "XRP/USDT",
           0.53
          ],
          [
           "XRP/USDT",
           0.52
          ],
          [
           "XRP/USDT",
           0.49
          ],
          [
           "XRP/USDT",
           0.52
          ],
          [
           "XRP/USDT",
           0.54
          ],
          [
           "XRP/USDT",
           0.58
          ],
          [
           "XRP/USDT",
           0.56
          ],
          [
           "XRP/USDT",
           1.22
          ],
          [
           "XRP/USDT",
           2.38
          ],
          [
           "XRP/USDT",
           2.74
          ],
          [
           "XRP/USDT",
           2.42
          ],
          [
           "XRP/USDT",
           2.45
          ],
          [
           "XRP/USDT",
           1.99
          ],
          [
           "XRP/USDT",
           2.2
          ]
         ],
         "hoverlabel": {
          "bordercolor": "rgba(17, 17, 17, 0.9)",
          "font": {
           "family": "IBM Plex Sans",
           "size": 11
          },
          "namelength": -1
         },
         "hovertemplate": "<b>%{customdata[0]}</b><br>Change: %{y:.1f}%<br>Price: $%{customdata[1]:,.2f}<br><extra></extra>",
         "legendgroup": "XRP/USDT",
         "line": {
          "color": "#4B8BBE",
          "dash": "solid"
         },
         "marker": {
          "size": 4,
          "symbol": "circle"
         },
         "mode": "lines",
         "name": "XRP/USDT",
         "orientation": "v",
         "showlegend": true,
         "type": "scatter",
         "x": [
          "2020-07-01T00:00:00.000000000",
          "2020-08-01T00:00:00.000000000",
          "2020-09-01T00:00:00.000000000",
          "2020-10-01T00:00:00.000000000",
          "2020-11-01T00:00:00.000000000",
          "2020-12-01T00:00:00.000000000",
          "2021-01-01T00:00:00.000000000",
          "2021-02-01T00:00:00.000000000",
          "2021-03-01T00:00:00.000000000",
          "2021-04-01T00:00:00.000000000",
          "2021-05-01T00:00:00.000000000",
          "2021-06-01T00:00:00.000000000",
          "2021-07-01T00:00:00.000000000",
          "2021-08-01T00:00:00.000000000",
          "2021-09-01T00:00:00.000000000",
          "2021-10-01T00:00:00.000000000",
          "2021-11-01T00:00:00.000000000",
          "2021-12-01T00:00:00.000000000",
          "2022-01-01T00:00:00.000000000",
          "2022-02-01T00:00:00.000000000",
          "2022-03-01T00:00:00.000000000",
          "2022-04-01T00:00:00.000000000",
          "2022-05-01T00:00:00.000000000",
          "2022-06-01T00:00:00.000000000",
          "2022-07-01T00:00:00.000000000",
          "2022-08-01T00:00:00.000000000",
          "2022-09-01T00:00:00.000000000",
          "2022-10-01T00:00:00.000000000",
          "2022-11-01T00:00:00.000000000",
          "2022-12-01T00:00:00.000000000",
          "2023-01-01T00:00:00.000000000",
          "2023-02-01T00:00:00.000000000",
          "2023-03-01T00:00:00.000000000",
          "2023-04-01T00:00:00.000000000",
          "2023-05-01T00:00:00.000000000",
          "2023-06-01T00:00:00.000000000",
          "2023-07-01T00:00:00.000000000",
          "2023-08-01T00:00:00.000000000",
          "2023-09-01T00:00:00.000000000",
          "2023-10-01T00:00:00.000000000",
          "2023-11-01T00:00:00.000000000",
          "2023-12-01T00:00:00.000000000",
          "2024-01-01T00:00:00.000000000",
          "2024-02-01T00:00:00.000000000",
          "2024-03-01T00:00:00.000000000",
          "2024-04-01T00:00:00.000000000",
          "2024-05-01T00:00:00.000000000",
          "2024-06-01T00:00:00.000000000",
          "2024-07-01T00:00:00.000000000",
          "2024-08-01T00:00:00.000000000",
          "2024-09-01T00:00:00.000000000",
          "2024-10-01T00:00:00.000000000",
          "2024-11-01T00:00:00.000000000",
          "2024-12-01T00:00:00.000000000",
          "2025-01-01T00:00:00.000000000",
          "2025-02-01T00:00:00.000000000",
          "2025-03-01T00:00:00.000000000",
          "2025-04-01T00:00:00.000000000",
          "2025-05-01T00:00:00.000000000"
         ],
         "xaxis": "x",
         "y": {
          "bdata": "AAAAAAAAWUC66KKLLnpgQIwuuuiii11A6aKLLrpoXEDpoosuumhsQC+66KKLbmhAdNFFF110ZEAAAAAAAEBvQLvooosu+mxARhdddNHlgUAAAAAAADCBQLvooosuunZAL7rooosuckC76KKLLvp8QNFFF110MYBAGF100UX3fkDTRRdddNF/QKOLLrroAndAiy666KIrdEAvuuiii051QKOLLrroAndAiy666KIrdEDpoosuumhsQHTRRRdddGRAdNFFF110ZEB00UUXXXRkQAAAAAAAAGlAF1100UXXa0CLLrrooktnQEYXXXTRBWVARhdddNEFZUDpoosuuihmQHTRRRddtGpAF1100UXXa0B00UUXXbRqQLvooosu+mxAo4suuujic0DRRRdddDFwQOmiiy66aGxAAAAAAABAb0AAAAAAAMByQC+66KKLLnJA00UXXXTRb0DTRRdddNFvQC+66KKLLnJAXXTRRRcdbkCMLrrooottQBdddNFF12tAjC666KKLbUAvuuiii65uQLrooosuenBA00UXXXTRb0B00UUXXVSBQBdddNFF55BARhdddNF1k0AAAAAAADCRQC+66KKLZpFAdNFFF11EjEAAAAAAAECPQA==",
          "dtype": "f8"
         },
         "yaxis": "y"
        },
        {
         "customdata": [
          [
           "AVAX/USDT",
           3.92
          ],
          [
           "AVAX/USDT",
           3.96
          ],
          [
           "AVAX/USDT",
           3.7
          ],
          [
           "AVAX/USDT",
           3.32
          ],
          [
           "AVAX/USDT",
           9.2
          ],
          [
           "AVAX/USDT",
           36.44
          ],
          [
           "AVAX/USDT",
           31.36
          ],
          [
           "AVAX/USDT",
           30.28
          ],
          [
           "AVAX/USDT",
           27.99
          ],
          [
           "AVAX/USDT",
           15.01
          ],
          [
           "AVAX/USDT",
           11.78
          ],
          [
           "AVAX/USDT",
           35.65
          ],
          [
           "AVAX/USDT",
           56.02
          ],
          [
           "AVAX/USDT",
           62.22
          ],
          [
           "AVAX/USDT",
           104.6
          ],
          [
           "AVAX/USDT",
           101.46
          ],
          [
           "AVAX/USDT",
           85.24
          ],
          [
           "AVAX/USDT",
           81.61
          ],
          [
           "AVAX/USDT",
           83.76
          ],
          [
           "AVAX/USDT",
           79.34
          ],
          [
           "AVAX/USDT",
           45.44
          ],
          [
           "AVAX/USDT",
           20.75
          ],
          [
           "AVAX/USDT",
           21.09
          ],
          [
           "AVAX/USDT",
           24.18
          ],
          [
           "AVAX/USDT",
           19.05
          ],
          [
           "AVAX/USDT",
           17.12
          ],
          [
           "AVAX/USDT",
           16.04
          ],
          [
           "AVAX/USDT",
           12.47
          ],
          [
           "AVAX/USDT",
           16.23
          ],
          [
           "AVAX/USDT",
           19.81
          ],
          [
           "AVAX/USDT",
           16.07
          ],
          [
           "AVAX/USDT",
           18.92
          ],
          [
           "AVAX/USDT",
           15.72
          ],
          [
           "AVAX/USDT",
           12.46
          ],
          [
           "AVAX/USDT",
           14.1
          ],
          [
           "AVAX/USDT",
           11.34
          ],
          [
           "AVAX/USDT",
           9.38
          ],
          [
           "AVAX/USDT",
           10.26
          ],
          [
           "AVAX/USDT",
           17.78
          ],
          [
           "AVAX/USDT",
           35.26
          ],
          [
           "AVAX/USDT",
           35.34
          ],
          [
           "AVAX/USDT",
           38.47
          ],
          [
           "AVAX/USDT",
           50.11
          ],
          [
           "AVAX/USDT",
           41.69
          ],
          [
           "AVAX/USDT",
           36.03
          ],
          [
           "AVAX/USDT",
           30.36
          ],
          [
           "AVAX/USDT",
           27.4
          ],
          [
           "AVAX/USDT",
           22.64
          ],
          [
           "AVAX/USDT",
           25.66
          ],
          [
           "AVAX/USDT",
           26.88
          ],
          [
           "AVAX/USDT",
           35.14
          ],
          [
           "AVAX/USDT",
           44.7
          ],
          [
           "AVAX/USDT",
           38.44
          ],
          [
           "AVAX/USDT",
           27.66
          ],
          [
           "AVAX/USDT",
           20.2
          ],
          [
           "AVAX/USDT",
           18.87
          ],
          [
           "AVAX/USDT",
           21.06
          ]
         ],
         "hoverlabel": {
          "bordercolor": "rgba(17, 17, 17, 0.9)",
          "font": {
           "family": "IBM Plex Sans",
           "size": 11
          },
          "namelength": -1
         },
         "hovertemplate": "<b>%{customdata[0]}</b><br>Change: %{y:.1f}%<br>Price: $%{customdata[1]:,.2f}<br><extra></extra>",
         "legendgroup": "AVAX/USDT",
         "line": {
          "color": "#E84142",
          "dash": "solid"
         },
         "marker": {
          "size": 4,
          "symbol": "circle"
         },
         "mode": "lines",
         "name": "AVAX/USDT",
         "orientation": "v",
         "showlegend": true,
         "type": "scatter",
         "x": [
          "2020-09-01T00:00:00.000000000",
          "2020-10-01T00:00:00.000000000",
          "2020-11-01T00:00:00.000000000",
          "2020-12-01T00:00:00.000000000",
          "2021-01-01T00:00:00.000000000",
          "2021-02-01T00:00:00.000000000",
          "2021-03-01T00:00:00.000000000",
          "2021-04-01T00:00:00.000000000",
          "2021-05-01T00:00:00.000000000",
          "2021-06-01T00:00:00.000000000",
          "2021-07-01T00:00:00.000000000",
          "2021-08-01T00:00:00.000000000",
          "2021-09-01T00:00:00.000000000",
          "2021-10-01T00:00:00.000000000",
          "2021-11-01T00:00:00.000000000",
          "2021-12-01T00:00:00.000000000",
          "2022-01-01T00:00:00.000000000",
          "2022-02-01T00:00:00.000000000",
          "2022-03-01T00:00:00.000000000",
          "2022-04-01T00:00:00.000000000",
          "2022-05-01T00:00:00.000000000",
          "2022-06-01T00:00:00.000000000",
          "2022-07-01T00:00:00.000000000",
          "2022-08-01T00:00:00.000000000",
          "2022-09-01T00:00:00.000000000",
          "2022-10-01T00:00:00.000000000",
          "2022-11-01T00:00:00.000000000",
          "2022-12-01T00:00:00.000000000",
          "2023-01-01T00:00:00.000000000",
          "2023-02-01T00:00:00.000000000",
          "2023-03-01T00:00:00.000000000",
          "2023-04-01T00:00:00.000000000",
          "2023-05-01T00:00:00.000000000",
          "2023-06-01T00:00:00.000000000",
          "2023-07-01T00:00:00.000000000",
          "2023-08-01T00:00:00.000000000",
          "2023-09-01T00:00:00.000000000",
          "2023-10-01T00:00:00.000000000",
          "2023-11-01T00:00:00.000000000",
          "2023-12-01T00:00:00.000000000",
          "2024-01-01T00:00:00.000000000",
          "2024-02-01T00:00:00.000000000",
          "2024-03-01T00:00:00.000000000",
          "2024-04-01T00:00:00.000000000",
          "2024-05-01T00:00:00.000000000",
          "2024-06-01T00:00:00.000000000",
          "2024-07-01T00:00:00.000000000",
          "2024-08-01T00:00:00.000000000",
          "2024-09-01T00:00:00.000000000",
          "2024-10-01T00:00:00.000000000",
          "2024-11-01T00:00:00.000000000",
          "2024-12-01T00:00:00.000000000",
          "2025-01-01T00:00:00.000000000",
          "2025-02-01T00:00:00.000000000",
          "2025-03-01T00:00:00.000000000",
          "2025-04-01T00:00:00.000000000",
          "2025-05-01T00:00:00.000000000"
         ],
         "xaxis": "x",
         "y": {
          "bdata": "AAAAAAAAWUDwcgpeTkFZQNeHxvrQmFdA60NjfWgsVUD1obE+NFZtQKfg5RS8DI1AAAAAAAAAiUAVvJyClyOIQI31obE+UIZAsj401ofud0BeTsHLKchyQOYUvJyCa4xAvZyCl1NUlkA01ofG+syYQKfg5RS82KRAsT401oc4pEA01ofG+vygQD401ofGQ6BAT8HLKXixoEDSWB8a65+fQKfg5RS8HJJAEI31obGKgEAvp+DlFNCAQBCN9aGxRoNA5hS8nIJffkBzCl5OwUt7QJyCl1PwknlAC15Owcvhc0Aa60NjfeB5QNq2bdu2lX9AK3g5BS+feUCDl1Pwcip+QL2cgpdTEHlA3LZt27bdc0D70FgfGnt2QEmSJEmSFHJAlCRJkiTpbUBzCl5OwVtwQJQkSZIkWXxA0FgfGusbjECP9aGxPiyMQMwpeDkFq45AWR8a60P5k0Avp+DlFJ6QQGR9aKwPuYxA0VgfGusziECisT401teFQOtDY31oDIJAp+DlFLx0hEDbtm3btm2FQLht27ZtA4xAwsspeDnRkUAFL6fg5aSOQAYvp+DlDIZAgpdT8HIagECZU/ByChZ+QGisD431yYBA",
          "dtype": "f8"
         },
         "yaxis": "y"
        }
       ],
       "layout": {
        "font": {
         "family": "IBM Plex Sans"
        },
        "height": 397,
        "hovermode": "x unified",
        "legend": {
         "font": {
          "color": "white",
          "family": "IBM Plex Sans",
          "size": 11
         },
         "title": {
          "text": "Cryptocurrency"
         },
         "tracegroupgap": 0,
         "x": 1.05,
         "xanchor": "left",
         "y": 0.99,
         "yanchor": "top"
        },
        "showlegend": false,
        "template": {
         "data": {
          "bar": [
           {
            "error_x": {
             "color": "#f2f5fa"
            },
            "error_y": {
             "color": "#f2f5fa"
            },
            "marker": {
             "line": {
              "color": "rgb(17,17,17)",
              "width": 0.5
             },
             "pattern": {
              "fillmode": "overlay",
              "size": 10,
              "solidity": 0.2
             }
            },
            "type": "bar"
           }
          ],
          "barpolar": [
           {
            "marker": {
             "line": {
              "color": "rgb(17,17,17)",
              "width": 0.5
             },
             "pattern": {
              "fillmode": "overlay",
              "size": 10,
              "solidity": 0.2
             }
            },
            "type": "barpolar"
           }
          ],
          "carpet": [
           {
            "aaxis": {
             "endlinecolor": "#A2B1C6",
             "gridcolor": "#506784",
             "linecolor": "#506784",
             "minorgridcolor": "#506784",
             "startlinecolor": "#A2B1C6"
            },
            "baxis": {
             "endlinecolor": "#A2B1C6",
             "gridcolor": "#506784",
             "linecolor": "#506784",
             "minorgridcolor": "#506784",
             "startlinecolor": "#A2B1C6"
            },
            "type": "carpet"
           }
          ],
          "choropleth": [
           {
            "colorbar": {
             "outlinewidth": 0,
             "ticks": ""
            },
            "type": "choropleth"
           }
          ],
          "contour": [
           {
            "colorbar": {
             "outlinewidth": 0,
             "ticks": ""
            },
            "colorscale": [
             [
              0,
              "#0d0887"
             ],
             [
              0.1111111111111111,
              "#46039f"
             ],
             [
              0.2222222222222222,
              "#7201a8"
             ],
             [
              0.3333333333333333,
              "#9c179e"
             ],
             [
              0.4444444444444444,
              "#bd3786"
             ],
             [
              0.5555555555555556,
              "#d8576b"
             ],
             [
              0.6666666666666666,
              "#ed7953"
             ],
             [
              0.7777777777777778,
              "#fb9f3a"
             ],
             [
              0.8888888888888888,
              "#fdca26"
             ],
             [
              1,
              "#f0f921"
             ]
            ],
            "type": "contour"
           }
          ],
          "contourcarpet": [
           {
            "colorbar": {
             "outlinewidth": 0,
             "ticks": ""
            },
            "type": "contourcarpet"
           }
          ],
          "heatmap": [
           {
            "colorbar": {
             "outlinewidth": 0,
             "ticks": ""
            },
            "colorscale": [
             [
              0,
              "#0d0887"
             ],
             [
              0.1111111111111111,
              "#46039f"
             ],
             [
              0.2222222222222222,
              "#7201a8"
             ],
             [
              0.3333333333333333,
              "#9c179e"
             ],
             [
              0.4444444444444444,
              "#bd3786"
             ],
             [
              0.5555555555555556,
              "#d8576b"
             ],
             [
              0.6666666666666666,
              "#ed7953"
             ],
             [
              0.7777777777777778,
              "#fb9f3a"
             ],
             [
              0.8888888888888888,
              "#fdca26"
             ],
             [
              1,
              "#f0f921"
             ]
            ],
            "type": "heatmap"
           }
          ],
          "histogram": [
           {
            "marker": {
             "pattern": {
              "fillmode": "overlay",
              "size": 10,
              "solidity": 0.2
             }
            },
            "type": "histogram"
           }
          ],
          "histogram2d": [
           {
            "colorbar": {
             "outlinewidth": 0,
             "ticks": ""
            },
            "colorscale": [
             [
              0,
              "#0d0887"
             ],
             [
              0.1111111111111111,
              "#46039f"
             ],
             [
              0.2222222222222222,
              "#7201a8"
             ],
             [
              0.3333333333333333,
              "#9c179e"
             ],
             [
              0.4444444444444444,
              "#bd3786"
             ],
             [
              0.5555555555555556,
              "#d8576b"
             ],
             [
              0.6666666666666666,
              "#ed7953"
             ],
             [
              0.7777777777777778,
              "#fb9f3a"
             ],
             [
              0.8888888888888888,
              "#fdca26"
             ],
             [
              1,
              "#f0f921"
             ]
            ],
            "type": "histogram2d"
           }
          ],
          "histogram2dcontour": [
           {
            "colorbar": {
             "outlinewidth": 0,
             "ticks": ""
            },
            "colorscale": [
             [
              0,
              "#0d0887"
             ],
             [
              0.1111111111111111,
              "#46039f"
             ],
             [
              0.2222222222222222,
              "#7201a8"
             ],
             [
              0.3333333333333333,
              "#9c179e"
             ],
             [
              0.4444444444444444,
              "#bd3786"
             ],
             [
              0.5555555555555556,
              "#d8576b"
             ],
             [
              0.6666666666666666,
              "#ed7953"
             ],
             [
              0.7777777777777778,
              "#fb9f3a"
             ],
             [
              0.8888888888888888,
              "#fdca26"
             ],
             [
              1,
              "#f0f921"
             ]
            ],
            "type": "histogram2dcontour"
           }
          ],
          "mesh3d": [
           {
            "colorbar": {
             "outlinewidth": 0,
             "ticks": ""
            },
            "type": "mesh3d"
           }
          ],
          "parcoords": [
           {
            "line": {
             "colorbar": {
              "outlinewidth": 0,
              "ticks": ""
             }
            },
            "type": "parcoords"
           }
          ],
          "pie": [
           {
            "automargin": true,
            "type": "pie"
           }
          ],
          "scatter": [
           {
            "marker": {
             "line": {
              "color": "#283442"
             }
            },
            "type": "scatter"
           }
          ],
          "scatter3d": [
           {
            "line": {
             "colorbar": {
              "outlinewidth": 0,
              "ticks": ""
             }
            },
            "marker": {
             "colorbar": {
              "outlinewidth": 0,
              "ticks": ""
             }
            },
            "type": "scatter3d"
           }
          ],
          "scattercarpet": [
           {
            "marker": {
             "colorbar": {
              "outlinewidth": 0,
              "ticks": ""
             }
            },
            "type": "scattercarpet"
           }
          ],
          "scattergeo": [
           {
            "marker": {
             "colorbar": {
              "outlinewidth": 0,
              "ticks": ""
             }
            },
            "type": "scattergeo"
           }
          ],
          "scattergl": [
           {
            "marker": {
             "line": {
              "color": "#283442"
             }
            },
            "type": "scattergl"
           }
          ],
          "scattermap": [
           {
            "marker": {
             "colorbar": {
              "outlinewidth": 0,
              "ticks": ""
             }
            },
            "type": "scattermap"
           }
          ],
          "scattermapbox": [
           {
            "marker": {
             "colorbar": {
              "outlinewidth": 0,
              "ticks": ""
             }
            },
            "type": "scattermapbox"
           }
          ],
          "scatterpolar": [
           {
            "marker": {
             "colorbar": {
              "outlinewidth": 0,
              "ticks": ""
             }
            },
            "type": "scatterpolar"
           }
          ],
          "scatterpolargl": [
           {
            "marker": {
             "colorbar": {
              "outlinewidth": 0,
              "ticks": ""
             }
            },
            "type": "scatterpolargl"
           }
          ],
          "scatterternary": [
           {
            "marker": {
             "colorbar": {
              "outlinewidth": 0,
              "ticks": ""
             }
            },
            "type": "scatterternary"
           }
          ],
          "surface": [
           {
            "colorbar": {
             "outlinewidth": 0,
             "ticks": ""
            },
            "colorscale": [
             [
              0,
              "#0d0887"
             ],
             [
              0.1111111111111111,
              "#46039f"
             ],
             [
              0.2222222222222222,
              "#7201a8"
             ],
             [
              0.3333333333333333,
              "#9c179e"
             ],
             [
              0.4444444444444444,
              "#bd3786"
             ],
             [
              0.5555555555555556,
              "#d8576b"
             ],
             [
              0.6666666666666666,
              "#ed7953"
             ],
             [
              0.7777777777777778,
              "#fb9f3a"
             ],
             [
              0.8888888888888888,
              "#fdca26"
             ],
             [
              1,
              "#f0f921"
             ]
            ],
            "type": "surface"
           }
          ],
          "table": [
           {
            "cells": {
             "fill": {
              "color": "#506784"
             },
             "line": {
              "color": "rgb(17,17,17)"
             }
            },
            "header": {
             "fill": {
              "color": "#2a3f5f"
             },
             "line": {
              "color": "rgb(17,17,17)"
             }
            },
            "type": "table"
           }
          ]
         },
         "layout": {
          "annotationdefaults": {
           "arrowcolor": "#f2f5fa",
           "arrowhead": 0,
           "arrowwidth": 1
          },
          "autotypenumbers": "strict",
          "coloraxis": {
           "colorbar": {
            "outlinewidth": 0,
            "ticks": ""
           }
          },
          "colorscale": {
           "diverging": [
            [
             0,
             "#8e0152"
            ],
            [
             0.1,
             "#c51b7d"
            ],
            [
             0.2,
             "#de77ae"
            ],
            [
             0.3,
             "#f1b6da"
            ],
            [
             0.4,
             "#fde0ef"
            ],
            [
             0.5,
             "#f7f7f7"
            ],
            [
             0.6,
             "#e6f5d0"
            ],
            [
             0.7,
             "#b8e186"
            ],
            [
             0.8,
             "#7fbc41"
            ],
            [
             0.9,
             "#4d9221"
            ],
            [
             1,
             "#276419"
            ]
           ],
           "sequential": [
            [
             0,
             "#0d0887"
            ],
            [
             0.1111111111111111,
             "#46039f"
            ],
            [
             0.2222222222222222,
             "#7201a8"
            ],
            [
             0.3333333333333333,
             "#9c179e"
            ],
            [
             0.4444444444444444,
             "#bd3786"
            ],
            [
             0.5555555555555556,
             "#d8576b"
            ],
            [
             0.6666666666666666,
             "#ed7953"
            ],
            [
             0.7777777777777778,
             "#fb9f3a"
            ],
            [
             0.8888888888888888,
             "#fdca26"
            ],
            [
             1,
             "#f0f921"
            ]
           ],
           "sequentialminus": [
            [
             0,
             "#0d0887"
            ],
            [
             0.1111111111111111,
             "#46039f"
            ],
            [
             0.2222222222222222,
             "#7201a8"
            ],
            [
             0.3333333333333333,
             "#9c179e"
            ],
            [
             0.4444444444444444,
             "#bd3786"
            ],
            [
             0.5555555555555556,
             "#d8576b"
            ],
            [
             0.6666666666666666,
             "#ed7953"
            ],
            [
             0.7777777777777778,
             "#fb9f3a"
            ],
            [
             0.8888888888888888,
             "#fdca26"
            ],
            [
             1,
             "#f0f921"
            ]
           ]
          },
          "colorway": [
           "#636efa",
           "#EF553B",
           "#00cc96",
           "#ab63fa",
           "#FFA15A",
           "#19d3f3",
           "#FF6692",
           "#B6E880",
           "#FF97FF",
           "#FECB52"
          ],
          "font": {
           "color": "#f2f5fa"
          },
          "geo": {
           "bgcolor": "rgb(17,17,17)",
           "lakecolor": "rgb(17,17,17)",
           "landcolor": "rgb(17,17,17)",
           "showlakes": true,
           "showland": true,
           "subunitcolor": "#506784"
          },
          "hoverlabel": {
           "align": "left"
          },
          "hovermode": "closest",
          "mapbox": {
           "style": "dark"
          },
          "paper_bgcolor": "rgb(17,17,17)",
          "plot_bgcolor": "rgb(17,17,17)",
          "polar": {
           "angularaxis": {
            "gridcolor": "#506784",
            "linecolor": "#506784",
            "ticks": ""
           },
           "bgcolor": "rgb(17,17,17)",
           "radialaxis": {
            "gridcolor": "#506784",
            "linecolor": "#506784",
            "ticks": ""
           }
          },
          "scene": {
           "xaxis": {
            "backgroundcolor": "rgb(17,17,17)",
            "gridcolor": "#506784",
            "gridwidth": 2,
            "linecolor": "#506784",
            "showbackground": true,
            "ticks": "",
            "zerolinecolor": "#C8D4E3"
           },
           "yaxis": {
            "backgroundcolor": "rgb(17,17,17)",
            "gridcolor": "#506784",
            "gridwidth": 2,
            "linecolor": "#506784",
            "showbackground": true,
            "ticks": "",
            "zerolinecolor": "#C8D4E3"
           },
           "zaxis": {
            "backgroundcolor": "rgb(17,17,17)",
            "gridcolor": "#506784",
            "gridwidth": 2,
            "linecolor": "#506784",
            "showbackground": true,
            "ticks": "",
            "zerolinecolor": "#C8D4E3"
           }
          },
          "shapedefaults": {
           "line": {
            "color": "#f2f5fa"
           }
          },
          "sliderdefaults": {
           "bgcolor": "#C8D4E3",
           "bordercolor": "rgb(17,17,17)",
           "borderwidth": 1,
           "tickwidth": 0
          },
          "ternary": {
           "aaxis": {
            "gridcolor": "#506784",
            "linecolor": "#506784",
            "ticks": ""
           },
           "baxis": {
            "gridcolor": "#506784",
            "linecolor": "#506784",
            "ticks": ""
           },
           "bgcolor": "rgb(17,17,17)",
           "caxis": {
            "gridcolor": "#506784",
            "linecolor": "#506784",
            "ticks": ""
           }
          },
          "title": {
           "x": 0.05
          },
          "updatemenudefaults": {
           "bgcolor": "#506784",
           "borderwidth": 0
          },
          "xaxis": {
           "automargin": true,
           "gridcolor": "#283442",
           "linecolor": "#506784",
           "ticks": "",
           "title": {
            "standoff": 15
           },
           "zerolinecolor": "#283442",
           "zerolinewidth": 2
          },
          "yaxis": {
           "automargin": true,
           "gridcolor": "#283442",
           "linecolor": "#506784",
           "ticks": "",
           "title": {
            "standoff": 15
           },
           "zerolinecolor": "#283442",
           "zerolinewidth": 2
          }
         }
        },
        "title": {
         "subtitle": {
          "text": "Normalized to July 2020"
         },
         "text": "<b>Crypto Relative Price Performance</b>"
        },
        "width": 353,
        "xaxis": {
         "anchor": "y",
         "domain": [
          0,
          1
         ],
         "rangeslider": {
          "visible": true
         },
         "title": {
          "text": "Date"
         }
        },
        "yaxis": {
         "anchor": "x",
         "domain": [
          0,
          1
         ],
         "tickformat": ",d",
         "ticksuffix": "%",
         "title": {
          "text": "Price Change (%)"
         }
        }
       }
      }
     },
     "metadata": {},
     "output_type": "display_data"
    }
   ],
   "source": [
    "#%% Create the normalized price evolution graph\n",
    "\n",
    "# Create the figure\n",
    "figm = px.line(\n",
    "    normalized_df_2020,\n",
    "    x='timestamp',\n",
    "    y='normalized_price',\n",
    "    color='symbols',\n",
    "    custom_data=['symbols', 'average_price'],\n",
    "    title='<b>Crypto Relative Price Performance</b>',\n",
    "    subtitle='Normalized to July 2020',\n",
    "    labels={\n",
    "        'timestamp': 'Date',\n",
    "        'normalized_price': 'Price Change (%)',\n",
    "        'symbols': 'Cryptocurrency'\n",
    "    },\n",
    "    color_discrete_map={\n",
    "        'BTC/USDT': '#F7931A',  # Bitcoin Orange\n",
    "        'ETH/USDT': '#636BFF',  # Ethereum Blue\n",
    "        'BNB/USDT': '#F3BA2F',  # Binance Yellow\n",
    "        'SOL/USDT': '#CF62E7',   # Solana Pink\n",
    "        'XRP/USDT': '#4B8BBE',  # XRP Blue\n",
    "        'AVAX/USDT': '#E84142'  # Avalanche Red\n",
    "    },\n",
    "    markers=False,\n",
    ")\n",
    "\n",
    "# Update traces to reduce marker size\n",
    "figm.update_traces(\n",
    "    marker={'size': 4}, # Try values between 2-6\n",
    "    hovertemplate=\"<b>%{customdata[0]}</b><br>\" +\n",
    "                  \"Change: %{y:.1f}%<br>\" +\n",
    "                  \"Price: $%{customdata[1]:,.2f}<br>\" +\n",
    "                  \"<extra></extra>\",\n",
    "                  hoverlabel=dict(\n",
    "    font=dict(\n",
    "         family=\"IBM Plex Sans\",\n",
    "            size=11,\n",
    "        ),\n",
    "        bordercolor=\"rgba(17, 17, 17, 0.9)\",  # Same as background to remove border\n",
    "        namelength=-1  # Show full text\n",
    "    ),\n",
    "    )  \n",
    "\n",
    "# Customize the layout\n",
    "figm.update_layout(\n",
    "    template='plotly_dark',\n",
    "    hovermode='x unified',\n",
    "    font_family=\"IBM Plex Sans\",\n",
    "    legend=dict(\n",
    "        title=dict(text=\"Cryptocurrency\"),\n",
    "        font=dict(\n",
    "            family=\"IBM Plex Sans\",\n",
    "            size=11,\n",
    "            color=\"white\"\n",
    "        ),\n",
    "        yanchor=\"top\",\n",
    "        y=0.99,\n",
    "        xanchor=\"left\",\n",
    "        x=1.05,\n",
    "    ),\n",
    "    showlegend=False,\n",
    "    margin=dict(\n",
    "        l=10,\n",
    "        r=10,\n",
    "        t=40,\n",
    "        b=10 \n",
    "    ),\n",
    "    height=397,  # Adjust height\n",
    "    width=353,  # Adjust width\n",
    "    xaxis_title=\"Date\",\n",
    "    yaxis_title=\"Price Change (%)\",\n",
    "    yaxis=dict(\n",
    "        tickformat=',d', ticksuffix='%',  # Format y-axis as percentage    \n",
    "    )\n",
    ")\n",
    "\n",
    "# Add range slider\n",
    "figm.update_xaxes(rangeslider_visible=True)\n",
    "\n",
    "# Show the plot\n",
    "figm.show(config={\n",
    "    'displayModeBar': True,\n",
    "    'displaylogo': False,\n",
    "    'modeBarButtonsToAdd': ['fullscreen']\n",
    "})\n",
    "\n",
    "# Save the figure as an HTML file\n",
    "fig.write_html(\"plots/html/jul2020_crypto_relative_price_performance_mobile.html\")"
   ]
  },
  {
   "cell_type": "code",
   "execution_count": 21,
   "id": "cedd52ac",
   "metadata": {},
   "outputs": [
    {
     "name": "stderr",
     "output_type": "stream",
     "text": [
      "C:\\Users\\Matheus\\AppData\\Local\\Temp\\ipykernel_1908\\1140205728.py:17: FutureWarning:\n",
      "\n",
      "The default of observed=False is deprecated and will be changed to True in a future version of pandas. Pass observed=False to retain current behavior or observed=True to adopt the future default and silence this warning.\n",
      "\n"
     ]
    }
   ],
   "source": [
    "#%% Creating Normalized Price Data\n",
    "\n",
    "# Create a copy of the DataFrame to avoid modifying the original\n",
    "normalized_df_2024 = crypto_monthly_avg.copy()\n",
    "\n",
    "# Convert timestamp to datetime if not already\n",
    "normalized_df_2024['timestamp'] = pd.to_datetime(normalized_df_2024['timestamp'])\n",
    "\n",
    "# Filter data starting from January 2024\n",
    "start_date = pd.to_datetime('2024-01-01')\n",
    "normalized_df_2024 = normalized_df_2024[normalized_df_2024['timestamp'] >= start_date]\n",
    "\n",
    "# Sort by timestamp ascending to get correct base prices\n",
    "normalized_df_2024 = normalized_df_2024.sort_values(['symbols', 'timestamp'], ascending=[True, True])\n",
    "\n",
    "# Get the first value for each symbol\n",
    "base_values = normalized_df_2024.groupby('symbols').first()['average_price']\n",
    "\n",
    "# Calculate normalized prices \n",
    "normalized_df_2024['normalized_price'] = normalized_df_2024.apply(\n",
    "    lambda x: (x['average_price'] / base_values[x['symbols']]) * 100,\n",
    "    axis=1\n",
    ")"
   ]
  },
  {
   "cell_type": "code",
   "execution_count": 22,
   "id": "8c3b45ba",
   "metadata": {},
   "outputs": [
    {
     "data": {
      "application/vnd.plotly.v1+json": {
       "config": {
        "displayModeBar": true,
        "displaylogo": false,
        "modeBarButtonsToAdd": [
         "fullscreen"
        ],
        "plotlyServerURL": "https://plot.ly"
       },
       "data": [
        {
         "customdata": [
          [
           "BTC/USDT",
           43762.24
          ],
          [
           "BTC/USDT",
           52942.14
          ],
          [
           "BTC/USDT",
           66391
          ],
          [
           "BTC/USDT",
           65994.8
          ],
          [
           "BTC/USDT",
           64265.91
          ],
          [
           "BTC/USDT",
           65199.51
          ],
          [
           "BTC/USDT",
           61782.96
          ],
          [
           "BTC/USDT",
           57329.89
          ],
          [
           "BTC/USDT",
           59524
          ],
          [
           "BTC/USDT",
           66283.06
          ],
          [
           "BTC/USDT",
           83211.5
          ],
          [
           "BTC/USDT",
           99426.5
          ],
          [
           "BTC/USDT",
           99422.34
          ],
          [
           "BTC/USDT",
           90521.12
          ],
          [
           "BTC/USDT",
           85803
          ],
          [
           "BTC/USDT",
           85133.02
          ],
          [
           "BTC/USDT",
           94420.22
          ]
         ],
         "hovertemplate": "<b>%{customdata[0]}</b><br>Change: %{y:.1f}%<br>Price: $%{customdata[1]:,.2f}<br><extra></extra>",
         "legendgroup": "BTC/USDT",
         "line": {
          "color": "#F7931A",
          "dash": "solid"
         },
         "marker": {
          "size": 4,
          "symbol": "circle"
         },
         "mode": "lines+markers",
         "name": "BTC/USDT",
         "orientation": "v",
         "showlegend": true,
         "type": "scatter",
         "x": [
          "2024-01-01T00:00:00.000000000",
          "2024-02-01T00:00:00.000000000",
          "2024-03-01T00:00:00.000000000",
          "2024-04-01T00:00:00.000000000",
          "2024-05-01T00:00:00.000000000",
          "2024-06-01T00:00:00.000000000",
          "2024-07-01T00:00:00.000000000",
          "2024-08-01T00:00:00.000000000",
          "2024-09-01T00:00:00.000000000",
          "2024-10-01T00:00:00.000000000",
          "2024-11-01T00:00:00.000000000",
          "2024-12-01T00:00:00.000000000",
          "2025-01-01T00:00:00.000000000",
          "2025-02-01T00:00:00.000000000",
          "2025-03-01T00:00:00.000000000",
          "2025-04-01T00:00:00.000000000",
          "2025-05-01T00:00:00.000000000"
         ],
         "xaxis": "x",
         "y": {
          "bdata": "AAAAAAAAWUDjBdg7gz5eQOgctlKr9mJAwlAMubLZYkCS6Y8NR1tiQJ/GaGyLn2JAUrjD4belYUCT6zxgGWBgQN4XjaeJAGFAG/cVwsbuYkCNPrXin8RnQPpnIuRNZmxAUMrKBABmbEC9bR0bH9tpQKSpVwofgmhAvqX3dSFRaEAABYqpO/hqQA==",
          "dtype": "f8"
         },
         "yaxis": "y"
        },
        {
         "customdata": [
          [
           "ETH/USDT",
           2408.66
          ],
          [
           "ETH/USDT",
           2881.4
          ],
          [
           "ETH/USDT",
           3575.24
          ],
          [
           "ETH/USDT",
           3291.36
          ],
          [
           "ETH/USDT",
           3397
          ],
          [
           "ETH/USDT",
           3563.73
          ],
          [
           "ETH/USDT",
           3186.41
          ],
          [
           "ETH/USDT",
           2676.78
          ],
          [
           "ETH/USDT",
           2439.57
          ],
          [
           "ETH/USDT",
           2539.74
          ],
          [
           "ETH/USDT",
           3048.28
          ],
          [
           "ETH/USDT",
           3604.85
          ],
          [
           "ETH/USDT",
           3332.42
          ],
          [
           "ETH/USDT",
           2704.12
          ],
          [
           "ETH/USDT",
           2152.43
          ],
          [
           "ETH/USDT",
           1671.02
          ],
          [
           "ETH/USDT",
           1799.62
          ]
         ],
         "hovertemplate": "<b>%{customdata[0]}</b><br>Change: %{y:.1f}%<br>Price: $%{customdata[1]:,.2f}<br><extra></extra>",
         "legendgroup": "ETH/USDT",
         "line": {
          "color": "#636BFF",
          "dash": "solid"
         },
         "marker": {
          "size": 4,
          "symbol": "circle"
         },
         "mode": "lines+markers",
         "name": "ETH/USDT",
         "orientation": "v",
         "showlegend": true,
         "type": "scatter",
         "x": [
          "2024-01-01T00:00:00.000000000",
          "2024-02-01T00:00:00.000000000",
          "2024-03-01T00:00:00.000000000",
          "2024-04-01T00:00:00.000000000",
          "2024-05-01T00:00:00.000000000",
          "2024-06-01T00:00:00.000000000",
          "2024-07-01T00:00:00.000000000",
          "2024-08-01T00:00:00.000000000",
          "2024-09-01T00:00:00.000000000",
          "2024-10-01T00:00:00.000000000",
          "2024-11-01T00:00:00.000000000",
          "2024-12-01T00:00:00.000000000",
          "2025-01-01T00:00:00.000000000",
          "2025-02-01T00:00:00.000000000",
          "2025-03-01T00:00:00.000000000",
          "2025-04-01T00:00:00.000000000",
          "2025-05-01T00:00:00.000000000"
         ],
         "xaxis": "x",
         "y": {
          "bdata": "AAAAAAAAWUBBSxaIG+hdQMcBfP7YjWJAGjhoq7MUYUBcIdJ6DKFhQKxtZ1+OfmJAiYFWiEWJYEApQRWBashbQFJdM1whUllAsnc7OEpcWkCyPGdZhaNfQDXaRIkvtWJARfk9bUBLYUAW9reBDxFcQAO3HzgtV1ZAZfdgPwhYUUCdw3eKu61SQA==",
          "dtype": "f8"
         },
         "yaxis": "y"
        },
        {
         "customdata": [
          [
           "BNB/USDT",
           310.9
          ],
          [
           "BNB/USDT",
           361.85
          ],
          [
           "BNB/USDT",
           500.65
          ],
          [
           "BNB/USDT",
           571.25
          ],
          [
           "BNB/USDT",
           584.05
          ],
          [
           "BNB/USDT",
           636.5
          ],
          [
           "BNB/USDT",
           530.2
          ],
          [
           "BNB/USDT",
           500.3
          ],
          [
           "BNB/USDT",
           544.95
          ],
          [
           "BNB/USDT",
           573.25
          ],
          [
           "BNB/USDT",
           615.67
          ],
          [
           "BNB/USDT",
           706.28
          ],
          [
           "BNB/USDT",
           691.54
          ],
          [
           "BNB/USDT",
           616
          ],
          [
           "BNB/USDT",
           575.94
          ],
          [
           "BNB/USDT",
           570
          ],
          [
           "BNB/USDT",
           601.03
          ]
         ],
         "hovertemplate": "<b>%{customdata[0]}</b><br>Change: %{y:.1f}%<br>Price: $%{customdata[1]:,.2f}<br><extra></extra>",
         "legendgroup": "BNB/USDT",
         "line": {
          "color": "#F3BA2F",
          "dash": "solid"
         },
         "marker": {
          "size": 4,
          "symbol": "circle"
         },
         "mode": "lines+markers",
         "name": "BNB/USDT",
         "orientation": "v",
         "showlegend": true,
         "type": "scatter",
         "x": [
          "2024-01-01T00:00:00.000000000",
          "2024-02-01T00:00:00.000000000",
          "2024-03-01T00:00:00.000000000",
          "2024-04-01T00:00:00.000000000",
          "2024-05-01T00:00:00.000000000",
          "2024-06-01T00:00:00.000000000",
          "2024-07-01T00:00:00.000000000",
          "2024-08-01T00:00:00.000000000",
          "2024-09-01T00:00:00.000000000",
          "2024-10-01T00:00:00.000000000",
          "2024-11-01T00:00:00.000000000",
          "2024-12-01T00:00:00.000000000",
          "2025-01-01T00:00:00.000000000",
          "2025-02-01T00:00:00.000000000",
          "2025-03-01T00:00:00.000000000",
          "2025-04-01T00:00:00.000000000",
          "2025-05-01T00:00:00.000000000"
         ],
         "xaxis": "x",
         "y": {
          "bdata": "AAAAAAAAWUDG8AR00xhdQKyexSAKIWRAhbLoPrT3ZkBRD05cc3tnQJRowntNl2lA6p+iVTBRZUAj2ffmbx1kQNltgpAB6WVABImAG0oMZ0Bb27jf58BoQKyXNvWGZWxANRHDE9DNa0D0Ea5mTcRoQB+jRxL6J2dAdcwJldbqZkCeH4B8OCpoQA==",
          "dtype": "f8"
         },
         "yaxis": "y"
        },
        {
         "customdata": [
          [
           "SOL/USDT",
           97.98
          ],
          [
           "SOL/USDT",
           113.76
          ],
          [
           "SOL/USDT",
           157.59
          ],
          [
           "SOL/USDT",
           160.23
          ],
          [
           "SOL/USDT",
           153.68
          ],
          [
           "SOL/USDT",
           148.8
          ],
          [
           "SOL/USDT",
           157.49
          ],
          [
           "SOL/USDT",
           141.45
          ],
          [
           "SOL/USDT",
           140.89
          ],
          [
           "SOL/USDT",
           158.24
          ],
          [
           "SOL/USDT",
           209.75
          ],
          [
           "SOL/USDT",
           211.13
          ],
          [
           "SOL/USDT",
           232.36
          ],
          [
           "SOL/USDT",
           181
          ],
          [
           "SOL/USDT",
           145.93
          ],
          [
           "SOL/USDT",
           126.13
          ],
          [
           "SOL/USDT",
           148.28
          ]
         ],
         "hovertemplate": "<b>%{customdata[0]}</b><br>Change: %{y:.1f}%<br>Price: $%{customdata[1]:,.2f}<br><extra></extra>",
         "legendgroup": "SOL/USDT",
         "line": {
          "color": "#CF62E7",
          "dash": "solid"
         },
         "marker": {
          "size": 4,
          "symbol": "circle"
         },
         "mode": "lines+markers",
         "name": "SOL/USDT",
         "orientation": "v",
         "showlegend": true,
         "type": "scatter",
         "x": [
          "2024-01-01T00:00:00.000000000",
          "2024-02-01T00:00:00.000000000",
          "2024-03-01T00:00:00.000000000",
          "2024-04-01T00:00:00.000000000",
          "2024-05-01T00:00:00.000000000",
          "2024-06-01T00:00:00.000000000",
          "2024-07-01T00:00:00.000000000",
          "2024-08-01T00:00:00.000000000",
          "2024-09-01T00:00:00.000000000",
          "2024-10-01T00:00:00.000000000",
          "2024-11-01T00:00:00.000000000",
          "2024-12-01T00:00:00.000000000",
          "2025-01-01T00:00:00.000000000",
          "2025-02-01T00:00:00.000000000",
          "2025-03-01T00:00:00.000000000",
          "2025-04-01T00:00:00.000000000",
          "2025-05-01T00:00:00.000000000"
         ],
         "xaxis": "x",
         "y": {
          "bdata": "AAAAAAAAWUCUigywvQZdQL+8zKbYGmRAWaOuZhFxZEAeKl6SJZtjQCCXvG3E+2JAMi4EkJQXZEB2qSfjtwtiQF2+98lt+WFAWFvkOhMwZEBJ/TusYMJqQOkScrNy72pAXLEqZdCkbUA/5f8VaRdnQD8Cp6wInmJAuMCIDV8XYEA/GBDEyOpiQA==",
          "dtype": "f8"
         },
         "yaxis": "y"
        },
        {
         "customdata": [
          [
           "XRP/USDT",
           0.56
          ],
          [
           "XRP/USDT",
           0.56
          ],
          [
           "XRP/USDT",
           0.64
          ],
          [
           "XRP/USDT",
           0.53
          ],
          [
           "XRP/USDT",
           0.52
          ],
          [
           "XRP/USDT",
           0.49
          ],
          [
           "XRP/USDT",
           0.52
          ],
          [
           "XRP/USDT",
           0.54
          ],
          [
           "XRP/USDT",
           0.58
          ],
          [
           "XRP/USDT",
           0.56
          ],
          [
           "XRP/USDT",
           1.22
          ],
          [
           "XRP/USDT",
           2.38
          ],
          [
           "XRP/USDT",
           2.74
          ],
          [
           "XRP/USDT",
           2.42
          ],
          [
           "XRP/USDT",
           2.45
          ],
          [
           "XRP/USDT",
           1.99
          ],
          [
           "XRP/USDT",
           2.2
          ]
         ],
         "hovertemplate": "<b>%{customdata[0]}</b><br>Change: %{y:.1f}%<br>Price: $%{customdata[1]:,.2f}<br><extra></extra>",
         "legendgroup": "XRP/USDT",
         "line": {
          "color": "#4B8BBE",
          "dash": "solid"
         },
         "marker": {
          "size": 4,
          "symbol": "circle"
         },
         "mode": "lines+markers",
         "name": "XRP/USDT",
         "orientation": "v",
         "showlegend": true,
         "type": "scatter",
         "x": [
          "2024-01-01T00:00:00.000000000",
          "2024-02-01T00:00:00.000000000",
          "2024-03-01T00:00:00.000000000",
          "2024-04-01T00:00:00.000000000",
          "2024-05-01T00:00:00.000000000",
          "2024-06-01T00:00:00.000000000",
          "2024-07-01T00:00:00.000000000",
          "2024-08-01T00:00:00.000000000",
          "2024-09-01T00:00:00.000000000",
          "2024-10-01T00:00:00.000000000",
          "2024-11-01T00:00:00.000000000",
          "2024-12-01T00:00:00.000000000",
          "2025-01-01T00:00:00.000000000",
          "2025-02-01T00:00:00.000000000",
          "2025-03-01T00:00:00.000000000",
          "2025-04-01T00:00:00.000000000",
          "2025-05-01T00:00:00.000000000"
         ],
         "xaxis": "x",
         "y": {
          "bdata": "AAAAAAAAWUAAAAAAAABZQCRJkiRJklxAkiRJkiSpV0Bt27Zt2zZXQP//////31VAbdu2bds2V0C3bdu2bRtYQEiSJEmS5FlAAAAAAAAAWUC2bdu2bTtrQP7/////j3pASJIkSZKUfkAkSZIkSQJ7QAAAAAAAWHtA27Zt27Y1dkDbtm3bto14QA==",
          "dtype": "f8"
         },
         "yaxis": "y"
        },
        {
         "customdata": [
          [
           "AVAX/USDT",
           35.34
          ],
          [
           "AVAX/USDT",
           38.47
          ],
          [
           "AVAX/USDT",
           50.11
          ],
          [
           "AVAX/USDT",
           41.69
          ],
          [
           "AVAX/USDT",
           36.03
          ],
          [
           "AVAX/USDT",
           30.36
          ],
          [
           "AVAX/USDT",
           27.4
          ],
          [
           "AVAX/USDT",
           22.64
          ],
          [
           "AVAX/USDT",
           25.66
          ],
          [
           "AVAX/USDT",
           26.88
          ],
          [
           "AVAX/USDT",
           35.14
          ],
          [
           "AVAX/USDT",
           44.7
          ],
          [
           "AVAX/USDT",
           38.44
          ],
          [
           "AVAX/USDT",
           27.66
          ],
          [
           "AVAX/USDT",
           20.2
          ],
          [
           "AVAX/USDT",
           18.87
          ],
          [
           "AVAX/USDT",
           21.06
          ]
         ],
         "hovertemplate": "<b>%{customdata[0]}</b><br>Change: %{y:.1f}%<br>Price: $%{customdata[1]:,.2f}<br><extra></extra>",
         "legendgroup": "AVAX/USDT",
         "line": {
          "color": "#E84142",
          "dash": "solid"
         },
         "marker": {
          "size": 4,
          "symbol": "circle"
         },
         "mode": "lines+markers",
         "name": "AVAX/USDT",
         "orientation": "v",
         "showlegend": true,
         "type": "scatter",
         "x": [
          "2024-01-01T00:00:00.000000000",
          "2024-02-01T00:00:00.000000000",
          "2024-03-01T00:00:00.000000000",
          "2024-04-01T00:00:00.000000000",
          "2024-05-01T00:00:00.000000000",
          "2024-06-01T00:00:00.000000000",
          "2024-07-01T00:00:00.000000000",
          "2024-08-01T00:00:00.000000000",
          "2024-09-01T00:00:00.000000000",
          "2024-10-01T00:00:00.000000000",
          "2024-11-01T00:00:00.000000000",
          "2024-12-01T00:00:00.000000000",
          "2025-01-01T00:00:00.000000000",
          "2025-02-01T00:00:00.000000000",
          "2025-03-01T00:00:00.000000000",
          "2025-04-01T00:00:00.000000000",
          "2025-05-01T00:00:00.000000000"
         ],
         "xaxis": "x",
         "y": {
          "bdata": "AAAAAAAAWUCNb1Ih1jZbQK/KD3VouWFAhLSOwfh9XUDHDlYi9XxZQDaKyuYhelVApeb4JhViU0D2luJ8DgRQQHhzpeb4JlJA2qMjZukDU0CLl4bJx9tYQDSy/o4Tn19AFdNZTGcxW0AKiGMHK5FTQF5szPtalExAfeWwjaKySkDmIXoD2MtNQA==",
          "dtype": "f8"
         },
         "yaxis": "y"
        }
       ],
       "layout": {
        "font": {
         "family": "IBM Plex Sans"
        },
        "height": 435,
        "hovermode": "x unified",
        "legend": {
         "title": {
          "text": "Cryptocurrency"
         },
         "tracegroupgap": 0,
         "x": 0.01,
         "xanchor": "left",
         "y": 0.99,
         "yanchor": "top"
        },
        "template": {
         "data": {
          "bar": [
           {
            "error_x": {
             "color": "#f2f5fa"
            },
            "error_y": {
             "color": "#f2f5fa"
            },
            "marker": {
             "line": {
              "color": "rgb(17,17,17)",
              "width": 0.5
             },
             "pattern": {
              "fillmode": "overlay",
              "size": 10,
              "solidity": 0.2
             }
            },
            "type": "bar"
           }
          ],
          "barpolar": [
           {
            "marker": {
             "line": {
              "color": "rgb(17,17,17)",
              "width": 0.5
             },
             "pattern": {
              "fillmode": "overlay",
              "size": 10,
              "solidity": 0.2
             }
            },
            "type": "barpolar"
           }
          ],
          "carpet": [
           {
            "aaxis": {
             "endlinecolor": "#A2B1C6",
             "gridcolor": "#506784",
             "linecolor": "#506784",
             "minorgridcolor": "#506784",
             "startlinecolor": "#A2B1C6"
            },
            "baxis": {
             "endlinecolor": "#A2B1C6",
             "gridcolor": "#506784",
             "linecolor": "#506784",
             "minorgridcolor": "#506784",
             "startlinecolor": "#A2B1C6"
            },
            "type": "carpet"
           }
          ],
          "choropleth": [
           {
            "colorbar": {
             "outlinewidth": 0,
             "ticks": ""
            },
            "type": "choropleth"
           }
          ],
          "contour": [
           {
            "colorbar": {
             "outlinewidth": 0,
             "ticks": ""
            },
            "colorscale": [
             [
              0,
              "#0d0887"
             ],
             [
              0.1111111111111111,
              "#46039f"
             ],
             [
              0.2222222222222222,
              "#7201a8"
             ],
             [
              0.3333333333333333,
              "#9c179e"
             ],
             [
              0.4444444444444444,
              "#bd3786"
             ],
             [
              0.5555555555555556,
              "#d8576b"
             ],
             [
              0.6666666666666666,
              "#ed7953"
             ],
             [
              0.7777777777777778,
              "#fb9f3a"
             ],
             [
              0.8888888888888888,
              "#fdca26"
             ],
             [
              1,
              "#f0f921"
             ]
            ],
            "type": "contour"
           }
          ],
          "contourcarpet": [
           {
            "colorbar": {
             "outlinewidth": 0,
             "ticks": ""
            },
            "type": "contourcarpet"
           }
          ],
          "heatmap": [
           {
            "colorbar": {
             "outlinewidth": 0,
             "ticks": ""
            },
            "colorscale": [
             [
              0,
              "#0d0887"
             ],
             [
              0.1111111111111111,
              "#46039f"
             ],
             [
              0.2222222222222222,
              "#7201a8"
             ],
             [
              0.3333333333333333,
              "#9c179e"
             ],
             [
              0.4444444444444444,
              "#bd3786"
             ],
             [
              0.5555555555555556,
              "#d8576b"
             ],
             [
              0.6666666666666666,
              "#ed7953"
             ],
             [
              0.7777777777777778,
              "#fb9f3a"
             ],
             [
              0.8888888888888888,
              "#fdca26"
             ],
             [
              1,
              "#f0f921"
             ]
            ],
            "type": "heatmap"
           }
          ],
          "histogram": [
           {
            "marker": {
             "pattern": {
              "fillmode": "overlay",
              "size": 10,
              "solidity": 0.2
             }
            },
            "type": "histogram"
           }
          ],
          "histogram2d": [
           {
            "colorbar": {
             "outlinewidth": 0,
             "ticks": ""
            },
            "colorscale": [
             [
              0,
              "#0d0887"
             ],
             [
              0.1111111111111111,
              "#46039f"
             ],
             [
              0.2222222222222222,
              "#7201a8"
             ],
             [
              0.3333333333333333,
              "#9c179e"
             ],
             [
              0.4444444444444444,
              "#bd3786"
             ],
             [
              0.5555555555555556,
              "#d8576b"
             ],
             [
              0.6666666666666666,
              "#ed7953"
             ],
             [
              0.7777777777777778,
              "#fb9f3a"
             ],
             [
              0.8888888888888888,
              "#fdca26"
             ],
             [
              1,
              "#f0f921"
             ]
            ],
            "type": "histogram2d"
           }
          ],
          "histogram2dcontour": [
           {
            "colorbar": {
             "outlinewidth": 0,
             "ticks": ""
            },
            "colorscale": [
             [
              0,
              "#0d0887"
             ],
             [
              0.1111111111111111,
              "#46039f"
             ],
             [
              0.2222222222222222,
              "#7201a8"
             ],
             [
              0.3333333333333333,
              "#9c179e"
             ],
             [
              0.4444444444444444,
              "#bd3786"
             ],
             [
              0.5555555555555556,
              "#d8576b"
             ],
             [
              0.6666666666666666,
              "#ed7953"
             ],
             [
              0.7777777777777778,
              "#fb9f3a"
             ],
             [
              0.8888888888888888,
              "#fdca26"
             ],
             [
              1,
              "#f0f921"
             ]
            ],
            "type": "histogram2dcontour"
           }
          ],
          "mesh3d": [
           {
            "colorbar": {
             "outlinewidth": 0,
             "ticks": ""
            },
            "type": "mesh3d"
           }
          ],
          "parcoords": [
           {
            "line": {
             "colorbar": {
              "outlinewidth": 0,
              "ticks": ""
             }
            },
            "type": "parcoords"
           }
          ],
          "pie": [
           {
            "automargin": true,
            "type": "pie"
           }
          ],
          "scatter": [
           {
            "marker": {
             "line": {
              "color": "#283442"
             }
            },
            "type": "scatter"
           }
          ],
          "scatter3d": [
           {
            "line": {
             "colorbar": {
              "outlinewidth": 0,
              "ticks": ""
             }
            },
            "marker": {
             "colorbar": {
              "outlinewidth": 0,
              "ticks": ""
             }
            },
            "type": "scatter3d"
           }
          ],
          "scattercarpet": [
           {
            "marker": {
             "colorbar": {
              "outlinewidth": 0,
              "ticks": ""
             }
            },
            "type": "scattercarpet"
           }
          ],
          "scattergeo": [
           {
            "marker": {
             "colorbar": {
              "outlinewidth": 0,
              "ticks": ""
             }
            },
            "type": "scattergeo"
           }
          ],
          "scattergl": [
           {
            "marker": {
             "line": {
              "color": "#283442"
             }
            },
            "type": "scattergl"
           }
          ],
          "scattermap": [
           {
            "marker": {
             "colorbar": {
              "outlinewidth": 0,
              "ticks": ""
             }
            },
            "type": "scattermap"
           }
          ],
          "scattermapbox": [
           {
            "marker": {
             "colorbar": {
              "outlinewidth": 0,
              "ticks": ""
             }
            },
            "type": "scattermapbox"
           }
          ],
          "scatterpolar": [
           {
            "marker": {
             "colorbar": {
              "outlinewidth": 0,
              "ticks": ""
             }
            },
            "type": "scatterpolar"
           }
          ],
          "scatterpolargl": [
           {
            "marker": {
             "colorbar": {
              "outlinewidth": 0,
              "ticks": ""
             }
            },
            "type": "scatterpolargl"
           }
          ],
          "scatterternary": [
           {
            "marker": {
             "colorbar": {
              "outlinewidth": 0,
              "ticks": ""
             }
            },
            "type": "scatterternary"
           }
          ],
          "surface": [
           {
            "colorbar": {
             "outlinewidth": 0,
             "ticks": ""
            },
            "colorscale": [
             [
              0,
              "#0d0887"
             ],
             [
              0.1111111111111111,
              "#46039f"
             ],
             [
              0.2222222222222222,
              "#7201a8"
             ],
             [
              0.3333333333333333,
              "#9c179e"
             ],
             [
              0.4444444444444444,
              "#bd3786"
             ],
             [
              0.5555555555555556,
              "#d8576b"
             ],
             [
              0.6666666666666666,
              "#ed7953"
             ],
             [
              0.7777777777777778,
              "#fb9f3a"
             ],
             [
              0.8888888888888888,
              "#fdca26"
             ],
             [
              1,
              "#f0f921"
             ]
            ],
            "type": "surface"
           }
          ],
          "table": [
           {
            "cells": {
             "fill": {
              "color": "#506784"
             },
             "line": {
              "color": "rgb(17,17,17)"
             }
            },
            "header": {
             "fill": {
              "color": "#2a3f5f"
             },
             "line": {
              "color": "rgb(17,17,17)"
             }
            },
            "type": "table"
           }
          ]
         },
         "layout": {
          "annotationdefaults": {
           "arrowcolor": "#f2f5fa",
           "arrowhead": 0,
           "arrowwidth": 1
          },
          "autotypenumbers": "strict",
          "coloraxis": {
           "colorbar": {
            "outlinewidth": 0,
            "ticks": ""
           }
          },
          "colorscale": {
           "diverging": [
            [
             0,
             "#8e0152"
            ],
            [
             0.1,
             "#c51b7d"
            ],
            [
             0.2,
             "#de77ae"
            ],
            [
             0.3,
             "#f1b6da"
            ],
            [
             0.4,
             "#fde0ef"
            ],
            [
             0.5,
             "#f7f7f7"
            ],
            [
             0.6,
             "#e6f5d0"
            ],
            [
             0.7,
             "#b8e186"
            ],
            [
             0.8,
             "#7fbc41"
            ],
            [
             0.9,
             "#4d9221"
            ],
            [
             1,
             "#276419"
            ]
           ],
           "sequential": [
            [
             0,
             "#0d0887"
            ],
            [
             0.1111111111111111,
             "#46039f"
            ],
            [
             0.2222222222222222,
             "#7201a8"
            ],
            [
             0.3333333333333333,
             "#9c179e"
            ],
            [
             0.4444444444444444,
             "#bd3786"
            ],
            [
             0.5555555555555556,
             "#d8576b"
            ],
            [
             0.6666666666666666,
             "#ed7953"
            ],
            [
             0.7777777777777778,
             "#fb9f3a"
            ],
            [
             0.8888888888888888,
             "#fdca26"
            ],
            [
             1,
             "#f0f921"
            ]
           ],
           "sequentialminus": [
            [
             0,
             "#0d0887"
            ],
            [
             0.1111111111111111,
             "#46039f"
            ],
            [
             0.2222222222222222,
             "#7201a8"
            ],
            [
             0.3333333333333333,
             "#9c179e"
            ],
            [
             0.4444444444444444,
             "#bd3786"
            ],
            [
             0.5555555555555556,
             "#d8576b"
            ],
            [
             0.6666666666666666,
             "#ed7953"
            ],
            [
             0.7777777777777778,
             "#fb9f3a"
            ],
            [
             0.8888888888888888,
             "#fdca26"
            ],
            [
             1,
             "#f0f921"
            ]
           ]
          },
          "colorway": [
           "#636efa",
           "#EF553B",
           "#00cc96",
           "#ab63fa",
           "#FFA15A",
           "#19d3f3",
           "#FF6692",
           "#B6E880",
           "#FF97FF",
           "#FECB52"
          ],
          "font": {
           "color": "#f2f5fa"
          },
          "geo": {
           "bgcolor": "rgb(17,17,17)",
           "lakecolor": "rgb(17,17,17)",
           "landcolor": "rgb(17,17,17)",
           "showlakes": true,
           "showland": true,
           "subunitcolor": "#506784"
          },
          "hoverlabel": {
           "align": "left"
          },
          "hovermode": "closest",
          "mapbox": {
           "style": "dark"
          },
          "paper_bgcolor": "rgb(17,17,17)",
          "plot_bgcolor": "rgb(17,17,17)",
          "polar": {
           "angularaxis": {
            "gridcolor": "#506784",
            "linecolor": "#506784",
            "ticks": ""
           },
           "bgcolor": "rgb(17,17,17)",
           "radialaxis": {
            "gridcolor": "#506784",
            "linecolor": "#506784",
            "ticks": ""
           }
          },
          "scene": {
           "xaxis": {
            "backgroundcolor": "rgb(17,17,17)",
            "gridcolor": "#506784",
            "gridwidth": 2,
            "linecolor": "#506784",
            "showbackground": true,
            "ticks": "",
            "zerolinecolor": "#C8D4E3"
           },
           "yaxis": {
            "backgroundcolor": "rgb(17,17,17)",
            "gridcolor": "#506784",
            "gridwidth": 2,
            "linecolor": "#506784",
            "showbackground": true,
            "ticks": "",
            "zerolinecolor": "#C8D4E3"
           },
           "zaxis": {
            "backgroundcolor": "rgb(17,17,17)",
            "gridcolor": "#506784",
            "gridwidth": 2,
            "linecolor": "#506784",
            "showbackground": true,
            "ticks": "",
            "zerolinecolor": "#C8D4E3"
           }
          },
          "shapedefaults": {
           "line": {
            "color": "#f2f5fa"
           }
          },
          "sliderdefaults": {
           "bgcolor": "#C8D4E3",
           "bordercolor": "rgb(17,17,17)",
           "borderwidth": 1,
           "tickwidth": 0
          },
          "ternary": {
           "aaxis": {
            "gridcolor": "#506784",
            "linecolor": "#506784",
            "ticks": ""
           },
           "baxis": {
            "gridcolor": "#506784",
            "linecolor": "#506784",
            "ticks": ""
           },
           "bgcolor": "rgb(17,17,17)",
           "caxis": {
            "gridcolor": "#506784",
            "linecolor": "#506784",
            "ticks": ""
           }
          },
          "title": {
           "x": 0.05
          },
          "updatemenudefaults": {
           "bgcolor": "#506784",
           "borderwidth": 0
          },
          "xaxis": {
           "automargin": true,
           "gridcolor": "#283442",
           "linecolor": "#506784",
           "ticks": "",
           "title": {
            "standoff": 15
           },
           "zerolinecolor": "#283442",
           "zerolinewidth": 2
          },
          "yaxis": {
           "automargin": true,
           "gridcolor": "#283442",
           "linecolor": "#506784",
           "ticks": "",
           "title": {
            "standoff": 15
           },
           "zerolinecolor": "#283442",
           "zerolinewidth": 2
          }
         }
        },
        "title": {
         "subtitle": {
          "text": "Normalized to January 2024"
         },
         "text": "<b>Crypto Relative Price Performance</b>"
        },
        "width": 705,
        "xaxis": {
         "anchor": "y",
         "domain": [
          0,
          1
         ],
         "rangeslider": {
          "visible": true
         },
         "title": {
          "text": "Date"
         }
        },
        "yaxis": {
         "anchor": "x",
         "domain": [
          0,
          1
         ],
         "tickformat": ",d",
         "ticksuffix": "%",
         "title": {
          "text": "Price Change (%)"
         }
        }
       }
      }
     },
     "metadata": {},
     "output_type": "display_data"
    }
   ],
   "source": [
    "#%% Create the normalized price evolution graph\n",
    "\n",
    "# Create the figure\n",
    "fig = px.line(\n",
    "    normalized_df_2024,\n",
    "    x='timestamp',\n",
    "    y='normalized_price',\n",
    "    color='symbols',\n",
    "    custom_data=['symbols', 'average_price'],\n",
    "    title='<b>Crypto Relative Price Performance</b>',\n",
    "    subtitle='Normalized to January 2024',\n",
    "    labels={\n",
    "        'timestamp': 'Date',\n",
    "        'normalized_price': 'Price Change (%)',\n",
    "        'symbols': 'Cryptocurrency'\n",
    "    },\n",
    "    color_discrete_map={\n",
    "        'BTC/USDT': '#F7931A',  # Bitcoin Orange\n",
    "        'ETH/USDT': '#636BFF',  # Ethereum Blue\n",
    "        'BNB/USDT': '#F3BA2F',  # Binance Yellow\n",
    "        'SOL/USDT': '#CF62E7',   # Solana Pink\n",
    "        'XRP/USDT': '#4B8BBE',  # XRP Blue\n",
    "        'AVAX/USDT': '#E84142'  # Avalanche Red\n",
    "    },\n",
    "    markers=True,\n",
    "    \n",
    ")\n",
    "\n",
    "# Update traces to reduce marker size\n",
    "fig.update_traces(\n",
    "    marker={'size': 4}, # Try values between 2-6\n",
    "    hovertemplate=\"<b>%{customdata[0]}</b><br>\" +\n",
    "                  \"Change: %{y:.1f}%<br>\" +\n",
    "                  \"Price: $%{customdata[1]:,.2f}<br>\" +\n",
    "                  \"<extra></extra>\"\n",
    "    )  \n",
    "# Customize the layout\n",
    "fig.update_layout(\n",
    "    template='plotly_dark',\n",
    "    hovermode='x unified',\n",
    "    font_family=\"IBM Plex Sans\",\n",
    "    legend=dict(\n",
    "        yanchor=\"top\",\n",
    "        y=0.99,\n",
    "        xanchor=\"left\",\n",
    "        x=0.01\n",
    "    ),\n",
    "    height=435,  # Adjust height\n",
    "    width=705,  # Adjust width\n",
    "    xaxis_title=\"Date\",\n",
    "    yaxis_title=\"Price Change (%)\",\n",
    "    yaxis=dict(tickformat=',d', ticksuffix='%')  # Format y-axis as percentage\n",
    ")\n",
    "\n",
    "# Add range slider\n",
    "fig.update_xaxes(rangeslider_visible=True)\n",
    "\n",
    "# Show the plot\n",
    "fig.show(config={\n",
    "    'displayModeBar': True,\n",
    "    'displaylogo': False,\n",
    "    'modeBarButtonsToAdd': ['fullscreen']\n",
    "})\n",
    "\n",
    "# Save the figure as an HTML file\n",
    "fig.write_html(\"plots/html/jan2024_crypto_relative_price_performance.html\")"
   ]
  },
  {
   "cell_type": "code",
   "execution_count": 23,
   "id": "86f79d2a",
   "metadata": {},
   "outputs": [
    {
     "name": "stderr",
     "output_type": "stream",
     "text": [
      "C:\\Users\\Matheus\\AppData\\Local\\Temp\\ipykernel_1908\\893637716.py:17: FutureWarning:\n",
      "\n",
      "The default of observed=False is deprecated and will be changed to True in a future version of pandas. Pass observed=False to retain current behavior or observed=True to adopt the future default and silence this warning.\n",
      "\n"
     ]
    }
   ],
   "source": [
    "#%% Creating Normalized Price Data\n",
    "\n",
    "# Create a copy of the DataFrame to avoid modifying the original\n",
    "normalized_df_2025 = crypto_monthly_avg.copy()\n",
    "\n",
    "# Convert timestamp to datetime if not already\n",
    "normalized_df_2025['timestamp'] = pd.to_datetime(normalized_df_2025['timestamp'])\n",
    "\n",
    "# Filter data starting from January 2024\n",
    "start_date = pd.to_datetime('2025-01-01')\n",
    "normalized_df_2025 = normalized_df_2025[normalized_df_2025['timestamp'] >= start_date]\n",
    "\n",
    "# Sort by timestamp ascending to get correct base prices\n",
    "normalized_df_2025 = normalized_df_2025.sort_values(['symbols', 'timestamp'], ascending=[True, True])\n",
    "\n",
    "# Get the first value for each symbol\n",
    "base_values = normalized_df_2025.groupby('symbols').first()['average_price']\n",
    "\n",
    "# Calculate normalized prices \n",
    "normalized_df_2025['normalized_price'] = normalized_df_2025.apply(\n",
    "    lambda x: (x['average_price'] / base_values[x['symbols']]) * 100,\n",
    "    axis=1\n",
    ")"
   ]
  },
  {
   "cell_type": "code",
   "execution_count": 24,
   "id": "2b8898e7",
   "metadata": {},
   "outputs": [
    {
     "data": {
      "application/vnd.plotly.v1+json": {
       "config": {
        "displayModeBar": true,
        "displaylogo": false,
        "modeBarButtonsToAdd": [
         "fullscreen"
        ],
        "plotlyServerURL": "https://plot.ly"
       },
       "data": [
        {
         "hovertemplate": "Cryptocurrency=BTC/USDT<br>Date=%{x}<br>Price Change (%)=%{y}<extra></extra>",
         "legendgroup": "BTC/USDT",
         "line": {
          "color": "#F7931A",
          "dash": "solid"
         },
         "marker": {
          "size": 4,
          "symbol": "circle"
         },
         "mode": "lines+markers",
         "name": "BTC/USDT",
         "orientation": "v",
         "showlegend": true,
         "type": "scatter",
         "x": [
          "2025-01-01T00:00:00.000000000",
          "2025-02-01T00:00:00.000000000",
          "2025-03-01T00:00:00.000000000",
          "2025-04-01T00:00:00.000000000",
          "2025-05-01T00:00:00.000000000"
         ],
         "xaxis": "x",
         "y": {
          "bdata": "AAAAAAAAWUCxukQSA8NWQB/bB0JMk1VAA1UZhytoVUAXc3YYAb5XQA==",
          "dtype": "f8"
         },
         "yaxis": "y"
        },
        {
         "hovertemplate": "Cryptocurrency=ETH/USDT<br>Date=%{x}<br>Price Change (%)=%{y}<extra></extra>",
         "legendgroup": "ETH/USDT",
         "line": {
          "color": "#636BFF",
          "dash": "solid"
         },
         "marker": {
          "size": 4,
          "symbol": "circle"
         },
         "mode": "lines+markers",
         "name": "ETH/USDT",
         "orientation": "v",
         "showlegend": true,
         "type": "scatter",
         "x": [
          "2025-01-01T00:00:00.000000000",
          "2025-02-01T00:00:00.000000000",
          "2025-03-01T00:00:00.000000000",
          "2025-04-01T00:00:00.000000000",
          "2025-05-01T00:00:00.000000000"
         ],
         "xaxis": "x",
         "y": {
          "bdata": "AAAAAAAAWUAcm/RXVUlUQNmU0FrMJVBAwFDlt3kSSUAnQoVPbwBLQA==",
          "dtype": "f8"
         },
         "yaxis": "y"
        },
        {
         "hovertemplate": "Cryptocurrency=BNB/USDT<br>Date=%{x}<br>Price Change (%)=%{y}<extra></extra>",
         "legendgroup": "BNB/USDT",
         "line": {
          "color": "#F3BA2F",
          "dash": "solid"
         },
         "marker": {
          "size": 4,
          "symbol": "circle"
         },
         "mode": "lines+markers",
         "name": "BNB/USDT",
         "orientation": "v",
         "showlegend": true,
         "type": "scatter",
         "x": [
          "2025-01-01T00:00:00.000000000",
          "2025-02-01T00:00:00.000000000",
          "2025-03-01T00:00:00.000000000",
          "2025-04-01T00:00:00.000000000",
          "2025-05-01T00:00:00.000000000"
         ],
         "xaxis": "x",
         "y": {
          "bdata": "AAAAAAAAWUAkydFB5kRWQFAFA+gn0lRANlct1C6bVEC3nEFCW7pVQA==",
          "dtype": "f8"
         },
         "yaxis": "y"
        },
        {
         "hovertemplate": "Cryptocurrency=SOL/USDT<br>Date=%{x}<br>Price Change (%)=%{y}<extra></extra>",
         "legendgroup": "SOL/USDT",
         "line": {
          "color": "#CF62E7",
          "dash": "solid"
         },
         "marker": {
          "size": 4,
          "symbol": "circle"
         },
         "mode": "lines+markers",
         "name": "SOL/USDT",
         "orientation": "v",
         "showlegend": true,
         "type": "scatter",
         "x": [
          "2025-01-01T00:00:00.000000000",
          "2025-02-01T00:00:00.000000000",
          "2025-03-01T00:00:00.000000000",
          "2025-04-01T00:00:00.000000000",
          "2025-05-01T00:00:00.000000000"
         ],
         "xaxis": "x",
         "y": {
          "bdata": "AAAAAAAAWUDp2KYWXnlTQAsaARfWZk9ASsE+cB0kS0DccK9jSuhPQA==",
          "dtype": "f8"
         },
         "yaxis": "y"
        },
        {
         "hovertemplate": "Cryptocurrency=XRP/USDT<br>Date=%{x}<br>Price Change (%)=%{y}<extra></extra>",
         "legendgroup": "XRP/USDT",
         "line": {
          "color": "#4B8BBE",
          "dash": "solid"
         },
         "marker": {
          "size": 4,
          "symbol": "circle"
         },
         "mode": "lines+markers",
         "name": "XRP/USDT",
         "orientation": "v",
         "showlegend": true,
         "type": "scatter",
         "x": [
          "2025-01-01T00:00:00.000000000",
          "2025-02-01T00:00:00.000000000",
          "2025-03-01T00:00:00.000000000",
          "2025-04-01T00:00:00.000000000",
          "2025-05-01T00:00:00.000000000"
         ],
         "xaxis": "x",
         "y": {
          "bdata": "AAAAAAAAWUDcurwDjhRWQFgJY7OgWlZA9FXC2CwoUkBUe06mrxJUQA==",
          "dtype": "f8"
         },
         "yaxis": "y"
        },
        {
         "hovertemplate": "Cryptocurrency=AVAX/USDT<br>Date=%{x}<br>Price Change (%)=%{y}<extra></extra>",
         "legendgroup": "AVAX/USDT",
         "line": {
          "color": "#E84142",
          "dash": "solid"
         },
         "marker": {
          "size": 4,
          "symbol": "circle"
         },
         "mode": "lines+markers",
         "name": "AVAX/USDT",
         "orientation": "v",
         "showlegend": true,
         "type": "scatter",
         "x": [
          "2025-01-01T00:00:00.000000000",
          "2025-02-01T00:00:00.000000000",
          "2025-03-01T00:00:00.000000000",
          "2025-04-01T00:00:00.000000000",
          "2025-05-01T00:00:00.000000000"
         ],
         "xaxis": "x",
         "y": {
          "bdata": "AAAAAAAAWUDI0yXyM/1RQGh8baVTRkpAJXh9aXSLSEDxN67ysWRLQA==",
          "dtype": "f8"
         },
         "yaxis": "y"
        }
       ],
       "layout": {
        "font": {
         "family": "IBM Plex Sans"
        },
        "height": 435,
        "hovermode": "x unified",
        "legend": {
         "title": {
          "text": "Cryptocurrency"
         },
         "tracegroupgap": 0,
         "x": 0.01,
         "xanchor": "left",
         "y": 0.99,
         "yanchor": "top"
        },
        "template": {
         "data": {
          "bar": [
           {
            "error_x": {
             "color": "#f2f5fa"
            },
            "error_y": {
             "color": "#f2f5fa"
            },
            "marker": {
             "line": {
              "color": "rgb(17,17,17)",
              "width": 0.5
             },
             "pattern": {
              "fillmode": "overlay",
              "size": 10,
              "solidity": 0.2
             }
            },
            "type": "bar"
           }
          ],
          "barpolar": [
           {
            "marker": {
             "line": {
              "color": "rgb(17,17,17)",
              "width": 0.5
             },
             "pattern": {
              "fillmode": "overlay",
              "size": 10,
              "solidity": 0.2
             }
            },
            "type": "barpolar"
           }
          ],
          "carpet": [
           {
            "aaxis": {
             "endlinecolor": "#A2B1C6",
             "gridcolor": "#506784",
             "linecolor": "#506784",
             "minorgridcolor": "#506784",
             "startlinecolor": "#A2B1C6"
            },
            "baxis": {
             "endlinecolor": "#A2B1C6",
             "gridcolor": "#506784",
             "linecolor": "#506784",
             "minorgridcolor": "#506784",
             "startlinecolor": "#A2B1C6"
            },
            "type": "carpet"
           }
          ],
          "choropleth": [
           {
            "colorbar": {
             "outlinewidth": 0,
             "ticks": ""
            },
            "type": "choropleth"
           }
          ],
          "contour": [
           {
            "colorbar": {
             "outlinewidth": 0,
             "ticks": ""
            },
            "colorscale": [
             [
              0,
              "#0d0887"
             ],
             [
              0.1111111111111111,
              "#46039f"
             ],
             [
              0.2222222222222222,
              "#7201a8"
             ],
             [
              0.3333333333333333,
              "#9c179e"
             ],
             [
              0.4444444444444444,
              "#bd3786"
             ],
             [
              0.5555555555555556,
              "#d8576b"
             ],
             [
              0.6666666666666666,
              "#ed7953"
             ],
             [
              0.7777777777777778,
              "#fb9f3a"
             ],
             [
              0.8888888888888888,
              "#fdca26"
             ],
             [
              1,
              "#f0f921"
             ]
            ],
            "type": "contour"
           }
          ],
          "contourcarpet": [
           {
            "colorbar": {
             "outlinewidth": 0,
             "ticks": ""
            },
            "type": "contourcarpet"
           }
          ],
          "heatmap": [
           {
            "colorbar": {
             "outlinewidth": 0,
             "ticks": ""
            },
            "colorscale": [
             [
              0,
              "#0d0887"
             ],
             [
              0.1111111111111111,
              "#46039f"
             ],
             [
              0.2222222222222222,
              "#7201a8"
             ],
             [
              0.3333333333333333,
              "#9c179e"
             ],
             [
              0.4444444444444444,
              "#bd3786"
             ],
             [
              0.5555555555555556,
              "#d8576b"
             ],
             [
              0.6666666666666666,
              "#ed7953"
             ],
             [
              0.7777777777777778,
              "#fb9f3a"
             ],
             [
              0.8888888888888888,
              "#fdca26"
             ],
             [
              1,
              "#f0f921"
             ]
            ],
            "type": "heatmap"
           }
          ],
          "histogram": [
           {
            "marker": {
             "pattern": {
              "fillmode": "overlay",
              "size": 10,
              "solidity": 0.2
             }
            },
            "type": "histogram"
           }
          ],
          "histogram2d": [
           {
            "colorbar": {
             "outlinewidth": 0,
             "ticks": ""
            },
            "colorscale": [
             [
              0,
              "#0d0887"
             ],
             [
              0.1111111111111111,
              "#46039f"
             ],
             [
              0.2222222222222222,
              "#7201a8"
             ],
             [
              0.3333333333333333,
              "#9c179e"
             ],
             [
              0.4444444444444444,
              "#bd3786"
             ],
             [
              0.5555555555555556,
              "#d8576b"
             ],
             [
              0.6666666666666666,
              "#ed7953"
             ],
             [
              0.7777777777777778,
              "#fb9f3a"
             ],
             [
              0.8888888888888888,
              "#fdca26"
             ],
             [
              1,
              "#f0f921"
             ]
            ],
            "type": "histogram2d"
           }
          ],
          "histogram2dcontour": [
           {
            "colorbar": {
             "outlinewidth": 0,
             "ticks": ""
            },
            "colorscale": [
             [
              0,
              "#0d0887"
             ],
             [
              0.1111111111111111,
              "#46039f"
             ],
             [
              0.2222222222222222,
              "#7201a8"
             ],
             [
              0.3333333333333333,
              "#9c179e"
             ],
             [
              0.4444444444444444,
              "#bd3786"
             ],
             [
              0.5555555555555556,
              "#d8576b"
             ],
             [
              0.6666666666666666,
              "#ed7953"
             ],
             [
              0.7777777777777778,
              "#fb9f3a"
             ],
             [
              0.8888888888888888,
              "#fdca26"
             ],
             [
              1,
              "#f0f921"
             ]
            ],
            "type": "histogram2dcontour"
           }
          ],
          "mesh3d": [
           {
            "colorbar": {
             "outlinewidth": 0,
             "ticks": ""
            },
            "type": "mesh3d"
           }
          ],
          "parcoords": [
           {
            "line": {
             "colorbar": {
              "outlinewidth": 0,
              "ticks": ""
             }
            },
            "type": "parcoords"
           }
          ],
          "pie": [
           {
            "automargin": true,
            "type": "pie"
           }
          ],
          "scatter": [
           {
            "marker": {
             "line": {
              "color": "#283442"
             }
            },
            "type": "scatter"
           }
          ],
          "scatter3d": [
           {
            "line": {
             "colorbar": {
              "outlinewidth": 0,
              "ticks": ""
             }
            },
            "marker": {
             "colorbar": {
              "outlinewidth": 0,
              "ticks": ""
             }
            },
            "type": "scatter3d"
           }
          ],
          "scattercarpet": [
           {
            "marker": {
             "colorbar": {
              "outlinewidth": 0,
              "ticks": ""
             }
            },
            "type": "scattercarpet"
           }
          ],
          "scattergeo": [
           {
            "marker": {
             "colorbar": {
              "outlinewidth": 0,
              "ticks": ""
             }
            },
            "type": "scattergeo"
           }
          ],
          "scattergl": [
           {
            "marker": {
             "line": {
              "color": "#283442"
             }
            },
            "type": "scattergl"
           }
          ],
          "scattermap": [
           {
            "marker": {
             "colorbar": {
              "outlinewidth": 0,
              "ticks": ""
             }
            },
            "type": "scattermap"
           }
          ],
          "scattermapbox": [
           {
            "marker": {
             "colorbar": {
              "outlinewidth": 0,
              "ticks": ""
             }
            },
            "type": "scattermapbox"
           }
          ],
          "scatterpolar": [
           {
            "marker": {
             "colorbar": {
              "outlinewidth": 0,
              "ticks": ""
             }
            },
            "type": "scatterpolar"
           }
          ],
          "scatterpolargl": [
           {
            "marker": {
             "colorbar": {
              "outlinewidth": 0,
              "ticks": ""
             }
            },
            "type": "scatterpolargl"
           }
          ],
          "scatterternary": [
           {
            "marker": {
             "colorbar": {
              "outlinewidth": 0,
              "ticks": ""
             }
            },
            "type": "scatterternary"
           }
          ],
          "surface": [
           {
            "colorbar": {
             "outlinewidth": 0,
             "ticks": ""
            },
            "colorscale": [
             [
              0,
              "#0d0887"
             ],
             [
              0.1111111111111111,
              "#46039f"
             ],
             [
              0.2222222222222222,
              "#7201a8"
             ],
             [
              0.3333333333333333,
              "#9c179e"
             ],
             [
              0.4444444444444444,
              "#bd3786"
             ],
             [
              0.5555555555555556,
              "#d8576b"
             ],
             [
              0.6666666666666666,
              "#ed7953"
             ],
             [
              0.7777777777777778,
              "#fb9f3a"
             ],
             [
              0.8888888888888888,
              "#fdca26"
             ],
             [
              1,
              "#f0f921"
             ]
            ],
            "type": "surface"
           }
          ],
          "table": [
           {
            "cells": {
             "fill": {
              "color": "#506784"
             },
             "line": {
              "color": "rgb(17,17,17)"
             }
            },
            "header": {
             "fill": {
              "color": "#2a3f5f"
             },
             "line": {
              "color": "rgb(17,17,17)"
             }
            },
            "type": "table"
           }
          ]
         },
         "layout": {
          "annotationdefaults": {
           "arrowcolor": "#f2f5fa",
           "arrowhead": 0,
           "arrowwidth": 1
          },
          "autotypenumbers": "strict",
          "coloraxis": {
           "colorbar": {
            "outlinewidth": 0,
            "ticks": ""
           }
          },
          "colorscale": {
           "diverging": [
            [
             0,
             "#8e0152"
            ],
            [
             0.1,
             "#c51b7d"
            ],
            [
             0.2,
             "#de77ae"
            ],
            [
             0.3,
             "#f1b6da"
            ],
            [
             0.4,
             "#fde0ef"
            ],
            [
             0.5,
             "#f7f7f7"
            ],
            [
             0.6,
             "#e6f5d0"
            ],
            [
             0.7,
             "#b8e186"
            ],
            [
             0.8,
             "#7fbc41"
            ],
            [
             0.9,
             "#4d9221"
            ],
            [
             1,
             "#276419"
            ]
           ],
           "sequential": [
            [
             0,
             "#0d0887"
            ],
            [
             0.1111111111111111,
             "#46039f"
            ],
            [
             0.2222222222222222,
             "#7201a8"
            ],
            [
             0.3333333333333333,
             "#9c179e"
            ],
            [
             0.4444444444444444,
             "#bd3786"
            ],
            [
             0.5555555555555556,
             "#d8576b"
            ],
            [
             0.6666666666666666,
             "#ed7953"
            ],
            [
             0.7777777777777778,
             "#fb9f3a"
            ],
            [
             0.8888888888888888,
             "#fdca26"
            ],
            [
             1,
             "#f0f921"
            ]
           ],
           "sequentialminus": [
            [
             0,
             "#0d0887"
            ],
            [
             0.1111111111111111,
             "#46039f"
            ],
            [
             0.2222222222222222,
             "#7201a8"
            ],
            [
             0.3333333333333333,
             "#9c179e"
            ],
            [
             0.4444444444444444,
             "#bd3786"
            ],
            [
             0.5555555555555556,
             "#d8576b"
            ],
            [
             0.6666666666666666,
             "#ed7953"
            ],
            [
             0.7777777777777778,
             "#fb9f3a"
            ],
            [
             0.8888888888888888,
             "#fdca26"
            ],
            [
             1,
             "#f0f921"
            ]
           ]
          },
          "colorway": [
           "#636efa",
           "#EF553B",
           "#00cc96",
           "#ab63fa",
           "#FFA15A",
           "#19d3f3",
           "#FF6692",
           "#B6E880",
           "#FF97FF",
           "#FECB52"
          ],
          "font": {
           "color": "#f2f5fa"
          },
          "geo": {
           "bgcolor": "rgb(17,17,17)",
           "lakecolor": "rgb(17,17,17)",
           "landcolor": "rgb(17,17,17)",
           "showlakes": true,
           "showland": true,
           "subunitcolor": "#506784"
          },
          "hoverlabel": {
           "align": "left"
          },
          "hovermode": "closest",
          "mapbox": {
           "style": "dark"
          },
          "paper_bgcolor": "rgb(17,17,17)",
          "plot_bgcolor": "rgb(17,17,17)",
          "polar": {
           "angularaxis": {
            "gridcolor": "#506784",
            "linecolor": "#506784",
            "ticks": ""
           },
           "bgcolor": "rgb(17,17,17)",
           "radialaxis": {
            "gridcolor": "#506784",
            "linecolor": "#506784",
            "ticks": ""
           }
          },
          "scene": {
           "xaxis": {
            "backgroundcolor": "rgb(17,17,17)",
            "gridcolor": "#506784",
            "gridwidth": 2,
            "linecolor": "#506784",
            "showbackground": true,
            "ticks": "",
            "zerolinecolor": "#C8D4E3"
           },
           "yaxis": {
            "backgroundcolor": "rgb(17,17,17)",
            "gridcolor": "#506784",
            "gridwidth": 2,
            "linecolor": "#506784",
            "showbackground": true,
            "ticks": "",
            "zerolinecolor": "#C8D4E3"
           },
           "zaxis": {
            "backgroundcolor": "rgb(17,17,17)",
            "gridcolor": "#506784",
            "gridwidth": 2,
            "linecolor": "#506784",
            "showbackground": true,
            "ticks": "",
            "zerolinecolor": "#C8D4E3"
           }
          },
          "shapedefaults": {
           "line": {
            "color": "#f2f5fa"
           }
          },
          "sliderdefaults": {
           "bgcolor": "#C8D4E3",
           "bordercolor": "rgb(17,17,17)",
           "borderwidth": 1,
           "tickwidth": 0
          },
          "ternary": {
           "aaxis": {
            "gridcolor": "#506784",
            "linecolor": "#506784",
            "ticks": ""
           },
           "baxis": {
            "gridcolor": "#506784",
            "linecolor": "#506784",
            "ticks": ""
           },
           "bgcolor": "rgb(17,17,17)",
           "caxis": {
            "gridcolor": "#506784",
            "linecolor": "#506784",
            "ticks": ""
           }
          },
          "title": {
           "x": 0.05
          },
          "updatemenudefaults": {
           "bgcolor": "#506784",
           "borderwidth": 0
          },
          "xaxis": {
           "automargin": true,
           "gridcolor": "#283442",
           "linecolor": "#506784",
           "ticks": "",
           "title": {
            "standoff": 15
           },
           "zerolinecolor": "#283442",
           "zerolinewidth": 2
          },
          "yaxis": {
           "automargin": true,
           "gridcolor": "#283442",
           "linecolor": "#506784",
           "ticks": "",
           "title": {
            "standoff": 15
           },
           "zerolinecolor": "#283442",
           "zerolinewidth": 2
          }
         }
        },
        "title": {
         "subtitle": {
          "text": "Normalized to January 2025"
         },
         "text": "<b>Crypto Relative Price Performance</b>"
        },
        "width": 705,
        "xaxis": {
         "anchor": "y",
         "domain": [
          0,
          1
         ],
         "rangeslider": {
          "visible": true
         },
         "title": {
          "text": "Date"
         }
        },
        "yaxis": {
         "anchor": "x",
         "domain": [
          0,
          1
         ],
         "tickformat": ",d",
         "ticksuffix": "%",
         "title": {
          "text": "Price Change (%)"
         }
        }
       }
      }
     },
     "metadata": {},
     "output_type": "display_data"
    }
   ],
   "source": [
    "#%% Create the normalized price evolution graph\n",
    "\n",
    "# Create the figure\n",
    "fig = px.line(\n",
    "    normalized_df_2025,\n",
    "    x='timestamp',\n",
    "    y='normalized_price',\n",
    "    color='symbols',\n",
    "    title='<b>Crypto Relative Price Performance</b>',\n",
    "    subtitle='Normalized to January 2025',\n",
    "    labels={\n",
    "        'timestamp': 'Date',\n",
    "        'normalized_price': 'Price Change (%)',\n",
    "        'symbols': 'Cryptocurrency'\n",
    "    },\n",
    "    color_discrete_map={\n",
    "        'BTC/USDT': '#F7931A',  # Bitcoin Orange\n",
    "        'ETH/USDT': '#636BFF',  # Ethereum Blue\n",
    "        'BNB/USDT': '#F3BA2F',  # Binance Yellow\n",
    "        'SOL/USDT': '#CF62E7',   # Solana Pink\n",
    "        'XRP/USDT': '#4B8BBE',  # XRP Blue\n",
    "        'AVAX/USDT': '#E84142'  # Avalanche Red\n",
    "    },\n",
    "    markers=True,\n",
    "    \n",
    ")\n",
    "\n",
    "# Update traces to reduce marker size\n",
    "fig.update_traces(marker={'size': 4})  # Try values between 2-6\n",
    "\n",
    "# Customize the layout\n",
    "fig.update_layout(\n",
    "    template='plotly_dark',\n",
    "    hovermode='x unified',\n",
    "    font_family=\"IBM Plex Sans\",\n",
    "    legend=dict(\n",
    "        yanchor=\"top\",\n",
    "        y=0.99,\n",
    "        xanchor=\"left\",\n",
    "        x=0.01\n",
    "    ),\n",
    "    height=435,  # Adjust height\n",
    "    width=705,  # Adjust width\n",
    "    xaxis_title=\"Date\",\n",
    "    yaxis_title=\"Price Change (%)\",\n",
    "    yaxis=dict(tickformat=',d', ticksuffix='%')  # Format y-axis as percentage\n",
    ")\n",
    "\n",
    "# Add range slider\n",
    "fig.update_xaxes(rangeslider_visible=True)\n",
    "\n",
    "\n",
    "\n",
    "# Show the plot\n",
    "fig.show(config={\n",
    "    'displayModeBar': True,\n",
    "    'displaylogo': False,\n",
    "    'modeBarButtonsToAdd': ['fullscreen']\n",
    "})\n",
    "\n",
    "# Save the figure as an HTML file\n",
    "fig.write_html(\"plots/html/jan2025_crypto_relative_price_performance.html\")"
   ]
  },
  {
   "cell_type": "code",
   "execution_count": 25,
   "id": "b04763fe",
   "metadata": {},
   "outputs": [
    {
     "data": {
      "text/plain": [
       "\"\\nbtc_data = crypto_monthly_avg[crypto_monthly_price['symbols'] == 'BTC/USDT'].reset_index(drop=True)\\nbtc_data = btc_data.sort_values('timestamp', ascending=False).reset_index(drop=True)\\n\\neth_data = crypto_monthly_avg[crypto_monthly_price['symbols'] == 'ETH/USDT'].reset_index(drop=True)\\neth_data = eth_data.sort_values('timestamp', ascending=False).reset_index(drop=True)\\n\\nbnb_data = crypto_monthly_avg[crypto_monthly_price['symbols'] == 'BNB/USDT'].reset_index(drop=True)\\nbnb_data = bnb_data.sort_values('timestamp', ascending=False).reset_index(drop=True)\\n\\nsol_data = crypto_monthly_avg[crypto_monthly_price['symbols'] == 'SOL/USDT'].reset_index(drop=True)\\nsol_data = sol_data.sort_values('timestamp', ascending=False).reset_index(drop=True)\\n\\n\""
      ]
     },
     "execution_count": 25,
     "metadata": {},
     "output_type": "execute_result"
    }
   ],
   "source": [
    "#%% Separating Symbols into Individual DataFrames\n",
    "# Create individual DataFrames for each symbol and sort each DataFrame by timestamp in descending order\n",
    "'''\n",
    "btc_data = crypto_monthly_avg[crypto_monthly_price['symbols'] == 'BTC/USDT'].reset_index(drop=True)\n",
    "btc_data = btc_data.sort_values('timestamp', ascending=False).reset_index(drop=True)\n",
    "\n",
    "eth_data = crypto_monthly_avg[crypto_monthly_price['symbols'] == 'ETH/USDT'].reset_index(drop=True)\n",
    "eth_data = eth_data.sort_values('timestamp', ascending=False).reset_index(drop=True)\n",
    "\n",
    "bnb_data = crypto_monthly_avg[crypto_monthly_price['symbols'] == 'BNB/USDT'].reset_index(drop=True)\n",
    "bnb_data = bnb_data.sort_values('timestamp', ascending=False).reset_index(drop=True)\n",
    "\n",
    "sol_data = crypto_monthly_avg[crypto_monthly_price['symbols'] == 'SOL/USDT'].reset_index(drop=True)\n",
    "sol_data = sol_data.sort_values('timestamp', ascending=False).reset_index(drop=True)\n",
    "\n",
    "'''"
   ]
  },
  {
   "cell_type": "code",
   "execution_count": 26,
   "id": "ca7b0523",
   "metadata": {},
   "outputs": [
    {
     "data": {
      "application/vnd.plotly.v1+json": {
       "config": {
        "displayModeBar": true,
        "displaylogo": false,
        "modeBarButtonsToAdd": [
         "fullscreen"
        ],
        "plotlyServerURL": "https://plot.ly"
       },
       "data": [
        {
         "customdata": {
          "bdata": "7FG4HoWrQUBcj8L1KDxDQK5H4XoUDklAuB6F61HYRECkcD0K1wNCQFyPwvUoXD5AZmZmZmZmO0CkcD0K16M2QClcj8L1qDlA4XoUrkfhOkBSuB6F65FBQJqZmZmZWUZAuB6F61E4Q0ApXI/C9ag7QDMzMzMzMzRAH4XrUbjeMkCPwvUoXA81QA==",
          "dtype": "f8"
         },
         "fill": "tonexty",
         "fillcolor": "rgba(232, 65, 66, 0.2)",
         "hovertemplate": "<b>AVAX/USDT</b><br>Change: %{y:.1f}%<br>Price: $%{customdata:,.2f}<br><extra></extra>",
         "line": {
          "color": "#E84142",
          "width": 1
         },
         "mode": "lines",
         "name": "AVAX/USDT",
         "type": "scatter",
         "x": [
          "2024-01-01T00:00:00.000000000",
          "2024-02-01T00:00:00.000000000",
          "2024-03-01T00:00:00.000000000",
          "2024-04-01T00:00:00.000000000",
          "2024-05-01T00:00:00.000000000",
          "2024-06-01T00:00:00.000000000",
          "2024-07-01T00:00:00.000000000",
          "2024-08-01T00:00:00.000000000",
          "2024-09-01T00:00:00.000000000",
          "2024-10-01T00:00:00.000000000",
          "2024-11-01T00:00:00.000000000",
          "2024-12-01T00:00:00.000000000",
          "2025-01-01T00:00:00.000000000",
          "2025-02-01T00:00:00.000000000",
          "2025-03-01T00:00:00.000000000",
          "2025-04-01T00:00:00.000000000",
          "2025-05-01T00:00:00.000000000"
         ],
         "y": {
          "bdata": "AAAAAAAAWUCNb1Ih1jZbQK/KD3VouWFAhLSOwfh9XUDHDlYi9XxZQDaKyuYhelVApeb4JhViU0D2luJ8DgRQQHhzpeb4JlJA2qMjZukDU0CLl4bJx9tYQDSy/o4Tn19AFdNZTGcxW0AKiGMHK5FTQF5szPtalExAfeWwjaKySkDmIXoD2MtNQA==",
          "dtype": "f8"
         }
        },
        {
         "customdata": {
          "bdata": "7FG4HoXr4T/sUbgehevhP3sUrkfheuQ/9ihcj8L14D+kcD0K16PgP1yPwvUoXN8/pHA9Ctej4D9I4XoUrkfhP4/C9Shcj+I/7FG4HoXr4T+F61G4HoXzPwrXo3A9CgNA7FG4HoXrBUBcj8L1KFwDQJqZmZmZmQNA16NwPQrX/z+amZmZmZkBQA==",
          "dtype": "f8"
         },
         "fill": "tonexty",
         "fillcolor": "rgba(75, 139, 190, 0.2)",
         "hovertemplate": "<b>XRP/USDT</b><br>Change: %{y:.1f}%<br>Price: $%{customdata:,.2f}<br><extra></extra>",
         "line": {
          "color": "#4B8BBE",
          "width": 1
         },
         "mode": "lines",
         "name": "XRP/USDT",
         "type": "scatter",
         "x": [
          "2024-01-01T00:00:00.000000000",
          "2024-02-01T00:00:00.000000000",
          "2024-03-01T00:00:00.000000000",
          "2024-04-01T00:00:00.000000000",
          "2024-05-01T00:00:00.000000000",
          "2024-06-01T00:00:00.000000000",
          "2024-07-01T00:00:00.000000000",
          "2024-08-01T00:00:00.000000000",
          "2024-09-01T00:00:00.000000000",
          "2024-10-01T00:00:00.000000000",
          "2024-11-01T00:00:00.000000000",
          "2024-12-01T00:00:00.000000000",
          "2025-01-01T00:00:00.000000000",
          "2025-02-01T00:00:00.000000000",
          "2025-03-01T00:00:00.000000000",
          "2025-04-01T00:00:00.000000000",
          "2025-05-01T00:00:00.000000000"
         ],
         "y": {
          "bdata": "AAAAAAAAWUAAAAAAAABZQCRJkiRJklxAkiRJkiSpV0Bt27Zt2zZXQP//////31VAbdu2bds2V0C3bdu2bRtYQEiSJEmS5FlAAAAAAAAAWUC2bdu2bTtrQP7/////j3pASJIkSZKUfkAkSZIkSQJ7QAAAAAAAWHtA27Zt27Y1dkDbtm3bto14QA==",
          "dtype": "f8"
         }
        },
        {
         "customdata": {
          "bdata": "H4XrUbh+WEBxPQrXo3BcQHsUrkfhsmNAj8L1KFwHZED2KFyPwjVjQJqZmZmZmWJASOF6FK6vY0BmZmZmZq5hQBSuR+F6nGFASOF6FK7HY0AAAAAAADhqQFyPwvUoZGpA7FG4HoULbUAAAAAAAKBmQPYoXI/CPWJAuB6F61GIX0ApXI/C9YhiQA==",
          "dtype": "f8"
         },
         "fill": "tonexty",
         "fillcolor": "rgba(207, 98, 231, 0.2)",
         "hovertemplate": "<b>SOL/USDT</b><br>Change: %{y:.1f}%<br>Price: $%{customdata:,.2f}<br><extra></extra>",
         "line": {
          "color": "#CF62E7",
          "width": 1
         },
         "mode": "lines",
         "name": "SOL/USDT",
         "type": "scatter",
         "x": [
          "2024-01-01T00:00:00.000000000",
          "2024-02-01T00:00:00.000000000",
          "2024-03-01T00:00:00.000000000",
          "2024-04-01T00:00:00.000000000",
          "2024-05-01T00:00:00.000000000",
          "2024-06-01T00:00:00.000000000",
          "2024-07-01T00:00:00.000000000",
          "2024-08-01T00:00:00.000000000",
          "2024-09-01T00:00:00.000000000",
          "2024-10-01T00:00:00.000000000",
          "2024-11-01T00:00:00.000000000",
          "2024-12-01T00:00:00.000000000",
          "2025-01-01T00:00:00.000000000",
          "2025-02-01T00:00:00.000000000",
          "2025-03-01T00:00:00.000000000",
          "2025-04-01T00:00:00.000000000",
          "2025-05-01T00:00:00.000000000"
         ],
         "y": {
          "bdata": "AAAAAAAAWUCUigywvQZdQL+8zKbYGmRAWaOuZhFxZEAeKl6SJZtjQCCXvG3E+2JAMi4EkJQXZEB2qSfjtwtiQF2+98lt+WFAWFvkOhMwZEBJ/TusYMJqQOkScrNy72pAXLEqZdCkbUA/5f8VaRdnQD8Cp6wInmJAuMCIDV8XYEA/GBDEyOpiQA==",
          "dtype": "f8"
         }
        },
        {
         "customdata": {
          "bdata": "ZmZmZmZuc0CamZmZmZ12QGZmZmZmSn9AAAAAAADagUBmZmZmZkCCQAAAAAAA5INAmpmZmZmRgEDNzMzMzER/QJqZmZmZB4FAAAAAAADqgUCPwvUoXD2DQArXo3A9EoZAuB6F61GchUAAAAAAAECDQOxRuB6F/4FAAAAAAADQgUAK16NwPciCQA==",
          "dtype": "f8"
         },
         "fill": "tonexty",
         "fillcolor": "rgba(243, 186, 47, 0.2)",
         "hovertemplate": "<b>BNB/USDT</b><br>Change: %{y:.1f}%<br>Price: $%{customdata:,.2f}<br><extra></extra>",
         "line": {
          "color": "#F3BA2F",
          "width": 1
         },
         "mode": "lines",
         "name": "BNB/USDT",
         "type": "scatter",
         "x": [
          "2024-01-01T00:00:00.000000000",
          "2024-02-01T00:00:00.000000000",
          "2024-03-01T00:00:00.000000000",
          "2024-04-01T00:00:00.000000000",
          "2024-05-01T00:00:00.000000000",
          "2024-06-01T00:00:00.000000000",
          "2024-07-01T00:00:00.000000000",
          "2024-08-01T00:00:00.000000000",
          "2024-09-01T00:00:00.000000000",
          "2024-10-01T00:00:00.000000000",
          "2024-11-01T00:00:00.000000000",
          "2024-12-01T00:00:00.000000000",
          "2025-01-01T00:00:00.000000000",
          "2025-02-01T00:00:00.000000000",
          "2025-03-01T00:00:00.000000000",
          "2025-04-01T00:00:00.000000000",
          "2025-05-01T00:00:00.000000000"
         ],
         "y": {
          "bdata": "AAAAAAAAWUDG8AR00xhdQKyexSAKIWRAhbLoPrT3ZkBRD05cc3tnQJRowntNl2lA6p+iVTBRZUAj2ffmbx1kQNltgpAB6WVABImAG0oMZ0Bb27jf58BoQKyXNvWGZWxANRHDE9DNa0D0Ea5mTcRoQB+jRxL6J2dAdcwJldbqZkCeH4B8OCpoQA==",
          "dtype": "f8"
         }
        },
        {
         "customdata": {
          "bdata": "uB6F61HRokDNzMzMzIKmQBSuR+F67qtAH4XrUbi2qUAAAAAAAIqqQClcj8J116tAuB6F69HkqEDD9Shcj+mkQHE9CtcjD6NAFK5H4XrXo0DD9Shcj9CnQDMzMzOzKaxApHA9CtcIqkAK16NwPSClQI/C9Sjc0KBArkfhehQcmkAUrkfheh6cQA==",
          "dtype": "f8"
         },
         "fill": "tonexty",
         "fillcolor": "rgba(99, 107, 255, 0.2)",
         "hovertemplate": "<b>ETH/USDT</b><br>Change: %{y:.1f}%<br>Price: $%{customdata:,.2f}<br><extra></extra>",
         "line": {
          "color": "#636BFF",
          "width": 1
         },
         "mode": "lines",
         "name": "ETH/USDT",
         "type": "scatter",
         "x": [
          "2024-01-01T00:00:00.000000000",
          "2024-02-01T00:00:00.000000000",
          "2024-03-01T00:00:00.000000000",
          "2024-04-01T00:00:00.000000000",
          "2024-05-01T00:00:00.000000000",
          "2024-06-01T00:00:00.000000000",
          "2024-07-01T00:00:00.000000000",
          "2024-08-01T00:00:00.000000000",
          "2024-09-01T00:00:00.000000000",
          "2024-10-01T00:00:00.000000000",
          "2024-11-01T00:00:00.000000000",
          "2024-12-01T00:00:00.000000000",
          "2025-01-01T00:00:00.000000000",
          "2025-02-01T00:00:00.000000000",
          "2025-03-01T00:00:00.000000000",
          "2025-04-01T00:00:00.000000000",
          "2025-05-01T00:00:00.000000000"
         ],
         "y": {
          "bdata": "AAAAAAAAWUBBSxaIG+hdQMcBfP7YjWJAGjhoq7MUYUBcIdJ6DKFhQKxtZ1+OfmJAiYFWiEWJYEApQRWBashbQFJdM1whUllAsnc7OEpcWkCyPGdZhaNfQDXaRIkvtWJARfk9bUBLYUAW9reBDxFcQAO3HzgtV1ZAZfdgPwhYUUCdw3eKu61SQA==",
          "dtype": "f8"
         }
        },
        {
         "customdata": {
          "bdata": "4XoUrkde5UCuR+F6xNnpQAAAAABwNfBAzczMzKwc8EDsUbgePWHvQB+F61Hw1e9AhetRuN4q7kCuR+F6PP7rQAAAAACAEO1AXI/C9bAu8EAAAAAAuFD0QAAAAAAoRvhACtejcOVF+EC4HoXrkRn2QAAAAACw8vRAH4XrUdDI9EBSuB6FQw33QA==",
          "dtype": "f8"
         },
         "fill": "tonexty",
         "fillcolor": "rgba(247, 147, 26, 0.2)",
         "hovertemplate": "<b>BTC/USDT</b><br>Change: %{y:.1f}%<br>Price: $%{customdata:,.2f}<br><extra></extra>",
         "line": {
          "color": "#F7931A",
          "width": 1
         },
         "mode": "lines",
         "name": "BTC/USDT",
         "type": "scatter",
         "x": [
          "2024-01-01T00:00:00.000000000",
          "2024-02-01T00:00:00.000000000",
          "2024-03-01T00:00:00.000000000",
          "2024-04-01T00:00:00.000000000",
          "2024-05-01T00:00:00.000000000",
          "2024-06-01T00:00:00.000000000",
          "2024-07-01T00:00:00.000000000",
          "2024-08-01T00:00:00.000000000",
          "2024-09-01T00:00:00.000000000",
          "2024-10-01T00:00:00.000000000",
          "2024-11-01T00:00:00.000000000",
          "2024-12-01T00:00:00.000000000",
          "2025-01-01T00:00:00.000000000",
          "2025-02-01T00:00:00.000000000",
          "2025-03-01T00:00:00.000000000",
          "2025-04-01T00:00:00.000000000",
          "2025-05-01T00:00:00.000000000"
         ],
         "y": {
          "bdata": "AAAAAAAAWUDjBdg7gz5eQOgctlKr9mJAwlAMubLZYkCS6Y8NR1tiQJ/GaGyLn2JAUrjD4belYUCT6zxgGWBgQN4XjaeJAGFAG/cVwsbuYkCNPrXin8RnQPpnIuRNZmxAUMrKBABmbEC9bR0bH9tpQKSpVwofgmhAvqX3dSFRaEAABYqpO/hqQA==",
          "dtype": "f8"
         }
        }
       ],
       "layout": {
        "font": {
         "family": "IBM Plex Sans"
        },
        "height": 640,
        "hovermode": "x unified",
        "legend": {
         "x": 0.01,
         "xanchor": "left",
         "y": 0.99,
         "yanchor": "top"
        },
        "modebar": {
         "add": [
          "fullscreen"
         ]
        },
        "showlegend": true,
        "template": {
         "data": {
          "bar": [
           {
            "error_x": {
             "color": "#f2f5fa"
            },
            "error_y": {
             "color": "#f2f5fa"
            },
            "marker": {
             "line": {
              "color": "rgb(17,17,17)",
              "width": 0.5
             },
             "pattern": {
              "fillmode": "overlay",
              "size": 10,
              "solidity": 0.2
             }
            },
            "type": "bar"
           }
          ],
          "barpolar": [
           {
            "marker": {
             "line": {
              "color": "rgb(17,17,17)",
              "width": 0.5
             },
             "pattern": {
              "fillmode": "overlay",
              "size": 10,
              "solidity": 0.2
             }
            },
            "type": "barpolar"
           }
          ],
          "carpet": [
           {
            "aaxis": {
             "endlinecolor": "#A2B1C6",
             "gridcolor": "#506784",
             "linecolor": "#506784",
             "minorgridcolor": "#506784",
             "startlinecolor": "#A2B1C6"
            },
            "baxis": {
             "endlinecolor": "#A2B1C6",
             "gridcolor": "#506784",
             "linecolor": "#506784",
             "minorgridcolor": "#506784",
             "startlinecolor": "#A2B1C6"
            },
            "type": "carpet"
           }
          ],
          "choropleth": [
           {
            "colorbar": {
             "outlinewidth": 0,
             "ticks": ""
            },
            "type": "choropleth"
           }
          ],
          "contour": [
           {
            "colorbar": {
             "outlinewidth": 0,
             "ticks": ""
            },
            "colorscale": [
             [
              0,
              "#0d0887"
             ],
             [
              0.1111111111111111,
              "#46039f"
             ],
             [
              0.2222222222222222,
              "#7201a8"
             ],
             [
              0.3333333333333333,
              "#9c179e"
             ],
             [
              0.4444444444444444,
              "#bd3786"
             ],
             [
              0.5555555555555556,
              "#d8576b"
             ],
             [
              0.6666666666666666,
              "#ed7953"
             ],
             [
              0.7777777777777778,
              "#fb9f3a"
             ],
             [
              0.8888888888888888,
              "#fdca26"
             ],
             [
              1,
              "#f0f921"
             ]
            ],
            "type": "contour"
           }
          ],
          "contourcarpet": [
           {
            "colorbar": {
             "outlinewidth": 0,
             "ticks": ""
            },
            "type": "contourcarpet"
           }
          ],
          "heatmap": [
           {
            "colorbar": {
             "outlinewidth": 0,
             "ticks": ""
            },
            "colorscale": [
             [
              0,
              "#0d0887"
             ],
             [
              0.1111111111111111,
              "#46039f"
             ],
             [
              0.2222222222222222,
              "#7201a8"
             ],
             [
              0.3333333333333333,
              "#9c179e"
             ],
             [
              0.4444444444444444,
              "#bd3786"
             ],
             [
              0.5555555555555556,
              "#d8576b"
             ],
             [
              0.6666666666666666,
              "#ed7953"
             ],
             [
              0.7777777777777778,
              "#fb9f3a"
             ],
             [
              0.8888888888888888,
              "#fdca26"
             ],
             [
              1,
              "#f0f921"
             ]
            ],
            "type": "heatmap"
           }
          ],
          "histogram": [
           {
            "marker": {
             "pattern": {
              "fillmode": "overlay",
              "size": 10,
              "solidity": 0.2
             }
            },
            "type": "histogram"
           }
          ],
          "histogram2d": [
           {
            "colorbar": {
             "outlinewidth": 0,
             "ticks": ""
            },
            "colorscale": [
             [
              0,
              "#0d0887"
             ],
             [
              0.1111111111111111,
              "#46039f"
             ],
             [
              0.2222222222222222,
              "#7201a8"
             ],
             [
              0.3333333333333333,
              "#9c179e"
             ],
             [
              0.4444444444444444,
              "#bd3786"
             ],
             [
              0.5555555555555556,
              "#d8576b"
             ],
             [
              0.6666666666666666,
              "#ed7953"
             ],
             [
              0.7777777777777778,
              "#fb9f3a"
             ],
             [
              0.8888888888888888,
              "#fdca26"
             ],
             [
              1,
              "#f0f921"
             ]
            ],
            "type": "histogram2d"
           }
          ],
          "histogram2dcontour": [
           {
            "colorbar": {
             "outlinewidth": 0,
             "ticks": ""
            },
            "colorscale": [
             [
              0,
              "#0d0887"
             ],
             [
              0.1111111111111111,
              "#46039f"
             ],
             [
              0.2222222222222222,
              "#7201a8"
             ],
             [
              0.3333333333333333,
              "#9c179e"
             ],
             [
              0.4444444444444444,
              "#bd3786"
             ],
             [
              0.5555555555555556,
              "#d8576b"
             ],
             [
              0.6666666666666666,
              "#ed7953"
             ],
             [
              0.7777777777777778,
              "#fb9f3a"
             ],
             [
              0.8888888888888888,
              "#fdca26"
             ],
             [
              1,
              "#f0f921"
             ]
            ],
            "type": "histogram2dcontour"
           }
          ],
          "mesh3d": [
           {
            "colorbar": {
             "outlinewidth": 0,
             "ticks": ""
            },
            "type": "mesh3d"
           }
          ],
          "parcoords": [
           {
            "line": {
             "colorbar": {
              "outlinewidth": 0,
              "ticks": ""
             }
            },
            "type": "parcoords"
           }
          ],
          "pie": [
           {
            "automargin": true,
            "type": "pie"
           }
          ],
          "scatter": [
           {
            "marker": {
             "line": {
              "color": "#283442"
             }
            },
            "type": "scatter"
           }
          ],
          "scatter3d": [
           {
            "line": {
             "colorbar": {
              "outlinewidth": 0,
              "ticks": ""
             }
            },
            "marker": {
             "colorbar": {
              "outlinewidth": 0,
              "ticks": ""
             }
            },
            "type": "scatter3d"
           }
          ],
          "scattercarpet": [
           {
            "marker": {
             "colorbar": {
              "outlinewidth": 0,
              "ticks": ""
             }
            },
            "type": "scattercarpet"
           }
          ],
          "scattergeo": [
           {
            "marker": {
             "colorbar": {
              "outlinewidth": 0,
              "ticks": ""
             }
            },
            "type": "scattergeo"
           }
          ],
          "scattergl": [
           {
            "marker": {
             "line": {
              "color": "#283442"
             }
            },
            "type": "scattergl"
           }
          ],
          "scattermap": [
           {
            "marker": {
             "colorbar": {
              "outlinewidth": 0,
              "ticks": ""
             }
            },
            "type": "scattermap"
           }
          ],
          "scattermapbox": [
           {
            "marker": {
             "colorbar": {
              "outlinewidth": 0,
              "ticks": ""
             }
            },
            "type": "scattermapbox"
           }
          ],
          "scatterpolar": [
           {
            "marker": {
             "colorbar": {
              "outlinewidth": 0,
              "ticks": ""
             }
            },
            "type": "scatterpolar"
           }
          ],
          "scatterpolargl": [
           {
            "marker": {
             "colorbar": {
              "outlinewidth": 0,
              "ticks": ""
             }
            },
            "type": "scatterpolargl"
           }
          ],
          "scatterternary": [
           {
            "marker": {
             "colorbar": {
              "outlinewidth": 0,
              "ticks": ""
             }
            },
            "type": "scatterternary"
           }
          ],
          "surface": [
           {
            "colorbar": {
             "outlinewidth": 0,
             "ticks": ""
            },
            "colorscale": [
             [
              0,
              "#0d0887"
             ],
             [
              0.1111111111111111,
              "#46039f"
             ],
             [
              0.2222222222222222,
              "#7201a8"
             ],
             [
              0.3333333333333333,
              "#9c179e"
             ],
             [
              0.4444444444444444,
              "#bd3786"
             ],
             [
              0.5555555555555556,
              "#d8576b"
             ],
             [
              0.6666666666666666,
              "#ed7953"
             ],
             [
              0.7777777777777778,
              "#fb9f3a"
             ],
             [
              0.8888888888888888,
              "#fdca26"
             ],
             [
              1,
              "#f0f921"
             ]
            ],
            "type": "surface"
           }
          ],
          "table": [
           {
            "cells": {
             "fill": {
              "color": "#506784"
             },
             "line": {
              "color": "rgb(17,17,17)"
             }
            },
            "header": {
             "fill": {
              "color": "#2a3f5f"
             },
             "line": {
              "color": "rgb(17,17,17)"
             }
            },
            "type": "table"
           }
          ]
         },
         "layout": {
          "annotationdefaults": {
           "arrowcolor": "#f2f5fa",
           "arrowhead": 0,
           "arrowwidth": 1
          },
          "autotypenumbers": "strict",
          "coloraxis": {
           "colorbar": {
            "outlinewidth": 0,
            "ticks": ""
           }
          },
          "colorscale": {
           "diverging": [
            [
             0,
             "#8e0152"
            ],
            [
             0.1,
             "#c51b7d"
            ],
            [
             0.2,
             "#de77ae"
            ],
            [
             0.3,
             "#f1b6da"
            ],
            [
             0.4,
             "#fde0ef"
            ],
            [
             0.5,
             "#f7f7f7"
            ],
            [
             0.6,
             "#e6f5d0"
            ],
            [
             0.7,
             "#b8e186"
            ],
            [
             0.8,
             "#7fbc41"
            ],
            [
             0.9,
             "#4d9221"
            ],
            [
             1,
             "#276419"
            ]
           ],
           "sequential": [
            [
             0,
             "#0d0887"
            ],
            [
             0.1111111111111111,
             "#46039f"
            ],
            [
             0.2222222222222222,
             "#7201a8"
            ],
            [
             0.3333333333333333,
             "#9c179e"
            ],
            [
             0.4444444444444444,
             "#bd3786"
            ],
            [
             0.5555555555555556,
             "#d8576b"
            ],
            [
             0.6666666666666666,
             "#ed7953"
            ],
            [
             0.7777777777777778,
             "#fb9f3a"
            ],
            [
             0.8888888888888888,
             "#fdca26"
            ],
            [
             1,
             "#f0f921"
            ]
           ],
           "sequentialminus": [
            [
             0,
             "#0d0887"
            ],
            [
             0.1111111111111111,
             "#46039f"
            ],
            [
             0.2222222222222222,
             "#7201a8"
            ],
            [
             0.3333333333333333,
             "#9c179e"
            ],
            [
             0.4444444444444444,
             "#bd3786"
            ],
            [
             0.5555555555555556,
             "#d8576b"
            ],
            [
             0.6666666666666666,
             "#ed7953"
            ],
            [
             0.7777777777777778,
             "#fb9f3a"
            ],
            [
             0.8888888888888888,
             "#fdca26"
            ],
            [
             1,
             "#f0f921"
            ]
           ]
          },
          "colorway": [
           "#636efa",
           "#EF553B",
           "#00cc96",
           "#ab63fa",
           "#FFA15A",
           "#19d3f3",
           "#FF6692",
           "#B6E880",
           "#FF97FF",
           "#FECB52"
          ],
          "font": {
           "color": "#f2f5fa"
          },
          "geo": {
           "bgcolor": "rgb(17,17,17)",
           "lakecolor": "rgb(17,17,17)",
           "landcolor": "rgb(17,17,17)",
           "showlakes": true,
           "showland": true,
           "subunitcolor": "#506784"
          },
          "hoverlabel": {
           "align": "left"
          },
          "hovermode": "closest",
          "mapbox": {
           "style": "dark"
          },
          "paper_bgcolor": "rgb(17,17,17)",
          "plot_bgcolor": "rgb(17,17,17)",
          "polar": {
           "angularaxis": {
            "gridcolor": "#506784",
            "linecolor": "#506784",
            "ticks": ""
           },
           "bgcolor": "rgb(17,17,17)",
           "radialaxis": {
            "gridcolor": "#506784",
            "linecolor": "#506784",
            "ticks": ""
           }
          },
          "scene": {
           "xaxis": {
            "backgroundcolor": "rgb(17,17,17)",
            "gridcolor": "#506784",
            "gridwidth": 2,
            "linecolor": "#506784",
            "showbackground": true,
            "ticks": "",
            "zerolinecolor": "#C8D4E3"
           },
           "yaxis": {
            "backgroundcolor": "rgb(17,17,17)",
            "gridcolor": "#506784",
            "gridwidth": 2,
            "linecolor": "#506784",
            "showbackground": true,
            "ticks": "",
            "zerolinecolor": "#C8D4E3"
           },
           "zaxis": {
            "backgroundcolor": "rgb(17,17,17)",
            "gridcolor": "#506784",
            "gridwidth": 2,
            "linecolor": "#506784",
            "showbackground": true,
            "ticks": "",
            "zerolinecolor": "#C8D4E3"
           }
          },
          "shapedefaults": {
           "line": {
            "color": "#f2f5fa"
           }
          },
          "sliderdefaults": {
           "bgcolor": "#C8D4E3",
           "bordercolor": "rgb(17,17,17)",
           "borderwidth": 1,
           "tickwidth": 0
          },
          "ternary": {
           "aaxis": {
            "gridcolor": "#506784",
            "linecolor": "#506784",
            "ticks": ""
           },
           "baxis": {
            "gridcolor": "#506784",
            "linecolor": "#506784",
            "ticks": ""
           },
           "bgcolor": "rgb(17,17,17)",
           "caxis": {
            "gridcolor": "#506784",
            "linecolor": "#506784",
            "ticks": ""
           }
          },
          "title": {
           "x": 0.05
          },
          "updatemenudefaults": {
           "bgcolor": "#506784",
           "borderwidth": 0
          },
          "xaxis": {
           "automargin": true,
           "gridcolor": "#283442",
           "linecolor": "#506784",
           "ticks": "",
           "title": {
            "standoff": 15
           },
           "zerolinecolor": "#283442",
           "zerolinewidth": 2
          },
          "yaxis": {
           "automargin": true,
           "gridcolor": "#283442",
           "linecolor": "#506784",
           "ticks": "",
           "title": {
            "standoff": 15
           },
           "zerolinecolor": "#283442",
           "zerolinewidth": 2
          }
         }
        },
        "title": {
         "font": {
          "size": 24
         },
         "text": "<b>Cryptocurrency Performance - Normalized Price Change</b>"
        },
        "width": 960,
        "xaxis": {
         "rangeslider": {
          "visible": true
         },
         "title": {
          "text": "Date"
         }
        },
        "yaxis": {
         "tickformat": ",d",
         "ticksuffix": "%",
         "title": {
          "text": "Price Change (%)"
         }
        }
       }
      }
     },
     "metadata": {},
     "output_type": "display_data"
    }
   ],
   "source": [
    "#%% Creating IBM Plex Sansactive Area Chart with Price in Hover and Fullscreen\n",
    "\n",
    "# Create the figure\n",
    "fig = go.Figure()\n",
    "\n",
    "# Color mapping for both fill and lines\n",
    "color_map = {\n",
    "    'BTC/USDT': {'fill': 'rgba(247, 147, 26, 0.2)', 'line': '#F7931A'},  # Bitcoin Orange\n",
    "    'ETH/USDT': {'fill': 'rgba(99, 107, 255, 0.2)', 'line': '#636BFF'},  # Ethereum Blue\n",
    "    'BNB/USDT': {'fill': 'rgba(243, 186, 47, 0.2)', 'line': '#F3BA2F'},  # Binance Yellow\n",
    "    'SOL/USDT': {'fill': 'rgba(207, 98, 231, 0.2)', 'line': '#CF62E7'},  # Solana Pink\n",
    "    'XRP/USDT': {'fill': 'rgba(75, 139, 190, 0.2)', 'line': '#4B8BBE'},  # XRP Blue\n",
    "    'AVAX/USDT': {'fill': 'rgba(232, 65, 66, 0.2)', 'line': '#E84142'}   # Avalanche Red\n",
    "}\n",
    "\n",
    "# Add traces for each cryptocurrency in reverse order\n",
    "for symbol in reversed(symbols):\n",
    "    symbol_data = normalized_df_2024[normalized_df_2024['symbols'] == symbol]\n",
    "    \n",
    "    fig.add_trace(\n",
    "        go.Scatter(\n",
    "            x=symbol_data['timestamp'],\n",
    "            y=symbol_data['normalized_price'],\n",
    "            name=symbol,\n",
    "            fill='tonexty',\n",
    "            mode='lines',\n",
    "            line=dict(width=1, color=color_map[symbol]['line']),\n",
    "            fillcolor=color_map[symbol]['fill'],\n",
    "            hovertemplate=(\n",
    "                f\"<b>{symbol}</b><br>\" +\n",
    "                \"Change: %{y:.1f}%<br>\" +\n",
    "                \"Price: $%{customdata:,.2f}<br>\" +\n",
    "                \"<extra></extra>\"\n",
    "            ),\n",
    "            customdata=symbol_data['average_price']\n",
    "        )\n",
    "    )\n",
    "\n",
    "# Customize the layout\n",
    "fig.update_layout(\n",
    "    title=dict(\n",
    "        text='<b>Cryptocurrency Performance - Normalized Price Change</b>',\n",
    "        font=dict(size=24)\n",
    "    ),\n",
    "    template='plotly_dark',\n",
    "    hovermode='x unified',\n",
    "    font_family=\"IBM Plex Sans\",\n",
    "    legend=dict(\n",
    "        yanchor=\"top\",\n",
    "        y=0.99,\n",
    "        xanchor=\"left\",\n",
    "        x=0.01\n",
    "    ),\n",
    "    xaxis_title=\"Date\",\n",
    "    yaxis_title=\"Price Change (%)\",\n",
    "    height=800/1.25,  # Adjust height\n",
    "    width=1200/1.25,  # Adjust width\n",
    "    showlegend=True,\n",
    "    # Add configuration for modebar buttons\n",
    "    modebar=dict(\n",
    "        add=['fullscreen']\n",
    "    ), \n",
    ")\n",
    "\n",
    "# Update y-axis format\n",
    "fig.update_yaxes(tickformat=',d', ticksuffix='%')\n",
    "\n",
    "# Add range slider\n",
    "fig.update_xaxes(rangeslider_visible=True)\n",
    "\n",
    "# Show the plot with config options\n",
    "fig.show(config={\n",
    "    'displayModeBar': True,\n",
    "    'displaylogo': False,\n",
    "    'modeBarButtonsToAdd': ['fullscreen']\n",
    "})"
   ]
  }
 ],
 "metadata": {
  "kernelspec": {
   "display_name": ".venv",
   "language": "python",
   "name": "python3"
  },
  "language_info": {
   "codemirror_mode": {
    "name": "ipython",
    "version": 3
   },
   "file_extension": ".py",
   "mimetype": "text/x-python",
   "name": "python",
   "nbconvert_exporter": "python",
   "pygments_lexer": "ipython3",
   "version": "3.13.3"
  }
 },
 "nbformat": 4,
 "nbformat_minor": 5
}
