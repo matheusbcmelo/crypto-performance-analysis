{
 "cells": [
  {
   "cell_type": "markdown",
   "id": "1c1211e7",
   "metadata": {},
   "source": [
    "# **Crypto On-chain Data Analysis**\n",
    "This notebook analyzes historical tokenomics for major cryptocurrencies (BTC, ETH, BNB, SOL) using data from CoinGecko API."
   ]
  },
  {
   "cell_type": "code",
   "execution_count": 1,
   "id": "9273e8aa",
   "metadata": {},
   "outputs": [],
   "source": [
    "import pandas as pd\n",
    "import numpy as np\n",
    "import plotly.express as px\n",
    "import plotly.graph_objects as go\n",
    "from pycoingecko import CoinGeckoAPI\n",
    "\n",
    "# Initialize CoinGecko API client\n",
    "cg = CoinGeckoAPI()\n",
    "\n",
    "# Set default template for plotly\n",
    "import plotly.io as pio\n",
    "pio.templates.default = \"plotly_dark\"\n"
   ]
  },
  {
   "cell_type": "code",
   "execution_count": 2,
   "id": "3103152a",
   "metadata": {},
   "outputs": [
    {
     "name": "stdout",
     "output_type": "stream",
     "text": [
      "Cryptocurrencies to analyze:\n",
      "  symbol          name coingecko_id\n",
      "0    BTC       Bitcoin      bitcoin\n",
      "1    ETH      Ethereum     ethereum\n",
      "2    BNB  Binance Coin  binancecoin\n",
      "3    SOL        Solana       solana\n"
     ]
    }
   ],
   "source": [
    "# Define the cryptocurrencies we want to analyze\n",
    "crypto = pd.DataFrame({\n",
    "    'symbol': ['BTC', 'ETH', 'BNB', 'SOL'],\n",
    "    'name': ['Bitcoin', 'Ethereum', 'Binance Coin', 'Solana'],\n",
    "    'coingecko_id': ['bitcoin', 'ethereum', 'binancecoin', 'solana']\n",
    "})\n",
    "\n",
    "print(\"Cryptocurrencies to analyze:\")\n",
    "print(crypto)"
   ]
  },
  {
   "cell_type": "code",
   "execution_count": null,
   "id": "3c2e898a",
   "metadata": {},
   "outputs": [
    {
     "name": "stdout",
     "output_type": "stream",
     "text": [
      "Fetching data for Bitcoin...\n",
      "Fetching data for Ethereum...\n",
      "Fetching data for Binance Coin...\n",
      "Fetching data for Ethereum...\n",
      "Fetching data for Binance Coin...\n",
      "Fetching data for Solana...\n",
      "\n",
      "Tokenomics Data:\n",
      "Fetching data for Solana...\n",
      "\n",
      "Tokenomics Data:\n"
     ]
    },
    {
     "data": {
      "application/vnd.microsoft.datawrangler.viewer.v0+json": {
       "columns": [
        {
         "name": "index",
         "rawType": "int64",
         "type": "integer"
        },
        {
         "name": "symbol",
         "rawType": "object",
         "type": "string"
        },
        {
         "name": "current_price",
         "rawType": "object",
         "type": "string"
        },
        {
         "name": "market_cap",
         "rawType": "object",
         "type": "string"
        },
        {
         "name": "total_volume",
         "rawType": "object",
         "type": "string"
        },
        {
         "name": "circulating_supply",
         "rawType": "object",
         "type": "string"
        },
        {
         "name": "total_supply",
         "rawType": "object",
         "type": "string"
        },
        {
         "name": "max_supply",
         "rawType": "object",
         "type": "string"
        },
        {
         "name": "fdv",
         "rawType": "object",
         "type": "string"
        }
       ],
       "conversionMethod": "pd.DataFrame",
       "ref": "92cb43b6-a6e0-482a-95f4-93f1d1620ebf",
       "rows": [
        [
         "0",
         "BTC",
         "$94,213.00",
         "$1,870,400,825,262.00",
         "$30,428,952,301.00",
         "19,857,331",
         "19,857,331",
         "21,000,000",
         "$1,870,400,825,262.00"
        ],
        [
         "1",
         "ETH",
         "$1,777.06",
         "$214,299,396,386.00",
         "$14,804,568,870.00",
         "120,725,291",
         "120,725,291",
         "N/A",
         "$214,299,396,386.00"
        ],
        [
         "2",
         "BNB",
         "$602.63",
         "$87,912,802,734.00",
         "$661,772,980.00",
         "145,887,576",
         "145,887,576",
         "200,000,000",
         "$87,912,802,734.00"
        ],
        [
         "3",
         "SOL",
         "$146.76",
         "$75,969,072,889.00",
         "$4,236,990,640.00",
         "517,548,302",
         "599,468,745",
         "N/A",
         "$87,993,882,990.00"
        ]
       ],
       "shape": {
        "columns": 8,
        "rows": 4
       }
      },
      "text/html": [
       "<div>\n",
       "<style scoped>\n",
       "    .dataframe tbody tr th:only-of-type {\n",
       "        vertical-align: middle;\n",
       "    }\n",
       "\n",
       "    .dataframe tbody tr th {\n",
       "        vertical-align: top;\n",
       "    }\n",
       "\n",
       "    .dataframe thead th {\n",
       "        text-align: right;\n",
       "    }\n",
       "</style>\n",
       "<table border=\"1\" class=\"dataframe\">\n",
       "  <thead>\n",
       "    <tr style=\"text-align: right;\">\n",
       "      <th></th>\n",
       "      <th>symbol</th>\n",
       "      <th>current_price</th>\n",
       "      <th>market_cap</th>\n",
       "      <th>total_volume</th>\n",
       "      <th>circulating_supply</th>\n",
       "      <th>total_supply</th>\n",
       "      <th>max_supply</th>\n",
       "      <th>fdv</th>\n",
       "    </tr>\n",
       "  </thead>\n",
       "  <tbody>\n",
       "    <tr>\n",
       "      <th>0</th>\n",
       "      <td>BTC</td>\n",
       "      <td>$94,213.00</td>\n",
       "      <td>$1,870,400,825,262.00</td>\n",
       "      <td>$30,428,952,301.00</td>\n",
       "      <td>19,857,331</td>\n",
       "      <td>19,857,331</td>\n",
       "      <td>21,000,000</td>\n",
       "      <td>$1,870,400,825,262.00</td>\n",
       "    </tr>\n",
       "    <tr>\n",
       "      <th>1</th>\n",
       "      <td>ETH</td>\n",
       "      <td>$1,777.06</td>\n",
       "      <td>$214,299,396,386.00</td>\n",
       "      <td>$14,804,568,870.00</td>\n",
       "      <td>120,725,291</td>\n",
       "      <td>120,725,291</td>\n",
       "      <td>N/A</td>\n",
       "      <td>$214,299,396,386.00</td>\n",
       "    </tr>\n",
       "    <tr>\n",
       "      <th>2</th>\n",
       "      <td>BNB</td>\n",
       "      <td>$602.63</td>\n",
       "      <td>$87,912,802,734.00</td>\n",
       "      <td>$661,772,980.00</td>\n",
       "      <td>145,887,576</td>\n",
       "      <td>145,887,576</td>\n",
       "      <td>200,000,000</td>\n",
       "      <td>$87,912,802,734.00</td>\n",
       "    </tr>\n",
       "    <tr>\n",
       "      <th>3</th>\n",
       "      <td>SOL</td>\n",
       "      <td>$146.76</td>\n",
       "      <td>$75,969,072,889.00</td>\n",
       "      <td>$4,236,990,640.00</td>\n",
       "      <td>517,548,302</td>\n",
       "      <td>599,468,745</td>\n",
       "      <td>N/A</td>\n",
       "      <td>$87,993,882,990.00</td>\n",
       "    </tr>\n",
       "  </tbody>\n",
       "</table>\n",
       "</div>"
      ],
      "text/plain": [
       "  symbol current_price             market_cap        total_volume  \\\n",
       "0    BTC    $94,213.00  $1,870,400,825,262.00  $30,428,952,301.00   \n",
       "1    ETH     $1,777.06    $214,299,396,386.00  $14,804,568,870.00   \n",
       "2    BNB       $602.63     $87,912,802,734.00     $661,772,980.00   \n",
       "3    SOL       $146.76     $75,969,072,889.00   $4,236,990,640.00   \n",
       "\n",
       "  circulating_supply total_supply   max_supply                    fdv  \n",
       "0         19,857,331   19,857,331   21,000,000  $1,870,400,825,262.00  \n",
       "1        120,725,291  120,725,291          N/A    $214,299,396,386.00  \n",
       "2        145,887,576  145,887,576  200,000,000     $87,912,802,734.00  \n",
       "3        517,548,302  599,468,745          N/A     $87,993,882,990.00  "
      ]
     },
     "metadata": {},
     "output_type": "display_data"
    }
   ],
   "source": [
    "# Fetching Tokenomics Data\n",
    "tokenomics_data = []\n",
    "\n",
    "for _, row in crypto.iterrows():\n",
    "    try:\n",
    "        print(f\"Fetching data for {row['name']}...\")\n",
    "        # Fetch detailed coin data from CoinGecko\n",
    "        coin_data = cg.get_coin_by_id(row['coingecko_id'])\n",
    "        \n",
    "        data = {\n",
    "            'symbol': row['symbol'],\n",
    "            'current_price': coin_data['market_data']['current_price']['usd'],\n",
    "            'market_cap': coin_data['market_data']['market_cap']['usd'],\n",
    "            'total_volume': coin_data['market_data']['total_volume']['usd'],\n",
    "            'circulating_supply': coin_data['market_data']['circulating_supply'],\n",
    "            'total_supply': coin_data['market_data']['total_supply'],\n",
    "            'max_supply': coin_data['market_data']['max_supply'],\n",
    "            'fdv': coin_data['market_data'].get('fully_diluted_valuation', {}).get('usd'),\n",
    "        }\n",
    "        tokenomics_data.append(data)\n",
    "        \n",
    "    except Exception as e:\n",
    "        print(f\"Error fetching data for {row['symbol']}: {e}\")\n",
    "\n",
    "# Convert to DataFrame\n",
    "tokenomics_df = pd.DataFrame(tokenomics_data)\n",
    "\n",
    "\n",
    "\n",
    "print(\"\\nTokenomics Data:\")\n",
    "display(tokenomics_df)"
   ]
  }
 ],
 "metadata": {
  "kernelspec": {
   "display_name": ".venv",
   "language": "python",
   "name": "python3"
  },
  "language_info": {
   "codemirror_mode": {
    "name": "ipython",
    "version": 3
   },
   "file_extension": ".py",
   "mimetype": "text/x-python",
   "name": "python",
   "nbconvert_exporter": "python",
   "pygments_lexer": "ipython3",
   "version": "3.13.3"
  }
 },
 "nbformat": 4,
 "nbformat_minor": 5
}
