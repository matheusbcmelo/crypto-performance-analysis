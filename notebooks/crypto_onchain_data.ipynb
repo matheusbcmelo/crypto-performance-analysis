{
 "cells": [
  {
   "cell_type": "markdown",
   "id": "1c1211e7",
   "metadata": {},
   "source": [
    "# **Crypto On-chain Data Analysis**\n",
    "This notebook analyzes historical tokenomics for major cryptocurrencies (BTC, ETH, BNB, SOL) using data from CoinGecko API."
   ]
  },
  {
   "cell_type": "code",
   "execution_count": 2,
   "id": "9273e8aa",
   "metadata": {},
   "outputs": [],
   "source": [
    "import pandas as pd\n",
    "import numpy as np\n",
    "import plotly.express as px\n",
    "import plotly.graph_objects as go\n",
    "from pycoingecko import CoinGeckoAPI\n",
    "\n",
    "# Initialize CoinGecko API client\n",
    "cg = CoinGeckoAPI()\n",
    "\n",
    "# Set default template for plotly\n",
    "import plotly.io as pio\n",
    "pio.templates.default = \"plotly_dark\"\n"
   ]
  },
  {
   "cell_type": "code",
   "execution_count": 2,
   "id": "3103152a",
   "metadata": {},
   "outputs": [
    {
     "name": "stdout",
     "output_type": "stream",
     "text": [
      "Cryptocurrencies to analyze:\n",
      "  symbol          name coingecko_id\n",
      "0    BTC       Bitcoin      bitcoin\n",
      "1    ETH      Ethereum     ethereum\n",
      "2    BNB  Binance Coin  binancecoin\n",
      "3    SOL        Solana       solana\n",
      "4    XRP           XRP       ripple\n",
      "5   AVAX     Avalanche  avalanche-2\n"
     ]
    }
   ],
   "source": [
    "# Define the cryptocurrencies we want to analyze\n",
    "crypto = pd.DataFrame({\n",
    "    'symbol': ['BTC', 'ETH', 'BNB', 'SOL', 'XRP', 'AVAX'],\n",
    "    'name': ['Bitcoin', 'Ethereum', 'Binance Coin', 'Solana', 'XRP', 'Avalanche'],\n",
    "    'coingecko_id': ['bitcoin', 'ethereum', 'binancecoin', 'solana', 'ripple', 'avalanche-2']\n",
    "})\n",
    "\n",
    "print(\"Cryptocurrencies to analyze:\")\n",
    "print(crypto)"
   ]
  },
  {
   "cell_type": "code",
   "execution_count": null,
   "id": "3c2e898a",
   "metadata": {},
   "outputs": [
    {
     "name": "stdout",
     "output_type": "stream",
     "text": [
      "Fetching data for Bitcoin...\n",
      "Fetching data for Ethereum...\n",
      "Fetching data for Binance Coin...\n",
      "Fetching data for Solana...\n",
      "Fetching data for XRP...\n",
      "Fetching data for Avalanche...\n"
     ]
    }
   ],
   "source": [
    "# Fetching Tokenomics Data\n",
    "tokenomics_data = []\n",
    "\n",
    "for _, row in crypto.iterrows():\n",
    "    try:\n",
    "        print(f\"Fetching data for {row['name']}...\")\n",
    "        # Fetch detailed coin data from CoinGecko\n",
    "        coin_data = cg.get_coin_by_id(row['coingecko_id'])\n",
    "        data = {\n",
    "            'symbol': row['symbol'],\n",
    "            'current_price': coin_data['market_data']['current_price']['usd'],\n",
    "            'market_cap': coin_data['market_data']['market_cap']['usd'],\n",
    "            'total_volume': coin_data['market_data']['total_volume']['usd'],\n",
    "            'circulating_supply': coin_data['market_data']['circulating_supply'],\n",
    "            'total_supply': coin_data['market_data']['total_supply'],\n",
    "            'max_supply': coin_data['market_data']['max_supply'],\n",
    "            'fdv': coin_data['market_data'].get('fully_diluted_valuation', {}).get('usd'),\n",
    "        }\n",
    "        tokenomics_data.append(data)\n",
    "        \n",
    "    except Exception as e:\n",
    "        print(f\"Error fetching data for {row['symbol']}: {e}\")\n",
    "\n",
    "# Convert to DataFrame\n",
    "tokenomics_df = pd.DataFrame(tokenomics_data)"
   ]
  },
  {
   "cell_type": "code",
   "execution_count": 4,
   "id": "dd88562c",
   "metadata": {},
   "outputs": [
    {
     "name": "stdout",
     "output_type": "stream",
     "text": [
      "\n",
      "Updated max supply values:\n",
      "  symbol  total_supply    max_supply\n",
      "0    BTC  1.985835e+07  2.100000e+07\n",
      "1    ETH  1.207329e+08  1.207329e+08\n",
      "2    BNB  1.458876e+08  2.000000e+08\n",
      "3    SOL  5.997663e+08  5.997663e+08\n",
      "4    XRP  9.998621e+10  1.000000e+11\n",
      "5   AVAX  4.536344e+08  7.200000e+08\n"
     ]
    }
   ],
   "source": [
    "# Fill NaN values in max_supply with total_supply values\n",
    "tokenomics_df['max_supply'] = tokenomics_df['max_supply'].fillna(tokenomics_df['total_supply'])\n",
    "\n",
    "# Display the updated dataframe to verify changes\n",
    "print(\"\\nUpdated max supply values:\")\n",
    "print(tokenomics_df[['symbol', 'total_supply', 'max_supply']])"
   ]
  },
  {
   "cell_type": "code",
   "execution_count": 5,
   "id": "4be9cb65",
   "metadata": {},
   "outputs": [
    {
     "data": {
      "application/vnd.plotly.v1+json": {
       "config": {
        "plotlyServerURL": "https://plot.ly"
       },
       "data": [
        {
         "alignmentgroup": "True",
         "hovertemplate": "supply_type=circulating_supply<br>Cryptocurrency=%{x}<br>Supply Amount=%{y}<extra></extra>",
         "legendgroup": "circulating_supply",
         "marker": {
          "color": "#636efa",
          "pattern": {
           "shape": ""
          }
         },
         "name": "circulating_supply",
         "offsetgroup": "circulating_supply",
         "orientation": "v",
         "showlegend": true,
         "textposition": "auto",
         "type": "bar",
         "x": [
          "BTC",
          "ETH",
          "BNB",
          "SOL",
          "XRP",
          "AVAX"
         ],
         "xaxis": "x",
         "y": {
          "bdata": "AAAA4DrwckFTK4rJ8sicQeF6lK8iZKFBVLPXIuXdvkEAAPbdJzcrQp+MuL9j2rhB",
          "dtype": "f8"
         },
         "yaxis": "y"
        },
        {
         "alignmentgroup": "True",
         "hovertemplate": "supply_type=total_supply<br>Cryptocurrency=%{x}<br>Supply Amount=%{y}<extra></extra>",
         "legendgroup": "total_supply",
         "marker": {
          "color": "#EF553B",
          "pattern": {
           "shape": ""
          }
         },
         "name": "total_supply",
         "offsetgroup": "total_supply",
         "orientation": "v",
         "showlegend": true,
         "textposition": "auto",
         "type": "bar",
         "x": [
          "BTC",
          "ETH",
          "BNB",
          "SOL",
          "XRP",
          "AVAX"
         ],
         "xaxis": "x",
         "y": {
          "bdata": "AAAA4DrwckFTK4rJ8sicQeF6lK8iZKFBMnaLdtrfwUEAAMF0pEc3QgSAO2HpCbtB",
          "dtype": "f8"
         },
         "yaxis": "y"
        },
        {
         "alignmentgroup": "True",
         "hovertemplate": "supply_type=max_supply<br>Cryptocurrency=%{x}<br>Supply Amount=%{y}<extra></extra>",
         "legendgroup": "max_supply",
         "marker": {
          "color": "#00cc96",
          "pattern": {
           "shape": ""
          }
         },
         "name": "max_supply",
         "offsetgroup": "max_supply",
         "orientation": "v",
         "showlegend": true,
         "textposition": "auto",
         "type": "bar",
         "x": [
          "BTC",
          "ETH",
          "BNB",
          "SOL",
          "XRP",
          "AVAX"
         ],
         "xaxis": "x",
         "y": {
          "bdata": "AAAAAPQGdEFTK4rJ8sicQQAAAACE16dBMnaLdtrfwUEAAADodkg3QgAAAAAqdcVB",
          "dtype": "f8"
         },
         "yaxis": "y"
        }
       ],
       "layout": {
        "barmode": "group",
        "font": {
         "family": "IBM Plex Sans"
        },
        "height": 640,
        "hovermode": "x unified",
        "legend": {
         "title": {
          "text": "supply_type"
         },
         "tracegroupgap": 0,
         "x": 1.05,
         "xanchor": "left",
         "y": 0.99,
         "yanchor": "top"
        },
        "template": {
         "data": {
          "bar": [
           {
            "error_x": {
             "color": "#f2f5fa"
            },
            "error_y": {
             "color": "#f2f5fa"
            },
            "marker": {
             "line": {
              "color": "rgb(17,17,17)",
              "width": 0.5
             },
             "pattern": {
              "fillmode": "overlay",
              "size": 10,
              "solidity": 0.2
             }
            },
            "type": "bar"
           }
          ],
          "barpolar": [
           {
            "marker": {
             "line": {
              "color": "rgb(17,17,17)",
              "width": 0.5
             },
             "pattern": {
              "fillmode": "overlay",
              "size": 10,
              "solidity": 0.2
             }
            },
            "type": "barpolar"
           }
          ],
          "carpet": [
           {
            "aaxis": {
             "endlinecolor": "#A2B1C6",
             "gridcolor": "#506784",
             "linecolor": "#506784",
             "minorgridcolor": "#506784",
             "startlinecolor": "#A2B1C6"
            },
            "baxis": {
             "endlinecolor": "#A2B1C6",
             "gridcolor": "#506784",
             "linecolor": "#506784",
             "minorgridcolor": "#506784",
             "startlinecolor": "#A2B1C6"
            },
            "type": "carpet"
           }
          ],
          "choropleth": [
           {
            "colorbar": {
             "outlinewidth": 0,
             "ticks": ""
            },
            "type": "choropleth"
           }
          ],
          "contour": [
           {
            "colorbar": {
             "outlinewidth": 0,
             "ticks": ""
            },
            "colorscale": [
             [
              0,
              "#0d0887"
             ],
             [
              0.1111111111111111,
              "#46039f"
             ],
             [
              0.2222222222222222,
              "#7201a8"
             ],
             [
              0.3333333333333333,
              "#9c179e"
             ],
             [
              0.4444444444444444,
              "#bd3786"
             ],
             [
              0.5555555555555556,
              "#d8576b"
             ],
             [
              0.6666666666666666,
              "#ed7953"
             ],
             [
              0.7777777777777778,
              "#fb9f3a"
             ],
             [
              0.8888888888888888,
              "#fdca26"
             ],
             [
              1,
              "#f0f921"
             ]
            ],
            "type": "contour"
           }
          ],
          "contourcarpet": [
           {
            "colorbar": {
             "outlinewidth": 0,
             "ticks": ""
            },
            "type": "contourcarpet"
           }
          ],
          "heatmap": [
           {
            "colorbar": {
             "outlinewidth": 0,
             "ticks": ""
            },
            "colorscale": [
             [
              0,
              "#0d0887"
             ],
             [
              0.1111111111111111,
              "#46039f"
             ],
             [
              0.2222222222222222,
              "#7201a8"
             ],
             [
              0.3333333333333333,
              "#9c179e"
             ],
             [
              0.4444444444444444,
              "#bd3786"
             ],
             [
              0.5555555555555556,
              "#d8576b"
             ],
             [
              0.6666666666666666,
              "#ed7953"
             ],
             [
              0.7777777777777778,
              "#fb9f3a"
             ],
             [
              0.8888888888888888,
              "#fdca26"
             ],
             [
              1,
              "#f0f921"
             ]
            ],
            "type": "heatmap"
           }
          ],
          "histogram": [
           {
            "marker": {
             "pattern": {
              "fillmode": "overlay",
              "size": 10,
              "solidity": 0.2
             }
            },
            "type": "histogram"
           }
          ],
          "histogram2d": [
           {
            "colorbar": {
             "outlinewidth": 0,
             "ticks": ""
            },
            "colorscale": [
             [
              0,
              "#0d0887"
             ],
             [
              0.1111111111111111,
              "#46039f"
             ],
             [
              0.2222222222222222,
              "#7201a8"
             ],
             [
              0.3333333333333333,
              "#9c179e"
             ],
             [
              0.4444444444444444,
              "#bd3786"
             ],
             [
              0.5555555555555556,
              "#d8576b"
             ],
             [
              0.6666666666666666,
              "#ed7953"
             ],
             [
              0.7777777777777778,
              "#fb9f3a"
             ],
             [
              0.8888888888888888,
              "#fdca26"
             ],
             [
              1,
              "#f0f921"
             ]
            ],
            "type": "histogram2d"
           }
          ],
          "histogram2dcontour": [
           {
            "colorbar": {
             "outlinewidth": 0,
             "ticks": ""
            },
            "colorscale": [
             [
              0,
              "#0d0887"
             ],
             [
              0.1111111111111111,
              "#46039f"
             ],
             [
              0.2222222222222222,
              "#7201a8"
             ],
             [
              0.3333333333333333,
              "#9c179e"
             ],
             [
              0.4444444444444444,
              "#bd3786"
             ],
             [
              0.5555555555555556,
              "#d8576b"
             ],
             [
              0.6666666666666666,
              "#ed7953"
             ],
             [
              0.7777777777777778,
              "#fb9f3a"
             ],
             [
              0.8888888888888888,
              "#fdca26"
             ],
             [
              1,
              "#f0f921"
             ]
            ],
            "type": "histogram2dcontour"
           }
          ],
          "mesh3d": [
           {
            "colorbar": {
             "outlinewidth": 0,
             "ticks": ""
            },
            "type": "mesh3d"
           }
          ],
          "parcoords": [
           {
            "line": {
             "colorbar": {
              "outlinewidth": 0,
              "ticks": ""
             }
            },
            "type": "parcoords"
           }
          ],
          "pie": [
           {
            "automargin": true,
            "type": "pie"
           }
          ],
          "scatter": [
           {
            "marker": {
             "line": {
              "color": "#283442"
             }
            },
            "type": "scatter"
           }
          ],
          "scatter3d": [
           {
            "line": {
             "colorbar": {
              "outlinewidth": 0,
              "ticks": ""
             }
            },
            "marker": {
             "colorbar": {
              "outlinewidth": 0,
              "ticks": ""
             }
            },
            "type": "scatter3d"
           }
          ],
          "scattercarpet": [
           {
            "marker": {
             "colorbar": {
              "outlinewidth": 0,
              "ticks": ""
             }
            },
            "type": "scattercarpet"
           }
          ],
          "scattergeo": [
           {
            "marker": {
             "colorbar": {
              "outlinewidth": 0,
              "ticks": ""
             }
            },
            "type": "scattergeo"
           }
          ],
          "scattergl": [
           {
            "marker": {
             "line": {
              "color": "#283442"
             }
            },
            "type": "scattergl"
           }
          ],
          "scattermap": [
           {
            "marker": {
             "colorbar": {
              "outlinewidth": 0,
              "ticks": ""
             }
            },
            "type": "scattermap"
           }
          ],
          "scattermapbox": [
           {
            "marker": {
             "colorbar": {
              "outlinewidth": 0,
              "ticks": ""
             }
            },
            "type": "scattermapbox"
           }
          ],
          "scatterpolar": [
           {
            "marker": {
             "colorbar": {
              "outlinewidth": 0,
              "ticks": ""
             }
            },
            "type": "scatterpolar"
           }
          ],
          "scatterpolargl": [
           {
            "marker": {
             "colorbar": {
              "outlinewidth": 0,
              "ticks": ""
             }
            },
            "type": "scatterpolargl"
           }
          ],
          "scatterternary": [
           {
            "marker": {
             "colorbar": {
              "outlinewidth": 0,
              "ticks": ""
             }
            },
            "type": "scatterternary"
           }
          ],
          "surface": [
           {
            "colorbar": {
             "outlinewidth": 0,
             "ticks": ""
            },
            "colorscale": [
             [
              0,
              "#0d0887"
             ],
             [
              0.1111111111111111,
              "#46039f"
             ],
             [
              0.2222222222222222,
              "#7201a8"
             ],
             [
              0.3333333333333333,
              "#9c179e"
             ],
             [
              0.4444444444444444,
              "#bd3786"
             ],
             [
              0.5555555555555556,
              "#d8576b"
             ],
             [
              0.6666666666666666,
              "#ed7953"
             ],
             [
              0.7777777777777778,
              "#fb9f3a"
             ],
             [
              0.8888888888888888,
              "#fdca26"
             ],
             [
              1,
              "#f0f921"
             ]
            ],
            "type": "surface"
           }
          ],
          "table": [
           {
            "cells": {
             "fill": {
              "color": "#506784"
             },
             "line": {
              "color": "rgb(17,17,17)"
             }
            },
            "header": {
             "fill": {
              "color": "#2a3f5f"
             },
             "line": {
              "color": "rgb(17,17,17)"
             }
            },
            "type": "table"
           }
          ]
         },
         "layout": {
          "annotationdefaults": {
           "arrowcolor": "#f2f5fa",
           "arrowhead": 0,
           "arrowwidth": 1
          },
          "autotypenumbers": "strict",
          "coloraxis": {
           "colorbar": {
            "outlinewidth": 0,
            "ticks": ""
           }
          },
          "colorscale": {
           "diverging": [
            [
             0,
             "#8e0152"
            ],
            [
             0.1,
             "#c51b7d"
            ],
            [
             0.2,
             "#de77ae"
            ],
            [
             0.3,
             "#f1b6da"
            ],
            [
             0.4,
             "#fde0ef"
            ],
            [
             0.5,
             "#f7f7f7"
            ],
            [
             0.6,
             "#e6f5d0"
            ],
            [
             0.7,
             "#b8e186"
            ],
            [
             0.8,
             "#7fbc41"
            ],
            [
             0.9,
             "#4d9221"
            ],
            [
             1,
             "#276419"
            ]
           ],
           "sequential": [
            [
             0,
             "#0d0887"
            ],
            [
             0.1111111111111111,
             "#46039f"
            ],
            [
             0.2222222222222222,
             "#7201a8"
            ],
            [
             0.3333333333333333,
             "#9c179e"
            ],
            [
             0.4444444444444444,
             "#bd3786"
            ],
            [
             0.5555555555555556,
             "#d8576b"
            ],
            [
             0.6666666666666666,
             "#ed7953"
            ],
            [
             0.7777777777777778,
             "#fb9f3a"
            ],
            [
             0.8888888888888888,
             "#fdca26"
            ],
            [
             1,
             "#f0f921"
            ]
           ],
           "sequentialminus": [
            [
             0,
             "#0d0887"
            ],
            [
             0.1111111111111111,
             "#46039f"
            ],
            [
             0.2222222222222222,
             "#7201a8"
            ],
            [
             0.3333333333333333,
             "#9c179e"
            ],
            [
             0.4444444444444444,
             "#bd3786"
            ],
            [
             0.5555555555555556,
             "#d8576b"
            ],
            [
             0.6666666666666666,
             "#ed7953"
            ],
            [
             0.7777777777777778,
             "#fb9f3a"
            ],
            [
             0.8888888888888888,
             "#fdca26"
            ],
            [
             1,
             "#f0f921"
            ]
           ]
          },
          "colorway": [
           "#636efa",
           "#EF553B",
           "#00cc96",
           "#ab63fa",
           "#FFA15A",
           "#19d3f3",
           "#FF6692",
           "#B6E880",
           "#FF97FF",
           "#FECB52"
          ],
          "font": {
           "color": "#f2f5fa"
          },
          "geo": {
           "bgcolor": "rgb(17,17,17)",
           "lakecolor": "rgb(17,17,17)",
           "landcolor": "rgb(17,17,17)",
           "showlakes": true,
           "showland": true,
           "subunitcolor": "#506784"
          },
          "hoverlabel": {
           "align": "left"
          },
          "hovermode": "closest",
          "mapbox": {
           "style": "dark"
          },
          "paper_bgcolor": "rgb(17,17,17)",
          "plot_bgcolor": "rgb(17,17,17)",
          "polar": {
           "angularaxis": {
            "gridcolor": "#506784",
            "linecolor": "#506784",
            "ticks": ""
           },
           "bgcolor": "rgb(17,17,17)",
           "radialaxis": {
            "gridcolor": "#506784",
            "linecolor": "#506784",
            "ticks": ""
           }
          },
          "scene": {
           "xaxis": {
            "backgroundcolor": "rgb(17,17,17)",
            "gridcolor": "#506784",
            "gridwidth": 2,
            "linecolor": "#506784",
            "showbackground": true,
            "ticks": "",
            "zerolinecolor": "#C8D4E3"
           },
           "yaxis": {
            "backgroundcolor": "rgb(17,17,17)",
            "gridcolor": "#506784",
            "gridwidth": 2,
            "linecolor": "#506784",
            "showbackground": true,
            "ticks": "",
            "zerolinecolor": "#C8D4E3"
           },
           "zaxis": {
            "backgroundcolor": "rgb(17,17,17)",
            "gridcolor": "#506784",
            "gridwidth": 2,
            "linecolor": "#506784",
            "showbackground": true,
            "ticks": "",
            "zerolinecolor": "#C8D4E3"
           }
          },
          "shapedefaults": {
           "line": {
            "color": "#f2f5fa"
           }
          },
          "sliderdefaults": {
           "bgcolor": "#C8D4E3",
           "bordercolor": "rgb(17,17,17)",
           "borderwidth": 1,
           "tickwidth": 0
          },
          "ternary": {
           "aaxis": {
            "gridcolor": "#506784",
            "linecolor": "#506784",
            "ticks": ""
           },
           "baxis": {
            "gridcolor": "#506784",
            "linecolor": "#506784",
            "ticks": ""
           },
           "bgcolor": "rgb(17,17,17)",
           "caxis": {
            "gridcolor": "#506784",
            "linecolor": "#506784",
            "ticks": ""
           }
          },
          "title": {
           "x": 0.05
          },
          "updatemenudefaults": {
           "bgcolor": "#506784",
           "borderwidth": 0
          },
          "xaxis": {
           "automargin": true,
           "gridcolor": "#283442",
           "linecolor": "#506784",
           "ticks": "",
           "title": {
            "standoff": 15
           },
           "zerolinecolor": "#283442",
           "zerolinewidth": 2
          },
          "yaxis": {
           "automargin": true,
           "gridcolor": "#283442",
           "linecolor": "#506784",
           "ticks": "",
           "title": {
            "standoff": 15
           },
           "zerolinecolor": "#283442",
           "zerolinewidth": 2
          }
         }
        },
        "title": {
         "text": "<b>Supply Metrics by Cryptocurrency</b>"
        },
        "width": 960,
        "xaxis": {
         "anchor": "y",
         "domain": [
          0,
          1
         ],
         "title": {
          "text": "Cryptocurrency"
         }
        },
        "yaxis": {
         "anchor": "x",
         "domain": [
          0,
          1
         ],
         "showgrid": true,
         "ticktext": [
          "1M",
          "10M",
          "100M",
          "1B",
          "10B",
          "100B"
         ],
         "tickvals": [
          1000000,
          10000000,
          100000000,
          1000000000,
          10000000000,
          100000000000
         ],
         "title": {
          "text": "Supply Amount"
         },
         "type": "log"
        }
       }
      }
     },
     "metadata": {},
     "output_type": "display_data"
    }
   ],
   "source": [
    "# 2. Supply Metrics Comparison (Grouped Bar Chart)\n",
    "supply_data = pd.melt(\n",
    "    tokenomics_df,\n",
    "    id_vars=['symbol'],\n",
    "    value_vars=['circulating_supply', 'total_supply', 'max_supply'],\n",
    "    var_name='supply_type',\n",
    "    value_name='supply',\n",
    ")\n",
    "fig2 = px.bar(\n",
    "    supply_data,\n",
    "    x='symbol',\n",
    "    y='supply',\n",
    "    color='supply_type',\n",
    "    title='<b>Supply Metrics by Cryptocurrency</b>',\n",
    "    barmode='group',\n",
    "    labels={'supply': 'Supply Amount', 'symbol': 'Cryptocurrency'}\n",
    ")\n",
    "\n",
    "# Customize the layout\n",
    "fig2.update_layout(\n",
    "    template='plotly_dark',\n",
    "    hovermode='x unified',\n",
    "    font_family=\"IBM Plex Sans\",\n",
    "    legend=dict(\n",
    "        yanchor=\"top\",\n",
    "        y=0.99,\n",
    "        xanchor=\"left\",\n",
    "        x=1.05\n",
    "    ),\n",
    "    height=800/1.25,  # Adjust height\n",
    "    width=1200/1.25,  # Adjust width\n",
    "    yaxis=dict(\n",
    "        type='log',\n",
    "        tickvals=[1e6, 1e7, 1e8, 1e9, 1e10, 1e11],  # 1M, 10M, 100M, 1B, 10B, 100B\n",
    "        ticktext=['1M', '10M', '100M', '1B', '10B', '100B'],\n",
    "        showgrid=True\n",
    "    ),\n",
    "    \n",
    ")\n",
    "\n",
    "fig2.show()"
   ]
  },
  {
   "cell_type": "code",
   "execution_count": 6,
   "id": "a532fdd0",
   "metadata": {},
   "outputs": [
    {
     "data": {
      "application/vnd.plotly.v1+json": {
       "config": {
        "displayModeBar": true,
        "displaylogo": false,
        "modeBarButtonsToAdd": [
         "fullscreen"
        ],
        "plotlyServerURL": "https://plot.ly"
       },
       "data": [
        {
         "hovertemplate": "symbol=%{text}<br>Market Cap (USD)=%{marker.size}<br>Trading Volume (USD)=%{y}<extra></extra>",
         "legendgroup": "BTC",
         "marker": {
          "color": "#F7931A",
          "size": [
           1883058663090
          ],
          "sizemode": "area",
          "sizeref": 83691496.13733333,
          "symbol": "circle"
         },
         "mode": "markers+text",
         "name": "BTC",
         "orientation": "v",
         "showlegend": true,
         "text": [
          "BTC"
         ],
         "type": "scatter",
         "x": [
          1883058663090
         ],
         "xaxis": "x",
         "y": [
          26575984415
         ],
         "yaxis": "y"
        },
        {
         "hovertemplate": "symbol=%{text}<br>Market Cap (USD)=%{marker.size}<br>Trading Volume (USD)=%{y}<extra></extra>",
         "legendgroup": "ETH",
         "marker": {
          "color": "#636BFF",
          "size": [
           218888791817
          ],
          "sizemode": "area",
          "sizeref": 83691496.13733333,
          "symbol": "circle"
         },
         "mode": "markers+text",
         "name": "ETH",
         "orientation": "v",
         "showlegend": true,
         "text": [
          "ETH"
         ],
         "type": "scatter",
         "x": [
          218888791817
         ],
         "xaxis": "x",
         "y": [
          13860562885
         ],
         "yaxis": "y"
        },
        {
         "hovertemplate": "symbol=%{text}<br>Market Cap (USD)=%{marker.size}<br>Trading Volume (USD)=%{y}<extra></extra>",
         "legendgroup": "BNB",
         "marker": {
          "color": "#F3BA2F",
          "size": [
           87624704464
          ],
          "sizemode": "area",
          "sizeref": 83691496.13733333,
          "symbol": "circle"
         },
         "mode": "markers+text",
         "name": "BNB",
         "orientation": "v",
         "showlegend": true,
         "text": [
          "BNB"
         ],
         "type": "scatter",
         "x": [
          87624704464
         ],
         "xaxis": "x",
         "y": {
          "bdata": "JL6EKg==",
          "dtype": "i4"
         },
         "yaxis": "y"
        },
        {
         "hovertemplate": "symbol=%{text}<br>Market Cap (USD)=%{marker.size}<br>Trading Volume (USD)=%{y}<extra></extra>",
         "legendgroup": "SOL",
         "marker": {
          "color": "#CF62E7",
          "size": [
           77226861831
          ],
          "sizemode": "area",
          "sizeref": 83691496.13733333,
          "symbol": "circle"
         },
         "mode": "markers+text",
         "name": "SOL",
         "orientation": "v",
         "showlegend": true,
         "text": [
          "SOL"
         ],
         "type": "scatter",
         "x": [
          77226861831
         ],
         "xaxis": "x",
         "y": [
          3421517601
         ],
         "yaxis": "y"
        },
        {
         "hovertemplate": "symbol=%{text}<br>Market Cap (USD)=%{marker.size}<br>Trading Volume (USD)=%{y}<extra></extra>",
         "legendgroup": "XRP",
         "marker": {
          "color": "#4B8BBE",
          "size": [
           129302319760
          ],
          "sizemode": "area",
          "sizeref": 83691496.13733333,
          "symbol": "circle"
         },
         "mode": "markers+text",
         "name": "XRP",
         "orientation": "v",
         "showlegend": true,
         "text": [
          "XRP"
         ],
         "type": "scatter",
         "x": [
          129302319760
         ],
         "xaxis": "x",
         "y": [
          3165717834
         ],
         "yaxis": "y"
        },
        {
         "hovertemplate": "symbol=%{text}<br>Market Cap (USD)=%{marker.size}<br>Trading Volume (USD)=%{y}<extra></extra>",
         "legendgroup": "AVAX",
         "marker": {
          "color": "#E84142",
          "size": [
           8810155605
          ],
          "sizemode": "area",
          "sizeref": 83691496.13733333,
          "symbol": "circle"
         },
         "mode": "markers+text",
         "name": "AVAX",
         "orientation": "v",
         "showlegend": true,
         "text": [
          "AVAX"
         ],
         "type": "scatter",
         "x": [
          8810155605
         ],
         "xaxis": "x",
         "y": {
          "bdata": "bcTtEg==",
          "dtype": "i4"
         },
         "yaxis": "y"
        }
       ],
       "layout": {
        "font": {
         "family": "IBM Plex Sans"
        },
        "height": 640,
        "hovermode": "x unified",
        "legend": {
         "itemsizing": "constant",
         "title": {
          "text": "symbol"
         },
         "tracegroupgap": 0,
         "x": 1.05,
         "xanchor": "left",
         "y": 0.99,
         "yanchor": "top"
        },
        "template": {
         "data": {
          "bar": [
           {
            "error_x": {
             "color": "#f2f5fa"
            },
            "error_y": {
             "color": "#f2f5fa"
            },
            "marker": {
             "line": {
              "color": "rgb(17,17,17)",
              "width": 0.5
             },
             "pattern": {
              "fillmode": "overlay",
              "size": 10,
              "solidity": 0.2
             }
            },
            "type": "bar"
           }
          ],
          "barpolar": [
           {
            "marker": {
             "line": {
              "color": "rgb(17,17,17)",
              "width": 0.5
             },
             "pattern": {
              "fillmode": "overlay",
              "size": 10,
              "solidity": 0.2
             }
            },
            "type": "barpolar"
           }
          ],
          "carpet": [
           {
            "aaxis": {
             "endlinecolor": "#A2B1C6",
             "gridcolor": "#506784",
             "linecolor": "#506784",
             "minorgridcolor": "#506784",
             "startlinecolor": "#A2B1C6"
            },
            "baxis": {
             "endlinecolor": "#A2B1C6",
             "gridcolor": "#506784",
             "linecolor": "#506784",
             "minorgridcolor": "#506784",
             "startlinecolor": "#A2B1C6"
            },
            "type": "carpet"
           }
          ],
          "choropleth": [
           {
            "colorbar": {
             "outlinewidth": 0,
             "ticks": ""
            },
            "type": "choropleth"
           }
          ],
          "contour": [
           {
            "colorbar": {
             "outlinewidth": 0,
             "ticks": ""
            },
            "colorscale": [
             [
              0,
              "#0d0887"
             ],
             [
              0.1111111111111111,
              "#46039f"
             ],
             [
              0.2222222222222222,
              "#7201a8"
             ],
             [
              0.3333333333333333,
              "#9c179e"
             ],
             [
              0.4444444444444444,
              "#bd3786"
             ],
             [
              0.5555555555555556,
              "#d8576b"
             ],
             [
              0.6666666666666666,
              "#ed7953"
             ],
             [
              0.7777777777777778,
              "#fb9f3a"
             ],
             [
              0.8888888888888888,
              "#fdca26"
             ],
             [
              1,
              "#f0f921"
             ]
            ],
            "type": "contour"
           }
          ],
          "contourcarpet": [
           {
            "colorbar": {
             "outlinewidth": 0,
             "ticks": ""
            },
            "type": "contourcarpet"
           }
          ],
          "heatmap": [
           {
            "colorbar": {
             "outlinewidth": 0,
             "ticks": ""
            },
            "colorscale": [
             [
              0,
              "#0d0887"
             ],
             [
              0.1111111111111111,
              "#46039f"
             ],
             [
              0.2222222222222222,
              "#7201a8"
             ],
             [
              0.3333333333333333,
              "#9c179e"
             ],
             [
              0.4444444444444444,
              "#bd3786"
             ],
             [
              0.5555555555555556,
              "#d8576b"
             ],
             [
              0.6666666666666666,
              "#ed7953"
             ],
             [
              0.7777777777777778,
              "#fb9f3a"
             ],
             [
              0.8888888888888888,
              "#fdca26"
             ],
             [
              1,
              "#f0f921"
             ]
            ],
            "type": "heatmap"
           }
          ],
          "histogram": [
           {
            "marker": {
             "pattern": {
              "fillmode": "overlay",
              "size": 10,
              "solidity": 0.2
             }
            },
            "type": "histogram"
           }
          ],
          "histogram2d": [
           {
            "colorbar": {
             "outlinewidth": 0,
             "ticks": ""
            },
            "colorscale": [
             [
              0,
              "#0d0887"
             ],
             [
              0.1111111111111111,
              "#46039f"
             ],
             [
              0.2222222222222222,
              "#7201a8"
             ],
             [
              0.3333333333333333,
              "#9c179e"
             ],
             [
              0.4444444444444444,
              "#bd3786"
             ],
             [
              0.5555555555555556,
              "#d8576b"
             ],
             [
              0.6666666666666666,
              "#ed7953"
             ],
             [
              0.7777777777777778,
              "#fb9f3a"
             ],
             [
              0.8888888888888888,
              "#fdca26"
             ],
             [
              1,
              "#f0f921"
             ]
            ],
            "type": "histogram2d"
           }
          ],
          "histogram2dcontour": [
           {
            "colorbar": {
             "outlinewidth": 0,
             "ticks": ""
            },
            "colorscale": [
             [
              0,
              "#0d0887"
             ],
             [
              0.1111111111111111,
              "#46039f"
             ],
             [
              0.2222222222222222,
              "#7201a8"
             ],
             [
              0.3333333333333333,
              "#9c179e"
             ],
             [
              0.4444444444444444,
              "#bd3786"
             ],
             [
              0.5555555555555556,
              "#d8576b"
             ],
             [
              0.6666666666666666,
              "#ed7953"
             ],
             [
              0.7777777777777778,
              "#fb9f3a"
             ],
             [
              0.8888888888888888,
              "#fdca26"
             ],
             [
              1,
              "#f0f921"
             ]
            ],
            "type": "histogram2dcontour"
           }
          ],
          "mesh3d": [
           {
            "colorbar": {
             "outlinewidth": 0,
             "ticks": ""
            },
            "type": "mesh3d"
           }
          ],
          "parcoords": [
           {
            "line": {
             "colorbar": {
              "outlinewidth": 0,
              "ticks": ""
             }
            },
            "type": "parcoords"
           }
          ],
          "pie": [
           {
            "automargin": true,
            "type": "pie"
           }
          ],
          "scatter": [
           {
            "marker": {
             "line": {
              "color": "#283442"
             }
            },
            "type": "scatter"
           }
          ],
          "scatter3d": [
           {
            "line": {
             "colorbar": {
              "outlinewidth": 0,
              "ticks": ""
             }
            },
            "marker": {
             "colorbar": {
              "outlinewidth": 0,
              "ticks": ""
             }
            },
            "type": "scatter3d"
           }
          ],
          "scattercarpet": [
           {
            "marker": {
             "colorbar": {
              "outlinewidth": 0,
              "ticks": ""
             }
            },
            "type": "scattercarpet"
           }
          ],
          "scattergeo": [
           {
            "marker": {
             "colorbar": {
              "outlinewidth": 0,
              "ticks": ""
             }
            },
            "type": "scattergeo"
           }
          ],
          "scattergl": [
           {
            "marker": {
             "line": {
              "color": "#283442"
             }
            },
            "type": "scattergl"
           }
          ],
          "scattermap": [
           {
            "marker": {
             "colorbar": {
              "outlinewidth": 0,
              "ticks": ""
             }
            },
            "type": "scattermap"
           }
          ],
          "scattermapbox": [
           {
            "marker": {
             "colorbar": {
              "outlinewidth": 0,
              "ticks": ""
             }
            },
            "type": "scattermapbox"
           }
          ],
          "scatterpolar": [
           {
            "marker": {
             "colorbar": {
              "outlinewidth": 0,
              "ticks": ""
             }
            },
            "type": "scatterpolar"
           }
          ],
          "scatterpolargl": [
           {
            "marker": {
             "colorbar": {
              "outlinewidth": 0,
              "ticks": ""
             }
            },
            "type": "scatterpolargl"
           }
          ],
          "scatterternary": [
           {
            "marker": {
             "colorbar": {
              "outlinewidth": 0,
              "ticks": ""
             }
            },
            "type": "scatterternary"
           }
          ],
          "surface": [
           {
            "colorbar": {
             "outlinewidth": 0,
             "ticks": ""
            },
            "colorscale": [
             [
              0,
              "#0d0887"
             ],
             [
              0.1111111111111111,
              "#46039f"
             ],
             [
              0.2222222222222222,
              "#7201a8"
             ],
             [
              0.3333333333333333,
              "#9c179e"
             ],
             [
              0.4444444444444444,
              "#bd3786"
             ],
             [
              0.5555555555555556,
              "#d8576b"
             ],
             [
              0.6666666666666666,
              "#ed7953"
             ],
             [
              0.7777777777777778,
              "#fb9f3a"
             ],
             [
              0.8888888888888888,
              "#fdca26"
             ],
             [
              1,
              "#f0f921"
             ]
            ],
            "type": "surface"
           }
          ],
          "table": [
           {
            "cells": {
             "fill": {
              "color": "#506784"
             },
             "line": {
              "color": "rgb(17,17,17)"
             }
            },
            "header": {
             "fill": {
              "color": "#2a3f5f"
             },
             "line": {
              "color": "rgb(17,17,17)"
             }
            },
            "type": "table"
           }
          ]
         },
         "layout": {
          "annotationdefaults": {
           "arrowcolor": "#f2f5fa",
           "arrowhead": 0,
           "arrowwidth": 1
          },
          "autotypenumbers": "strict",
          "coloraxis": {
           "colorbar": {
            "outlinewidth": 0,
            "ticks": ""
           }
          },
          "colorscale": {
           "diverging": [
            [
             0,
             "#8e0152"
            ],
            [
             0.1,
             "#c51b7d"
            ],
            [
             0.2,
             "#de77ae"
            ],
            [
             0.3,
             "#f1b6da"
            ],
            [
             0.4,
             "#fde0ef"
            ],
            [
             0.5,
             "#f7f7f7"
            ],
            [
             0.6,
             "#e6f5d0"
            ],
            [
             0.7,
             "#b8e186"
            ],
            [
             0.8,
             "#7fbc41"
            ],
            [
             0.9,
             "#4d9221"
            ],
            [
             1,
             "#276419"
            ]
           ],
           "sequential": [
            [
             0,
             "#0d0887"
            ],
            [
             0.1111111111111111,
             "#46039f"
            ],
            [
             0.2222222222222222,
             "#7201a8"
            ],
            [
             0.3333333333333333,
             "#9c179e"
            ],
            [
             0.4444444444444444,
             "#bd3786"
            ],
            [
             0.5555555555555556,
             "#d8576b"
            ],
            [
             0.6666666666666666,
             "#ed7953"
            ],
            [
             0.7777777777777778,
             "#fb9f3a"
            ],
            [
             0.8888888888888888,
             "#fdca26"
            ],
            [
             1,
             "#f0f921"
            ]
           ],
           "sequentialminus": [
            [
             0,
             "#0d0887"
            ],
            [
             0.1111111111111111,
             "#46039f"
            ],
            [
             0.2222222222222222,
             "#7201a8"
            ],
            [
             0.3333333333333333,
             "#9c179e"
            ],
            [
             0.4444444444444444,
             "#bd3786"
            ],
            [
             0.5555555555555556,
             "#d8576b"
            ],
            [
             0.6666666666666666,
             "#ed7953"
            ],
            [
             0.7777777777777778,
             "#fb9f3a"
            ],
            [
             0.8888888888888888,
             "#fdca26"
            ],
            [
             1,
             "#f0f921"
            ]
           ]
          },
          "colorway": [
           "#636efa",
           "#EF553B",
           "#00cc96",
           "#ab63fa",
           "#FFA15A",
           "#19d3f3",
           "#FF6692",
           "#B6E880",
           "#FF97FF",
           "#FECB52"
          ],
          "font": {
           "color": "#f2f5fa"
          },
          "geo": {
           "bgcolor": "rgb(17,17,17)",
           "lakecolor": "rgb(17,17,17)",
           "landcolor": "rgb(17,17,17)",
           "showlakes": true,
           "showland": true,
           "subunitcolor": "#506784"
          },
          "hoverlabel": {
           "align": "left"
          },
          "hovermode": "closest",
          "mapbox": {
           "style": "dark"
          },
          "paper_bgcolor": "rgb(17,17,17)",
          "plot_bgcolor": "rgb(17,17,17)",
          "polar": {
           "angularaxis": {
            "gridcolor": "#506784",
            "linecolor": "#506784",
            "ticks": ""
           },
           "bgcolor": "rgb(17,17,17)",
           "radialaxis": {
            "gridcolor": "#506784",
            "linecolor": "#506784",
            "ticks": ""
           }
          },
          "scene": {
           "xaxis": {
            "backgroundcolor": "rgb(17,17,17)",
            "gridcolor": "#506784",
            "gridwidth": 2,
            "linecolor": "#506784",
            "showbackground": true,
            "ticks": "",
            "zerolinecolor": "#C8D4E3"
           },
           "yaxis": {
            "backgroundcolor": "rgb(17,17,17)",
            "gridcolor": "#506784",
            "gridwidth": 2,
            "linecolor": "#506784",
            "showbackground": true,
            "ticks": "",
            "zerolinecolor": "#C8D4E3"
           },
           "zaxis": {
            "backgroundcolor": "rgb(17,17,17)",
            "gridcolor": "#506784",
            "gridwidth": 2,
            "linecolor": "#506784",
            "showbackground": true,
            "ticks": "",
            "zerolinecolor": "#C8D4E3"
           }
          },
          "shapedefaults": {
           "line": {
            "color": "#f2f5fa"
           }
          },
          "sliderdefaults": {
           "bgcolor": "#C8D4E3",
           "bordercolor": "rgb(17,17,17)",
           "borderwidth": 1,
           "tickwidth": 0
          },
          "ternary": {
           "aaxis": {
            "gridcolor": "#506784",
            "linecolor": "#506784",
            "ticks": ""
           },
           "baxis": {
            "gridcolor": "#506784",
            "linecolor": "#506784",
            "ticks": ""
           },
           "bgcolor": "rgb(17,17,17)",
           "caxis": {
            "gridcolor": "#506784",
            "linecolor": "#506784",
            "ticks": ""
           }
          },
          "title": {
           "x": 0.05
          },
          "updatemenudefaults": {
           "bgcolor": "#506784",
           "borderwidth": 0
          },
          "xaxis": {
           "automargin": true,
           "gridcolor": "#283442",
           "linecolor": "#506784",
           "ticks": "",
           "title": {
            "standoff": 15
           },
           "zerolinecolor": "#283442",
           "zerolinewidth": 2
          },
          "yaxis": {
           "automargin": true,
           "gridcolor": "#283442",
           "linecolor": "#506784",
           "ticks": "",
           "title": {
            "standoff": 15
           },
           "zerolinecolor": "#283442",
           "zerolinewidth": 2
          }
         }
        },
        "title": {
         "text": "<b>Market Cap vs Trading Volume</b>"
        },
        "width": 960,
        "xaxis": {
         "anchor": "y",
         "domain": [
          0,
          1
         ],
         "title": {
          "text": "Market Cap (USD)"
         }
        },
        "yaxis": {
         "anchor": "x",
         "domain": [
          0,
          1
         ],
         "title": {
          "text": "Trading Volume (USD)"
         }
        }
       }
      }
     },
     "metadata": {},
     "output_type": "display_data"
    }
   ],
   "source": [
    "# 3. Market Cap vs Volume (Scatter Plot)\n",
    "fig3 = px.scatter(\n",
    "    tokenomics_df,\n",
    "    x='market_cap',\n",
    "    y='total_volume',\n",
    "    text='symbol',\n",
    "    title='<b>Market Cap vs Trading Volume</b>',\n",
    "    labels={\n",
    "        'market_cap': 'Market Cap (USD)',\n",
    "        'total_volume': 'Trading Volume (USD)'\n",
    "    },\n",
    "    size='market_cap',\n",
    "    size_max=150,\n",
    "    color='symbol',\n",
    "    color_discrete_map={\n",
    "        'BTC': '#F7931A',  # Bitcoin Orange\n",
    "        'ETH': '#636BFF',  # Ethereum Blue\n",
    "        'BNB': '#F3BA2F',  # Binance Yellow\n",
    "        'SOL': '#CF62E7',   # Solana Pink\n",
    "        'XRP': '#4B8BBE',  # XRP Blue\n",
    "        'AVAX': '#E84142'  # Avalanche Red\n",
    "    },\n",
    "    \n",
    ")\n",
    "\n",
    "# Customize the layout\n",
    "fig3.update_layout(\n",
    "    template='plotly_dark',\n",
    "    hovermode='x unified',\n",
    "    font_family=\"IBM Plex Sans\",\n",
    "    legend=dict(\n",
    "        yanchor=\"top\",\n",
    "        y=0.99,\n",
    "        xanchor=\"left\",\n",
    "        x=1.05\n",
    "    ),\n",
    "    height=800/1.25,  # Adjust height\n",
    "    width=1200/1.25,  # Adjust width\n",
    ")\n",
    "\n",
    "# Show the plot\n",
    "fig3.show(config={\n",
    "    'displayModeBar': True,\n",
    "    'displaylogo': False,\n",
    "    'modeBarButtonsToAdd': ['fullscreen']\n",
    "})"
   ]
  },
  {
   "cell_type": "code",
   "execution_count": 7,
   "id": "4d0e97e1",
   "metadata": {},
   "outputs": [
    {
     "data": {
      "application/vnd.plotly.v1+json": {
       "config": {
        "displayModeBar": true,
        "displaylogo": false,
        "modeBarButtonsToAdd": [
         "fullscreen"
        ],
        "plotlyServerURL": "https://plot.ly"
       },
       "data": [
        {
         "customdata": [
          [
           "BTC"
          ],
          [
           "ETH"
          ],
          [
           "BNB"
          ],
          [
           "SOL"
          ],
          [
           "XRP"
          ],
          [
           "AVAX"
          ]
         ],
         "domain": {
          "x": [
           0,
           1
          ],
          "y": [
           0,
           1
          ]
         },
         "hovertemplate": "symbol=%{customdata[0]}<br>market_cap=%{value}<extra></extra>",
         "labels": [
          "BTC",
          "ETH",
          "BNB",
          "SOL",
          "XRP",
          "AVAX"
         ],
         "legendgroup": "",
         "marker": {
          "colors": [
           "#F7931A",
           "#636BFF",
           "#F3BA2F",
           "#CF62E7",
           "#4B8BBE",
           "#E84142"
          ]
         },
         "name": "",
         "showlegend": true,
         "type": "pie",
         "values": [
          1883058663090,
          218888791817,
          87624704464,
          77226861831,
          129302319760,
          8810155605
         ]
        }
       ],
       "layout": {
        "font": {
         "family": "IBM Plex Sans"
        },
        "height": 640,
        "hovermode": "x unified",
        "legend": {
         "tracegroupgap": 0,
         "x": 1.05,
         "xanchor": "left",
         "y": 0.99,
         "yanchor": "top"
        },
        "template": {
         "data": {
          "bar": [
           {
            "error_x": {
             "color": "#f2f5fa"
            },
            "error_y": {
             "color": "#f2f5fa"
            },
            "marker": {
             "line": {
              "color": "rgb(17,17,17)",
              "width": 0.5
             },
             "pattern": {
              "fillmode": "overlay",
              "size": 10,
              "solidity": 0.2
             }
            },
            "type": "bar"
           }
          ],
          "barpolar": [
           {
            "marker": {
             "line": {
              "color": "rgb(17,17,17)",
              "width": 0.5
             },
             "pattern": {
              "fillmode": "overlay",
              "size": 10,
              "solidity": 0.2
             }
            },
            "type": "barpolar"
           }
          ],
          "carpet": [
           {
            "aaxis": {
             "endlinecolor": "#A2B1C6",
             "gridcolor": "#506784",
             "linecolor": "#506784",
             "minorgridcolor": "#506784",
             "startlinecolor": "#A2B1C6"
            },
            "baxis": {
             "endlinecolor": "#A2B1C6",
             "gridcolor": "#506784",
             "linecolor": "#506784",
             "minorgridcolor": "#506784",
             "startlinecolor": "#A2B1C6"
            },
            "type": "carpet"
           }
          ],
          "choropleth": [
           {
            "colorbar": {
             "outlinewidth": 0,
             "ticks": ""
            },
            "type": "choropleth"
           }
          ],
          "contour": [
           {
            "colorbar": {
             "outlinewidth": 0,
             "ticks": ""
            },
            "colorscale": [
             [
              0,
              "#0d0887"
             ],
             [
              0.1111111111111111,
              "#46039f"
             ],
             [
              0.2222222222222222,
              "#7201a8"
             ],
             [
              0.3333333333333333,
              "#9c179e"
             ],
             [
              0.4444444444444444,
              "#bd3786"
             ],
             [
              0.5555555555555556,
              "#d8576b"
             ],
             [
              0.6666666666666666,
              "#ed7953"
             ],
             [
              0.7777777777777778,
              "#fb9f3a"
             ],
             [
              0.8888888888888888,
              "#fdca26"
             ],
             [
              1,
              "#f0f921"
             ]
            ],
            "type": "contour"
           }
          ],
          "contourcarpet": [
           {
            "colorbar": {
             "outlinewidth": 0,
             "ticks": ""
            },
            "type": "contourcarpet"
           }
          ],
          "heatmap": [
           {
            "colorbar": {
             "outlinewidth": 0,
             "ticks": ""
            },
            "colorscale": [
             [
              0,
              "#0d0887"
             ],
             [
              0.1111111111111111,
              "#46039f"
             ],
             [
              0.2222222222222222,
              "#7201a8"
             ],
             [
              0.3333333333333333,
              "#9c179e"
             ],
             [
              0.4444444444444444,
              "#bd3786"
             ],
             [
              0.5555555555555556,
              "#d8576b"
             ],
             [
              0.6666666666666666,
              "#ed7953"
             ],
             [
              0.7777777777777778,
              "#fb9f3a"
             ],
             [
              0.8888888888888888,
              "#fdca26"
             ],
             [
              1,
              "#f0f921"
             ]
            ],
            "type": "heatmap"
           }
          ],
          "histogram": [
           {
            "marker": {
             "pattern": {
              "fillmode": "overlay",
              "size": 10,
              "solidity": 0.2
             }
            },
            "type": "histogram"
           }
          ],
          "histogram2d": [
           {
            "colorbar": {
             "outlinewidth": 0,
             "ticks": ""
            },
            "colorscale": [
             [
              0,
              "#0d0887"
             ],
             [
              0.1111111111111111,
              "#46039f"
             ],
             [
              0.2222222222222222,
              "#7201a8"
             ],
             [
              0.3333333333333333,
              "#9c179e"
             ],
             [
              0.4444444444444444,
              "#bd3786"
             ],
             [
              0.5555555555555556,
              "#d8576b"
             ],
             [
              0.6666666666666666,
              "#ed7953"
             ],
             [
              0.7777777777777778,
              "#fb9f3a"
             ],
             [
              0.8888888888888888,
              "#fdca26"
             ],
             [
              1,
              "#f0f921"
             ]
            ],
            "type": "histogram2d"
           }
          ],
          "histogram2dcontour": [
           {
            "colorbar": {
             "outlinewidth": 0,
             "ticks": ""
            },
            "colorscale": [
             [
              0,
              "#0d0887"
             ],
             [
              0.1111111111111111,
              "#46039f"
             ],
             [
              0.2222222222222222,
              "#7201a8"
             ],
             [
              0.3333333333333333,
              "#9c179e"
             ],
             [
              0.4444444444444444,
              "#bd3786"
             ],
             [
              0.5555555555555556,
              "#d8576b"
             ],
             [
              0.6666666666666666,
              "#ed7953"
             ],
             [
              0.7777777777777778,
              "#fb9f3a"
             ],
             [
              0.8888888888888888,
              "#fdca26"
             ],
             [
              1,
              "#f0f921"
             ]
            ],
            "type": "histogram2dcontour"
           }
          ],
          "mesh3d": [
           {
            "colorbar": {
             "outlinewidth": 0,
             "ticks": ""
            },
            "type": "mesh3d"
           }
          ],
          "parcoords": [
           {
            "line": {
             "colorbar": {
              "outlinewidth": 0,
              "ticks": ""
             }
            },
            "type": "parcoords"
           }
          ],
          "pie": [
           {
            "automargin": true,
            "type": "pie"
           }
          ],
          "scatter": [
           {
            "marker": {
             "line": {
              "color": "#283442"
             }
            },
            "type": "scatter"
           }
          ],
          "scatter3d": [
           {
            "line": {
             "colorbar": {
              "outlinewidth": 0,
              "ticks": ""
             }
            },
            "marker": {
             "colorbar": {
              "outlinewidth": 0,
              "ticks": ""
             }
            },
            "type": "scatter3d"
           }
          ],
          "scattercarpet": [
           {
            "marker": {
             "colorbar": {
              "outlinewidth": 0,
              "ticks": ""
             }
            },
            "type": "scattercarpet"
           }
          ],
          "scattergeo": [
           {
            "marker": {
             "colorbar": {
              "outlinewidth": 0,
              "ticks": ""
             }
            },
            "type": "scattergeo"
           }
          ],
          "scattergl": [
           {
            "marker": {
             "line": {
              "color": "#283442"
             }
            },
            "type": "scattergl"
           }
          ],
          "scattermap": [
           {
            "marker": {
             "colorbar": {
              "outlinewidth": 0,
              "ticks": ""
             }
            },
            "type": "scattermap"
           }
          ],
          "scattermapbox": [
           {
            "marker": {
             "colorbar": {
              "outlinewidth": 0,
              "ticks": ""
             }
            },
            "type": "scattermapbox"
           }
          ],
          "scatterpolar": [
           {
            "marker": {
             "colorbar": {
              "outlinewidth": 0,
              "ticks": ""
             }
            },
            "type": "scatterpolar"
           }
          ],
          "scatterpolargl": [
           {
            "marker": {
             "colorbar": {
              "outlinewidth": 0,
              "ticks": ""
             }
            },
            "type": "scatterpolargl"
           }
          ],
          "scatterternary": [
           {
            "marker": {
             "colorbar": {
              "outlinewidth": 0,
              "ticks": ""
             }
            },
            "type": "scatterternary"
           }
          ],
          "surface": [
           {
            "colorbar": {
             "outlinewidth": 0,
             "ticks": ""
            },
            "colorscale": [
             [
              0,
              "#0d0887"
             ],
             [
              0.1111111111111111,
              "#46039f"
             ],
             [
              0.2222222222222222,
              "#7201a8"
             ],
             [
              0.3333333333333333,
              "#9c179e"
             ],
             [
              0.4444444444444444,
              "#bd3786"
             ],
             [
              0.5555555555555556,
              "#d8576b"
             ],
             [
              0.6666666666666666,
              "#ed7953"
             ],
             [
              0.7777777777777778,
              "#fb9f3a"
             ],
             [
              0.8888888888888888,
              "#fdca26"
             ],
             [
              1,
              "#f0f921"
             ]
            ],
            "type": "surface"
           }
          ],
          "table": [
           {
            "cells": {
             "fill": {
              "color": "#506784"
             },
             "line": {
              "color": "rgb(17,17,17)"
             }
            },
            "header": {
             "fill": {
              "color": "#2a3f5f"
             },
             "line": {
              "color": "rgb(17,17,17)"
             }
            },
            "type": "table"
           }
          ]
         },
         "layout": {
          "annotationdefaults": {
           "arrowcolor": "#f2f5fa",
           "arrowhead": 0,
           "arrowwidth": 1
          },
          "autotypenumbers": "strict",
          "coloraxis": {
           "colorbar": {
            "outlinewidth": 0,
            "ticks": ""
           }
          },
          "colorscale": {
           "diverging": [
            [
             0,
             "#8e0152"
            ],
            [
             0.1,
             "#c51b7d"
            ],
            [
             0.2,
             "#de77ae"
            ],
            [
             0.3,
             "#f1b6da"
            ],
            [
             0.4,
             "#fde0ef"
            ],
            [
             0.5,
             "#f7f7f7"
            ],
            [
             0.6,
             "#e6f5d0"
            ],
            [
             0.7,
             "#b8e186"
            ],
            [
             0.8,
             "#7fbc41"
            ],
            [
             0.9,
             "#4d9221"
            ],
            [
             1,
             "#276419"
            ]
           ],
           "sequential": [
            [
             0,
             "#0d0887"
            ],
            [
             0.1111111111111111,
             "#46039f"
            ],
            [
             0.2222222222222222,
             "#7201a8"
            ],
            [
             0.3333333333333333,
             "#9c179e"
            ],
            [
             0.4444444444444444,
             "#bd3786"
            ],
            [
             0.5555555555555556,
             "#d8576b"
            ],
            [
             0.6666666666666666,
             "#ed7953"
            ],
            [
             0.7777777777777778,
             "#fb9f3a"
            ],
            [
             0.8888888888888888,
             "#fdca26"
            ],
            [
             1,
             "#f0f921"
            ]
           ],
           "sequentialminus": [
            [
             0,
             "#0d0887"
            ],
            [
             0.1111111111111111,
             "#46039f"
            ],
            [
             0.2222222222222222,
             "#7201a8"
            ],
            [
             0.3333333333333333,
             "#9c179e"
            ],
            [
             0.4444444444444444,
             "#bd3786"
            ],
            [
             0.5555555555555556,
             "#d8576b"
            ],
            [
             0.6666666666666666,
             "#ed7953"
            ],
            [
             0.7777777777777778,
             "#fb9f3a"
            ],
            [
             0.8888888888888888,
             "#fdca26"
            ],
            [
             1,
             "#f0f921"
            ]
           ]
          },
          "colorway": [
           "#636efa",
           "#EF553B",
           "#00cc96",
           "#ab63fa",
           "#FFA15A",
           "#19d3f3",
           "#FF6692",
           "#B6E880",
           "#FF97FF",
           "#FECB52"
          ],
          "font": {
           "color": "#f2f5fa"
          },
          "geo": {
           "bgcolor": "rgb(17,17,17)",
           "lakecolor": "rgb(17,17,17)",
           "landcolor": "rgb(17,17,17)",
           "showlakes": true,
           "showland": true,
           "subunitcolor": "#506784"
          },
          "hoverlabel": {
           "align": "left"
          },
          "hovermode": "closest",
          "mapbox": {
           "style": "dark"
          },
          "paper_bgcolor": "rgb(17,17,17)",
          "plot_bgcolor": "rgb(17,17,17)",
          "polar": {
           "angularaxis": {
            "gridcolor": "#506784",
            "linecolor": "#506784",
            "ticks": ""
           },
           "bgcolor": "rgb(17,17,17)",
           "radialaxis": {
            "gridcolor": "#506784",
            "linecolor": "#506784",
            "ticks": ""
           }
          },
          "scene": {
           "xaxis": {
            "backgroundcolor": "rgb(17,17,17)",
            "gridcolor": "#506784",
            "gridwidth": 2,
            "linecolor": "#506784",
            "showbackground": true,
            "ticks": "",
            "zerolinecolor": "#C8D4E3"
           },
           "yaxis": {
            "backgroundcolor": "rgb(17,17,17)",
            "gridcolor": "#506784",
            "gridwidth": 2,
            "linecolor": "#506784",
            "showbackground": true,
            "ticks": "",
            "zerolinecolor": "#C8D4E3"
           },
           "zaxis": {
            "backgroundcolor": "rgb(17,17,17)",
            "gridcolor": "#506784",
            "gridwidth": 2,
            "linecolor": "#506784",
            "showbackground": true,
            "ticks": "",
            "zerolinecolor": "#C8D4E3"
           }
          },
          "shapedefaults": {
           "line": {
            "color": "#f2f5fa"
           }
          },
          "sliderdefaults": {
           "bgcolor": "#C8D4E3",
           "bordercolor": "rgb(17,17,17)",
           "borderwidth": 1,
           "tickwidth": 0
          },
          "ternary": {
           "aaxis": {
            "gridcolor": "#506784",
            "linecolor": "#506784",
            "ticks": ""
           },
           "baxis": {
            "gridcolor": "#506784",
            "linecolor": "#506784",
            "ticks": ""
           },
           "bgcolor": "rgb(17,17,17)",
           "caxis": {
            "gridcolor": "#506784",
            "linecolor": "#506784",
            "ticks": ""
           }
          },
          "title": {
           "x": 0.05
          },
          "updatemenudefaults": {
           "bgcolor": "#506784",
           "borderwidth": 0
          },
          "xaxis": {
           "automargin": true,
           "gridcolor": "#283442",
           "linecolor": "#506784",
           "ticks": "",
           "title": {
            "standoff": 15
           },
           "zerolinecolor": "#283442",
           "zerolinewidth": 2
          },
          "yaxis": {
           "automargin": true,
           "gridcolor": "#283442",
           "linecolor": "#506784",
           "ticks": "",
           "title": {
            "standoff": 15
           },
           "zerolinecolor": "#283442",
           "zerolinewidth": 2
          }
         }
        },
        "title": {
         "subtitle": {
          "text": "From Selected Cryptocurrencies"
         },
         "text": "<b>Market Cap Distribution</b>"
        },
        "width": 960
       }
      }
     },
     "metadata": {},
     "output_type": "display_data"
    }
   ],
   "source": [
    "# 5. Market Dominance (Pie Chart)\n",
    "fig5 = px.pie(\n",
    "    tokenomics_df,\n",
    "    values='market_cap',\n",
    "    names='symbol',\n",
    "    title='<b>Market Cap Distribution</b>',\n",
    "    subtitle='From Selected Cryptocurrencies',\n",
    "    color='symbol',\n",
    "    color_discrete_map={\n",
    "        'BTC': '#F7931A',  # Bitcoin Orange\n",
    "        'ETH': '#636BFF',  # Ethereum Blue\n",
    "        'BNB': '#F3BA2F',  # Binance Yellow\n",
    "        'SOL': '#CF62E7',   # Solana Pink\n",
    "        'XRP': '#4B8BBE',  # XRP Blue\n",
    "        'AVAX': '#E84142'  # Avalanche Red\n",
    "    },\n",
    ")\n",
    "\n",
    "# Customize the layout\n",
    "fig5.update_layout(\n",
    "    template='plotly_dark',\n",
    "    hovermode='x unified',\n",
    "    font_family=\"IBM Plex Sans\",\n",
    "    legend=dict(\n",
    "        yanchor=\"top\",\n",
    "        y=0.99,\n",
    "        xanchor=\"left\",\n",
    "        x=1.05\n",
    "    ),\n",
    "    height=800/1.25,  # Adjust height\n",
    "    width=1200/1.25,  # Adjust width\n",
    ")\n",
    "\n",
    "# Show the plot\n",
    "fig5.show(config={\n",
    "    'displayModeBar': True,\n",
    "    'displaylogo': False,\n",
    "    'modeBarButtonsToAdd': ['fullscreen']\n",
    "})"
   ]
  },
  {
   "cell_type": "code",
   "execution_count": 15,
   "id": "e224c84f",
   "metadata": {},
   "outputs": [],
   "source": [
    "# Update the format_number function to include trillions\n",
    "def format_number(value):\n",
    "    \"\"\"Format large numbers to abbreviated string with T, B, M\"\"\"\n",
    "    if value >= 1e12:\n",
    "        return f'{value/1e12:.1f}T'\n",
    "    elif value >= 1e9:\n",
    "        return f'{value/1e9:.1f}B'\n",
    "    elif value >= 1e6:\n",
    "        return f'{value/1e6:.1f}M'\n",
    "    else:\n",
    "        return f'{value:.0f}'\n",
    "\n",
    "# Format the values in the DataFrame\n",
    "tokenomics_df['fdv_formatted'] = tokenomics_df['fdv'].apply(format_number)\n",
    "tokenomics_df['volume_formatted'] = tokenomics_df['total_volume'].apply(format_number)\n",
    "tokenomics_df['market_cap_formatted'] = tokenomics_df['market_cap'].apply(format_number)\n",
    "tokenomics_df['circulating_supply_formatted'] = tokenomics_df['circulating_supply'].apply(format_number)\n",
    "tokenomics_df['total_supply_formatted'] = tokenomics_df['total_supply'].apply(format_number)"
   ]
  },
  {
   "cell_type": "code",
   "execution_count": 16,
   "id": "462bfa04",
   "metadata": {},
   "outputs": [
    {
     "data": {
      "application/vnd.plotly.v1+json": {
       "config": {
        "displayModeBar": true,
        "displaylogo": false,
        "modeBarButtonsToAdd": [
         "fullscreen"
        ],
        "plotlyServerURL": "https://plot.ly"
       },
       "data": [
        {
         "customdata": [
          [
           "BTC",
           "1.9T",
           "1.9T",
           "19.9M",
           "19.9M"
          ]
         ],
         "hoverlabel": {
          "bordercolor": "rgba(17, 17, 17, 0.9)",
          "font": {
           "family": "Inter",
           "size": 12
          },
          "namelength": -1
         },
         "hovertemplate": "<b>%{customdata[0]}</b><br><b>$%{customdata[1]}</b> - Market Cap<br><b>$%{customdata[2]}</b> - FDV<br><b>%{customdata[3]}</b> - Circulating Supply<br><b>%{customdata[4]}</b> - Total Supply<br><extra></extra>",
         "legendgroup": "BTC",
         "marker": {
          "color": "#F7931A",
          "size": [
           1883058663090
          ],
          "sizemode": "area",
          "sizeref": 523071850.85833335,
          "symbol": "circle"
         },
         "mode": "markers",
         "name": "BTC",
         "orientation": "v",
         "showlegend": true,
         "type": "scatter",
         "x": {
          "bdata": "AAAA4DrwckE=",
          "dtype": "f8"
         },
         "xaxis": "x",
         "y": {
          "bdata": "AAAA4DrwckE=",
          "dtype": "f8"
         },
         "yaxis": "y"
        },
        {
         "customdata": [
          [
           "ETH",
           "218.9B",
           "218.9B",
           "120.7M",
           "120.7M"
          ]
         ],
         "hoverlabel": {
          "bordercolor": "rgba(17, 17, 17, 0.9)",
          "font": {
           "family": "Inter",
           "size": 12
          },
          "namelength": -1
         },
         "hovertemplate": "<b>%{customdata[0]}</b><br><b>$%{customdata[1]}</b> - Market Cap<br><b>$%{customdata[2]}</b> - FDV<br><b>%{customdata[3]}</b> - Circulating Supply<br><b>%{customdata[4]}</b> - Total Supply<br><extra></extra>",
         "legendgroup": "ETH",
         "marker": {
          "color": "#636BFF",
          "size": [
           218888791817
          ],
          "sizemode": "area",
          "sizeref": 523071850.85833335,
          "symbol": "circle"
         },
         "mode": "markers",
         "name": "ETH",
         "orientation": "v",
         "showlegend": true,
         "type": "scatter",
         "x": {
          "bdata": "UyuKyfLInEE=",
          "dtype": "f8"
         },
         "xaxis": "x",
         "y": {
          "bdata": "UyuKyfLInEE=",
          "dtype": "f8"
         },
         "yaxis": "y"
        },
        {
         "customdata": [
          [
           "BNB",
           "87.6B",
           "87.6B",
           "145.9M",
           "145.9M"
          ]
         ],
         "hoverlabel": {
          "bordercolor": "rgba(17, 17, 17, 0.9)",
          "font": {
           "family": "Inter",
           "size": 12
          },
          "namelength": -1
         },
         "hovertemplate": "<b>%{customdata[0]}</b><br><b>$%{customdata[1]}</b> - Market Cap<br><b>$%{customdata[2]}</b> - FDV<br><b>%{customdata[3]}</b> - Circulating Supply<br><b>%{customdata[4]}</b> - Total Supply<br><extra></extra>",
         "legendgroup": "BNB",
         "marker": {
          "color": "#F3BA2F",
          "size": [
           87624704464
          ],
          "sizemode": "area",
          "sizeref": 523071850.85833335,
          "symbol": "circle"
         },
         "mode": "markers",
         "name": "BNB",
         "orientation": "v",
         "showlegend": true,
         "type": "scatter",
         "x": {
          "bdata": "4XqUryJkoUE=",
          "dtype": "f8"
         },
         "xaxis": "x",
         "y": {
          "bdata": "4XqUryJkoUE=",
          "dtype": "f8"
         },
         "yaxis": "y"
        },
        {
         "customdata": [
          [
           "SOL",
           "77.2B",
           "89.4B",
           "517.9M",
           "599.8M"
          ]
         ],
         "hoverlabel": {
          "bordercolor": "rgba(17, 17, 17, 0.9)",
          "font": {
           "family": "Inter",
           "size": 12
          },
          "namelength": -1
         },
         "hovertemplate": "<b>%{customdata[0]}</b><br><b>$%{customdata[1]}</b> - Market Cap<br><b>$%{customdata[2]}</b> - FDV<br><b>%{customdata[3]}</b> - Circulating Supply<br><b>%{customdata[4]}</b> - Total Supply<br><extra></extra>",
         "legendgroup": "SOL",
         "marker": {
          "color": "#CF62E7",
          "size": [
           77226861831
          ],
          "sizemode": "area",
          "sizeref": 523071850.85833335,
          "symbol": "circle"
         },
         "mode": "markers",
         "name": "SOL",
         "orientation": "v",
         "showlegend": true,
         "type": "scatter",
         "x": {
          "bdata": "MnaLdtrfwUE=",
          "dtype": "f8"
         },
         "xaxis": "x",
         "y": {
          "bdata": "VLPXIuXdvkE=",
          "dtype": "f8"
         },
         "yaxis": "y"
        },
        {
         "customdata": [
          [
           "XRP",
           "129.3B",
           "221.2B",
           "58.4B",
           "100.0B"
          ]
         ],
         "hoverlabel": {
          "bordercolor": "rgba(17, 17, 17, 0.9)",
          "font": {
           "family": "Inter",
           "size": 12
          },
          "namelength": -1
         },
         "hovertemplate": "<b>%{customdata[0]}</b><br><b>$%{customdata[1]}</b> - Market Cap<br><b>$%{customdata[2]}</b> - FDV<br><b>%{customdata[3]}</b> - Circulating Supply<br><b>%{customdata[4]}</b> - Total Supply<br><extra></extra>",
         "legendgroup": "XRP",
         "marker": {
          "color": "#4B8BBE",
          "size": [
           129302319760
          ],
          "sizemode": "area",
          "sizeref": 523071850.85833335,
          "symbol": "circle"
         },
         "mode": "markers",
         "name": "XRP",
         "orientation": "v",
         "showlegend": true,
         "type": "scatter",
         "x": {
          "bdata": "AADBdKRHN0I=",
          "dtype": "f8"
         },
         "xaxis": "x",
         "y": {
          "bdata": "AAD23Sc3K0I=",
          "dtype": "f8"
         },
         "yaxis": "y"
        },
        {
         "customdata": [
          [
           "AVAX",
           "8.8B",
           "9.6B",
           "417.0M",
           "453.6M"
          ]
         ],
         "hoverlabel": {
          "bordercolor": "rgba(17, 17, 17, 0.9)",
          "font": {
           "family": "Inter",
           "size": 12
          },
          "namelength": -1
         },
         "hovertemplate": "<b>%{customdata[0]}</b><br><b>$%{customdata[1]}</b> - Market Cap<br><b>$%{customdata[2]}</b> - FDV<br><b>%{customdata[3]}</b> - Circulating Supply<br><b>%{customdata[4]}</b> - Total Supply<br><extra></extra>",
         "legendgroup": "AVAX",
         "marker": {
          "color": "#E84142",
          "size": [
           8810155605
          ],
          "sizemode": "area",
          "sizeref": 523071850.85833335,
          "symbol": "circle"
         },
         "mode": "markers",
         "name": "AVAX",
         "orientation": "v",
         "showlegend": true,
         "type": "scatter",
         "x": {
          "bdata": "BIA7YekJu0E=",
          "dtype": "f8"
         },
         "xaxis": "x",
         "y": {
          "bdata": "n4y4v2PauEE=",
          "dtype": "f8"
         },
         "yaxis": "y"
        }
       ],
       "layout": {
        "font": {
         "family": "Inter"
        },
        "height": 435,
        "hovermode": "x",
        "legend": {
         "font": {
          "color": "white",
          "family": "IBM Plex Sans",
          "size": 11
         },
         "itemsizing": "constant",
         "title": {
          "text": "Cryptocurrency"
         },
         "tracegroupgap": 0,
         "x": 1.15,
         "xanchor": "left",
         "y": 0.99,
         "yanchor": "top"
        },
        "margin": {
         "b": 70,
         "l": 70,
         "r": 70,
         "t": 70
        },
        "template": {
         "data": {
          "bar": [
           {
            "error_x": {
             "color": "#f2f5fa"
            },
            "error_y": {
             "color": "#f2f5fa"
            },
            "marker": {
             "line": {
              "color": "rgb(17,17,17)",
              "width": 0.5
             },
             "pattern": {
              "fillmode": "overlay",
              "size": 10,
              "solidity": 0.2
             }
            },
            "type": "bar"
           }
          ],
          "barpolar": [
           {
            "marker": {
             "line": {
              "color": "rgb(17,17,17)",
              "width": 0.5
             },
             "pattern": {
              "fillmode": "overlay",
              "size": 10,
              "solidity": 0.2
             }
            },
            "type": "barpolar"
           }
          ],
          "carpet": [
           {
            "aaxis": {
             "endlinecolor": "#A2B1C6",
             "gridcolor": "#506784",
             "linecolor": "#506784",
             "minorgridcolor": "#506784",
             "startlinecolor": "#A2B1C6"
            },
            "baxis": {
             "endlinecolor": "#A2B1C6",
             "gridcolor": "#506784",
             "linecolor": "#506784",
             "minorgridcolor": "#506784",
             "startlinecolor": "#A2B1C6"
            },
            "type": "carpet"
           }
          ],
          "choropleth": [
           {
            "colorbar": {
             "outlinewidth": 0,
             "ticks": ""
            },
            "type": "choropleth"
           }
          ],
          "contour": [
           {
            "colorbar": {
             "outlinewidth": 0,
             "ticks": ""
            },
            "colorscale": [
             [
              0,
              "#0d0887"
             ],
             [
              0.1111111111111111,
              "#46039f"
             ],
             [
              0.2222222222222222,
              "#7201a8"
             ],
             [
              0.3333333333333333,
              "#9c179e"
             ],
             [
              0.4444444444444444,
              "#bd3786"
             ],
             [
              0.5555555555555556,
              "#d8576b"
             ],
             [
              0.6666666666666666,
              "#ed7953"
             ],
             [
              0.7777777777777778,
              "#fb9f3a"
             ],
             [
              0.8888888888888888,
              "#fdca26"
             ],
             [
              1,
              "#f0f921"
             ]
            ],
            "type": "contour"
           }
          ],
          "contourcarpet": [
           {
            "colorbar": {
             "outlinewidth": 0,
             "ticks": ""
            },
            "type": "contourcarpet"
           }
          ],
          "heatmap": [
           {
            "colorbar": {
             "outlinewidth": 0,
             "ticks": ""
            },
            "colorscale": [
             [
              0,
              "#0d0887"
             ],
             [
              0.1111111111111111,
              "#46039f"
             ],
             [
              0.2222222222222222,
              "#7201a8"
             ],
             [
              0.3333333333333333,
              "#9c179e"
             ],
             [
              0.4444444444444444,
              "#bd3786"
             ],
             [
              0.5555555555555556,
              "#d8576b"
             ],
             [
              0.6666666666666666,
              "#ed7953"
             ],
             [
              0.7777777777777778,
              "#fb9f3a"
             ],
             [
              0.8888888888888888,
              "#fdca26"
             ],
             [
              1,
              "#f0f921"
             ]
            ],
            "type": "heatmap"
           }
          ],
          "histogram": [
           {
            "marker": {
             "pattern": {
              "fillmode": "overlay",
              "size": 10,
              "solidity": 0.2
             }
            },
            "type": "histogram"
           }
          ],
          "histogram2d": [
           {
            "colorbar": {
             "outlinewidth": 0,
             "ticks": ""
            },
            "colorscale": [
             [
              0,
              "#0d0887"
             ],
             [
              0.1111111111111111,
              "#46039f"
             ],
             [
              0.2222222222222222,
              "#7201a8"
             ],
             [
              0.3333333333333333,
              "#9c179e"
             ],
             [
              0.4444444444444444,
              "#bd3786"
             ],
             [
              0.5555555555555556,
              "#d8576b"
             ],
             [
              0.6666666666666666,
              "#ed7953"
             ],
             [
              0.7777777777777778,
              "#fb9f3a"
             ],
             [
              0.8888888888888888,
              "#fdca26"
             ],
             [
              1,
              "#f0f921"
             ]
            ],
            "type": "histogram2d"
           }
          ],
          "histogram2dcontour": [
           {
            "colorbar": {
             "outlinewidth": 0,
             "ticks": ""
            },
            "colorscale": [
             [
              0,
              "#0d0887"
             ],
             [
              0.1111111111111111,
              "#46039f"
             ],
             [
              0.2222222222222222,
              "#7201a8"
             ],
             [
              0.3333333333333333,
              "#9c179e"
             ],
             [
              0.4444444444444444,
              "#bd3786"
             ],
             [
              0.5555555555555556,
              "#d8576b"
             ],
             [
              0.6666666666666666,
              "#ed7953"
             ],
             [
              0.7777777777777778,
              "#fb9f3a"
             ],
             [
              0.8888888888888888,
              "#fdca26"
             ],
             [
              1,
              "#f0f921"
             ]
            ],
            "type": "histogram2dcontour"
           }
          ],
          "mesh3d": [
           {
            "colorbar": {
             "outlinewidth": 0,
             "ticks": ""
            },
            "type": "mesh3d"
           }
          ],
          "parcoords": [
           {
            "line": {
             "colorbar": {
              "outlinewidth": 0,
              "ticks": ""
             }
            },
            "type": "parcoords"
           }
          ],
          "pie": [
           {
            "automargin": true,
            "type": "pie"
           }
          ],
          "scatter": [
           {
            "marker": {
             "line": {
              "color": "#283442"
             }
            },
            "type": "scatter"
           }
          ],
          "scatter3d": [
           {
            "line": {
             "colorbar": {
              "outlinewidth": 0,
              "ticks": ""
             }
            },
            "marker": {
             "colorbar": {
              "outlinewidth": 0,
              "ticks": ""
             }
            },
            "type": "scatter3d"
           }
          ],
          "scattercarpet": [
           {
            "marker": {
             "colorbar": {
              "outlinewidth": 0,
              "ticks": ""
             }
            },
            "type": "scattercarpet"
           }
          ],
          "scattergeo": [
           {
            "marker": {
             "colorbar": {
              "outlinewidth": 0,
              "ticks": ""
             }
            },
            "type": "scattergeo"
           }
          ],
          "scattergl": [
           {
            "marker": {
             "line": {
              "color": "#283442"
             }
            },
            "type": "scattergl"
           }
          ],
          "scattermap": [
           {
            "marker": {
             "colorbar": {
              "outlinewidth": 0,
              "ticks": ""
             }
            },
            "type": "scattermap"
           }
          ],
          "scattermapbox": [
           {
            "marker": {
             "colorbar": {
              "outlinewidth": 0,
              "ticks": ""
             }
            },
            "type": "scattermapbox"
           }
          ],
          "scatterpolar": [
           {
            "marker": {
             "colorbar": {
              "outlinewidth": 0,
              "ticks": ""
             }
            },
            "type": "scatterpolar"
           }
          ],
          "scatterpolargl": [
           {
            "marker": {
             "colorbar": {
              "outlinewidth": 0,
              "ticks": ""
             }
            },
            "type": "scatterpolargl"
           }
          ],
          "scatterternary": [
           {
            "marker": {
             "colorbar": {
              "outlinewidth": 0,
              "ticks": ""
             }
            },
            "type": "scatterternary"
           }
          ],
          "surface": [
           {
            "colorbar": {
             "outlinewidth": 0,
             "ticks": ""
            },
            "colorscale": [
             [
              0,
              "#0d0887"
             ],
             [
              0.1111111111111111,
              "#46039f"
             ],
             [
              0.2222222222222222,
              "#7201a8"
             ],
             [
              0.3333333333333333,
              "#9c179e"
             ],
             [
              0.4444444444444444,
              "#bd3786"
             ],
             [
              0.5555555555555556,
              "#d8576b"
             ],
             [
              0.6666666666666666,
              "#ed7953"
             ],
             [
              0.7777777777777778,
              "#fb9f3a"
             ],
             [
              0.8888888888888888,
              "#fdca26"
             ],
             [
              1,
              "#f0f921"
             ]
            ],
            "type": "surface"
           }
          ],
          "table": [
           {
            "cells": {
             "fill": {
              "color": "#506784"
             },
             "line": {
              "color": "rgb(17,17,17)"
             }
            },
            "header": {
             "fill": {
              "color": "#2a3f5f"
             },
             "line": {
              "color": "rgb(17,17,17)"
             }
            },
            "type": "table"
           }
          ]
         },
         "layout": {
          "annotationdefaults": {
           "arrowcolor": "#f2f5fa",
           "arrowhead": 0,
           "arrowwidth": 1
          },
          "autotypenumbers": "strict",
          "coloraxis": {
           "colorbar": {
            "outlinewidth": 0,
            "ticks": ""
           }
          },
          "colorscale": {
           "diverging": [
            [
             0,
             "#8e0152"
            ],
            [
             0.1,
             "#c51b7d"
            ],
            [
             0.2,
             "#de77ae"
            ],
            [
             0.3,
             "#f1b6da"
            ],
            [
             0.4,
             "#fde0ef"
            ],
            [
             0.5,
             "#f7f7f7"
            ],
            [
             0.6,
             "#e6f5d0"
            ],
            [
             0.7,
             "#b8e186"
            ],
            [
             0.8,
             "#7fbc41"
            ],
            [
             0.9,
             "#4d9221"
            ],
            [
             1,
             "#276419"
            ]
           ],
           "sequential": [
            [
             0,
             "#0d0887"
            ],
            [
             0.1111111111111111,
             "#46039f"
            ],
            [
             0.2222222222222222,
             "#7201a8"
            ],
            [
             0.3333333333333333,
             "#9c179e"
            ],
            [
             0.4444444444444444,
             "#bd3786"
            ],
            [
             0.5555555555555556,
             "#d8576b"
            ],
            [
             0.6666666666666666,
             "#ed7953"
            ],
            [
             0.7777777777777778,
             "#fb9f3a"
            ],
            [
             0.8888888888888888,
             "#fdca26"
            ],
            [
             1,
             "#f0f921"
            ]
           ],
           "sequentialminus": [
            [
             0,
             "#0d0887"
            ],
            [
             0.1111111111111111,
             "#46039f"
            ],
            [
             0.2222222222222222,
             "#7201a8"
            ],
            [
             0.3333333333333333,
             "#9c179e"
            ],
            [
             0.4444444444444444,
             "#bd3786"
            ],
            [
             0.5555555555555556,
             "#d8576b"
            ],
            [
             0.6666666666666666,
             "#ed7953"
            ],
            [
             0.7777777777777778,
             "#fb9f3a"
            ],
            [
             0.8888888888888888,
             "#fdca26"
            ],
            [
             1,
             "#f0f921"
            ]
           ]
          },
          "colorway": [
           "#636efa",
           "#EF553B",
           "#00cc96",
           "#ab63fa",
           "#FFA15A",
           "#19d3f3",
           "#FF6692",
           "#B6E880",
           "#FF97FF",
           "#FECB52"
          ],
          "font": {
           "color": "#f2f5fa"
          },
          "geo": {
           "bgcolor": "rgb(17,17,17)",
           "lakecolor": "rgb(17,17,17)",
           "landcolor": "rgb(17,17,17)",
           "showlakes": true,
           "showland": true,
           "subunitcolor": "#506784"
          },
          "hoverlabel": {
           "align": "left"
          },
          "hovermode": "closest",
          "mapbox": {
           "style": "dark"
          },
          "paper_bgcolor": "rgb(17,17,17)",
          "plot_bgcolor": "rgb(17,17,17)",
          "polar": {
           "angularaxis": {
            "gridcolor": "#506784",
            "linecolor": "#506784",
            "ticks": ""
           },
           "bgcolor": "rgb(17,17,17)",
           "radialaxis": {
            "gridcolor": "#506784",
            "linecolor": "#506784",
            "ticks": ""
           }
          },
          "scene": {
           "xaxis": {
            "backgroundcolor": "rgb(17,17,17)",
            "gridcolor": "#506784",
            "gridwidth": 2,
            "linecolor": "#506784",
            "showbackground": true,
            "ticks": "",
            "zerolinecolor": "#C8D4E3"
           },
           "yaxis": {
            "backgroundcolor": "rgb(17,17,17)",
            "gridcolor": "#506784",
            "gridwidth": 2,
            "linecolor": "#506784",
            "showbackground": true,
            "ticks": "",
            "zerolinecolor": "#C8D4E3"
           },
           "zaxis": {
            "backgroundcolor": "rgb(17,17,17)",
            "gridcolor": "#506784",
            "gridwidth": 2,
            "linecolor": "#506784",
            "showbackground": true,
            "ticks": "",
            "zerolinecolor": "#C8D4E3"
           }
          },
          "shapedefaults": {
           "line": {
            "color": "#f2f5fa"
           }
          },
          "sliderdefaults": {
           "bgcolor": "#C8D4E3",
           "bordercolor": "rgb(17,17,17)",
           "borderwidth": 1,
           "tickwidth": 0
          },
          "ternary": {
           "aaxis": {
            "gridcolor": "#506784",
            "linecolor": "#506784",
            "ticks": ""
           },
           "baxis": {
            "gridcolor": "#506784",
            "linecolor": "#506784",
            "ticks": ""
           },
           "bgcolor": "rgb(17,17,17)",
           "caxis": {
            "gridcolor": "#506784",
            "linecolor": "#506784",
            "ticks": ""
           }
          },
          "title": {
           "x": 0.05
          },
          "updatemenudefaults": {
           "bgcolor": "#506784",
           "borderwidth": 0
          },
          "xaxis": {
           "automargin": true,
           "gridcolor": "#283442",
           "linecolor": "#506784",
           "ticks": "",
           "title": {
            "standoff": 15
           },
           "zerolinecolor": "#283442",
           "zerolinewidth": 2
          },
          "yaxis": {
           "automargin": true,
           "gridcolor": "#283442",
           "linecolor": "#506784",
           "ticks": "",
           "title": {
            "standoff": 15
           },
           "zerolinecolor": "#283442",
           "zerolinewidth": 2
          }
         }
        },
        "title": {
         "subtitle": {
          "text": "Bubble size defined by Market Cap."
         },
         "text": "<b>Crypto Tokenomics</b>"
        },
        "width": 705,
        "xaxis": {
         "anchor": "y",
         "domain": [
          0,
          1
         ],
         "title": {
          "text": "Total Supply"
         }
        },
        "yaxis": {
         "anchor": "x",
         "domain": [
          0,
          1
         ],
         "title": {
          "text": "Circulating Supply"
         }
        }
       }
      }
     },
     "metadata": {},
     "output_type": "display_data"
    }
   ],
   "source": [
    "# Create 3D scatter plot\n",
    "fig6 = px.scatter(\n",
    "    tokenomics_df,\n",
    "    x='total_supply',\n",
    "    y='circulating_supply',\n",
    "    size='market_cap',\n",
    "    color='symbol',\n",
    "    size_max=60,\n",
    "    title='<b>Crypto Tokenomics</b>',\n",
    "    subtitle='Bubble size defined by Market Cap.',\n",
    "    labels={\n",
    "        'fdv': 'FDV',\n",
    "        'circulating_supply': 'Circulating Supply',\n",
    "        'total_supply': 'Total Supply',\n",
    "    },\n",
    "    color_discrete_map={\n",
    "        'BTC': '#F7931A',\n",
    "        'ETH': '#636BFF',\n",
    "        'BNB': '#F3BA2F',\n",
    "        'SOL': '#CF62E7',\n",
    "        'XRP': '#4B8BBE',\n",
    "        'AVAX': '#E84142'\n",
    "    },\n",
    "    custom_data=['symbol','market_cap_formatted', 'fdv_formatted', 'circulating_supply_formatted', 'total_supply_formatted']  # Add formatted values    \n",
    ")\n",
    "\n",
    "# Update hover template\n",
    "fig6.update_traces(\n",
    "    hovertemplate=\"<br>\".join([\n",
    "        \"<b>%{customdata[0]}</b>\",  # Crypto Symbol\n",
    "        \"<b>$%{customdata[1]}</b> - Market Cap\",\n",
    "        \"<b>$%{customdata[2]}</b> - FDV\",\n",
    "        \"<b>%{customdata[3]}</b> - Circulating Supply\",\n",
    "        \"<b>%{customdata[4]}</b> - Total Supply\",\n",
    "        \"<extra></extra>\"\n",
    "    ]),\n",
    "    hoverlabel=dict(\n",
    "        font=dict(\n",
    "            family=\"Inter\",\n",
    "            size=12,\n",
    "        ),\n",
    "        bordercolor=\"rgba(17, 17, 17, 0.9)\",  # Same as background to remove border\n",
    "        namelength=-1  # Show full text\n",
    "    ),\n",
    ")\n",
    "\n",
    "# Customize the layout\n",
    "fig6.update_layout(\n",
    "    template='plotly_dark',\n",
    "    font_family=\"Inter\",\n",
    "    \n",
    "    height=435,  # Adjust height\n",
    "    width=705,  # Adjust width\n",
    "    margin=dict(\n",
    "        l=70,\n",
    "        r=70,\n",
    "        t=70,\n",
    "        b=70 \n",
    "    ),\n",
    "    legend=dict(\n",
    "        title=dict(text=\"Cryptocurrency\"),\n",
    "        font=dict(\n",
    "            family=\"IBM Plex Sans\",\n",
    "            size=11,\n",
    "            color=\"white\"\n",
    "        ),\n",
    "        yanchor=\"top\",\n",
    "        y=0.99,\n",
    "        xanchor=\"left\",\n",
    "        x=1.15,\n",
    "    ),\n",
    "    hovermode=\"x\",\n",
    ")\n",
    "\n",
    "# Show the plot\n",
    "fig6.show(config={\n",
    "    'displayModeBar': True,\n",
    "    'displaylogo': False,\n",
    "    'modeBarButtonsToAdd': ['fullscreen']\n",
    "})\n",
    "\n",
    "# Save the figure as an HTML file\n",
    "fig6.write_html(\"plots/html/crypto_tokenomics.html\")"
   ]
  },
  {
   "cell_type": "code",
   "execution_count": 19,
   "id": "734898cd",
   "metadata": {},
   "outputs": [
    {
     "data": {
      "application/vnd.plotly.v1+json": {
       "config": {
        "displayModeBar": true,
        "displaylogo": false,
        "modeBarButtonsToAdd": [
         "fullscreen"
        ],
        "plotlyServerURL": "https://plot.ly"
       },
       "data": [
        {
         "customdata": [
          [
           "BTC",
           "1.9T",
           "1.9T",
           "19.9M",
           "19.9M"
          ]
         ],
         "hoverlabel": {
          "bordercolor": "rgba(17, 17, 17, 0.9)",
          "font": {
           "family": "Inter",
           "size": 12
          },
          "namelength": -1
         },
         "hovertemplate": "<b>%{customdata[0]}</b><br><b>$%{customdata[1]}</b> - Market Cap<br><b>$%{customdata[2]}</b> - FDV<br><b>%{customdata[3]}</b> - Circulating Supply<br><b>%{customdata[4]}</b> - Total Supply<br><extra></extra>",
         "legendgroup": "BTC",
         "marker": {
          "color": "#F7931A",
          "size": [
           1883058663090
          ],
          "sizemode": "area",
          "sizeref": 523071850.85833335,
          "symbol": "circle"
         },
         "mode": "markers",
         "name": "BTC",
         "orientation": "v",
         "showlegend": true,
         "type": "scatter",
         "x": {
          "bdata": "AAAA4DrwckE=",
          "dtype": "f8"
         },
         "xaxis": "x",
         "y": {
          "bdata": "AAAA4DrwckE=",
          "dtype": "f8"
         },
         "yaxis": "y"
        },
        {
         "customdata": [
          [
           "ETH",
           "218.9B",
           "218.9B",
           "120.7M",
           "120.7M"
          ]
         ],
         "hoverlabel": {
          "bordercolor": "rgba(17, 17, 17, 0.9)",
          "font": {
           "family": "Inter",
           "size": 12
          },
          "namelength": -1
         },
         "hovertemplate": "<b>%{customdata[0]}</b><br><b>$%{customdata[1]}</b> - Market Cap<br><b>$%{customdata[2]}</b> - FDV<br><b>%{customdata[3]}</b> - Circulating Supply<br><b>%{customdata[4]}</b> - Total Supply<br><extra></extra>",
         "legendgroup": "ETH",
         "marker": {
          "color": "#636BFF",
          "size": [
           218888791817
          ],
          "sizemode": "area",
          "sizeref": 523071850.85833335,
          "symbol": "circle"
         },
         "mode": "markers",
         "name": "ETH",
         "orientation": "v",
         "showlegend": true,
         "type": "scatter",
         "x": {
          "bdata": "UyuKyfLInEE=",
          "dtype": "f8"
         },
         "xaxis": "x",
         "y": {
          "bdata": "UyuKyfLInEE=",
          "dtype": "f8"
         },
         "yaxis": "y"
        },
        {
         "customdata": [
          [
           "BNB",
           "87.6B",
           "87.6B",
           "145.9M",
           "145.9M"
          ]
         ],
         "hoverlabel": {
          "bordercolor": "rgba(17, 17, 17, 0.9)",
          "font": {
           "family": "Inter",
           "size": 12
          },
          "namelength": -1
         },
         "hovertemplate": "<b>%{customdata[0]}</b><br><b>$%{customdata[1]}</b> - Market Cap<br><b>$%{customdata[2]}</b> - FDV<br><b>%{customdata[3]}</b> - Circulating Supply<br><b>%{customdata[4]}</b> - Total Supply<br><extra></extra>",
         "legendgroup": "BNB",
         "marker": {
          "color": "#F3BA2F",
          "size": [
           87624704464
          ],
          "sizemode": "area",
          "sizeref": 523071850.85833335,
          "symbol": "circle"
         },
         "mode": "markers",
         "name": "BNB",
         "orientation": "v",
         "showlegend": true,
         "type": "scatter",
         "x": {
          "bdata": "4XqUryJkoUE=",
          "dtype": "f8"
         },
         "xaxis": "x",
         "y": {
          "bdata": "4XqUryJkoUE=",
          "dtype": "f8"
         },
         "yaxis": "y"
        },
        {
         "customdata": [
          [
           "SOL",
           "77.2B",
           "89.4B",
           "517.9M",
           "599.8M"
          ]
         ],
         "hoverlabel": {
          "bordercolor": "rgba(17, 17, 17, 0.9)",
          "font": {
           "family": "Inter",
           "size": 12
          },
          "namelength": -1
         },
         "hovertemplate": "<b>%{customdata[0]}</b><br><b>$%{customdata[1]}</b> - Market Cap<br><b>$%{customdata[2]}</b> - FDV<br><b>%{customdata[3]}</b> - Circulating Supply<br><b>%{customdata[4]}</b> - Total Supply<br><extra></extra>",
         "legendgroup": "SOL",
         "marker": {
          "color": "#CF62E7",
          "size": [
           77226861831
          ],
          "sizemode": "area",
          "sizeref": 523071850.85833335,
          "symbol": "circle"
         },
         "mode": "markers",
         "name": "SOL",
         "orientation": "v",
         "showlegend": true,
         "type": "scatter",
         "x": {
          "bdata": "MnaLdtrfwUE=",
          "dtype": "f8"
         },
         "xaxis": "x",
         "y": {
          "bdata": "VLPXIuXdvkE=",
          "dtype": "f8"
         },
         "yaxis": "y"
        },
        {
         "customdata": [
          [
           "XRP",
           "129.3B",
           "221.2B",
           "58.4B",
           "100.0B"
          ]
         ],
         "hoverlabel": {
          "bordercolor": "rgba(17, 17, 17, 0.9)",
          "font": {
           "family": "Inter",
           "size": 12
          },
          "namelength": -1
         },
         "hovertemplate": "<b>%{customdata[0]}</b><br><b>$%{customdata[1]}</b> - Market Cap<br><b>$%{customdata[2]}</b> - FDV<br><b>%{customdata[3]}</b> - Circulating Supply<br><b>%{customdata[4]}</b> - Total Supply<br><extra></extra>",
         "legendgroup": "XRP",
         "marker": {
          "color": "#4B8BBE",
          "size": [
           129302319760
          ],
          "sizemode": "area",
          "sizeref": 523071850.85833335,
          "symbol": "circle"
         },
         "mode": "markers",
         "name": "XRP",
         "orientation": "v",
         "showlegend": true,
         "type": "scatter",
         "x": {
          "bdata": "AADBdKRHN0I=",
          "dtype": "f8"
         },
         "xaxis": "x",
         "y": {
          "bdata": "AAD23Sc3K0I=",
          "dtype": "f8"
         },
         "yaxis": "y"
        },
        {
         "customdata": [
          [
           "AVAX",
           "8.8B",
           "9.6B",
           "417.0M",
           "453.6M"
          ]
         ],
         "hoverlabel": {
          "bordercolor": "rgba(17, 17, 17, 0.9)",
          "font": {
           "family": "Inter",
           "size": 12
          },
          "namelength": -1
         },
         "hovertemplate": "<b>%{customdata[0]}</b><br><b>$%{customdata[1]}</b> - Market Cap<br><b>$%{customdata[2]}</b> - FDV<br><b>%{customdata[3]}</b> - Circulating Supply<br><b>%{customdata[4]}</b> - Total Supply<br><extra></extra>",
         "legendgroup": "AVAX",
         "marker": {
          "color": "#E84142",
          "size": [
           8810155605
          ],
          "sizemode": "area",
          "sizeref": 523071850.85833335,
          "symbol": "circle"
         },
         "mode": "markers",
         "name": "AVAX",
         "orientation": "v",
         "showlegend": true,
         "type": "scatter",
         "x": {
          "bdata": "BIA7YekJu0E=",
          "dtype": "f8"
         },
         "xaxis": "x",
         "y": {
          "bdata": "n4y4v2PauEE=",
          "dtype": "f8"
         },
         "yaxis": "y"
        }
       ],
       "layout": {
        "font": {
         "family": "IBM Plex Sans"
        },
        "height": 393,
        "hovermode": "x",
        "legend": {
         "font": {
          "color": "white",
          "family": "Inter",
          "size": 11
         },
         "itemsizing": "constant",
         "title": {
          "text": "Cryptocurrency"
         },
         "tracegroupgap": 0,
         "x": 1.15,
         "xanchor": "left",
         "y": 0.99,
         "yanchor": "top"
        },
        "margin": {
         "b": 10,
         "l": 10,
         "r": 10,
         "t": 40
        },
        "showlegend": false,
        "template": {
         "data": {
          "bar": [
           {
            "error_x": {
             "color": "#f2f5fa"
            },
            "error_y": {
             "color": "#f2f5fa"
            },
            "marker": {
             "line": {
              "color": "rgb(17,17,17)",
              "width": 0.5
             },
             "pattern": {
              "fillmode": "overlay",
              "size": 10,
              "solidity": 0.2
             }
            },
            "type": "bar"
           }
          ],
          "barpolar": [
           {
            "marker": {
             "line": {
              "color": "rgb(17,17,17)",
              "width": 0.5
             },
             "pattern": {
              "fillmode": "overlay",
              "size": 10,
              "solidity": 0.2
             }
            },
            "type": "barpolar"
           }
          ],
          "carpet": [
           {
            "aaxis": {
             "endlinecolor": "#A2B1C6",
             "gridcolor": "#506784",
             "linecolor": "#506784",
             "minorgridcolor": "#506784",
             "startlinecolor": "#A2B1C6"
            },
            "baxis": {
             "endlinecolor": "#A2B1C6",
             "gridcolor": "#506784",
             "linecolor": "#506784",
             "minorgridcolor": "#506784",
             "startlinecolor": "#A2B1C6"
            },
            "type": "carpet"
           }
          ],
          "choropleth": [
           {
            "colorbar": {
             "outlinewidth": 0,
             "ticks": ""
            },
            "type": "choropleth"
           }
          ],
          "contour": [
           {
            "colorbar": {
             "outlinewidth": 0,
             "ticks": ""
            },
            "colorscale": [
             [
              0,
              "#0d0887"
             ],
             [
              0.1111111111111111,
              "#46039f"
             ],
             [
              0.2222222222222222,
              "#7201a8"
             ],
             [
              0.3333333333333333,
              "#9c179e"
             ],
             [
              0.4444444444444444,
              "#bd3786"
             ],
             [
              0.5555555555555556,
              "#d8576b"
             ],
             [
              0.6666666666666666,
              "#ed7953"
             ],
             [
              0.7777777777777778,
              "#fb9f3a"
             ],
             [
              0.8888888888888888,
              "#fdca26"
             ],
             [
              1,
              "#f0f921"
             ]
            ],
            "type": "contour"
           }
          ],
          "contourcarpet": [
           {
            "colorbar": {
             "outlinewidth": 0,
             "ticks": ""
            },
            "type": "contourcarpet"
           }
          ],
          "heatmap": [
           {
            "colorbar": {
             "outlinewidth": 0,
             "ticks": ""
            },
            "colorscale": [
             [
              0,
              "#0d0887"
             ],
             [
              0.1111111111111111,
              "#46039f"
             ],
             [
              0.2222222222222222,
              "#7201a8"
             ],
             [
              0.3333333333333333,
              "#9c179e"
             ],
             [
              0.4444444444444444,
              "#bd3786"
             ],
             [
              0.5555555555555556,
              "#d8576b"
             ],
             [
              0.6666666666666666,
              "#ed7953"
             ],
             [
              0.7777777777777778,
              "#fb9f3a"
             ],
             [
              0.8888888888888888,
              "#fdca26"
             ],
             [
              1,
              "#f0f921"
             ]
            ],
            "type": "heatmap"
           }
          ],
          "histogram": [
           {
            "marker": {
             "pattern": {
              "fillmode": "overlay",
              "size": 10,
              "solidity": 0.2
             }
            },
            "type": "histogram"
           }
          ],
          "histogram2d": [
           {
            "colorbar": {
             "outlinewidth": 0,
             "ticks": ""
            },
            "colorscale": [
             [
              0,
              "#0d0887"
             ],
             [
              0.1111111111111111,
              "#46039f"
             ],
             [
              0.2222222222222222,
              "#7201a8"
             ],
             [
              0.3333333333333333,
              "#9c179e"
             ],
             [
              0.4444444444444444,
              "#bd3786"
             ],
             [
              0.5555555555555556,
              "#d8576b"
             ],
             [
              0.6666666666666666,
              "#ed7953"
             ],
             [
              0.7777777777777778,
              "#fb9f3a"
             ],
             [
              0.8888888888888888,
              "#fdca26"
             ],
             [
              1,
              "#f0f921"
             ]
            ],
            "type": "histogram2d"
           }
          ],
          "histogram2dcontour": [
           {
            "colorbar": {
             "outlinewidth": 0,
             "ticks": ""
            },
            "colorscale": [
             [
              0,
              "#0d0887"
             ],
             [
              0.1111111111111111,
              "#46039f"
             ],
             [
              0.2222222222222222,
              "#7201a8"
             ],
             [
              0.3333333333333333,
              "#9c179e"
             ],
             [
              0.4444444444444444,
              "#bd3786"
             ],
             [
              0.5555555555555556,
              "#d8576b"
             ],
             [
              0.6666666666666666,
              "#ed7953"
             ],
             [
              0.7777777777777778,
              "#fb9f3a"
             ],
             [
              0.8888888888888888,
              "#fdca26"
             ],
             [
              1,
              "#f0f921"
             ]
            ],
            "type": "histogram2dcontour"
           }
          ],
          "mesh3d": [
           {
            "colorbar": {
             "outlinewidth": 0,
             "ticks": ""
            },
            "type": "mesh3d"
           }
          ],
          "parcoords": [
           {
            "line": {
             "colorbar": {
              "outlinewidth": 0,
              "ticks": ""
             }
            },
            "type": "parcoords"
           }
          ],
          "pie": [
           {
            "automargin": true,
            "type": "pie"
           }
          ],
          "scatter": [
           {
            "marker": {
             "line": {
              "color": "#283442"
             }
            },
            "type": "scatter"
           }
          ],
          "scatter3d": [
           {
            "line": {
             "colorbar": {
              "outlinewidth": 0,
              "ticks": ""
             }
            },
            "marker": {
             "colorbar": {
              "outlinewidth": 0,
              "ticks": ""
             }
            },
            "type": "scatter3d"
           }
          ],
          "scattercarpet": [
           {
            "marker": {
             "colorbar": {
              "outlinewidth": 0,
              "ticks": ""
             }
            },
            "type": "scattercarpet"
           }
          ],
          "scattergeo": [
           {
            "marker": {
             "colorbar": {
              "outlinewidth": 0,
              "ticks": ""
             }
            },
            "type": "scattergeo"
           }
          ],
          "scattergl": [
           {
            "marker": {
             "line": {
              "color": "#283442"
             }
            },
            "type": "scattergl"
           }
          ],
          "scattermap": [
           {
            "marker": {
             "colorbar": {
              "outlinewidth": 0,
              "ticks": ""
             }
            },
            "type": "scattermap"
           }
          ],
          "scattermapbox": [
           {
            "marker": {
             "colorbar": {
              "outlinewidth": 0,
              "ticks": ""
             }
            },
            "type": "scattermapbox"
           }
          ],
          "scatterpolar": [
           {
            "marker": {
             "colorbar": {
              "outlinewidth": 0,
              "ticks": ""
             }
            },
            "type": "scatterpolar"
           }
          ],
          "scatterpolargl": [
           {
            "marker": {
             "colorbar": {
              "outlinewidth": 0,
              "ticks": ""
             }
            },
            "type": "scatterpolargl"
           }
          ],
          "scatterternary": [
           {
            "marker": {
             "colorbar": {
              "outlinewidth": 0,
              "ticks": ""
             }
            },
            "type": "scatterternary"
           }
          ],
          "surface": [
           {
            "colorbar": {
             "outlinewidth": 0,
             "ticks": ""
            },
            "colorscale": [
             [
              0,
              "#0d0887"
             ],
             [
              0.1111111111111111,
              "#46039f"
             ],
             [
              0.2222222222222222,
              "#7201a8"
             ],
             [
              0.3333333333333333,
              "#9c179e"
             ],
             [
              0.4444444444444444,
              "#bd3786"
             ],
             [
              0.5555555555555556,
              "#d8576b"
             ],
             [
              0.6666666666666666,
              "#ed7953"
             ],
             [
              0.7777777777777778,
              "#fb9f3a"
             ],
             [
              0.8888888888888888,
              "#fdca26"
             ],
             [
              1,
              "#f0f921"
             ]
            ],
            "type": "surface"
           }
          ],
          "table": [
           {
            "cells": {
             "fill": {
              "color": "#506784"
             },
             "line": {
              "color": "rgb(17,17,17)"
             }
            },
            "header": {
             "fill": {
              "color": "#2a3f5f"
             },
             "line": {
              "color": "rgb(17,17,17)"
             }
            },
            "type": "table"
           }
          ]
         },
         "layout": {
          "annotationdefaults": {
           "arrowcolor": "#f2f5fa",
           "arrowhead": 0,
           "arrowwidth": 1
          },
          "autotypenumbers": "strict",
          "coloraxis": {
           "colorbar": {
            "outlinewidth": 0,
            "ticks": ""
           }
          },
          "colorscale": {
           "diverging": [
            [
             0,
             "#8e0152"
            ],
            [
             0.1,
             "#c51b7d"
            ],
            [
             0.2,
             "#de77ae"
            ],
            [
             0.3,
             "#f1b6da"
            ],
            [
             0.4,
             "#fde0ef"
            ],
            [
             0.5,
             "#f7f7f7"
            ],
            [
             0.6,
             "#e6f5d0"
            ],
            [
             0.7,
             "#b8e186"
            ],
            [
             0.8,
             "#7fbc41"
            ],
            [
             0.9,
             "#4d9221"
            ],
            [
             1,
             "#276419"
            ]
           ],
           "sequential": [
            [
             0,
             "#0d0887"
            ],
            [
             0.1111111111111111,
             "#46039f"
            ],
            [
             0.2222222222222222,
             "#7201a8"
            ],
            [
             0.3333333333333333,
             "#9c179e"
            ],
            [
             0.4444444444444444,
             "#bd3786"
            ],
            [
             0.5555555555555556,
             "#d8576b"
            ],
            [
             0.6666666666666666,
             "#ed7953"
            ],
            [
             0.7777777777777778,
             "#fb9f3a"
            ],
            [
             0.8888888888888888,
             "#fdca26"
            ],
            [
             1,
             "#f0f921"
            ]
           ],
           "sequentialminus": [
            [
             0,
             "#0d0887"
            ],
            [
             0.1111111111111111,
             "#46039f"
            ],
            [
             0.2222222222222222,
             "#7201a8"
            ],
            [
             0.3333333333333333,
             "#9c179e"
            ],
            [
             0.4444444444444444,
             "#bd3786"
            ],
            [
             0.5555555555555556,
             "#d8576b"
            ],
            [
             0.6666666666666666,
             "#ed7953"
            ],
            [
             0.7777777777777778,
             "#fb9f3a"
            ],
            [
             0.8888888888888888,
             "#fdca26"
            ],
            [
             1,
             "#f0f921"
            ]
           ]
          },
          "colorway": [
           "#636efa",
           "#EF553B",
           "#00cc96",
           "#ab63fa",
           "#FFA15A",
           "#19d3f3",
           "#FF6692",
           "#B6E880",
           "#FF97FF",
           "#FECB52"
          ],
          "font": {
           "color": "#f2f5fa"
          },
          "geo": {
           "bgcolor": "rgb(17,17,17)",
           "lakecolor": "rgb(17,17,17)",
           "landcolor": "rgb(17,17,17)",
           "showlakes": true,
           "showland": true,
           "subunitcolor": "#506784"
          },
          "hoverlabel": {
           "align": "left"
          },
          "hovermode": "closest",
          "mapbox": {
           "style": "dark"
          },
          "paper_bgcolor": "rgb(17,17,17)",
          "plot_bgcolor": "rgb(17,17,17)",
          "polar": {
           "angularaxis": {
            "gridcolor": "#506784",
            "linecolor": "#506784",
            "ticks": ""
           },
           "bgcolor": "rgb(17,17,17)",
           "radialaxis": {
            "gridcolor": "#506784",
            "linecolor": "#506784",
            "ticks": ""
           }
          },
          "scene": {
           "xaxis": {
            "backgroundcolor": "rgb(17,17,17)",
            "gridcolor": "#506784",
            "gridwidth": 2,
            "linecolor": "#506784",
            "showbackground": true,
            "ticks": "",
            "zerolinecolor": "#C8D4E3"
           },
           "yaxis": {
            "backgroundcolor": "rgb(17,17,17)",
            "gridcolor": "#506784",
            "gridwidth": 2,
            "linecolor": "#506784",
            "showbackground": true,
            "ticks": "",
            "zerolinecolor": "#C8D4E3"
           },
           "zaxis": {
            "backgroundcolor": "rgb(17,17,17)",
            "gridcolor": "#506784",
            "gridwidth": 2,
            "linecolor": "#506784",
            "showbackground": true,
            "ticks": "",
            "zerolinecolor": "#C8D4E3"
           }
          },
          "shapedefaults": {
           "line": {
            "color": "#f2f5fa"
           }
          },
          "sliderdefaults": {
           "bgcolor": "#C8D4E3",
           "bordercolor": "rgb(17,17,17)",
           "borderwidth": 1,
           "tickwidth": 0
          },
          "ternary": {
           "aaxis": {
            "gridcolor": "#506784",
            "linecolor": "#506784",
            "ticks": ""
           },
           "baxis": {
            "gridcolor": "#506784",
            "linecolor": "#506784",
            "ticks": ""
           },
           "bgcolor": "rgb(17,17,17)",
           "caxis": {
            "gridcolor": "#506784",
            "linecolor": "#506784",
            "ticks": ""
           }
          },
          "title": {
           "x": 0.05
          },
          "updatemenudefaults": {
           "bgcolor": "#506784",
           "borderwidth": 0
          },
          "xaxis": {
           "automargin": true,
           "gridcolor": "#283442",
           "linecolor": "#506784",
           "ticks": "",
           "title": {
            "standoff": 15
           },
           "zerolinecolor": "#283442",
           "zerolinewidth": 2
          },
          "yaxis": {
           "automargin": true,
           "gridcolor": "#283442",
           "linecolor": "#506784",
           "ticks": "",
           "title": {
            "standoff": 15
           },
           "zerolinecolor": "#283442",
           "zerolinewidth": 2
          }
         }
        },
        "title": {
         "font": {
          "color": "white",
          "size": 12
         },
         "text": "Crypto Tokenomics",
         "xanchor": "left"
        },
        "width": 333,
        "xaxis": {
         "anchor": "y",
         "domain": [
          0,
          1
         ],
         "title": {
          "text": "Total Supply"
         }
        },
        "yaxis": {
         "anchor": "x",
         "domain": [
          0,
          1
         ],
         "title": {
          "text": "Circulating Supply"
         }
        }
       }
      }
     },
     "metadata": {},
     "output_type": "display_data"
    }
   ],
   "source": [
    "# Create 3D scatter plot\n",
    "fig6m = px.scatter(\n",
    "    tokenomics_df,\n",
    "    x='total_supply',\n",
    "    y='circulating_supply',\n",
    "    size='market_cap',\n",
    "    color='symbol',\n",
    "    size_max=60,\n",
    "    title='Crypto Tokenomics',\n",
    "    labels={\n",
    "        'fdv': 'FDV',\n",
    "        'circulating_supply': 'Circulating Supply',\n",
    "        'total_supply': 'Total Supply',\n",
    "    },\n",
    "    color_discrete_map={\n",
    "        'BTC': '#F7931A',\n",
    "        'ETH': '#636BFF',\n",
    "        'BNB': '#F3BA2F',\n",
    "        'SOL': '#CF62E7',\n",
    "        'XRP': '#4B8BBE',\n",
    "        'AVAX': '#E84142'\n",
    "    },\n",
    "    custom_data=['symbol','market_cap_formatted', 'fdv_formatted', 'circulating_supply_formatted', 'total_supply_formatted']  # Add formatted values    \n",
    ")\n",
    "\n",
    "# Update hover template\n",
    "fig6m.update_traces(\n",
    "    hovertemplate=\"<br>\".join([\n",
    "        \"<b>%{customdata[0]}</b>\",  # Crypto Symbol\n",
    "        \"<b>$%{customdata[1]}</b> - Market Cap\",\n",
    "        \"<b>$%{customdata[2]}</b> - FDV\",\n",
    "        \"<b>%{customdata[3]}</b> - Circulating Supply\",\n",
    "        \"<b>%{customdata[4]}</b> - Total Supply\",\n",
    "        \"<extra></extra>\"\n",
    "    ]),\n",
    "    hoverlabel=dict(\n",
    "        font=dict(\n",
    "            family=\"Inter\",\n",
    "            size=12,\n",
    "        ),\n",
    "        bordercolor=\"rgba(17, 17, 17, 0.9)\",  # Same as background to remove border\n",
    "        namelength=-1  # Show full text\n",
    "    ),\n",
    ")\n",
    "\n",
    "# Customize the layout\n",
    "fig6m.update_layout(\n",
    "    template='plotly_dark',\n",
    "    font_family=\"IBM Plex Sans\",\n",
    "    showlegend=False,\n",
    "    height=393,  # Adjust height\n",
    "    width=333,  # Adjust width\n",
    "    margin=dict(\n",
    "        l=10,\n",
    "        r=10,\n",
    "        t=40,\n",
    "        b=10 \n",
    "    ),\n",
    "    title=dict(\n",
    "        text='Crypto Tokenomics',\n",
    "        font=dict(size=12, color='white'),\n",
    "        xanchor='left'\n",
    "    ),\n",
    "    legend=dict(\n",
    "        title=dict(text=\"Cryptocurrency\"),\n",
    "        font=dict(\n",
    "            family=\"Inter\",\n",
    "            size=11,\n",
    "            color=\"white\"\n",
    "        ),\n",
    "        yanchor=\"top\",\n",
    "        y=0.99,\n",
    "        xanchor=\"left\",\n",
    "        x=1.15,\n",
    "    ),\n",
    "    hovermode=\"x\",\n",
    ")\n",
    "\n",
    "# Show the plot\n",
    "fig6m.show(config={\n",
    "    'displayModeBar': True,\n",
    "    'displaylogo': False,\n",
    "    'modeBarButtonsToAdd': ['fullscreen']\n",
    "})\n",
    "\n",
    "# Save the figure as an HTML file\n",
    "fig6m.write_html(\"plots/html/crypto_tokenomics_mobile.html\")"
   ]
  }
 ],
 "metadata": {
  "kernelspec": {
   "display_name": ".venv",
   "language": "python",
   "name": "python3"
  },
  "language_info": {
   "codemirror_mode": {
    "name": "ipython",
    "version": 3
   },
   "file_extension": ".py",
   "mimetype": "text/x-python",
   "name": "python",
   "nbconvert_exporter": "python",
   "pygments_lexer": "ipython3",
   "version": "3.13.3"
  }
 },
 "nbformat": 4,
 "nbformat_minor": 5
}
