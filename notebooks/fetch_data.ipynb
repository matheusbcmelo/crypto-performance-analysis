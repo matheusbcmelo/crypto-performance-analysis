{
 "cells": [
  {
   "cell_type": "markdown",
   "id": "6dbd3ff7",
   "metadata": {},
   "source": [
    "# **Fetch Data From Exchanges**\n",
    "This notebook fetches data from major exchanges."
   ]
  },
  {
   "cell_type": "code",
   "execution_count": 18,
   "id": "6d3493bd",
   "metadata": {},
   "outputs": [],
   "source": [
    "#%% Import Libraries\n",
    "import pandas as pd\n",
    "import numpy as np\n",
    "\n",
    "# The \"ccxt\" library facilitates connection to various exchanges, including Binance\n",
    "import ccxt\n",
    "\n",
    "# The \"pycoingecko\" library is used to fetch cryptocurrency data from the CoinGecko API\n",
    "from pycoingecko import CoinGeckoAPI"
   ]
  },
  {
   "cell_type": "code",
   "execution_count": null,
   "id": "c961d4f7",
   "metadata": {},
   "outputs": [],
   "source": [
    "#%% Extracting Data from Binance\n",
    "\n",
    "# List of symbols to fetch data for\n",
    "symbols = ['BTC/USDT','ETH/USDT','BNB/USDT','SOL/USDT','XRP/USDT','AVAX/USDT']\n",
    "\n",
    "# Binance API configuration\n",
    "binance = ccxt.binance()\n",
    "\n",
    "# List of crypto to fetch data for\n",
    "timeframe = '1w'  # Timeframe (1 week)\n",
    "\n",
    "'''\n",
    "Available timeframes:\n",
    "'1m' - 1 minute\n",
    "'1h' - 1 hour\n",
    "'1d' - 1 day\n",
    "'1w' - 1 week\n",
    "'1M' - 1 week\n",
    "'''\n",
    "\n",
    "limit = 410  # Number of candles\n",
    "\n",
    "# Create a list to store the data\n",
    "all_data = []\n",
    "\n",
    "# Loop to fetch data for each asset\n",
    "for symbol in symbols:\n",
    "    try:\n",
    "        # Fetch OHLCV data from Binance\n",
    "        OHLCV = binance.fetch_ohlcv(symbol, timeframe, limit=limit)\n",
    "        \n",
    "        print(f\"\\nSymbol: {symbol}\")\n",
    "        print(f\"Number of candles retrieved: {len(OHLCV)}\")\n",
    "        print(f\"Date range: {pd.to_datetime(OHLCV[0][0], unit='ms')} to {pd.to_datetime(OHLCV[-1][0], unit='ms')}\")\n",
    "        \n",
    "        # Process all candles\n",
    "        for candle in OHLCV:\n",
    "            data = {\n",
    "                'symbols': symbol,\n",
    "                'timestamp': pd.to_datetime(candle[0], unit='ms'),\n",
    "                'open': candle[1],\n",
    "                'high': candle[2],\n",
    "                'low': candle[3],\n",
    "                'close': candle[4],\n",
    "                'volume': candle[5]\n",
    "            }\n",
    "            all_data.append(data)\n",
    "    except Exception as e:\n",
    "        print(f\"Error fetching data for {symbol}: {e}\")\n",
    "\n",
    "# Convert to a DataFrame\n",
    "ccxt_df = pd.DataFrame(all_data)\n",
    "\n",
    "# Calculating Average Price\n",
    "ccxt_df['average_price'] = round((ccxt_df['high'] + ccxt_df['low']) / 2, 2)\n",
    "\n",
    "# Group by week and calculate the average price\n",
    "ccxt_df['timestamp'] = pd.to_datetime(ccxt_df['timestamp']).dt.to_period('W')\n",
    "\n",
    "print(ccxt_df.info())"
   ]
  },
  {
   "cell_type": "code",
   "execution_count": null,
   "id": "61524ff5",
   "metadata": {},
   "outputs": [],
   "source": [
    "#%% Grouping and Sorting Data\n",
    "\n",
    "# Group by 'symbols' and 'timestamp' to get the average price for each week\n",
    "avg_df = ccxt_df[['symbols', 'timestamp', 'average_price']]\n",
    "\n",
    "# Convert symbols to Categorical with specific order from the original crypto DataFrame\n",
    "avg_df['symbols'] = pd.Categorical(avg_df['symbols'])\n",
    "\n",
    "# Sort first by symbols (to group all records for each symbol together)\n",
    "# Then by timestamp (descending) within each symbol group\n",
    "avg_df = avg_df.sort_values(\n",
    "    ['symbols', 'timestamp'], \n",
    "    ascending=[True, False]\n",
    ").reset_index(drop=True)\n",
    "\n",
    "print(avg_df.info())"
   ]
  },
  {
   "cell_type": "code",
   "execution_count": null,
   "id": "5646def2",
   "metadata": {},
   "outputs": [],
   "source": [
    "#%% Save the DataFrame to a CSV file\n",
    "\n",
    "avg_df = pd.DataFrame.to_csv(avg_df, 'files/avg_df.csv', index=False)"
   ]
  }
 ],
 "metadata": {
  "kernelspec": {
   "display_name": ".venv",
   "language": "python",
   "name": "python3"
  },
  "language_info": {
   "codemirror_mode": {
    "name": "ipython",
    "version": 3
   },
   "file_extension": ".py",
   "mimetype": "text/x-python",
   "name": "python",
   "nbconvert_exporter": "python",
   "pygments_lexer": "ipython3",
   "version": "3.13.3"
  }
 },
 "nbformat": 4,
 "nbformat_minor": 5
}
